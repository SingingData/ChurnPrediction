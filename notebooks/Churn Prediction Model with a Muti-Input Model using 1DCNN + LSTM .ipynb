{
 "cells": [
  {
   "cell_type": "markdown",
   "metadata": {},
   "source": [
    "# Churn Prediction Multiple Input Model - 1D CNN with LSTM  "
   ]
  },
  {
   "cell_type": "markdown",
   "metadata": {},
   "source": [
    "Last Updated: December 11, 2018"
   ]
  },
  {
   "cell_type": "code",
   "execution_count": 42,
   "metadata": {},
   "outputs": [],
   "source": [
    "%matplotlib inline\n",
    "\n",
    "from IPython.core.interactiveshell import InteractiveShell\n",
    "InteractiveShell.ast_node_interactivity = \"all\"\n",
    "%matplotlib inline\n",
    "import pyodbc\n",
    "import datetime\n",
    "from sklearn import preprocessing\n",
    "from __future__ import print_function\n",
    "import numpy as np\n",
    "import pandas as pd\n",
    "import matplotlib.pyplot as plt\n",
    "from IPython.display import SVG\n",
    "from sklearn import preprocessing\n",
    "import os\n",
    "from os.path import join, dirname\n",
    "from os.path import dirname, join\n",
    "from tqdm import tqdm_notebook\n",
    "import pandas as pd\n",
    "from pandas import pivot\n",
    "from pandas import tools\n",
    "import numpy as np\n",
    "import cv2\n",
    "import re\n",
    "import io\n",
    "import sys \n",
    "import pip\n",
    "import csv\n",
    "from sklearn.model_selection import train_test_split\n",
    "import glob\n",
    "import random\n",
    "import warnings\n",
    "from pandas import DataFrame   \n",
    "import pickle\n",
    "import cloudpickle\n",
    "import azureml\n",
    "import string\n",
    "from scipy import stats\n",
    "import pyparsing\n",
    "import tempfile  \n",
    "import logging\n",
    "import graphviz\n",
    "#Keras and NLP Packages\n",
    "import keras\n",
    "from keras.preprocessing.sequence import pad_sequences\n",
    "from keras.utils.np_utils import to_categorical\n",
    "from keras.preprocessing.text import Tokenizer     \n",
    "from keras.preprocessing import sequence\n",
    "from keras.models import Sequential\n",
    "from keras.layers import Dense, Embedding\n",
    "from keras.layers.core import Dropout\n",
    "from keras.layers import LSTM\n",
    "from keras.layers import Dense, Input, Flatten \n",
    "from keras.layers import Conv1D, MaxPooling1D, Embedding \n",
    "from keras.models import Model \n",
    "from keras.utils import plot_model\n",
    "from keras.utils.vis_utils import model_to_dot\n",
    "from keras.models import load_model\n",
    "from keras.applications import imagenet_utils\n",
    "from keras.layers import Embedding\n",
    "from keras.utils.np_utils import to_categorical\n",
    "from keras import initializers\n",
    "from keras import optimizers\n",
    "from keras.callbacks import EarlyStopping\n",
    "from keras.layers.normalization import BatchNormalization\n",
    "from keras.layers import initializers \n",
    "from keras.layers import regularizers \n",
    "from keras.layers import constraints \n",
    "from keras.layers import Activation\n",
    "from keras.layers.advanced_activations import PReLU\n",
    "from keras.layers.advanced_activations import LeakyReLU\n",
    "from keras.layers.advanced_activations import ELU\n",
    "from keras.constraints import max_norm\n",
    "import keras.backend as K\n",
    "import gensim\n",
    "from gensim.models import Phrases, phrases\n",
    "from gensim.models.phrases import Phraser\n",
    "from gensim.models import Word2Vec as wv\n",
    "import nltk\n",
    "from gensim import corpora, models, similarities\n",
    "from __future__ import division\n",
    "import numpy as np\n",
    "import nltk\n",
    "from nltk.corpus import stopwords\n",
    "from azure.storage.blob import BlockBlobService\n",
    "from textgenrnn import textgenrnn"
   ]
  },
  {
   "cell_type": "markdown",
   "metadata": {
    "collapsed": true
   },
   "source": [
    "## 0: Setting Up"
   ]
  },
  {
   "cell_type": "code",
   "execution_count": 43,
   "metadata": {
    "collapsed": true
   },
   "outputs": [],
   "source": [
    "PATH = 'D://MAFData//'\n",
    "PATH_OUT =  'D://MAFData//'\n",
    "PATH_GLOVE = 'C://MAFVentures//glove//'\n",
    "PATH_MODEL_DELETE = 'D://MAFData//'\n",
    "PATH_MODEL = 'D://MAFData//'"
   ]
  },
  {
   "cell_type": "code",
   "execution_count": 44,
   "metadata": {
    "collapsed": true
   },
   "outputs": [],
   "source": [
    "#os.chdir('D://MAFData')\n",
    "#base_dir = 'D://MAFData'\n",
    "#print(base_dir)\n",
    "#os.getcwd()\n",
    "np.random.seed(2032)"
   ]
  },
  {
   "cell_type": "markdown",
   "metadata": {},
   "source": [
    "## 1: Getting Data Ready"
   ]
  },
  {
   "cell_type": "markdown",
   "metadata": {},
   "source": [
    "### Read in Categorical Data\n",
    "- input file: `Categorical_dataframe.csv`\n",
    "- output var: `df1`\n",
    "\n",
    "\n",
    "** NOTE: `df1` duplicated with `Text_Cats_TimeSteps_df`** !!!!!"
   ]
  },
  {
   "cell_type": "code",
   "execution_count": 45,
   "metadata": {
    "collapsed": true
   },
   "outputs": [],
   "source": [
    "dtypes = {'Sequence': str, 'ATTRITION_FLAG': str}\n",
    "\n",
    "Text_Cats_TimeSteps_df = pd.read_csv(PATH + 'Categorical_dataframe.csv',sep=',',encoding='utf-8', header = 0) \n",
    "\n",
    "Text_Cats_TimeSteps_df = Text_Cats_TimeSteps_df[[\n",
    " 'Account_Number',\n",
    " 'MISDATE',\n",
    " 'Incident_Category',\n",
    " 'Incident_Type',\n",
    " 'Incident_Cat_Sequence_Daily',\n",
    " 'Incident_Type_Sequence_Daily',\n",
    " ]]"
   ]
  },
  {
   "cell_type": "code",
   "execution_count": 46,
   "metadata": {},
   "outputs": [
    {
     "data": {
      "text/plain": [
       "(9408644, 6)"
      ]
     },
     "execution_count": 46,
     "metadata": {},
     "output_type": "execute_result"
    },
    {
     "data": {
      "text/plain": [
       "['Account_Number',\n",
       " 'MISDATE',\n",
       " 'Incident_Category',\n",
       " 'Incident_Type',\n",
       " 'Incident_Cat_Sequence_Daily',\n",
       " 'Incident_Type_Sequence_Daily']"
      ]
     },
     "execution_count": 46,
     "metadata": {},
     "output_type": "execute_result"
    },
    {
     "data": {
      "text/html": [
       "<div>\n",
       "<style scoped>\n",
       "    .dataframe tbody tr th:only-of-type {\n",
       "        vertical-align: middle;\n",
       "    }\n",
       "\n",
       "    .dataframe tbody tr th {\n",
       "        vertical-align: top;\n",
       "    }\n",
       "\n",
       "    .dataframe thead th {\n",
       "        text-align: right;\n",
       "    }\n",
       "</style>\n",
       "<table border=\"1\" class=\"dataframe\">\n",
       "  <thead>\n",
       "    <tr style=\"text-align: right;\">\n",
       "      <th></th>\n",
       "      <th>Account_Number</th>\n",
       "      <th>MISDATE</th>\n",
       "      <th>Incident_Category</th>\n",
       "      <th>Incident_Type</th>\n",
       "      <th>Incident_Cat_Sequence_Daily</th>\n",
       "      <th>Incident_Type_Sequence_Daily</th>\n",
       "    </tr>\n",
       "  </thead>\n",
       "  <tbody>\n",
       "    <tr>\n",
       "      <th>0</th>\n",
       "      <td>MAFF_ACCT_0000002125</td>\n",
       "      <td>2017-09-07</td>\n",
       "      <td>Transaction Enquiry</td>\n",
       "      <td>Account Enquiry</td>\n",
       "      <td>Transaction Enquiry</td>\n",
       "      <td>Account Enquiry</td>\n",
       "    </tr>\n",
       "  </tbody>\n",
       "</table>\n",
       "</div>"
      ],
      "text/plain": [
       "         Account_Number     MISDATE    Incident_Category    Incident_Type  \\\n",
       "0  MAFF_ACCT_0000002125  2017-09-07  Transaction Enquiry  Account Enquiry   \n",
       "\n",
       "  Incident_Cat_Sequence_Daily Incident_Type_Sequence_Daily  \n",
       "0         Transaction Enquiry              Account Enquiry  "
      ]
     },
     "execution_count": 46,
     "metadata": {},
     "output_type": "execute_result"
    }
   ],
   "source": [
    "Text_Cats_TimeSteps_df.shape\n",
    "list(Text_Cats_TimeSteps_df.columns)\n",
    "Text_Cats_TimeSteps_df.head(1)"
   ]
  },
  {
   "cell_type": "markdown",
   "metadata": {},
   "source": [
    "### Labels\n",
    "- input file: `Account_Churn_Labels.csv`\n",
    "- output var: `Labels`"
   ]
  },
  {
   "cell_type": "code",
   "execution_count": 47,
   "metadata": {},
   "outputs": [
    {
     "data": {
      "text/plain": [
       "(81109, 2)"
      ]
     },
     "execution_count": 47,
     "metadata": {},
     "output_type": "execute_result"
    },
    {
     "data": {
      "text/html": [
       "<div>\n",
       "<style scoped>\n",
       "    .dataframe tbody tr th:only-of-type {\n",
       "        vertical-align: middle;\n",
       "    }\n",
       "\n",
       "    .dataframe tbody tr th {\n",
       "        vertical-align: top;\n",
       "    }\n",
       "\n",
       "    .dataframe thead th {\n",
       "        text-align: right;\n",
       "    }\n",
       "</style>\n",
       "<table border=\"1\" class=\"dataframe\">\n",
       "  <thead>\n",
       "    <tr style=\"text-align: right;\">\n",
       "      <th></th>\n",
       "      <th>Account_Number</th>\n",
       "      <th>ATTRITION_FLAG</th>\n",
       "    </tr>\n",
       "  </thead>\n",
       "  <tbody>\n",
       "    <tr>\n",
       "      <th>0</th>\n",
       "      <td>MAFF_ACCT_0000002125</td>\n",
       "      <td>OPEN</td>\n",
       "    </tr>\n",
       "  </tbody>\n",
       "</table>\n",
       "</div>"
      ],
      "text/plain": [
       "         Account_Number ATTRITION_FLAG\n",
       "0  MAFF_ACCT_0000002125           OPEN"
      ]
     },
     "execution_count": 47,
     "metadata": {},
     "output_type": "execute_result"
    }
   ],
   "source": [
    "Labels = pd.read_csv(PATH + 'Account_Churn_Labels.csv',sep=',',encoding='utf-8')\n",
    "Labels.drop(columns=['Unnamed: 0'], inplace=True)\n",
    "Labels.shape\n",
    "Labels.head(1)"
   ]
  },
  {
   "cell_type": "markdown",
   "metadata": {},
   "source": [
    "### Merge Categorical Data with Labels\n",
    "- input df: `Text_Cats_TimeSteps_df`, `Labels`\n",
    "- ouput df: `Text_Cats_TimeSteps_df`"
   ]
  },
  {
   "cell_type": "code",
   "execution_count": 48,
   "metadata": {
    "collapsed": true
   },
   "outputs": [],
   "source": [
    "Text_Cats_TimeSteps_df = pd.merge(Text_Cats_TimeSteps_df, Labels,\n",
    "                                  how='left', left_on='Account_Number', right_on='Account_Number')"
   ]
  },
  {
   "cell_type": "code",
   "execution_count": 49,
   "metadata": {},
   "outputs": [
    {
     "data": {
      "text/plain": [
       "['Account_Number',\n",
       " 'MISDATE',\n",
       " 'Incident_Category',\n",
       " 'Incident_Type',\n",
       " 'Incident_Cat_Sequence_Daily',\n",
       " 'Incident_Type_Sequence_Daily',\n",
       " 'ATTRITION_FLAG']"
      ]
     },
     "execution_count": 49,
     "metadata": {},
     "output_type": "execute_result"
    }
   ],
   "source": [
    "\n",
    "list(Text_Cats_TimeSteps_df.columns)"
   ]
  },
  {
   "cell_type": "markdown",
   "metadata": {},
   "source": [
    "## 2:  Prepare Sequence by Account Data for for 1D CNN\n",
    "### Prepare Categorical Data\n",
    "- input df: `Text_Cats_TimeSteps_df`\n",
    "- output df: `df_text`\n",
    "\n",
    "** NOTE: `df1` or `df_text` may be redundant ** "
   ]
  },
  {
   "cell_type": "code",
   "execution_count": 50,
   "metadata": {},
   "outputs": [
    {
     "data": {
      "text/plain": [
       "(9408644, 7)"
      ]
     },
     "execution_count": 50,
     "metadata": {},
     "output_type": "execute_result"
    },
    {
     "data": {
      "text/html": [
       "<div>\n",
       "<style scoped>\n",
       "    .dataframe tbody tr th:only-of-type {\n",
       "        vertical-align: middle;\n",
       "    }\n",
       "\n",
       "    .dataframe tbody tr th {\n",
       "        vertical-align: top;\n",
       "    }\n",
       "\n",
       "    .dataframe thead th {\n",
       "        text-align: right;\n",
       "    }\n",
       "</style>\n",
       "<table border=\"1\" class=\"dataframe\">\n",
       "  <thead>\n",
       "    <tr style=\"text-align: right;\">\n",
       "      <th></th>\n",
       "      <th>Account_Number</th>\n",
       "      <th>MISDATE</th>\n",
       "      <th>Incident_Category</th>\n",
       "      <th>Incident_Type</th>\n",
       "      <th>Incident_Cat_Sequence_Daily</th>\n",
       "      <th>Incident_Type_Sequence_Daily</th>\n",
       "      <th>ATTRITION_FLAG</th>\n",
       "    </tr>\n",
       "  </thead>\n",
       "  <tbody>\n",
       "    <tr>\n",
       "      <th>0</th>\n",
       "      <td>MAFF_ACCT_0000002125</td>\n",
       "      <td>2017-09-07</td>\n",
       "      <td>Transaction Enquiry</td>\n",
       "      <td>Account Enquiry</td>\n",
       "      <td>Transaction Enquiry</td>\n",
       "      <td>Account Enquiry</td>\n",
       "      <td>OPEN</td>\n",
       "    </tr>\n",
       "  </tbody>\n",
       "</table>\n",
       "</div>"
      ],
      "text/plain": [
       "         Account_Number    MISDATE    Incident_Category    Incident_Type  \\\n",
       "0  MAFF_ACCT_0000002125 2017-09-07  Transaction Enquiry  Account Enquiry   \n",
       "\n",
       "  Incident_Cat_Sequence_Daily Incident_Type_Sequence_Daily ATTRITION_FLAG  \n",
       "0         Transaction Enquiry              Account Enquiry           OPEN  "
      ]
     },
     "execution_count": 50,
     "metadata": {},
     "output_type": "execute_result"
    },
    {
     "data": {
      "text/plain": [
       "Account_Number                          object\n",
       "MISDATE                         datetime64[ns]\n",
       "Incident_Category                       object\n",
       "Incident_Type                           object\n",
       "Incident_Cat_Sequence_Daily             object\n",
       "Incident_Type_Sequence_Daily            object\n",
       "ATTRITION_FLAG                          object\n",
       "dtype: object"
      ]
     },
     "execution_count": 50,
     "metadata": {},
     "output_type": "execute_result"
    }
   ],
   "source": [
    "df_text = Text_Cats_TimeSteps_df\n",
    "df_text['MISDATE'] = pd.to_datetime(df_text['MISDATE'], format='%Y-%m-%d')\n",
    "\n",
    "df_text.shape\n",
    "df_text.head(1)\n",
    "df_text.dtypes"
   ]
  },
  {
   "cell_type": "code",
   "execution_count": 51,
   "metadata": {},
   "outputs": [
    {
     "data": {
      "text/plain": [
       "81109.0"
      ]
     },
     "execution_count": 51,
     "metadata": {},
     "output_type": "execute_result"
    }
   ],
   "source": [
    "len(df_text)/116"
   ]
  },
  {
   "cell_type": "markdown",
   "metadata": {},
   "source": [
    "### Concatanate `Incident_Category` into one row per account `Incident_Cat_Sequence_Daily`\n",
    "- input df: `df_text`\n",
    "- output df: `df_text_cleaned`"
   ]
  },
  {
   "cell_type": "code",
   "execution_count": 52,
   "metadata": {
    "collapsed": true
   },
   "outputs": [],
   "source": [
    "df_text = df_text.sort_values(['Account_Number','MISDATE'], ascending=[True, False])\n",
    "df_text = df_text.reset_index(drop=True)"
   ]
  },
  {
   "cell_type": "code",
   "execution_count": 53,
   "metadata": {},
   "outputs": [
    {
     "data": {
      "text/plain": [
       "(81109, 7)"
      ]
     },
     "execution_count": 53,
     "metadata": {},
     "output_type": "execute_result"
    },
    {
     "data": {
      "text/html": [
       "<div>\n",
       "<style scoped>\n",
       "    .dataframe tbody tr th:only-of-type {\n",
       "        vertical-align: middle;\n",
       "    }\n",
       "\n",
       "    .dataframe tbody tr th {\n",
       "        vertical-align: top;\n",
       "    }\n",
       "\n",
       "    .dataframe thead th {\n",
       "        text-align: right;\n",
       "    }\n",
       "</style>\n",
       "<table border=\"1\" class=\"dataframe\">\n",
       "  <thead>\n",
       "    <tr style=\"text-align: right;\">\n",
       "      <th></th>\n",
       "      <th>Account_Number</th>\n",
       "    </tr>\n",
       "  </thead>\n",
       "  <tbody>\n",
       "    <tr>\n",
       "      <th>0</th>\n",
       "      <td>MAFF_ACCT_0000002125</td>\n",
       "    </tr>\n",
       "  </tbody>\n",
       "</table>\n",
       "</div>"
      ],
      "text/plain": [
       "         Account_Number\n",
       "0  MAFF_ACCT_0000002125"
      ]
     },
     "execution_count": 53,
     "metadata": {},
     "output_type": "execute_result"
    }
   ],
   "source": [
    "# Aggregate longer sequences of multiple incident categories per account into its own variable.\n",
    "accounts = df_text.groupby(['Account_Number']).head(1)\n",
    "accounts = pd.DataFrame(accounts)\n",
    "accounts = accounts.reset_index(drop=True)\n",
    "accounts.shape\n",
    "\n",
    "accounts = pd.DataFrame(accounts['Account_Number'])\n",
    "accounts.head(1)"
   ]
  },
  {
   "cell_type": "code",
   "execution_count": 54,
   "metadata": {},
   "outputs": [
    {
     "data": {
      "text/plain": [
       "(81109, 1)"
      ]
     },
     "execution_count": 54,
     "metadata": {},
     "output_type": "execute_result"
    }
   ],
   "source": [
    "df_text_cleaned = df_text.groupby(['Account_Number'])['Incident_Category'].agg(lambda col: ' _ '.join(col))\n",
    "\n",
    "# convert from Series to DataFrame\n",
    "df_text_cleaned = pd.DataFrame(df_text_cleaned)\n",
    "df_text_cleaned = df_text_cleaned.reset_index(drop=True)\n",
    "df_text_cleaned.columns = ['Incident_Cat_Sequence']\n",
    "df_text_cleaned.shape"
   ]
  },
  {
   "cell_type": "code",
   "execution_count": 55,
   "metadata": {},
   "outputs": [
    {
     "data": {
      "text/plain": [
       "(81109, 1)"
      ]
     },
     "execution_count": 55,
     "metadata": {},
     "output_type": "execute_result"
    }
   ],
   "source": [
    "# Aggregate longer sequences of multiple incident types per account into its own variable.\n",
    "df_text_cleaned2 = df_text.groupby(['Account_Number'])['Incident_Type'].agg(lambda col: ' _ '.join(col))\n",
    "\n",
    "# convert from Series to DataFrame\n",
    "df_text_cleaned2 = pd.DataFrame(df_text_cleaned2)\n",
    "df_text_cleaned2 = df_text_cleaned2.reset_index(drop=True)\n",
    "df_text_cleaned2.columns = ['Incident_Type_Sequence']\n",
    "df_text_cleaned2.shape"
   ]
  },
  {
   "cell_type": "code",
   "execution_count": 56,
   "metadata": {},
   "outputs": [
    {
     "data": {
      "text/plain": [
       "(81109, 5)"
      ]
     },
     "execution_count": 56,
     "metadata": {},
     "output_type": "execute_result"
    },
    {
     "data": {
      "text/html": [
       "<div>\n",
       "<style scoped>\n",
       "    .dataframe tbody tr th:only-of-type {\n",
       "        vertical-align: middle;\n",
       "    }\n",
       "\n",
       "    .dataframe tbody tr th {\n",
       "        vertical-align: top;\n",
       "    }\n",
       "\n",
       "    .dataframe thead th {\n",
       "        text-align: right;\n",
       "    }\n",
       "</style>\n",
       "<table border=\"1\" class=\"dataframe\">\n",
       "  <thead>\n",
       "    <tr style=\"text-align: right;\">\n",
       "      <th></th>\n",
       "      <th>level_0</th>\n",
       "      <th>index</th>\n",
       "      <th>Account_Number</th>\n",
       "      <th>Incident_Cat_Sequence</th>\n",
       "      <th>Incident_Type_Sequence</th>\n",
       "    </tr>\n",
       "  </thead>\n",
       "  <tbody>\n",
       "    <tr>\n",
       "      <th>0</th>\n",
       "      <td>0</td>\n",
       "      <td>0</td>\n",
       "      <td>MAFF_ACCT_0000002125</td>\n",
       "      <td>Transaction Enquiry _ None _ None _ None _ Non...</td>\n",
       "      <td>Account Enquiry _ None _ None _ None _ None _ ...</td>\n",
       "    </tr>\n",
       "  </tbody>\n",
       "</table>\n",
       "</div>"
      ],
      "text/plain": [
       "   level_0  index        Account_Number  \\\n",
       "0        0      0  MAFF_ACCT_0000002125   \n",
       "\n",
       "                               Incident_Cat_Sequence  \\\n",
       "0  Transaction Enquiry _ None _ None _ None _ Non...   \n",
       "\n",
       "                              Incident_Type_Sequence  \n",
       "0  Account Enquiry _ None _ None _ None _ None _ ...  "
      ]
     },
     "execution_count": 56,
     "metadata": {},
     "output_type": "execute_result"
    },
    {
     "data": {
      "text/plain": [
       "Index(['level_0', 'index', 'Account_Number', 'Incident_Cat_Sequence',\n",
       "       'Incident_Type_Sequence'],\n",
       "      dtype='object')"
      ]
     },
     "execution_count": 56,
     "metadata": {},
     "output_type": "execute_result"
    }
   ],
   "source": [
    "df_sequences = pd.concat([accounts.reset_index(), df_text_cleaned], axis=1)\n",
    "df_sequences = pd.concat([df_sequences.reset_index(), df_text_cleaned2], axis=1)\n",
    "df_sequences = df_sequences.reset_index(drop=True)\n",
    "\n",
    "df_sequences.shape\n",
    "df_sequences.head(1)\n",
    "df_sequences.columns"
   ]
  },
  {
   "cell_type": "code",
   "execution_count": 57,
   "metadata": {},
   "outputs": [
    {
     "data": {
      "text/html": [
       "<div>\n",
       "<style scoped>\n",
       "    .dataframe tbody tr th:only-of-type {\n",
       "        vertical-align: middle;\n",
       "    }\n",
       "\n",
       "    .dataframe tbody tr th {\n",
       "        vertical-align: top;\n",
       "    }\n",
       "\n",
       "    .dataframe thead th {\n",
       "        text-align: right;\n",
       "    }\n",
       "</style>\n",
       "<table border=\"1\" class=\"dataframe\">\n",
       "  <thead>\n",
       "    <tr style=\"text-align: right;\">\n",
       "      <th></th>\n",
       "      <th>Account_Number</th>\n",
       "      <th>Incident_Cat_Sequence</th>\n",
       "      <th>Incident_Type_Sequence</th>\n",
       "    </tr>\n",
       "  </thead>\n",
       "  <tbody>\n",
       "    <tr>\n",
       "      <th>0</th>\n",
       "      <td>MAFF_ACCT_0000002125</td>\n",
       "      <td>Transaction Enquiry _ None _ None _ None _ Non...</td>\n",
       "      <td>Account Enquiry _ None _ None _ None _ None _ ...</td>\n",
       "    </tr>\n",
       "    <tr>\n",
       "      <th>1</th>\n",
       "      <td>MAFF_ACCT_0000002171</td>\n",
       "      <td>None _ None _ None _ None _ None _ None _ None...</td>\n",
       "      <td>None _ None _ None _ None _ None _ None _ None...</td>\n",
       "    </tr>\n",
       "    <tr>\n",
       "      <th>2</th>\n",
       "      <td>MAFF_ACCT_0000002222</td>\n",
       "      <td>None _ None _ None _ None _ None _ None _ None...</td>\n",
       "      <td>None _ None _ None _ None _ None _ None _ None...</td>\n",
       "    </tr>\n",
       "  </tbody>\n",
       "</table>\n",
       "</div>"
      ],
      "text/plain": [
       "         Account_Number                              Incident_Cat_Sequence  \\\n",
       "0  MAFF_ACCT_0000002125  Transaction Enquiry _ None _ None _ None _ Non...   \n",
       "1  MAFF_ACCT_0000002171  None _ None _ None _ None _ None _ None _ None...   \n",
       "2  MAFF_ACCT_0000002222  None _ None _ None _ None _ None _ None _ None...   \n",
       "\n",
       "                              Incident_Type_Sequence  \n",
       "0  Account Enquiry _ None _ None _ None _ None _ ...  \n",
       "1  None _ None _ None _ None _ None _ None _ None...  \n",
       "2  None _ None _ None _ None _ None _ None _ None...  "
      ]
     },
     "execution_count": 57,
     "metadata": {},
     "output_type": "execute_result"
    }
   ],
   "source": [
    "del df_sequences['index']\n",
    "del df_sequences['level_0']\n",
    "df_sequences.head(3)"
   ]
  },
  {
   "cell_type": "code",
   "execution_count": 58,
   "metadata": {},
   "outputs": [
    {
     "data": {
      "text/plain": [
       "(81109, 3)"
      ]
     },
     "execution_count": 58,
     "metadata": {},
     "output_type": "execute_result"
    },
    {
     "data": {
      "text/html": [
       "<div>\n",
       "<style scoped>\n",
       "    .dataframe tbody tr th:only-of-type {\n",
       "        vertical-align: middle;\n",
       "    }\n",
       "\n",
       "    .dataframe tbody tr th {\n",
       "        vertical-align: top;\n",
       "    }\n",
       "\n",
       "    .dataframe thead th {\n",
       "        text-align: right;\n",
       "    }\n",
       "</style>\n",
       "<table border=\"1\" class=\"dataframe\">\n",
       "  <thead>\n",
       "    <tr style=\"text-align: right;\">\n",
       "      <th></th>\n",
       "      <th>Account_Number</th>\n",
       "      <th>Incident_Cat_Sequence</th>\n",
       "      <th>Incident_Type_Sequence</th>\n",
       "    </tr>\n",
       "  </thead>\n",
       "  <tbody>\n",
       "    <tr>\n",
       "      <th>0</th>\n",
       "      <td>MAFF_ACCT_0000002125</td>\n",
       "      <td>Transaction Enquiry None None None None None N...</td>\n",
       "      <td>Account Enquiry None None None None None None ...</td>\n",
       "    </tr>\n",
       "    <tr>\n",
       "      <th>1</th>\n",
       "      <td>MAFF_ACCT_0000002171</td>\n",
       "      <td>None None None None None None None None None N...</td>\n",
       "      <td>None None None None None None None None None N...</td>\n",
       "    </tr>\n",
       "  </tbody>\n",
       "</table>\n",
       "</div>"
      ],
      "text/plain": [
       "         Account_Number                              Incident_Cat_Sequence  \\\n",
       "0  MAFF_ACCT_0000002125  Transaction Enquiry None None None None None N...   \n",
       "1  MAFF_ACCT_0000002171  None None None None None None None None None N...   \n",
       "\n",
       "                              Incident_Type_Sequence  \n",
       "0  Account Enquiry None None None None None None ...  \n",
       "1  None None None None None None None None None N...  "
      ]
     },
     "execution_count": 58,
     "metadata": {},
     "output_type": "execute_result"
    }
   ],
   "source": [
    "df_sequences['Incident_Cat_Sequence'] = df_sequences['Incident_Cat_Sequence'].str.replace(' _ ',' ')\n",
    "df_sequences['Incident_Type_Sequence'] = df_sequences['Incident_Type_Sequence'].str.replace(' _ ',' ')\n",
    "df_sequences.shape\n",
    "df_sequences.head(2)"
   ]
  },
  {
   "cell_type": "code",
   "execution_count": 59,
   "metadata": {},
   "outputs": [
    {
     "data": {
      "text/plain": [
       "1808"
      ]
     },
     "execution_count": 59,
     "metadata": {},
     "output_type": "execute_result"
    }
   ],
   "source": [
    "#Most clean up already done in pre-processing script in a jupyter notebook.\n",
    "df_sequences['Incident_Cat_Sequence'] = df_sequences['Incident_Cat_Sequence'].astype('str')\n",
    "df_sequences['Incident_Type_Sequence'] = df_sequences['Incident_Type_Sequence'].astype('str')\n",
    "df_sequences['Incident_Cat_Sequence'] = df_sequences['Incident_Cat_Sequence'].str.lower()\n",
    "df_sequences['Incident_Type_Sequence'] = df_sequences['Incident_Type_Sequence'].str.lower()\n",
    "\n",
    "df_sequences[\"Sequence\"] = df_sequences[\"Incident_Cat_Sequence\"] + \" \" + df_sequences[\"Incident_Type_Sequence\"]\n",
    "df_sequences[\"Sequence\"] = df_sequences[\"Account_Number\"] + \" \" + df_sequences[\"Sequence\"]\n",
    "\n",
    "df_sequences= df_sequences[['Account_Number','Sequence']]\n",
    "df_sequences['Sequence'].apply(len).max()"
   ]
  },
  {
   "cell_type": "code",
   "execution_count": 60,
   "metadata": {},
   "outputs": [
    {
     "data": {
      "text/plain": [
       "(81109, 2)"
      ]
     },
     "execution_count": 60,
     "metadata": {},
     "output_type": "execute_result"
    },
    {
     "data": {
      "text/plain": [
       "['Account_Number', 'Sequence']"
      ]
     },
     "execution_count": 60,
     "metadata": {},
     "output_type": "execute_result"
    },
    {
     "data": {
      "text/plain": [
       "Account_Number    object\n",
       "Sequence          object\n",
       "dtype: object"
      ]
     },
     "execution_count": 60,
     "metadata": {},
     "output_type": "execute_result"
    }
   ],
   "source": [
    "df_sequences.shape\n",
    "list(df_sequences.columns)\n",
    "\n",
    "df_sequences.dtypes\n"
   ]
  },
  {
   "cell_type": "markdown",
   "metadata": {},
   "source": [
    "### Merge `Labels` with `df_sequences`\n",
    "- input df: `Labels`, `df_sequences`\n",
    "- output df: `df_Joined`"
   ]
  },
  {
   "cell_type": "code",
   "execution_count": 61,
   "metadata": {
    "collapsed": true
   },
   "outputs": [],
   "source": [
    "df_Joined = pd.merge(df_sequences, Labels,  \n",
    "                     how = 'left', \n",
    "                     left_on = 'Account_Number', \n",
    "                     right_on = 'Account_Number')"
   ]
  },
  {
   "cell_type": "code",
   "execution_count": 62,
   "metadata": {},
   "outputs": [
    {
     "data": {
      "text/plain": [
       "(81109, 3)"
      ]
     },
     "execution_count": 62,
     "metadata": {},
     "output_type": "execute_result"
    },
    {
     "data": {
      "text/plain": [
       "['Account_Number', 'Sequence', 'ATTRITION_FLAG']"
      ]
     },
     "execution_count": 62,
     "metadata": {},
     "output_type": "execute_result"
    }
   ],
   "source": [
    "df_Joined.shape\n",
    "list(df_Joined.columns)\n",
    "df_Joined = df_Joined.reset_index(drop=True)\n"
   ]
  },
  {
   "cell_type": "markdown",
   "metadata": {},
   "source": [
    "#### Counts for `OPEN` and `VOLUNTARY`"
   ]
  },
  {
   "cell_type": "code",
   "execution_count": 63,
   "metadata": {},
   "outputs": [
    {
     "data": {
      "text/plain": [
       "OPEN         74267\n",
       "VOLUNTARY     6842\n",
       "Name: ATTRITION_FLAG, dtype: int64"
      ]
     },
     "execution_count": 63,
     "metadata": {},
     "output_type": "execute_result"
    },
    {
     "data": {
      "text/plain": [
       "(81109, 3)"
      ]
     },
     "execution_count": 63,
     "metadata": {},
     "output_type": "execute_result"
    }
   ],
   "source": [
    "df_Joined['ATTRITION_FLAG'].value_counts()\n",
    "df_Joined.shape"
   ]
  },
  {
   "cell_type": "markdown",
   "metadata": {},
   "source": [
    "### Cleantext function to make sequences ready for word embeddings \n",
    "- input : column operation only\n",
    "- output : column operation only"
   ]
  },
  {
   "cell_type": "code",
   "execution_count": 64,
   "metadata": {
    "collapsed": true
   },
   "outputs": [],
   "source": [
    "def clean_text(row):\n",
    "    text = str(row['Sequence'])\n",
    "\n",
    "    # Remove newline characters\n",
    "    cleantext = text.replace('-', '')\n",
    "    cleantext = cleantext.replace('carrefour', 'carrefour ')\n",
    "    cleantext = cleantext.replace('tactical', 'tactical ')\n",
    "    cleantext = cleantext.replace('received', 'received ')\n",
    "    cleantext = cleantext.replace('merchant', 'merchant ')\n",
    "    cleantext = cleantext.replace('lifestyle', ' lifestyle ')\n",
    "    cleantext = cleantext.replace('promo', ' promotion ')\n",
    "    cleantext = cleantext.replace('easy', ' easy ')\n",
    "    cleantext = cleantext.replace('payment', ' payment ') \n",
    "    #cleantext = cleantext.replace('transact', ' transact ') \n",
    "    cleantext = cleantext.replace('acct', ' account ') \n",
    "    cleantext = cleantext.replace('enquiries', ' enquiries ') \n",
    "    cleantext = cleantext.replace('tactical', ' tactical ') \n",
    "    cleantext = cleantext.replace('eppbtlop', 'epp btlop') \n",
    "    cleantext = cleantext.replace('dept', ' department ') \n",
    "    cleantext = cleantext.replace('evoucher', 'e-voucher') \n",
    "    cleantext = cleantext.replace('estatement', 'e-statement') \n",
    "\n",
    "    # Convert HTML punctuation chaaracters\n",
    "    cleantext = cleantext.replace('.', '')\n",
    "\n",
    "    #remove punctuation\n",
    "    punctpattern = re.compile('[%s]' % re.escape(string.punctuation))\n",
    "    cleanttext = re.sub(punctpattern,'', cleantext)\n",
    "    cleantext = cleantext.replace(\"\\\\\", \"\") \n",
    "    cleantext = cleantext.replace(\"/\", \"\")\n",
    "    cleantext = re.sub(\"[^a-zA-Z' ]+\", '', cleantext)\n",
    "\n",
    "    #remove single letter word\n",
    "    cleantext = re.sub('(\\\\b[A-Za-z] \\\\b|\\\\b [A-Za-z]\\\\b)', '', cleantext) \n",
    "\n",
    "    #remove non alpha characters and specific noise\n",
    "    cleantext = re.sub(r'\\d+', '',cleantext)\n",
    "    cleantext = re.sub(r'^b','',cleantext)\n",
    "    #cleantext = re.sub(r'[^\\w]',' ',cleantext)\n",
    "\n",
    "    #remove specific noise\n",
    "    cleantext = cleantext.translate(str.maketrans({'‘':' ','’':' '}))\n",
    "    cleantext = cleantext.translate(str.maketrans({',':' ',',':' '}))\n",
    "    cleantext = cleantext.translate(str.maketrans({'\"':' ','%':' '}))\n",
    "    \n",
    "    # Remove extra spaces\n",
    "    cleantext = re.sub('\\s+', ' ', cleantext).strip()\n",
    "\n",
    "    return cleantext"
   ]
  },
  {
   "cell_type": "code",
   "execution_count": 65,
   "metadata": {},
   "outputs": [
    {
     "data": {
      "text/html": [
       "<div>\n",
       "<style scoped>\n",
       "    .dataframe tbody tr th:only-of-type {\n",
       "        vertical-align: middle;\n",
       "    }\n",
       "\n",
       "    .dataframe tbody tr th {\n",
       "        vertical-align: top;\n",
       "    }\n",
       "\n",
       "    .dataframe thead th {\n",
       "        text-align: right;\n",
       "    }\n",
       "</style>\n",
       "<table border=\"1\" class=\"dataframe\">\n",
       "  <thead>\n",
       "    <tr style=\"text-align: right;\">\n",
       "      <th></th>\n",
       "      <th>Account_Number</th>\n",
       "      <th>ATTRITION_FLAG</th>\n",
       "      <th>CleanText</th>\n",
       "    </tr>\n",
       "  </thead>\n",
       "  <tbody>\n",
       "    <tr>\n",
       "      <th>0</th>\n",
       "      <td>MAFF_ACCT_0000002125</td>\n",
       "      <td>OPEN</td>\n",
       "      <td>MAFFACCT transaction enquiry none none none no...</td>\n",
       "    </tr>\n",
       "    <tr>\n",
       "      <th>1</th>\n",
       "      <td>MAFF_ACCT_0000002171</td>\n",
       "      <td>OPEN</td>\n",
       "      <td>MAFFACCT none none none none none none none no...</td>\n",
       "    </tr>\n",
       "  </tbody>\n",
       "</table>\n",
       "</div>"
      ],
      "text/plain": [
       "         Account_Number ATTRITION_FLAG  \\\n",
       "0  MAFF_ACCT_0000002125           OPEN   \n",
       "1  MAFF_ACCT_0000002171           OPEN   \n",
       "\n",
       "                                           CleanText  \n",
       "0  MAFFACCT transaction enquiry none none none no...  \n",
       "1  MAFFACCT none none none none none none none no...  "
      ]
     },
     "execution_count": 65,
     "metadata": {},
     "output_type": "execute_result"
    },
    {
     "data": {
      "text/plain": [
       "(81109, 3)"
      ]
     },
     "execution_count": 65,
     "metadata": {},
     "output_type": "execute_result"
    }
   ],
   "source": [
    "#apply regex fixes to the input text column\n",
    "df_Joined1 = df_Joined\n",
    "df_Joined1['CleanText'] = df_Joined1.apply(clean_text, axis=1)\n",
    "del df_Joined1['Sequence']\n",
    "df_Joined1.head(2)\n",
    "df_Joined1.shape"
   ]
  },
  {
   "cell_type": "code",
   "execution_count": 66,
   "metadata": {
    "collapsed": true
   },
   "outputs": [],
   "source": [
    "df_Joined = df_Joined1\n",
    "justcleandocs = pd.DataFrame(df_Joined)"
   ]
  },
  {
   "cell_type": "markdown",
   "metadata": {},
   "source": [
    "### Saving intermediate file\n"
   ]
  },
  {
   "cell_type": "code",
   "execution_count": 67,
   "metadata": {},
   "outputs": [
    {
     "name": "stdout",
     "output_type": "stream",
     "text": [
      "(81109, 3)\n"
     ]
    },
    {
     "data": {
      "text/html": [
       "<div>\n",
       "<style scoped>\n",
       "    .dataframe tbody tr th:only-of-type {\n",
       "        vertical-align: middle;\n",
       "    }\n",
       "\n",
       "    .dataframe tbody tr th {\n",
       "        vertical-align: top;\n",
       "    }\n",
       "\n",
       "    .dataframe thead th {\n",
       "        text-align: right;\n",
       "    }\n",
       "</style>\n",
       "<table border=\"1\" class=\"dataframe\">\n",
       "  <thead>\n",
       "    <tr style=\"text-align: right;\">\n",
       "      <th></th>\n",
       "      <th>Account_Number</th>\n",
       "      <th>ATTRITION_FLAG</th>\n",
       "      <th>CleanText</th>\n",
       "    </tr>\n",
       "  </thead>\n",
       "  <tbody>\n",
       "    <tr>\n",
       "      <th>0</th>\n",
       "      <td>MAFF_ACCT_0000002125</td>\n",
       "      <td>OPEN</td>\n",
       "      <td>MAFFACCT transaction enquiry none none none no...</td>\n",
       "    </tr>\n",
       "    <tr>\n",
       "      <th>1</th>\n",
       "      <td>MAFF_ACCT_0000002171</td>\n",
       "      <td>OPEN</td>\n",
       "      <td>MAFFACCT none none none none none none none no...</td>\n",
       "    </tr>\n",
       "  </tbody>\n",
       "</table>\n",
       "</div>"
      ],
      "text/plain": [
       "         Account_Number ATTRITION_FLAG  \\\n",
       "0  MAFF_ACCT_0000002125           OPEN   \n",
       "1  MAFF_ACCT_0000002171           OPEN   \n",
       "\n",
       "                                           CleanText  \n",
       "0  MAFFACCT transaction enquiry none none none no...  \n",
       "1  MAFFACCT none none none none none none none no...  "
      ]
     },
     "execution_count": 67,
     "metadata": {},
     "output_type": "execute_result"
    }
   ],
   "source": [
    "#save a cleaned copy to inspect\n",
    "justcleandocs.to_csv('cleaned_text.tsv', sep='\\t', encoding='utf-8')\n",
    "print(justcleandocs.shape)\n",
    "justcleandocs.head(2)"
   ]
  },
  {
   "cell_type": "markdown",
   "metadata": {},
   "source": [
    "### Seperate Labels from Sequences\n",
    "- input df: `df_Joined`\n",
    "- output df: `Text_Sequence_df`, `Labels`\n"
   ]
  },
  {
   "cell_type": "code",
   "execution_count": 68,
   "metadata": {},
   "outputs": [
    {
     "data": {
      "text/plain": [
       "OPEN         74267\n",
       "VOLUNTARY     6842\n",
       "Name: ATTRITION_FLAG, dtype: int64"
      ]
     },
     "execution_count": 68,
     "metadata": {},
     "output_type": "execute_result"
    }
   ],
   "source": [
    "df_Joined['ATTRITION_FLAG'].value_counts()"
   ]
  },
  {
   "cell_type": "code",
   "execution_count": 69,
   "metadata": {
    "collapsed": true
   },
   "outputs": [],
   "source": [
    "Labels = df_Joined[['Account_Number','ATTRITION_FLAG']]\n",
    "Text_Sequence_df = df_Joined[['Account_Number','CleanText']]\n",
    "\n",
    "Labels_backup = Labels"
   ]
  },
  {
   "cell_type": "code",
   "execution_count": 70,
   "metadata": {},
   "outputs": [
    {
     "data": {
      "text/plain": [
       "Index(['Account_Number', 'ATTRITION_FLAG'], dtype='object')"
      ]
     },
     "execution_count": 70,
     "metadata": {},
     "output_type": "execute_result"
    },
    {
     "data": {
      "text/plain": [
       "(81109, 2)"
      ]
     },
     "execution_count": 70,
     "metadata": {},
     "output_type": "execute_result"
    },
    {
     "data": {
      "text/html": [
       "<div>\n",
       "<style scoped>\n",
       "    .dataframe tbody tr th:only-of-type {\n",
       "        vertical-align: middle;\n",
       "    }\n",
       "\n",
       "    .dataframe tbody tr th {\n",
       "        vertical-align: top;\n",
       "    }\n",
       "\n",
       "    .dataframe thead th {\n",
       "        text-align: right;\n",
       "    }\n",
       "</style>\n",
       "<table border=\"1\" class=\"dataframe\">\n",
       "  <thead>\n",
       "    <tr style=\"text-align: right;\">\n",
       "      <th></th>\n",
       "      <th>Account_Number</th>\n",
       "      <th>ATTRITION_FLAG</th>\n",
       "    </tr>\n",
       "  </thead>\n",
       "  <tbody>\n",
       "    <tr>\n",
       "      <th>0</th>\n",
       "      <td>MAFF_ACCT_0000002125</td>\n",
       "      <td>OPEN</td>\n",
       "    </tr>\n",
       "  </tbody>\n",
       "</table>\n",
       "</div>"
      ],
      "text/plain": [
       "         Account_Number ATTRITION_FLAG\n",
       "0  MAFF_ACCT_0000002125           OPEN"
      ]
     },
     "execution_count": 70,
     "metadata": {},
     "output_type": "execute_result"
    },
    {
     "data": {
      "text/plain": [
       "Index(['Account_Number', 'CleanText'], dtype='object')"
      ]
     },
     "execution_count": 70,
     "metadata": {},
     "output_type": "execute_result"
    },
    {
     "data": {
      "text/plain": [
       "(81109, 2)"
      ]
     },
     "execution_count": 70,
     "metadata": {},
     "output_type": "execute_result"
    },
    {
     "data": {
      "text/html": [
       "<div>\n",
       "<style scoped>\n",
       "    .dataframe tbody tr th:only-of-type {\n",
       "        vertical-align: middle;\n",
       "    }\n",
       "\n",
       "    .dataframe tbody tr th {\n",
       "        vertical-align: top;\n",
       "    }\n",
       "\n",
       "    .dataframe thead th {\n",
       "        text-align: right;\n",
       "    }\n",
       "</style>\n",
       "<table border=\"1\" class=\"dataframe\">\n",
       "  <thead>\n",
       "    <tr style=\"text-align: right;\">\n",
       "      <th></th>\n",
       "      <th>Account_Number</th>\n",
       "      <th>CleanText</th>\n",
       "    </tr>\n",
       "  </thead>\n",
       "  <tbody>\n",
       "    <tr>\n",
       "      <th>0</th>\n",
       "      <td>MAFF_ACCT_0000002125</td>\n",
       "      <td>MAFFACCT transaction enquiry none none none no...</td>\n",
       "    </tr>\n",
       "  </tbody>\n",
       "</table>\n",
       "</div>"
      ],
      "text/plain": [
       "         Account_Number                                          CleanText\n",
       "0  MAFF_ACCT_0000002125  MAFFACCT transaction enquiry none none none no..."
      ]
     },
     "execution_count": 70,
     "metadata": {},
     "output_type": "execute_result"
    }
   ],
   "source": [
    "Labels.columns\n",
    "Labels.shape\n",
    "Labels.head(1)\n",
    "\n",
    "Text_Sequence_df.columns\n",
    "Text_Sequence_df.shape\n",
    "Text_Sequence_df.head(1)"
   ]
  },
  {
   "cell_type": "code",
   "execution_count": 71,
   "metadata": {},
   "outputs": [
    {
     "data": {
      "text/plain": [
       "(81109, 2)"
      ]
     },
     "execution_count": 71,
     "metadata": {},
     "output_type": "execute_result"
    },
    {
     "data": {
      "text/plain": [
       "['Account_Number', 'CleanText']"
      ]
     },
     "execution_count": 71,
     "metadata": {},
     "output_type": "execute_result"
    }
   ],
   "source": [
    "Text_Sequence_df.shape\n",
    "list(Text_Sequence_df.columns)"
   ]
  },
  {
   "cell_type": "code",
   "execution_count": null,
   "metadata": {
    "collapsed": true
   },
   "outputs": [],
   "source": []
  },
  {
   "cell_type": "markdown",
   "metadata": {},
   "source": [
    "### Create Tokenized Word Index for Later Use\n",
    "\n",
    "file in: Text_Sequence_df['CleanText']\n",
    "file out: word_index"
   ]
  },
  {
   "cell_type": "code",
   "execution_count": 72,
   "metadata": {
    "collapsed": true
   },
   "outputs": [],
   "source": [
    "np.set_printoptions(threshold=np.nan)"
   ]
  },
  {
   "cell_type": "code",
   "execution_count": 73,
   "metadata": {
    "collapsed": true
   },
   "outputs": [],
   "source": [
    "#Tokenize all samples\n",
    "# Here we tokenize our source data\n",
    "MAX_SEQUENCE_LENGTH = 1500\n",
    "MAX_NB_WORDS = 400000\n",
    "EMBEDDING_DIM = 300"
   ]
  },
  {
   "cell_type": "code",
   "execution_count": 74,
   "metadata": {},
   "outputs": [
    {
     "data": {
      "text/html": [
       "<div>\n",
       "<style scoped>\n",
       "    .dataframe tbody tr th:only-of-type {\n",
       "        vertical-align: middle;\n",
       "    }\n",
       "\n",
       "    .dataframe tbody tr th {\n",
       "        vertical-align: top;\n",
       "    }\n",
       "\n",
       "    .dataframe thead th {\n",
       "        text-align: right;\n",
       "    }\n",
       "</style>\n",
       "<table border=\"1\" class=\"dataframe\">\n",
       "  <thead>\n",
       "    <tr style=\"text-align: right;\">\n",
       "      <th></th>\n",
       "      <th>CleanText</th>\n",
       "    </tr>\n",
       "  </thead>\n",
       "  <tbody>\n",
       "    <tr>\n",
       "      <th>0</th>\n",
       "      <td>MAFFACCT transaction enquiry none none none no...</td>\n",
       "    </tr>\n",
       "    <tr>\n",
       "      <th>1</th>\n",
       "      <td>MAFFACCT none none none none none none none no...</td>\n",
       "    </tr>\n",
       "    <tr>\n",
       "      <th>2</th>\n",
       "      <td>MAFFACCT none none none none none none none no...</td>\n",
       "    </tr>\n",
       "    <tr>\n",
       "      <th>3</th>\n",
       "      <td>MAFFACCT none none none none none none none no...</td>\n",
       "    </tr>\n",
       "    <tr>\n",
       "      <th>4</th>\n",
       "      <td>MAFFACCT none none billed finance charge none ...</td>\n",
       "    </tr>\n",
       "  </tbody>\n",
       "</table>\n",
       "</div>"
      ],
      "text/plain": [
       "                                           CleanText\n",
       "0  MAFFACCT transaction enquiry none none none no...\n",
       "1  MAFFACCT none none none none none none none no...\n",
       "2  MAFFACCT none none none none none none none no...\n",
       "3  MAFFACCT none none none none none none none no...\n",
       "4  MAFFACCT none none billed finance charge none ..."
      ]
     },
     "execution_count": 74,
     "metadata": {},
     "output_type": "execute_result"
    },
    {
     "data": {
      "text/plain": [
       "(81109, 1)"
      ]
     },
     "execution_count": 74,
     "metadata": {},
     "output_type": "execute_result"
    }
   ],
   "source": [
    "# Taking on the CleatnText Column\n",
    "justcleandocs = Text_Sequence_df[['CleanText']]\n",
    "justcleandocs.head()\n",
    "justcleandocs.shape"
   ]
  },
  {
   "cell_type": "code",
   "execution_count": 75,
   "metadata": {},
   "outputs": [
    {
     "data": {
      "text/plain": [
       "(81109,)"
      ]
     },
     "execution_count": 75,
     "metadata": {},
     "output_type": "execute_result"
    }
   ],
   "source": [
    "#convert text format\n",
    "justcleandocslist  = justcleandocs.values.ravel()\n",
    "justcleandocslist.shape"
   ]
  },
  {
   "cell_type": "code",
   "execution_count": 76,
   "metadata": {},
   "outputs": [
    {
     "data": {
      "text/plain": [
       "'MAFFACCT transaction enquiry none none none none none none none none none none none none none marketing campaign none none none none none none none none none none none none none none none none none none none none none none none none none none none none none none none none none none none none none none none none none none none none none none none najm lifestyle none none none none none none none none none none none none none none none none none none none none none none none none transaction enquiry none none none none none none transaction enquiry none none none none none none none none none none none none none none none none none none none none none account enquiry none none none none none none none none none none none none none additional features on card none none none none none none none none none none none none none none none none none none none none none none none none none none none none none none none none none none none none none none none none none none none none none none none customer enquiry none none none none none none none none none none none none none none none none none none none none none none none none account enquiry none none none none none none account enquiry none none none none none none none none none none none none none none none none none none none none none'"
      ]
     },
     "execution_count": 76,
     "metadata": {},
     "output_type": "execute_result"
    },
    {
     "data": {
      "text/plain": [
       "numpy.ndarray"
      ]
     },
     "execution_count": 76,
     "metadata": {},
     "output_type": "execute_result"
    }
   ],
   "source": [
    "#check justcleandocslist\n",
    "justcleandocslist[0]\n",
    "type(justcleandocslist)"
   ]
  },
  {
   "cell_type": "code",
   "execution_count": 77,
   "metadata": {
    "collapsed": true
   },
   "outputs": [],
   "source": [
    "#tokenize the text\n",
    "tokenizer = Tokenizer(num_words=MAX_NB_WORDS)\n",
    "tokenizer.fit_on_texts(justcleandocslist) #tokenizer.fit_on_texts(texts)\n",
    "sequences = tokenizer.texts_to_sequences(justcleandocslist) #sequences = tokenizer.texts_to_sequences(texts)"
   ]
  },
  {
   "cell_type": "code",
   "execution_count": 78,
   "metadata": {
    "scrolled": false
   },
   "outputs": [
    {
     "name": "stdout",
     "output_type": "stream",
     "text": [
      "Found 293 unique tokens\n"
     ]
    }
   ],
   "source": [
    "word_index = tokenizer.word_index #word_index = tokenizer.word_index\n",
    "print('Found {} unique tokens'.format(len(word_index)))\n"
   ]
  },
  {
   "cell_type": "code",
   "execution_count": 79,
   "metadata": {
    "collapsed": true,
    "scrolled": false
   },
   "outputs": [],
   "source": [
    "#Pad sequences so that they all have the same length in a batch of input data \n",
    "data = pad_sequences(sequences, maxlen=MAX_SEQUENCE_LENGTH, padding='pre', truncating='pre')\n",
    "sequences = None\n",
    "texts = None"
   ]
  },
  {
   "cell_type": "code",
   "execution_count": 80,
   "metadata": {},
   "outputs": [
    {
     "data": {
      "text/plain": [
       "array([  0,   0,   0,   0,   0,   0,   0,   0,   0,   0,   0,   0,   0,\n",
       "         0,   0,   0,   0,   0,   0,   0,   0,   0,   0,   0,   0,   0,\n",
       "         0,   0,   0,   0,   0,   0,   0,   0,   0,   0,   0,   0,   0,\n",
       "         0,   0,   0,   0,   0,   0,   0,   0,   0,   0,   0,   0,   0,\n",
       "         0,   0,   0,   0,   0,   0,   0,   0,   0,   0,   0,   0,   0,\n",
       "         0,   0,   0,   0,   0,   0,   0,   0,   0,   0,   0,   0,   0,\n",
       "         0,   0,   0,   0,   0,   0,   0,   0,   0,   0,   0,   0,   0,\n",
       "         0,   0,   0,   0,   0,   0,   0,   0,   0,   0,   0,   0,   0,\n",
       "         0,   0,   0,   0,   0,   0,   0,   0,   0,   0,   0,   0,   0,\n",
       "         0,   0,   0,   0,   0,   0,   0,   0,   0,   0,   0,   0,   0,\n",
       "         0,   0,   0,   0,   0,   0,   0,   0,   0,   0,   0,   0,   0,\n",
       "         0,   0,   0,   0,   0,   0,   0,   0,   0,   0,   0,   0,   0,\n",
       "         0,   0,   0,   0,   0,   0,   0,   0,   0,   0,   0,   0,   0,\n",
       "         0,   0,   0,   0,   0,   0,   0,   0,   0,   0,   0,   0,   0,\n",
       "         0,   0,   0,   0,   0,   0,   0,   0,   0,   0,   0,   0,   0,\n",
       "         0,   0,   0,   0,   0,   0,   0,   0,   0,   0,   0,   0,   0,\n",
       "         0,   0,   0,   0,   0,   0,   0,   0,   0,   0,   0,   0,   0,\n",
       "         0,   0,   0,   0,   0,   0,   0,   0,   0,   0,   0,   0,   0,\n",
       "         0,   0,   0,   0,   0,   0,   0,   0,   0,   0,   0,   0,   0,\n",
       "         0,   0,   0,   0,   0,   0,   0,   0,   0,   0,   0,   0,   0,\n",
       "         0,   0,   0,   0,   0,   0,   0,   0,   0,   0,   0,   0,   0,\n",
       "         0,   0,   0,   0,   0,   0,   0,   0,   0,   0,   0,   0,   0,\n",
       "         0,   0,   0,   0,   0,   0,   0,   0,   0,   0,   0,   0,   0,\n",
       "         0,   0,   0,   0,   0,   0,   0,   0,   0,   0,   0,   0,   0,\n",
       "         0,   0,   0,   0,   0,   0,   0,   0,   0,   0,   0,   0,   0,\n",
       "         0,   0,   0,   0,   0,   0,   0,   0,   0,   0,   0,   0,   0,\n",
       "         0,   0,   0,   0,   0,   0,   0,   0,   0,   0,   0,   0,   0,\n",
       "         0,   0,   0,   0,   0,   0,   0,   0,   0,   0,   0,   0,   0,\n",
       "         0,   0,   0,   0,   0,   0,   0,   0,   0,   0,   0,   0,   0,\n",
       "         0,   0,   0,   0,   0,   0,   0,   0,   0,   0,   0,   0,   0,\n",
       "         0,   0,   0,   0,   0,   0,   0,   0,   0,   0,   0,   0,   0,\n",
       "         0,   0,   0,   0,   0,   0,   0,   0,   0,   0,   0,   0,   0,\n",
       "         0,   0,   0,   0,   0,   0,   0,   0,   0,   0,   0,   0,   0,\n",
       "         0,   0,   0,   0,   0,   0,   0,   0,   0,   0,   0,   0,   0,\n",
       "         0,   0,   0,   0,   0,   0,   0,   0,   0,   0,   0,   0,   0,\n",
       "         0,   0,   0,   0,   0,   0,   0,   0,   0,   0,   0,   0,   0,\n",
       "         0,   0,   0,   0,   0,   0,   0,   0,   0,   0,   0,   0,   0,\n",
       "         0,   0,   0,   0,   0,   0,   0,   0,   0,   0,   0,   0,   0,\n",
       "         0,   0,   0,   0,   0,   0,   0,   0,   0,   0,   0,   0,   0,\n",
       "         0,   0,   0,   0,   0,   0,   0,   0,   0,   0,   0,   0,   0,\n",
       "         0,   0,   0,   0,   0,   0,   0,   0,   0,   0,   0,   0,   0,\n",
       "         0,   0,   0,   0,   0,   0,   0,   0,   0,   0,   0,   0,   0,\n",
       "         0,   0,   0,   0,   0,   0,   0,   0,   0,   0,   0,   0,   0,\n",
       "         0,   0,   0,   0,   0,   0,   0,   0,   0,   0,   0,   0,   0,\n",
       "         0,   0,   0,   0,   0,   0,   0,   0,   0,   0,   0,   0,   0,\n",
       "         0,   0,   0,   0,   0,   0,   0,   0,   0,   0,   0,   0,   0,\n",
       "         0,   0,   0,   0,   0,   0,   0,   0,   0,   0,   0,   0,   0,\n",
       "         0,   0,   0,   0,   0,   0,   0,   0,   0,   0,   0,   0,   0,\n",
       "         0,   0,   0,   0,   0,   0,   0,   0,   0,   0,   0,   0,   0,\n",
       "         0,   0,   0,   0,   0,   0,   0,   0,   0,   0,   0,   0,   0,\n",
       "         0,   0,   0,   0,   0,   0,   0,   0,   0,   0,   0,   0,   0,\n",
       "         0,   0,   0,   0,   0,   0,   0,   0,   0,   0,   0,   0,   0,\n",
       "         0,   0,   0,   0,   0,   0,   0,   0,   0,   0,   0,   0,   0,\n",
       "         0,   0,   0,   0,   0,   0,   0,   0,   0,   0,   0,   0,   0,\n",
       "         0,   0,   0,   0,   0,   0,   0,   0,   0,   0,   0,   0,   0,\n",
       "         0,   0,   0,   0,   0,   0,   0,   0,   0,   0,   0,   0,   0,\n",
       "         0,   0,   0,   0,   0,   0,   0,   0,   0,   0,   0,   0,   0,\n",
       "         0,   0,   0,   0,   0,   0,   0,   0,   0,   0,   0,   0,   0,\n",
       "         0,   0,   0,   0,   0,   0,   0,   0,   0,   0,   0,   0,   0,\n",
       "         0,   0,   0,   0,   0,   0,   0,   0,   0,   0,   0,   0,   0,\n",
       "         0,   0,   0,   0,   0,   0,   0,   0,   0,   0,   0,   0,   0,\n",
       "         0,   0,   0,   0,   0,   0,   0,   0,   0,   0,   0,   0,   0,\n",
       "         0,   0,   0,   0,   0,   0,   0,   0,   0,   0,   0,   0,   0,\n",
       "         0,   0,   0,   0,   0,   0,   0,   0,   0,   0,   0,   0,   0,\n",
       "         0,   0,   0,   0,   0,   0,   0,   0,   0,   0,   0,   0,   0,\n",
       "         0,   0,   0,   0,   0,   0,   0,   0,   0,   0,   0,   0,   0,\n",
       "         0,   0,   0,   0,   0,   0,   0,   0,   0,   0,   0,   0,   0,\n",
       "         0,   0,   0,   0,   0,   0,   0,   0,   0,   0,   0,   0,   0,\n",
       "         0,   0,   0,   0,   0,   0,   0,   0,   0,   0,   0,   0,   0,\n",
       "         0,   0,   0,   0,   0,   0,   0,   0,   0,   0,   0,   0,   0,\n",
       "         0,   0,   0,   0,   0,   0,   0,   0,   0,   0,   0,   0,   0,\n",
       "         0,   0,   0,   0,   0,   0,   0,   0,   0,   0,   0,   0,   0,\n",
       "         0,   0,   0,   0,   0,   0,   0,   0,   0,   0,   0,   0,   0,\n",
       "         0,   0,   0,   0,   0,   0,   0,   0,   0,   0,   0,   0,   0,\n",
       "         0,   0,   0,   0,   0,   0,   0,   0,   0,   0,   0,   0,   0,\n",
       "         0,   0,   0,   0,   0,   0,   0,   0,   0,   0,   0,   0,   0,\n",
       "         0,   0,   0,   0,   0,   0,   0,   0,   0,   0,   0,   0,   0,\n",
       "         0,   0,   0,   0,   0,   0,   0,   0,   0,   0,   0,   0,   0,\n",
       "         0,   0,   0,   0,   0,   0,   0,   0,   0,   0,   0,   0,   0,\n",
       "         0,   0,   0,   0,   0,   0,   0,   0,   0,   0,   0,   0,   0,\n",
       "         0,   0,   0,   0,   0,   0,   0,   0,   0,   0,   0,   0,   0,\n",
       "         0,   0,   0,   0,   0,   0,   0,   0,   0,   0,   0,   0,   0,\n",
       "         0,   0,   0,   0,   0,   0,   0,   0,   0,   0,   0,   0,   0,\n",
       "         0,   0,   0,   0,   0,   0,   0,   0,   0,   0,   0,   0,   0,\n",
       "         0,   0,   0,   0,   0,   0,   0,   0,   0,   0,   0,   0,   0,\n",
       "         0,   0,   0,   0,   0,   0,   0,   0,   0,   0,   0,   0,   0,\n",
       "         0,   0,   0,   0,   0,   0,   0,   0,   0,   0,   0,   0,   0,\n",
       "         0,   0,   0,   0,   0,   0,   0,   0,   0,   0,   0,   0,   0,\n",
       "         0,   0,   0,   0,   0,   0,   0,   0,   0,   0,   0,   0,   0,\n",
       "         0,   0,   0,   0,   0,   0,   0,   0,   0,   0,   0,   0,   0,\n",
       "         0,   0,   0,   0,   0,   0,   0,   0,   0,   0,   0,   0,   0,\n",
       "         0,   0,   0,   0,   0,   0,   0,   0,   0,   0,   0,   0,   0,\n",
       "         0,   0,   0,   0,   0,   0,   0,   0,   0,   0,   0,   0,   0,\n",
       "         0,   0,   0,   0,   0,   0,   0,   0,   0,   0,   0,   0,   0,\n",
       "         0,   0,   0,   0,   0,   0,   0,   0,   0,   0,   0,   0,   0,\n",
       "         0,   0,   0,   0,   0,   0,   0,   0,   0,   0,   0,   0,   0,\n",
       "         0,   0,   0,   0,   0,   0,   0,   2,  25,   3,   1,   1,   1,\n",
       "         1,   1,   1,   1,   1,   1,   1,   1,   1,   1,   9,  10,   1,\n",
       "         1,   1,   1,   1,   1,   1,   1,   1,   1,   1,   1,   1,   1,\n",
       "         1,   1,   1,   1,   1,   1,   1,   1,   1,   1,   1,   1,   1,\n",
       "         1,   1,   1,   1,   1,   1,   1,   1,   1,   1,   1,   1,   1,\n",
       "         1,   1,   1,   1,   1,   1,   1, 189, 124,   1,   1,   1,   1,\n",
       "         1,   1,   1,   1,   1,   1,   1,   1,   1,   1,   1,   1,   1,\n",
       "         1,   1,   1,   1,   1,   1,   1,  25,   3,   1,   1,   1,   1,\n",
       "         1,   1,  25,   3,   1,   1,   1,   1,   1,   1,   1,   1,   1,\n",
       "         1,   1,   1,   1,   1,   1,   1,   1,   1,   1,   1,   1,   8,\n",
       "         3,   1,   1,   1,   1,   1,   1,   1,   1,   1,   1,   1,   1,\n",
       "         1,   6,   7,   5,   4,   1,   1,   1,   1,   1,   1,   1,   1,\n",
       "         1,   1,   1,   1,   1,   1,   1,   1,   1,   1,   1,   1,   1,\n",
       "         1,   1,   1,   1,   1,   1,   1,   1,   1,   1,   1,   1,   1,\n",
       "         1,   1,   1,   1,   1,   1,   1,   1,   1,   1,   1,   1,   1,\n",
       "        26,   3,   1,   1,   1,   1,   1,   1,   1,   1,   1,   1,   1,\n",
       "         1,   1,   1,   1,   1,   1,   1,   1,   1,   1,   1,   1,   1,\n",
       "         8,   3,   1,   1,   1,   1,   1,   1,   8,   3,   1,   1,   1,\n",
       "         1,   1,   1,   1,   1,   1,   1,   1,   1,   1,   1,   1,   1,\n",
       "         1,   1,   1,   1,   1])"
      ]
     },
     "execution_count": 80,
     "metadata": {},
     "output_type": "execute_result"
    }
   ],
   "source": [
    "data[0]"
   ]
  },
  {
   "cell_type": "code",
   "execution_count": 81,
   "metadata": {
    "scrolled": false
   },
   "outputs": [
    {
     "data": {
      "text/plain": [
       "{'ac': 286,\n",
       " 'accepted': 175,\n",
       " 'accident': 47,\n",
       " 'account': 8,\n",
       " 'acli': 33,\n",
       " 'activation': 91,\n",
       " 'additional': 6,\n",
       " 'address': 57,\n",
       " 'adjustment': 208,\n",
       " 'advance': 242,\n",
       " 'agent': 185,\n",
       " 'already': 265,\n",
       " 'amf': 193,\n",
       " 'amount': 19,\n",
       " 'and': 184,\n",
       " 'annual': 135,\n",
       " 'application': 148,\n",
       " 'applied': 276,\n",
       " 'at': 49,\n",
       " 'atm': 249,\n",
       " 'back': 252,\n",
       " 'balance': 154,\n",
       " 'banking': 199,\n",
       " 'benefits': 287,\n",
       " 'billed': 22,\n",
       " 'billing': 103,\n",
       " 'block': 134,\n",
       " 'booking': 161,\n",
       " 'booz': 187,\n",
       " 'box': 289,\n",
       " 'bt': 58,\n",
       " 'btlopepp': 131,\n",
       " 'buy': 61,\n",
       " 'by': 12,\n",
       " 'calculation': 110,\n",
       " 'call': 60,\n",
       " 'campaign': 10,\n",
       " 'campaigns': 253,\n",
       " 'cancellation': 109,\n",
       " 'cancellations': 74,\n",
       " 'cancelled': 293,\n",
       " 'cannot': 212,\n",
       " 'captured': 250,\n",
       " 'card': 4,\n",
       " 'cards': 220,\n",
       " 'carrefour': 41,\n",
       " 'cases': 13,\n",
       " 'cash': 151,\n",
       " 'cashback': 144,\n",
       " 'cdm': 123,\n",
       " 'cec': 125,\n",
       " 'center': 200,\n",
       " 'change': 130,\n",
       " 'charge': 137,\n",
       " 'charges': 87,\n",
       " 'cheque': 27,\n",
       " 'chip': 155,\n",
       " 'claim': 202,\n",
       " 'clarification': 102,\n",
       " 'clearance': 290,\n",
       " 'cli': 281,\n",
       " 'closed': 248,\n",
       " 'cm': 48,\n",
       " 'code': 279,\n",
       " 'codes': 186,\n",
       " 'collection': 285,\n",
       " 'collections': 106,\n",
       " 'competition': 292,\n",
       " 'complaint': 70,\n",
       " 'complaints': 132,\n",
       " 'consolidation': 159,\n",
       " 'contact': 42,\n",
       " 'contactable': 126,\n",
       " 'correction': 283,\n",
       " 'counterfeit': 277,\n",
       " 'country': 258,\n",
       " 'courier': 245,\n",
       " 'credit': 99,\n",
       " 'customer': 26,\n",
       " 'cycle': 113,\n",
       " 'damaged': 196,\n",
       " 'date': 163,\n",
       " 'dds': 192,\n",
       " 'decrease': 73,\n",
       " 'department': 11,\n",
       " 'detailed': 169,\n",
       " 'details': 40,\n",
       " 'dispute': 142,\n",
       " 'down': 180,\n",
       " 'downgrade': 211,\n",
       " 'drp': 39,\n",
       " 'dsa': 274,\n",
       " 'due': 174,\n",
       " 'duplicate': 129,\n",
       " 'easy': 35,\n",
       " 'emirates': 145,\n",
       " 'enajm': 51,\n",
       " 'enquiries': 177,\n",
       " 'enquiry': 3,\n",
       " 'enrollment': 56,\n",
       " 'entry': 237,\n",
       " 'epp': 36,\n",
       " 'eppbtlop': 170,\n",
       " 'escalation': 209,\n",
       " 'estatement': 69,\n",
       " 'evoucher': 117,\n",
       " 'exchange': 223,\n",
       " 'existing': 54,\n",
       " 'expired': 275,\n",
       " 'facebook': 233,\n",
       " 'fcr': 150,\n",
       " 'features': 7,\n",
       " 'fee': 81,\n",
       " 'fees': 100,\n",
       " 'file': 89,\n",
       " 'finance': 164,\n",
       " 'follow': 64,\n",
       " 'for': 217,\n",
       " 'foreclosure': 149,\n",
       " 'fraud': 114,\n",
       " 'fraudulent': 232,\n",
       " 'fund': 206,\n",
       " 'fyf': 182,\n",
       " 'general': 85,\n",
       " 'gold': 271,\n",
       " 'good': 259,\n",
       " 'goods': 229,\n",
       " 'house': 224,\n",
       " 'id': 146,\n",
       " 'in': 268,\n",
       " 'inactive': 263,\n",
       " 'incident': 66,\n",
       " 'included': 267,\n",
       " 'incorrect': 183,\n",
       " 'increase': 23,\n",
       " 'initiated': 14,\n",
       " 'inquiry': 215,\n",
       " 'integrated': 50,\n",
       " 'interactive': 152,\n",
       " 'internet': 190,\n",
       " 'issue': 121,\n",
       " 'issues': 213,\n",
       " 'it': 241,\n",
       " 'ivr': 68,\n",
       " 'job': 191,\n",
       " 'last': 77,\n",
       " 'late': 101,\n",
       " 'leaving': 257,\n",
       " 'letter': 94,\n",
       " 'level': 53,\n",
       " 'liabilities': 226,\n",
       " 'liability': 95,\n",
       " 'life': 96,\n",
       " 'lifestyle': 124,\n",
       " 'limit': 20,\n",
       " 'loan': 243,\n",
       " 'lop': 38,\n",
       " 'lost': 112,\n",
       " 'lsp': 98,\n",
       " 'maf': 272,\n",
       " 'maffacct': 2,\n",
       " 'mail': 239,\n",
       " 'marketing': 9,\n",
       " 'media': 235,\n",
       " 'membership': 214,\n",
       " 'merchant': 118,\n",
       " 'misc': 93,\n",
       " 'miscellaneous': 227,\n",
       " 'misselling': 264,\n",
       " 'myguard': 82,\n",
       " 'mynajm': 84,\n",
       " 'najm': 189,\n",
       " 'nep': 255,\n",
       " 'new': 17,\n",
       " 'no': 228,\n",
       " 'none': 1,\n",
       " 'normal': 52,\n",
       " 'not': 75,\n",
       " 'npp': 254,\n",
       " 'nwpp': 256,\n",
       " 'nwppnepnpp': 160,\n",
       " 'observation': 127,\n",
       " 'of': 157,\n",
       " 'on': 5,\n",
       " 'open': 59,\n",
       " 'operations': 156,\n",
       " 'opt': 270,\n",
       " 'option': 166,\n",
       " 'options': 136,\n",
       " 'other': 15,\n",
       " 'others': 92,\n",
       " 'out': 238,\n",
       " 'outstanding': 31,\n",
       " 'over': 197,\n",
       " 'paper': 284,\n",
       " 'passport': 210,\n",
       " 'password': 172,\n",
       " 'payment': 18,\n",
       " 'personal': 44,\n",
       " 'phone': 260,\n",
       " 'pin': 45,\n",
       " 'plan': 24,\n",
       " 'points': 107,\n",
       " 'portal': 261,\n",
       " 'premium': 158,\n",
       " 'print': 269,\n",
       " 'privileges': 288,\n",
       " 'prm': 133,\n",
       " 'process': 188,\n",
       " 'promotion': 76,\n",
       " 'protection': 34,\n",
       " 'quasy': 247,\n",
       " 'queries': 78,\n",
       " 'query': 80,\n",
       " 'real': 104,\n",
       " 'reason': 198,\n",
       " 'reced': 251,\n",
       " 'received': 111,\n",
       " 'recession': 205,\n",
       " 'redeemed': 266,\n",
       " 'redemption': 176,\n",
       " 'reducing': 225,\n",
       " 'refund': 207,\n",
       " 'related': 67,\n",
       " 'renewal': 194,\n",
       " 'replaced': 219,\n",
       " 'replacement': 88,\n",
       " 'request': 16,\n",
       " 'requests': 37,\n",
       " 'resigned': 291,\n",
       " 'restructure': 204,\n",
       " 'retained': 230,\n",
       " 'retrieval': 55,\n",
       " 'retrival': 178,\n",
       " 'return': 43,\n",
       " 'reversal': 29,\n",
       " 'rewards': 86,\n",
       " 'risk': 280,\n",
       " 'room': 240,\n",
       " 'sales': 236,\n",
       " 'school': 216,\n",
       " 'sec': 140,\n",
       " 'security': 28,\n",
       " 'sent': 108,\n",
       " 'service': 195,\n",
       " 'settlement': 222,\n",
       " 'setup': 90,\n",
       " 'setupchange': 83,\n",
       " 'signature': 278,\n",
       " 'sms': 143,\n",
       " 'social': 234,\n",
       " 'spelling': 282,\n",
       " 'spend': 262,\n",
       " 'sr': 201,\n",
       " 'staff': 273,\n",
       " 'standalone': 153,\n",
       " 'statement': 63,\n",
       " 'status': 72,\n",
       " 'stolen': 116,\n",
       " 'style': 97,\n",
       " 'supp': 218,\n",
       " 'supplementary': 120,\n",
       " 'survey': 141,\n",
       " 'suspicious': 162,\n",
       " 'system': 179,\n",
       " 'tactical': 221,\n",
       " 'takaful': 46,\n",
       " 'termination': 203,\n",
       " 'the': 231,\n",
       " 'time': 105,\n",
       " 'tion': 79,\n",
       " 'to': 30,\n",
       " 'total': 32,\n",
       " 'tpin': 171,\n",
       " 'transaction': 25,\n",
       " 'transactor': 62,\n",
       " 'transactorepp': 128,\n",
       " 'transfer': 139,\n",
       " 'travel': 115,\n",
       " 'unbilled': 244,\n",
       " 'up': 65,\n",
       " 'update': 21,\n",
       " 'upgrade': 119,\n",
       " 'verified': 147,\n",
       " 'visa': 138,\n",
       " 'voucher': 122,\n",
       " 'vouchers': 168,\n",
       " 'voyager': 71,\n",
       " 'warm': 167,\n",
       " 'with': 246,\n",
       " 'withdrawal': 173,\n",
       " 'working': 181,\n",
       " 'wrong': 165}"
      ]
     },
     "execution_count": 81,
     "metadata": {},
     "output_type": "execute_result"
    }
   ],
   "source": [
    "word_index"
   ]
  },
  {
   "cell_type": "markdown",
   "metadata": {},
   "source": [
    "## 3: Create  `Train`, `Val`, `Test` index and dataset  "
   ]
  },
  {
   "cell_type": "markdown",
   "metadata": {},
   "source": [
    "### Import Master Sampling Index to Create Train, Val and Test Sets\n",
    "- input file: `index_train_attrits.csv`, `index_val_attrits`, `index_val_opens.csv`, `index_train_opens.csv`\n",
    "- output df: `index_train_attrits`, `index_val_attrits`, `index_val_opens`, `index_train_opens` "
   ]
  },
  {
   "cell_type": "code",
   "execution_count": 82,
   "metadata": {
    "collapsed": true
   },
   "outputs": [],
   "source": [
    "#Sampling Index\n",
    "\n",
    "dtypes = {'Account_Number': str}\n",
    "index_train_attrits = pd.read_csv(PATH + 'index_train_attrits.csv',sep=',',encoding='utf-8', header = 0) #, dtype = dtypes)\n",
    "index_train_attrits = pd.DataFrame(index_train_attrits[['Account_Number']])\n",
    "\n",
    "index_train_opens = pd.read_csv(PATH + 'index_train_opens.csv',sep=',',encoding='utf-8', header = 0) #, dtype = dtypes)\n",
    "index_train_opens = pd.DataFrame(index_train_opens[['Account_Number']])\n",
    "\n",
    "index_val_attrits = pd.read_csv(PATH + 'index_val_attrits.csv',sep=',',encoding='utf-8', header = 0) #, dtype = dtypes)\n",
    "index_val_attrits = pd.DataFrame(index_val_attrits[['Account_Number']])\n",
    "\n",
    "index_val_opens = pd.read_csv(PATH + 'index_val_opens.csv',sep=',',encoding='utf-8', header = 0) #, dtype = dtypes)\n",
    "index_val_opens = pd.DataFrame(index_val_opens[['Account_Number']])"
   ]
  },
  {
   "cell_type": "code",
   "execution_count": 83,
   "metadata": {},
   "outputs": [
    {
     "data": {
      "text/plain": [
       "(54996, 1)"
      ]
     },
     "execution_count": 83,
     "metadata": {},
     "output_type": "execute_result"
    },
    {
     "data": {
      "text/plain": [
       "(25977, 1)"
      ]
     },
     "execution_count": 83,
     "metadata": {},
     "output_type": "execute_result"
    }
   ],
   "source": [
    "#Assemble and shuffle rows\n",
    "index_train= index_train_opens.append(index_train_attrits, ignore_index=True)\n",
    "index_train = index_train.reset_index(drop=True)\n",
    "index_train = index_train.sample(frac=1).reset_index(drop=True)\n",
    "index_train.shape\n",
    "\n",
    "index_val= index_val_opens.append(index_val_attrits, ignore_index=True)\n",
    "index_val = index_val.reset_index(drop=True)\n",
    "index_val = index_val.sample(frac=1).reset_index(drop=True)\n",
    "index_val.shape"
   ]
  },
  {
   "cell_type": "markdown",
   "metadata": {},
   "source": [
    "### Create Data Samples for Train and Validation"
   ]
  },
  {
   "cell_type": "code",
   "execution_count": 84,
   "metadata": {},
   "outputs": [
    {
     "data": {
      "text/html": [
       "<div>\n",
       "<style scoped>\n",
       "    .dataframe tbody tr th:only-of-type {\n",
       "        vertical-align: middle;\n",
       "    }\n",
       "\n",
       "    .dataframe tbody tr th {\n",
       "        vertical-align: top;\n",
       "    }\n",
       "\n",
       "    .dataframe thead th {\n",
       "        text-align: right;\n",
       "    }\n",
       "</style>\n",
       "<table border=\"1\" class=\"dataframe\">\n",
       "  <thead>\n",
       "    <tr style=\"text-align: right;\">\n",
       "      <th></th>\n",
       "      <th>Account_Number</th>\n",
       "      <th>CleanText</th>\n",
       "      <th>num</th>\n",
       "    </tr>\n",
       "  </thead>\n",
       "  <tbody>\n",
       "    <tr>\n",
       "      <th>0</th>\n",
       "      <td>MAFF_ACCT_0000002125</td>\n",
       "      <td>MAFFACCT transaction enquiry none none none no...</td>\n",
       "      <td>0</td>\n",
       "    </tr>\n",
       "    <tr>\n",
       "      <th>1</th>\n",
       "      <td>MAFF_ACCT_0000002171</td>\n",
       "      <td>MAFFACCT none none none none none none none no...</td>\n",
       "      <td>1</td>\n",
       "    </tr>\n",
       "  </tbody>\n",
       "</table>\n",
       "</div>"
      ],
      "text/plain": [
       "         Account_Number                                          CleanText  \\\n",
       "0  MAFF_ACCT_0000002125  MAFFACCT transaction enquiry none none none no...   \n",
       "1  MAFF_ACCT_0000002171  MAFFACCT none none none none none none none no...   \n",
       "\n",
       "   num  \n",
       "0    0  \n",
       "1    1  "
      ]
     },
     "execution_count": 84,
     "metadata": {},
     "output_type": "execute_result"
    },
    {
     "data": {
      "text/plain": [
       "0    0\n",
       "1    1\n",
       "2    2\n",
       "3    3\n",
       "4    4\n",
       "Name: num, dtype: int64"
      ]
     },
     "execution_count": 84,
     "metadata": {},
     "output_type": "execute_result"
    },
    {
     "data": {
      "text/plain": [
       "(81109,)"
      ]
     },
     "execution_count": 84,
     "metadata": {},
     "output_type": "execute_result"
    }
   ],
   "source": [
    "#create index length of the sequence data column\n",
    "Text_Sequence_df['num']=Text_Sequence_df.reset_index().index\n",
    "Text_Sequence_df.reset_index(drop=True, inplace=True)\n",
    "\n",
    "Text_Sequence_df.head(2)\n",
    "indices = Text_Sequence_df['num']\n",
    "indices.head()\n",
    "indices.shape"
   ]
  },
  {
   "cell_type": "code",
   "execution_count": 85,
   "metadata": {},
   "outputs": [
    {
     "data": {
      "text/html": [
       "<div>\n",
       "<style scoped>\n",
       "    .dataframe tbody tr th:only-of-type {\n",
       "        vertical-align: middle;\n",
       "    }\n",
       "\n",
       "    .dataframe tbody tr th {\n",
       "        vertical-align: top;\n",
       "    }\n",
       "\n",
       "    .dataframe thead th {\n",
       "        text-align: right;\n",
       "    }\n",
       "</style>\n",
       "<table border=\"1\" class=\"dataframe\">\n",
       "  <thead>\n",
       "    <tr style=\"text-align: right;\">\n",
       "      <th></th>\n",
       "      <th>Account_Number</th>\n",
       "      <th>ATTRITION_FLAG</th>\n",
       "    </tr>\n",
       "  </thead>\n",
       "  <tbody>\n",
       "    <tr>\n",
       "      <th>0</th>\n",
       "      <td>MAFF_ACCT_0000002125</td>\n",
       "      <td>OPEN</td>\n",
       "    </tr>\n",
       "  </tbody>\n",
       "</table>\n",
       "</div>"
      ],
      "text/plain": [
       "         Account_Number ATTRITION_FLAG\n",
       "0  MAFF_ACCT_0000002125           OPEN"
      ]
     },
     "execution_count": 85,
     "metadata": {},
     "output_type": "execute_result"
    },
    {
     "data": {
      "text/html": [
       "<div>\n",
       "<style scoped>\n",
       "    .dataframe tbody tr th:only-of-type {\n",
       "        vertical-align: middle;\n",
       "    }\n",
       "\n",
       "    .dataframe tbody tr th {\n",
       "        vertical-align: top;\n",
       "    }\n",
       "\n",
       "    .dataframe thead th {\n",
       "        text-align: right;\n",
       "    }\n",
       "</style>\n",
       "<table border=\"1\" class=\"dataframe\">\n",
       "  <thead>\n",
       "    <tr style=\"text-align: right;\">\n",
       "      <th></th>\n",
       "      <th>Account_Number</th>\n",
       "      <th>CleanText</th>\n",
       "      <th>num</th>\n",
       "    </tr>\n",
       "  </thead>\n",
       "  <tbody>\n",
       "    <tr>\n",
       "      <th>0</th>\n",
       "      <td>MAFF_ACCT_0000002125</td>\n",
       "      <td>MAFFACCT transaction enquiry none none none no...</td>\n",
       "      <td>0</td>\n",
       "    </tr>\n",
       "  </tbody>\n",
       "</table>\n",
       "</div>"
      ],
      "text/plain": [
       "         Account_Number                                          CleanText  \\\n",
       "0  MAFF_ACCT_0000002125  MAFFACCT transaction enquiry none none none no...   \n",
       "\n",
       "   num  \n",
       "0    0  "
      ]
     },
     "execution_count": 85,
     "metadata": {},
     "output_type": "execute_result"
    }
   ],
   "source": [
    "Labels.head(1)\n",
    "Text_Sequence_df.head(1)"
   ]
  },
  {
   "cell_type": "code",
   "execution_count": 86,
   "metadata": {},
   "outputs": [
    {
     "data": {
      "text/plain": [
       "(42700, 3)"
      ]
     },
     "execution_count": 86,
     "metadata": {},
     "output_type": "execute_result"
    },
    {
     "data": {
      "text/html": [
       "<div>\n",
       "<style scoped>\n",
       "    .dataframe tbody tr th:only-of-type {\n",
       "        vertical-align: middle;\n",
       "    }\n",
       "\n",
       "    .dataframe tbody tr th {\n",
       "        vertical-align: top;\n",
       "    }\n",
       "\n",
       "    .dataframe thead th {\n",
       "        text-align: right;\n",
       "    }\n",
       "</style>\n",
       "<table border=\"1\" class=\"dataframe\">\n",
       "  <thead>\n",
       "    <tr style=\"text-align: right;\">\n",
       "      <th></th>\n",
       "      <th>Account_Number</th>\n",
       "      <th>CleanText</th>\n",
       "      <th>num</th>\n",
       "    </tr>\n",
       "  </thead>\n",
       "  <tbody>\n",
       "    <tr>\n",
       "      <th>0</th>\n",
       "      <td>MAFF_ACCT_0000054355</td>\n",
       "      <td>MAFFACCT none none none none none none none no...</td>\n",
       "      <td>33589</td>\n",
       "    </tr>\n",
       "    <tr>\n",
       "      <th>1</th>\n",
       "      <td>MAFF_ACCT_0000061220</td>\n",
       "      <td>MAFFACCT none none none none none none none no...</td>\n",
       "      <td>39390</td>\n",
       "    </tr>\n",
       "  </tbody>\n",
       "</table>\n",
       "</div>"
      ],
      "text/plain": [
       "         Account_Number                                          CleanText  \\\n",
       "0  MAFF_ACCT_0000054355  MAFFACCT none none none none none none none no...   \n",
       "1  MAFF_ACCT_0000061220  MAFFACCT none none none none none none none no...   \n",
       "\n",
       "     num  \n",
       "0  33589  \n",
       "1  39390  "
      ]
     },
     "execution_count": 86,
     "metadata": {},
     "output_type": "execute_result"
    },
    {
     "data": {
      "text/plain": [
       "(42700, 2)"
      ]
     },
     "execution_count": 86,
     "metadata": {},
     "output_type": "execute_result"
    },
    {
     "data": {
      "text/html": [
       "<div>\n",
       "<style scoped>\n",
       "    .dataframe tbody tr th:only-of-type {\n",
       "        vertical-align: middle;\n",
       "    }\n",
       "\n",
       "    .dataframe tbody tr th {\n",
       "        vertical-align: top;\n",
       "    }\n",
       "\n",
       "    .dataframe thead th {\n",
       "        text-align: right;\n",
       "    }\n",
       "</style>\n",
       "<table border=\"1\" class=\"dataframe\">\n",
       "  <thead>\n",
       "    <tr style=\"text-align: right;\">\n",
       "      <th></th>\n",
       "      <th>Account_Number</th>\n",
       "      <th>ATTRITION_FLAG</th>\n",
       "    </tr>\n",
       "  </thead>\n",
       "  <tbody>\n",
       "    <tr>\n",
       "      <th>0</th>\n",
       "      <td>MAFF_ACCT_0000054355</td>\n",
       "      <td>OPEN</td>\n",
       "    </tr>\n",
       "    <tr>\n",
       "      <th>1</th>\n",
       "      <td>MAFF_ACCT_0000061220</td>\n",
       "      <td>OPEN</td>\n",
       "    </tr>\n",
       "  </tbody>\n",
       "</table>\n",
       "</div>"
      ],
      "text/plain": [
       "         Account_Number ATTRITION_FLAG\n",
       "0  MAFF_ACCT_0000054355           OPEN\n",
       "1  MAFF_ACCT_0000061220           OPEN"
      ]
     },
     "execution_count": 86,
     "metadata": {},
     "output_type": "execute_result"
    },
    {
     "data": {
      "text/plain": [
       "(21498, 3)"
      ]
     },
     "execution_count": 86,
     "metadata": {},
     "output_type": "execute_result"
    },
    {
     "data": {
      "text/html": [
       "<div>\n",
       "<style scoped>\n",
       "    .dataframe tbody tr th:only-of-type {\n",
       "        vertical-align: middle;\n",
       "    }\n",
       "\n",
       "    .dataframe tbody tr th {\n",
       "        vertical-align: top;\n",
       "    }\n",
       "\n",
       "    .dataframe thead th {\n",
       "        text-align: right;\n",
       "    }\n",
       "</style>\n",
       "<table border=\"1\" class=\"dataframe\">\n",
       "  <thead>\n",
       "    <tr style=\"text-align: right;\">\n",
       "      <th></th>\n",
       "      <th>Account_Number</th>\n",
       "      <th>CleanText</th>\n",
       "      <th>num</th>\n",
       "    </tr>\n",
       "  </thead>\n",
       "  <tbody>\n",
       "    <tr>\n",
       "      <th>0</th>\n",
       "      <td>MAFF_ACCT_0000171653</td>\n",
       "      <td>MAFFACCT none none none none none none none no...</td>\n",
       "      <td>61527</td>\n",
       "    </tr>\n",
       "    <tr>\n",
       "      <th>1</th>\n",
       "      <td>MAFF_ACCT_0000052384</td>\n",
       "      <td>MAFFACCT none none none none none none none no...</td>\n",
       "      <td>31980</td>\n",
       "    </tr>\n",
       "  </tbody>\n",
       "</table>\n",
       "</div>"
      ],
      "text/plain": [
       "         Account_Number                                          CleanText  \\\n",
       "0  MAFF_ACCT_0000171653  MAFFACCT none none none none none none none no...   \n",
       "1  MAFF_ACCT_0000052384  MAFFACCT none none none none none none none no...   \n",
       "\n",
       "     num  \n",
       "0  61527  \n",
       "1  31980  "
      ]
     },
     "execution_count": 86,
     "metadata": {},
     "output_type": "execute_result"
    },
    {
     "data": {
      "text/plain": [
       "(21498, 2)"
      ]
     },
     "execution_count": 86,
     "metadata": {},
     "output_type": "execute_result"
    },
    {
     "data": {
      "text/html": [
       "<div>\n",
       "<style scoped>\n",
       "    .dataframe tbody tr th:only-of-type {\n",
       "        vertical-align: middle;\n",
       "    }\n",
       "\n",
       "    .dataframe tbody tr th {\n",
       "        vertical-align: top;\n",
       "    }\n",
       "\n",
       "    .dataframe thead th {\n",
       "        text-align: right;\n",
       "    }\n",
       "</style>\n",
       "<table border=\"1\" class=\"dataframe\">\n",
       "  <thead>\n",
       "    <tr style=\"text-align: right;\">\n",
       "      <th></th>\n",
       "      <th>Account_Number</th>\n",
       "      <th>ATTRITION_FLAG</th>\n",
       "    </tr>\n",
       "  </thead>\n",
       "  <tbody>\n",
       "    <tr>\n",
       "      <th>0</th>\n",
       "      <td>MAFF_ACCT_0000171653</td>\n",
       "      <td>OPEN</td>\n",
       "    </tr>\n",
       "    <tr>\n",
       "      <th>1</th>\n",
       "      <td>MAFF_ACCT_0000052384</td>\n",
       "      <td>VOLUNTARY</td>\n",
       "    </tr>\n",
       "  </tbody>\n",
       "</table>\n",
       "</div>"
      ],
      "text/plain": [
       "         Account_Number ATTRITION_FLAG\n",
       "0  MAFF_ACCT_0000171653           OPEN\n",
       "1  MAFF_ACCT_0000052384      VOLUNTARY"
      ]
     },
     "execution_count": 86,
     "metadata": {},
     "output_type": "execute_result"
    },
    {
     "data": {
      "text/plain": [
       "OPEN         38582\n",
       "VOLUNTARY     4118\n",
       "Name: ATTRITION_FLAG, dtype: int64"
      ]
     },
     "execution_count": 86,
     "metadata": {},
     "output_type": "execute_result"
    }
   ],
   "source": [
    "#Split data into validation and train sets based on master sample index, merge to text sequence data.\n",
    "data_train = pd.merge(index_train, Text_Sequence_df, how='inner', left_on=['Account_Number'],  right_on = ['Account_Number'])\n",
    "data_train.shape\n",
    "data_train.head(2)\n",
    "\n",
    "Labels_train = pd.merge(index_train, Labels, how='inner', left_on=['Account_Number'],  right_on = ['Account_Number'])\n",
    "Labels_train.shape\n",
    "Labels_train.head(2)\n",
    "\n",
    "data_val = pd.merge(index_val, Text_Sequence_df, how='inner', left_on=['Account_Number'], right_on = ['Account_Number'])\n",
    "data_val.shape\n",
    "data_val.head(2)\n",
    "\n",
    "Labels_val = pd.merge(index_val, Labels, how='inner', left_on=['Account_Number'],  right_on = ['Account_Number'])\n",
    "Labels_val.shape\n",
    "Labels_val.head(2)\n",
    "\n",
    "Labels_train_df = Labels_train\n",
    "Labels_val_df = Labels_val\n",
    "Labels_train_df['ATTRITION_FLAG'].value_counts()"
   ]
  },
  {
   "cell_type": "markdown",
   "metadata": {},
   "source": [
    "### Create numpy array of index values\n",
    "- input df: `data_train['num']`, `data_val['num']`\n",
    "- output np.ndarray : `train_sampling_index1`, `val_sampling_index1`"
   ]
  },
  {
   "cell_type": "markdown",
   "metadata": {},
   "source": [
    "### Create `X_Train`, `X_Val` numpy arrays for 1DCNN"
   ]
  },
  {
   "cell_type": "code",
   "execution_count": 87,
   "metadata": {},
   "outputs": [
    {
     "data": {
      "text/plain": [
       "numpy.ndarray"
      ]
     },
     "execution_count": 87,
     "metadata": {},
     "output_type": "execute_result"
    },
    {
     "data": {
      "text/plain": [
       "numpy.ndarray"
      ]
     },
     "execution_count": 87,
     "metadata": {},
     "output_type": "execute_result"
    }
   ],
   "source": [
    "Train_index = data_train['num']\n",
    "Val_index = data_val['num']\n",
    "Train_index = Train_index.values\n",
    "Val_index = Val_index.values\n",
    "\n",
    "type(Train_index)\n",
    "type(Val_index)\n"
   ]
  },
  {
   "cell_type": "code",
   "execution_count": 88,
   "metadata": {},
   "outputs": [
    {
     "data": {
      "text/plain": [
       "numpy.ndarray"
      ]
     },
     "execution_count": 88,
     "metadata": {},
     "output_type": "execute_result"
    },
    {
     "data": {
      "text/plain": [
       "numpy.ndarray"
      ]
     },
     "execution_count": 88,
     "metadata": {},
     "output_type": "execute_result"
    },
    {
     "data": {
      "text/plain": [
       "(42700, 1500)"
      ]
     },
     "execution_count": 88,
     "metadata": {},
     "output_type": "execute_result"
    },
    {
     "data": {
      "text/plain": [
       "(21498, 1500)"
      ]
     },
     "execution_count": 88,
     "metadata": {},
     "output_type": "execute_result"
    }
   ],
   "source": [
    "data_train = data[Train_index]\n",
    "data_val = data[Val_index]\n",
    "X_train = data_train\n",
    "X_val = data_val\n",
    "type(X_train)\n",
    "type(X_val)\n",
    "X_train.shape\n",
    "X_val.shape"
   ]
  },
  {
   "cell_type": "markdown",
   "metadata": {},
   "source": [
    "### Create `y_Train`, `y_Val` categorical numpy arrays for labels"
   ]
  },
  {
   "cell_type": "code",
   "execution_count": 89,
   "metadata": {},
   "outputs": [
    {
     "data": {
      "text/plain": [
       "(21498, 2)"
      ]
     },
     "execution_count": 89,
     "metadata": {},
     "output_type": "execute_result"
    },
    {
     "data": {
      "text/plain": [
       "pandas.core.frame.DataFrame"
      ]
     },
     "execution_count": 89,
     "metadata": {},
     "output_type": "execute_result"
    },
    {
     "data": {
      "text/plain": [
       "(42700, 2)"
      ]
     },
     "execution_count": 89,
     "metadata": {},
     "output_type": "execute_result"
    },
    {
     "data": {
      "text/plain": [
       "pandas.core.frame.DataFrame"
      ]
     },
     "execution_count": 89,
     "metadata": {},
     "output_type": "execute_result"
    },
    {
     "data": {
      "text/plain": [
       "OPEN         38582\n",
       "VOLUNTARY     4118\n",
       "Name: ATTRITION_FLAG, dtype: int64"
      ]
     },
     "execution_count": 89,
     "metadata": {},
     "output_type": "execute_result"
    }
   ],
   "source": [
    "Labels_val.shape\n",
    "type(Labels_val)\n",
    "\n",
    "Labels_train.shape\n",
    "type(Labels_train)\n",
    "\n",
    "Labels_train['ATTRITION_FLAG'].value_counts()"
   ]
  },
  {
   "cell_type": "markdown",
   "metadata": {},
   "source": [
    "### Convert Attrition Flag to Integer"
   ]
  },
  {
   "cell_type": "code",
   "execution_count": 90,
   "metadata": {},
   "outputs": [
    {
     "data": {
      "text/html": [
       "<div>\n",
       "<style scoped>\n",
       "    .dataframe tbody tr th:only-of-type {\n",
       "        vertical-align: middle;\n",
       "    }\n",
       "\n",
       "    .dataframe tbody tr th {\n",
       "        vertical-align: top;\n",
       "    }\n",
       "\n",
       "    .dataframe thead th {\n",
       "        text-align: right;\n",
       "    }\n",
       "</style>\n",
       "<table border=\"1\" class=\"dataframe\">\n",
       "  <thead>\n",
       "    <tr style=\"text-align: right;\">\n",
       "      <th></th>\n",
       "      <th>Account_Number</th>\n",
       "      <th>ATTRITION_FLAG</th>\n",
       "    </tr>\n",
       "  </thead>\n",
       "  <tbody>\n",
       "    <tr>\n",
       "      <th>0</th>\n",
       "      <td>MAFF_ACCT_0000054355</td>\n",
       "      <td>OPEN</td>\n",
       "    </tr>\n",
       "    <tr>\n",
       "      <th>1</th>\n",
       "      <td>MAFF_ACCT_0000061220</td>\n",
       "      <td>OPEN</td>\n",
       "    </tr>\n",
       "  </tbody>\n",
       "</table>\n",
       "</div>"
      ],
      "text/plain": [
       "         Account_Number ATTRITION_FLAG\n",
       "0  MAFF_ACCT_0000054355           OPEN\n",
       "1  MAFF_ACCT_0000061220           OPEN"
      ]
     },
     "execution_count": 90,
     "metadata": {},
     "output_type": "execute_result"
    },
    {
     "data": {
      "text/plain": [
       "0    38582\n",
       "1     4118\n",
       "Name: ATTRITION_FLAG, dtype: int64"
      ]
     },
     "execution_count": 90,
     "metadata": {},
     "output_type": "execute_result"
    },
    {
     "data": {
      "text/plain": [
       "(42700, 2)"
      ]
     },
     "execution_count": 90,
     "metadata": {},
     "output_type": "execute_result"
    },
    {
     "data": {
      "text/plain": [
       "(21498, 2)"
      ]
     },
     "execution_count": 90,
     "metadata": {},
     "output_type": "execute_result"
    },
    {
     "name": "stdout",
     "output_type": "stream",
     "text": [
      "labels_index {0: 0, 1: 1}\n"
     ]
    }
   ],
   "source": [
    "Labels_train.head(2)\n",
    "Labels_train['ATTRITION_FLAG'] = np.where(Labels_train['ATTRITION_FLAG']=='OPEN', 0, 1)\n",
    "Labels_val['ATTRITION_FLAG'] = np.where(Labels_val['ATTRITION_FLAG']=='OPEN', 0, 1)\n",
    "\n",
    "Labels_train['ATTRITION_FLAG'].value_counts()\n",
    "\n",
    "Labels_train=Labels_train[['ATTRITION_FLAG']]\n",
    "Labels_val=Labels_val[['ATTRITION_FLAG']]\n",
    "\n",
    "#Convert Labels to Categorical\n",
    "y_train  = Labels_train.values\n",
    "y_val  = Labels_val.values\n",
    "\n",
    "y_train = to_categorical(np.asarray(y_train))\n",
    "y_val = to_categorical(np.asarray(y_val))\n",
    "\n",
    "y_train.shape\n",
    "y_val.shape\n",
    "\n",
    "labels_index = {}\n",
    "labels_index =  {0:0,1:1}\n",
    "print('labels_index', labels_index)"
   ]
  },
  {
   "cell_type": "code",
   "execution_count": null,
   "metadata": {
    "collapsed": true
   },
   "outputs": [],
   "source": []
  },
  {
   "cell_type": "markdown",
   "metadata": {},
   "source": [
    "### Load Word Embeddings"
   ]
  },
  {
   "cell_type": "code",
   "execution_count": 91,
   "metadata": {
    "collapsed": true
   },
   "outputs": [],
   "source": [
    "#load in word vectors from glove reference global English data set\n",
    "# https://nlp.stanford.edu/projects/glove/\n",
    "\n",
    "embeddings_index = {}\n",
    "words = pd.read_table(PATH_GLOVE + 'glove.6B.300d.txt', sep=\" \", header=None, quoting=csv.QUOTE_NONE)"
   ]
  },
  {
   "cell_type": "code",
   "execution_count": 92,
   "metadata": {},
   "outputs": [
    {
     "name": "stdout",
     "output_type": "stream",
     "text": [
      "shape of glove model (400000, 301)\n"
     ]
    }
   ],
   "source": [
    "#words.head(5)\n",
    "print('shape of glove model', words.shape)"
   ]
  },
  {
   "cell_type": "code",
   "execution_count": 93,
   "metadata": {},
   "outputs": [
    {
     "name": "stdout",
     "output_type": "stream",
     "text": [
      "wordkeys type of file <class 'pandas.core.series.Series'>\n"
     ]
    }
   ],
   "source": [
    "wordkeys=words.iloc[:,0]\n",
    "print('wordkeys type of file', type(wordkeys))\n",
    "words2 = words.rename(columns={ words.columns[0]: \"words\" })"
   ]
  },
  {
   "cell_type": "markdown",
   "metadata": {},
   "source": [
    "### Build Embedding Index for our Word Index from Glove Embeddings"
   ]
  },
  {
   "cell_type": "code",
   "execution_count": 94,
   "metadata": {},
   "outputs": [
    {
     "name": "stderr",
     "output_type": "stream",
     "text": [
      "C:\\Anaconda\\lib\\site-packages\\ipykernel\\__main__.py:1: UserWarning: DataFrame columns are not unique, some columns will be omitted.\n",
      "  if __name__ == '__main__':\n"
     ]
    },
    {
     "name": "stdout",
     "output_type": "stream",
     "text": [
      "Found 399998 word vectors.\n"
     ]
    }
   ],
   "source": [
    "embeddings_index = words2.set_index('words').T.to_dict('list')\n",
    "print('Found {} word vectors.'.format(len(embeddings_index)))"
   ]
  },
  {
   "cell_type": "code",
   "execution_count": 95,
   "metadata": {},
   "outputs": [
    {
     "name": "stdout",
     "output_type": "stream",
     "text": [
      "Building Embedding Matrix...\n",
      "Embedding Matrix Built\n"
     ]
    }
   ],
   "source": [
    "#################################\n",
    "#Build the embedding matrix\n",
    "#################################\n",
    "\n",
    "print('Building Embedding Matrix...')\n",
    "embedding_matrix = np.zeros((len(word_index) + 1, EMBEDDING_DIM))\n",
    "\n",
    "for word, i in word_index.items():\n",
    "    embedding_vector = embeddings_index.get(word)\n",
    "    if embedding_vector is not None:\n",
    "        # words not found in embedding index will be all-zeros.\n",
    "        embedding_matrix[i] = embedding_vector\n",
    "\n",
    "embedding_layer = Embedding(len(word_index) + 1,\n",
    "                            EMBEDDING_DIM,\n",
    "                            weights=[embedding_matrix],\n",
    "                            input_length=MAX_SEQUENCE_LENGTH,\n",
    "                            trainable=False)\n",
    "\n",
    "print('Embedding Matrix Built')"
   ]
  },
  {
   "cell_type": "markdown",
   "metadata": {},
   "source": [
    "### Write out a Copy of Data and Labels for Multi-Input Model\n",
    "\n",
    "### `X_val_cnn`, `y_val_cnn`, `X_train_cnn`, `y_train_cnn`"
   ]
  },
  {
   "cell_type": "code",
   "execution_count": 96,
   "metadata": {
    "collapsed": true,
    "scrolled": true
   },
   "outputs": [],
   "source": [
    "X_val_cnn = X_val\n",
    "y_val_cnn = y_val\n",
    "X_train_cnn = X_train\n",
    "y_train_cnn = y_train"
   ]
  },
  {
   "cell_type": "code",
   "execution_count": 97,
   "metadata": {},
   "outputs": [
    {
     "data": {
      "text/plain": [
       "(21498, 1500)"
      ]
     },
     "execution_count": 97,
     "metadata": {},
     "output_type": "execute_result"
    },
    {
     "data": {
      "text/plain": [
       "(21498, 2)"
      ]
     },
     "execution_count": 97,
     "metadata": {},
     "output_type": "execute_result"
    },
    {
     "data": {
      "text/plain": [
       "(42700, 1500)"
      ]
     },
     "execution_count": 97,
     "metadata": {},
     "output_type": "execute_result"
    },
    {
     "data": {
      "text/plain": [
       "(42700, 2)"
      ]
     },
     "execution_count": 97,
     "metadata": {},
     "output_type": "execute_result"
    }
   ],
   "source": [
    "X_val_cnn.shape\n",
    "y_val_cnn.shape\n",
    "X_train_cnn.shape\n",
    "y_train_cnn.shape"
   ]
  },
  {
   "cell_type": "markdown",
   "metadata": {},
   "source": [
    "### Create class weighting"
   ]
  },
  {
   "cell_type": "markdown",
   "metadata": {},
   "source": [
    "### Saving data to files\n"
   ]
  },
  {
   "cell_type": "code",
   "execution_count": 98,
   "metadata": {
    "collapsed": true
   },
   "outputs": [],
   "source": [
    "#save a copy of 1DCNN Sequence Data to the Local Drive\n",
    "os.chdir('D://MAFData')\n",
    "         \n",
    "np.savetxt('Source__X_val_1DCNN.tsv', X_val_cnn, delimiter='\\t',  encoding='utf-8')\n",
    "np.savetxt('Source__X_train_1DCNN.tsv', X_train_cnn, delimiter='\\t',  encoding='utf-8')\n",
    "np.savetxt('Source__y_val.tsv', X_val_cnn, delimiter='\\t',  encoding='utf-8')\n",
    "np.savetxt('Source__y_train.tsv', X_train_cnn, delimiter='\\t',  encoding='utf-8')\n",
    "\n"
   ]
  },
  {
   "cell_type": "markdown",
   "metadata": {},
   "source": [
    "## 4. Build Models"
   ]
  },
  {
   "cell_type": "markdown",
   "metadata": {},
   "source": [
    "### 4.1 1D CNN"
   ]
  },
  {
   "cell_type": "markdown",
   "metadata": {},
   "source": [
    "### Design a 1D Convolutional Neural Net"
   ]
  },
  {
   "cell_type": "code",
   "execution_count": 99,
   "metadata": {},
   "outputs": [
    {
     "name": "stdout",
     "output_type": "stream",
     "text": [
      "Train 1D Convnet with global maxpooling\n",
      "Shape of training data sample tensor:  (42700, 1500)\n",
      "Shape of training label tensor:  (42700, 2)\n"
     ]
    },
    {
     "data": {
      "text/plain": [
       "TensorShape([Dimension(None), Dimension(1500)])"
      ]
     },
     "execution_count": 99,
     "metadata": {},
     "output_type": "execute_result"
    },
    {
     "name": "stdout",
     "output_type": "stream",
     "text": [
      "WARNING:tensorflow:From C:\\Anaconda\\lib\\site-packages\\tensorflow\\python\\util\\deprecation.py:497: calling conv1d (from tensorflow.python.ops.nn_ops) with data_format=NHWC is deprecated and will be removed in a future version.\n",
      "Instructions for updating:\n",
      "`NHWC` for data_format is deprecated, use `NWC` instead\n",
      "_________________________________________________________________\n",
      "Layer (type)                 Output Shape              Param #   \n",
      "=================================================================\n",
      "input_1 (InputLayer)         (None, 1500)              0         \n",
      "_________________________________________________________________\n",
      "embedding_1 (Embedding)      (None, 1500, 300)         88200     \n",
      "_________________________________________________________________\n",
      "conv1d_1 (Conv1D)            (None, 1493, 128)         307328    \n",
      "_________________________________________________________________\n",
      "max_pooling1d_1 (MaxPooling1 (None, 298, 128)          0         \n",
      "_________________________________________________________________\n",
      "dropout_1 (Dropout)          (None, 298, 128)          0         \n",
      "_________________________________________________________________\n",
      "conv1d_2 (Conv1D)            (None, 283, 128)          262272    \n",
      "_________________________________________________________________\n",
      "max_pooling1d_2 (MaxPooling1 (None, 56, 128)           0         \n",
      "_________________________________________________________________\n",
      "dropout_2 (Dropout)          (None, 56, 128)           0         \n",
      "_________________________________________________________________\n",
      "conv1d_3 (Conv1D)            (None, 41, 128)           262272    \n",
      "_________________________________________________________________\n",
      "max_pooling1d_3 (MaxPooling1 (None, 1, 128)            0         \n",
      "_________________________________________________________________\n",
      "flatten_1 (Flatten)          (None, 128)               0         \n",
      "_________________________________________________________________\n",
      "dense_1 (Dense)              (None, 120)               15480     \n",
      "_________________________________________________________________\n",
      "dropout_3 (Dropout)          (None, 120)               0         \n",
      "_________________________________________________________________\n",
      "dense_2 (Dense)              (None, 2)                 242       \n",
      "=================================================================\n",
      "Total params: 935,794\n",
      "Trainable params: 847,594\n",
      "Non-trainable params: 88,200\n",
      "_________________________________________________________________\n"
     ]
    },
    {
     "data": {
      "image/svg+xml": [
       "<svg height=\"994pt\" viewBox=\"0.00 0.00 217.00 994.00\" width=\"217pt\" xmlns=\"http://www.w3.org/2000/svg\" xmlns:xlink=\"http://www.w3.org/1999/xlink\">\n",
       "<g class=\"graph\" id=\"graph0\" transform=\"scale(1 1) rotate(0) translate(4 990)\">\n",
       "<title>G</title>\n",
       "<polygon fill=\"white\" points=\"-4,4 -4,-990 213,-990 213,4 -4,4\" stroke=\"none\"/>\n",
       "<!-- 2123166727696 -->\n",
       "<g class=\"node\" id=\"node1\"><title>2123166727696</title>\n",
       "<polygon fill=\"none\" points=\"41.5,-949.5 41.5,-985.5 167.5,-985.5 167.5,-949.5 41.5,-949.5\" stroke=\"black\"/>\n",
       "<text font-family=\"Times New Roman,serif\" font-size=\"14.00\" text-anchor=\"middle\" x=\"104.5\" y=\"-963.8\">input_1: InputLayer</text>\n",
       "</g>\n",
       "<!-- 2122022700536 -->\n",
       "<g class=\"node\" id=\"node2\"><title>2122022700536</title>\n",
       "<polygon fill=\"none\" points=\"23,-876.5 23,-912.5 186,-912.5 186,-876.5 23,-876.5\" stroke=\"black\"/>\n",
       "<text font-family=\"Times New Roman,serif\" font-size=\"14.00\" text-anchor=\"middle\" x=\"104.5\" y=\"-890.8\">embedding_1: Embedding</text>\n",
       "</g>\n",
       "<!-- 2123166727696&#45;&gt;2122022700536 -->\n",
       "<g class=\"edge\" id=\"edge1\"><title>2123166727696-&gt;2122022700536</title>\n",
       "<path d=\"M104.5,-949.313C104.5,-941.289 104.5,-931.547 104.5,-922.569\" fill=\"none\" stroke=\"black\"/>\n",
       "<polygon fill=\"black\" points=\"108,-922.529 104.5,-912.529 101,-922.529 108,-922.529\" stroke=\"black\"/>\n",
       "</g>\n",
       "<!-- 2123166727640 -->\n",
       "<g class=\"node\" id=\"node3\"><title>2123166727640</title>\n",
       "<polygon fill=\"none\" points=\"41,-803.5 41,-839.5 168,-839.5 168,-803.5 41,-803.5\" stroke=\"black\"/>\n",
       "<text font-family=\"Times New Roman,serif\" font-size=\"14.00\" text-anchor=\"middle\" x=\"104.5\" y=\"-817.8\">conv1d_1: Conv1D</text>\n",
       "</g>\n",
       "<!-- 2122022700536&#45;&gt;2123166727640 -->\n",
       "<g class=\"edge\" id=\"edge2\"><title>2122022700536-&gt;2123166727640</title>\n",
       "<path d=\"M104.5,-876.313C104.5,-868.289 104.5,-858.547 104.5,-849.569\" fill=\"none\" stroke=\"black\"/>\n",
       "<polygon fill=\"black\" points=\"108,-849.529 104.5,-839.529 101,-849.529 108,-849.529\" stroke=\"black\"/>\n",
       "</g>\n",
       "<!-- 2131080089384 -->\n",
       "<g class=\"node\" id=\"node4\"><title>2131080089384</title>\n",
       "<polygon fill=\"none\" points=\"0,-730.5 0,-766.5 209,-766.5 209,-730.5 0,-730.5\" stroke=\"black\"/>\n",
       "<text font-family=\"Times New Roman,serif\" font-size=\"14.00\" text-anchor=\"middle\" x=\"104.5\" y=\"-744.8\">max_pooling1d_1: MaxPooling1D</text>\n",
       "</g>\n",
       "<!-- 2123166727640&#45;&gt;2131080089384 -->\n",
       "<g class=\"edge\" id=\"edge3\"><title>2123166727640-&gt;2131080089384</title>\n",
       "<path d=\"M104.5,-803.313C104.5,-795.289 104.5,-785.547 104.5,-776.569\" fill=\"none\" stroke=\"black\"/>\n",
       "<polygon fill=\"black\" points=\"108,-776.529 104.5,-766.529 101,-776.529 108,-776.529\" stroke=\"black\"/>\n",
       "</g>\n",
       "<!-- 2123166679224 -->\n",
       "<g class=\"node\" id=\"node5\"><title>2123166679224</title>\n",
       "<polygon fill=\"none\" points=\"39.5,-657.5 39.5,-693.5 169.5,-693.5 169.5,-657.5 39.5,-657.5\" stroke=\"black\"/>\n",
       "<text font-family=\"Times New Roman,serif\" font-size=\"14.00\" text-anchor=\"middle\" x=\"104.5\" y=\"-671.8\">dropout_1: Dropout</text>\n",
       "</g>\n",
       "<!-- 2131080089384&#45;&gt;2123166679224 -->\n",
       "<g class=\"edge\" id=\"edge4\"><title>2131080089384-&gt;2123166679224</title>\n",
       "<path d=\"M104.5,-730.313C104.5,-722.289 104.5,-712.547 104.5,-703.569\" fill=\"none\" stroke=\"black\"/>\n",
       "<polygon fill=\"black\" points=\"108,-703.529 104.5,-693.529 101,-703.529 108,-703.529\" stroke=\"black\"/>\n",
       "</g>\n",
       "<!-- 2122196769200 -->\n",
       "<g class=\"node\" id=\"node6\"><title>2122196769200</title>\n",
       "<polygon fill=\"none\" points=\"41,-584.5 41,-620.5 168,-620.5 168,-584.5 41,-584.5\" stroke=\"black\"/>\n",
       "<text font-family=\"Times New Roman,serif\" font-size=\"14.00\" text-anchor=\"middle\" x=\"104.5\" y=\"-598.8\">conv1d_2: Conv1D</text>\n",
       "</g>\n",
       "<!-- 2123166679224&#45;&gt;2122196769200 -->\n",
       "<g class=\"edge\" id=\"edge5\"><title>2123166679224-&gt;2122196769200</title>\n",
       "<path d=\"M104.5,-657.313C104.5,-649.289 104.5,-639.547 104.5,-630.569\" fill=\"none\" stroke=\"black\"/>\n",
       "<polygon fill=\"black\" points=\"108,-630.529 104.5,-620.529 101,-630.529 108,-630.529\" stroke=\"black\"/>\n",
       "</g>\n",
       "<!-- 2131080086472 -->\n",
       "<g class=\"node\" id=\"node7\"><title>2131080086472</title>\n",
       "<polygon fill=\"none\" points=\"0,-511.5 0,-547.5 209,-547.5 209,-511.5 0,-511.5\" stroke=\"black\"/>\n",
       "<text font-family=\"Times New Roman,serif\" font-size=\"14.00\" text-anchor=\"middle\" x=\"104.5\" y=\"-525.8\">max_pooling1d_2: MaxPooling1D</text>\n",
       "</g>\n",
       "<!-- 2122196769200&#45;&gt;2131080086472 -->\n",
       "<g class=\"edge\" id=\"edge6\"><title>2122196769200-&gt;2131080086472</title>\n",
       "<path d=\"M104.5,-584.313C104.5,-576.289 104.5,-566.547 104.5,-557.569\" fill=\"none\" stroke=\"black\"/>\n",
       "<polygon fill=\"black\" points=\"108,-557.529 104.5,-547.529 101,-557.529 108,-557.529\" stroke=\"black\"/>\n",
       "</g>\n",
       "<!-- 2131080908984 -->\n",
       "<g class=\"node\" id=\"node8\"><title>2131080908984</title>\n",
       "<polygon fill=\"none\" points=\"39.5,-438.5 39.5,-474.5 169.5,-474.5 169.5,-438.5 39.5,-438.5\" stroke=\"black\"/>\n",
       "<text font-family=\"Times New Roman,serif\" font-size=\"14.00\" text-anchor=\"middle\" x=\"104.5\" y=\"-452.8\">dropout_2: Dropout</text>\n",
       "</g>\n",
       "<!-- 2131080086472&#45;&gt;2131080908984 -->\n",
       "<g class=\"edge\" id=\"edge7\"><title>2131080086472-&gt;2131080908984</title>\n",
       "<path d=\"M104.5,-511.313C104.5,-503.289 104.5,-493.547 104.5,-484.569\" fill=\"none\" stroke=\"black\"/>\n",
       "<polygon fill=\"black\" points=\"108,-484.529 104.5,-474.529 101,-484.529 108,-484.529\" stroke=\"black\"/>\n",
       "</g>\n",
       "<!-- 2131081155416 -->\n",
       "<g class=\"node\" id=\"node9\"><title>2131081155416</title>\n",
       "<polygon fill=\"none\" points=\"41,-365.5 41,-401.5 168,-401.5 168,-365.5 41,-365.5\" stroke=\"black\"/>\n",
       "<text font-family=\"Times New Roman,serif\" font-size=\"14.00\" text-anchor=\"middle\" x=\"104.5\" y=\"-379.8\">conv1d_3: Conv1D</text>\n",
       "</g>\n",
       "<!-- 2131080908984&#45;&gt;2131081155416 -->\n",
       "<g class=\"edge\" id=\"edge8\"><title>2131080908984-&gt;2131081155416</title>\n",
       "<path d=\"M104.5,-438.313C104.5,-430.289 104.5,-420.547 104.5,-411.569\" fill=\"none\" stroke=\"black\"/>\n",
       "<polygon fill=\"black\" points=\"108,-411.529 104.5,-401.529 101,-411.529 108,-411.529\" stroke=\"black\"/>\n",
       "</g>\n",
       "<!-- 2131080071712 -->\n",
       "<g class=\"node\" id=\"node10\"><title>2131080071712</title>\n",
       "<polygon fill=\"none\" points=\"0,-292.5 0,-328.5 209,-328.5 209,-292.5 0,-292.5\" stroke=\"black\"/>\n",
       "<text font-family=\"Times New Roman,serif\" font-size=\"14.00\" text-anchor=\"middle\" x=\"104.5\" y=\"-306.8\">max_pooling1d_3: MaxPooling1D</text>\n",
       "</g>\n",
       "<!-- 2131081155416&#45;&gt;2131080071712 -->\n",
       "<g class=\"edge\" id=\"edge9\"><title>2131081155416-&gt;2131080071712</title>\n",
       "<path d=\"M104.5,-365.313C104.5,-357.289 104.5,-347.547 104.5,-338.569\" fill=\"none\" stroke=\"black\"/>\n",
       "<polygon fill=\"black\" points=\"108,-338.529 104.5,-328.529 101,-338.529 108,-338.529\" stroke=\"black\"/>\n",
       "</g>\n",
       "<!-- 2131081332216 -->\n",
       "<g class=\"node\" id=\"node11\"><title>2131081332216</title>\n",
       "<polygon fill=\"none\" points=\"50,-219.5 50,-255.5 159,-255.5 159,-219.5 50,-219.5\" stroke=\"black\"/>\n",
       "<text font-family=\"Times New Roman,serif\" font-size=\"14.00\" text-anchor=\"middle\" x=\"104.5\" y=\"-233.8\">flatten_1: Flatten</text>\n",
       "</g>\n",
       "<!-- 2131080071712&#45;&gt;2131081332216 -->\n",
       "<g class=\"edge\" id=\"edge10\"><title>2131080071712-&gt;2131081332216</title>\n",
       "<path d=\"M104.5,-292.313C104.5,-284.289 104.5,-274.547 104.5,-265.569\" fill=\"none\" stroke=\"black\"/>\n",
       "<polygon fill=\"black\" points=\"108,-265.529 104.5,-255.529 101,-265.529 108,-265.529\" stroke=\"black\"/>\n",
       "</g>\n",
       "<!-- 2131081521136 -->\n",
       "<g class=\"node\" id=\"node12\"><title>2131081521136</title>\n",
       "<polygon fill=\"none\" points=\"52.5,-146.5 52.5,-182.5 156.5,-182.5 156.5,-146.5 52.5,-146.5\" stroke=\"black\"/>\n",
       "<text font-family=\"Times New Roman,serif\" font-size=\"14.00\" text-anchor=\"middle\" x=\"104.5\" y=\"-160.8\">dense_1: Dense</text>\n",
       "</g>\n",
       "<!-- 2131081332216&#45;&gt;2131081521136 -->\n",
       "<g class=\"edge\" id=\"edge11\"><title>2131081332216-&gt;2131081521136</title>\n",
       "<path d=\"M104.5,-219.313C104.5,-211.289 104.5,-201.547 104.5,-192.569\" fill=\"none\" stroke=\"black\"/>\n",
       "<polygon fill=\"black\" points=\"108,-192.529 104.5,-182.529 101,-192.529 108,-192.529\" stroke=\"black\"/>\n",
       "</g>\n",
       "<!-- 2131081523152 -->\n",
       "<g class=\"node\" id=\"node13\"><title>2131081523152</title>\n",
       "<polygon fill=\"none\" points=\"39.5,-73.5 39.5,-109.5 169.5,-109.5 169.5,-73.5 39.5,-73.5\" stroke=\"black\"/>\n",
       "<text font-family=\"Times New Roman,serif\" font-size=\"14.00\" text-anchor=\"middle\" x=\"104.5\" y=\"-87.8\">dropout_3: Dropout</text>\n",
       "</g>\n",
       "<!-- 2131081521136&#45;&gt;2131081523152 -->\n",
       "<g class=\"edge\" id=\"edge12\"><title>2131081521136-&gt;2131081523152</title>\n",
       "<path d=\"M104.5,-146.313C104.5,-138.289 104.5,-128.547 104.5,-119.569\" fill=\"none\" stroke=\"black\"/>\n",
       "<polygon fill=\"black\" points=\"108,-119.529 104.5,-109.529 101,-119.529 108,-119.529\" stroke=\"black\"/>\n",
       "</g>\n",
       "<!-- 2131081792760 -->\n",
       "<g class=\"node\" id=\"node14\"><title>2131081792760</title>\n",
       "<polygon fill=\"none\" points=\"52.5,-0.5 52.5,-36.5 156.5,-36.5 156.5,-0.5 52.5,-0.5\" stroke=\"black\"/>\n",
       "<text font-family=\"Times New Roman,serif\" font-size=\"14.00\" text-anchor=\"middle\" x=\"104.5\" y=\"-14.8\">dense_2: Dense</text>\n",
       "</g>\n",
       "<!-- 2131081523152&#45;&gt;2131081792760 -->\n",
       "<g class=\"edge\" id=\"edge13\"><title>2131081523152-&gt;2131081792760</title>\n",
       "<path d=\"M104.5,-73.3129C104.5,-65.2895 104.5,-55.5475 104.5,-46.5691\" fill=\"none\" stroke=\"black\"/>\n",
       "<polygon fill=\"black\" points=\"108,-46.5288 104.5,-36.5288 101,-46.5289 108,-46.5288\" stroke=\"black\"/>\n",
       "</g>\n",
       "</g>\n",
       "</svg>"
      ],
      "text/plain": [
       "<IPython.core.display.SVG object>"
      ]
     },
     "execution_count": 99,
     "metadata": {},
     "output_type": "execute_result"
    }
   ],
   "source": [
    "#Set Dropout Rates\n",
    "DROPOUT_RATE = 0.5\n",
    "INNERLAYER_DROPOUT_RATE = 0.2\n",
    "\n",
    "print('Train 1D Convnet with global maxpooling')\n",
    "print('Shape of training data sample tensor: ', X_train_cnn.shape)\n",
    "print('Shape of training label tensor: ', y_train_cnn.shape)\n",
    "\n",
    "sequence_input = Input(shape=(MAX_SEQUENCE_LENGTH,), dtype='int32')\n",
    "sequence_input.shape\n",
    "\n",
    "embedded_sequences = embedding_layer(sequence_input)\n",
    "\n",
    "x = Conv1D(128, 8, activation='relu', kernel_initializer='glorot_uniform',use_bias=True)(embedded_sequences)\n",
    "x = MaxPooling1D(5)(x)\n",
    "x = Dropout(INNERLAYER_DROPOUT_RATE)(x)\n",
    "\n",
    "x = Conv1D(128, 16, activation='relu', kernel_initializer='glorot_uniform',use_bias=True)(x)\n",
    "x = MaxPooling1D(5)(x)\n",
    "x = Dropout(INNERLAYER_DROPOUT_RATE)(x)\n",
    "\n",
    "x = Conv1D(128, 16, activation='relu', kernel_initializer='glorot_uniform',use_bias=True)(x)\n",
    "x = MaxPooling1D(35)(x)  # global max pooling\n",
    "\n",
    "x = Flatten()(x) \n",
    "\n",
    "x = Dense(120,use_bias=True,kernel_initializer='glorot_uniform')(x) \n",
    "x = Dropout(DROPOUT_RATE)(x)\n",
    "\n",
    "preds = Dense(len(labels_index),activation='sigmoid')(x) #no initialization in output layer\n",
    "model = Model(sequence_input, preds)\n",
    "\n",
    "model.summary()\n",
    "\n",
    "from IPython.display import SVG\n",
    "from keras.utils.vis_utils import model_to_dot\n",
    "\n",
    "SVG(model_to_dot(model).create(prog='dot', format='svg'))"
   ]
  },
  {
   "cell_type": "markdown",
   "metadata": {},
   "source": [
    "### Compile the Model"
   ]
  },
  {
   "cell_type": "code",
   "execution_count": 100,
   "metadata": {
    "collapsed": true
   },
   "outputs": [],
   "source": [
    "from keras.callbacks import History \n",
    "\n",
    "LEARNING_RATE = .00001 \n",
    "\n",
    "adam = optimizers.Adam(lr=LEARNING_RATE, beta_1=0.9, beta_2=0.999, epsilon=1e-08, decay=0.0, clipnorm = .5)\n",
    "rmsprop = optimizers.RMSprop(lr=LEARNING_RATE, rho=0.9, epsilon=1e-08, decay=0.00, clipnorm = .5)\n",
    "\n",
    "model.compile(loss='binary_crossentropy', optimizer= adam, metrics=['accuracy'])\n",
    "\n",
    "#early_stopping = EarlyStopping(monitor='val_loss', patience=5)"
   ]
  },
  {
   "cell_type": "markdown",
   "metadata": {},
   "source": [
    "### Fit 1D CNN Model"
   ]
  },
  {
   "cell_type": "code",
   "execution_count": 101,
   "metadata": {
    "scrolled": false
   },
   "outputs": [
    {
     "name": "stdout",
     "output_type": "stream",
     "text": [
      "Train on 42700 samples, validate on 21498 samples\n",
      "Epoch 1/2\n",
      " - 97s - loss: 1.2966 - acc: 0.3313 - val_loss: 0.7066 - val_acc: 0.1278\n",
      "Epoch 2/2\n",
      " - 90s - loss: 1.2928 - acc: 0.3306 - val_loss: 0.7038 - val_acc: 0.2271\n",
      "dict_keys(['val_loss', 'val_acc', 'loss', 'acc'])\n"
     ]
    }
   ],
   "source": [
    "cnn_model_path = PATH_MODEL_DELETE + 'Multiple_Input_Model_Best_Run_1DCNN_Nov5.h5'\n",
    "# Define global variables \n",
    "\n",
    "BATCH_SIZE = 800\n",
    "class_weight = {0 : 1., \n",
    "                1: 10}\n",
    "\n",
    "history = History()\n",
    "\n",
    "history = model.fit(X_train_cnn, y_train_cnn, batch_size=BATCH_SIZE, epochs=2, verbose=2, \n",
    "                    validation_split=0, \n",
    "                    validation_data=(X_val_cnn, y_val_cnn),  \n",
    "                    class_weight = class_weight, \n",
    "                    \n",
    "\n",
    "callbacks = [keras.callbacks.EarlyStopping(monitor='val_loss', min_delta=0, patience=40, verbose=1, mode='min'),\n",
    "             keras.callbacks.ModelCheckpoint(cnn_model_path,monitor='val_loss', save_best_only=True, mode='min')])\n",
    "\n",
    "print(history.history.keys())"
   ]
  },
  {
   "cell_type": "code",
   "execution_count": 102,
   "metadata": {},
   "outputs": [
    {
     "data": {
      "text/plain": [
       "<Figure size 432x288 with 0 Axes>"
      ]
     },
     "execution_count": 102,
     "metadata": {},
     "output_type": "execute_result"
    },
    {
     "data": {
      "text/plain": [
       "<matplotlib.axes._subplots.AxesSubplot at 0x1eea2cb8748>"
      ]
     },
     "execution_count": 102,
     "metadata": {},
     "output_type": "execute_result"
    },
    {
     "data": {
      "text/plain": [
       "[<matplotlib.lines.Line2D at 0x1f02e883550>]"
      ]
     },
     "execution_count": 102,
     "metadata": {},
     "output_type": "execute_result"
    },
    {
     "data": {
      "text/plain": [
       "[<matplotlib.lines.Line2D at 0x1f02e858c50>]"
      ]
     },
     "execution_count": 102,
     "metadata": {},
     "output_type": "execute_result"
    },
    {
     "data": {
      "text/plain": [
       "Text(0.5, 1.0, 'model accuracy')"
      ]
     },
     "execution_count": 102,
     "metadata": {},
     "output_type": "execute_result"
    },
    {
     "data": {
      "text/plain": [
       "Text(0, 0.5, 'accuracy')"
      ]
     },
     "execution_count": 102,
     "metadata": {},
     "output_type": "execute_result"
    },
    {
     "data": {
      "text/plain": [
       "Text(0.5, 0, 'epoch')"
      ]
     },
     "execution_count": 102,
     "metadata": {},
     "output_type": "execute_result"
    },
    {
     "data": {
      "text/plain": [
       "<matplotlib.legend.Legend at 0x1f02e883cc0>"
      ]
     },
     "execution_count": 102,
     "metadata": {},
     "output_type": "execute_result"
    },
    {
     "data": {
      "text/plain": [
       "<matplotlib.axes._subplots.AxesSubplot at 0x1f02e8735f8>"
      ]
     },
     "execution_count": 102,
     "metadata": {},
     "output_type": "execute_result"
    },
    {
     "data": {
      "text/plain": [
       "[<matplotlib.lines.Line2D at 0x1eea2c33a20>]"
      ]
     },
     "execution_count": 102,
     "metadata": {},
     "output_type": "execute_result"
    },
    {
     "data": {
      "text/plain": [
       "[<matplotlib.lines.Line2D at 0x1f02e88e470>]"
      ]
     },
     "execution_count": 102,
     "metadata": {},
     "output_type": "execute_result"
    },
    {
     "data": {
      "text/plain": [
       "Text(0.5, 1.0, 'model loss')"
      ]
     },
     "execution_count": 102,
     "metadata": {},
     "output_type": "execute_result"
    },
    {
     "data": {
      "text/plain": [
       "Text(0, 0.5, 'loss')"
      ]
     },
     "execution_count": 102,
     "metadata": {},
     "output_type": "execute_result"
    },
    {
     "data": {
      "text/plain": [
       "Text(0.5, 0, 'epoch')"
      ]
     },
     "execution_count": 102,
     "metadata": {},
     "output_type": "execute_result"
    },
    {
     "data": {
      "text/plain": [
       "<matplotlib.legend.Legend at 0x1eea2c33ef0>"
      ]
     },
     "execution_count": 102,
     "metadata": {},
     "output_type": "execute_result"
    },
    {
     "data": {
      "image/png": "[encoded data removed]",
      "text/plain": [
       "<Figure size 432x288 with 2 Axes>"
      ]
     },
     "metadata": {},
     "output_type": "display_data"
    }
   ],
   "source": [
    "InteractiveShell.ast_node_interactivity = \"none\"\n",
    "\n",
    "import matplotlib.pyplot as plt  \n",
    "plt.figure(1)  \n",
    "\n",
    "# summarize history for accuracy  \n",
    "plt.subplot(211)  \n",
    "plt.plot(history.history['acc'])  \n",
    "plt.plot(history.history['val_acc'])  \n",
    "plt.title('model accuracy')  \n",
    "plt.ylabel('accuracy')  \n",
    "plt.xlabel('epoch')  \n",
    "plt.legend(['train', 'test'], loc='upper left')  \n",
    "   \n",
    "# summarize history for loss  \n",
    "plt.subplot(212)  \n",
    "plt.plot(history.history['loss'])  \n",
    "plt.plot(history.history['val_loss'])  \n",
    "plt.title('model loss')  \n",
    "plt.ylabel('loss')  \n",
    "plt.xlabel('epoch')  \n",
    "plt.legend(['train', 'test'], loc='upper left')  \n",
    "plt.show()  "
   ]
  },
  {
   "cell_type": "code",
   "execution_count": null,
   "metadata": {
    "collapsed": true
   },
   "outputs": [],
   "source": []
  },
  {
   "cell_type": "markdown",
   "metadata": {},
   "source": [
    "## 4.2 Build RNN Model on Numerical Sequential Dataframe"
   ]
  },
  {
   "cell_type": "markdown",
   "metadata": {},
   "source": [
    "### Read in Numerical Data Source"
   ]
  },
  {
   "cell_type": "code",
   "execution_count": 103,
   "metadata": {
    "collapsed": true
   },
   "outputs": [],
   "source": [
    "with open(PATH + 'df_Numerical.pkl', 'rb') as f:\n",
    "    Numerical_df = pickle.load(f)\n",
    "    \n",
    "Numerical_df.shape\n",
    "Numerical_df.head(1)"
   ]
  },
  {
   "cell_type": "markdown",
   "metadata": {},
   "source": [
    "### Filter Numerical Data Source to Variables of Interest"
   ]
  },
  {
   "cell_type": "code",
   "execution_count": 104,
   "metadata": {
    "collapsed": true
   },
   "outputs": [],
   "source": [
    "InteractiveShell.ast_node_interactivity = \"all\""
   ]
  },
  {
   "cell_type": "code",
   "execution_count": 105,
   "metadata": {
    "scrolled": true
   },
   "outputs": [
    {
     "data": {
      "text/plain": [
       "(9408644, 49)"
      ]
     },
     "execution_count": 105,
     "metadata": {},
     "output_type": "execute_result"
    }
   ],
   "source": [
    "Numerical_df.shape\n"
   ]
  },
  {
   "cell_type": "markdown",
   "metadata": {},
   "source": [
    "### Filter to Columns of Interest"
   ]
  },
  {
   "cell_type": "code",
   "execution_count": 106,
   "metadata": {
    "collapsed": true
   },
   "outputs": [],
   "source": [
    "Numerical_df.drop(columns=['MISDATE','Timestep'], inplace=True)"
   ]
  },
  {
   "cell_type": "code",
   "execution_count": 107,
   "metadata": {},
   "outputs": [
    {
     "data": {
      "text/plain": [
       "(9408644, 47)"
      ]
     },
     "execution_count": 107,
     "metadata": {},
     "output_type": "execute_result"
    }
   ],
   "source": [
    "Numerical_df.shape"
   ]
  },
  {
   "cell_type": "code",
   "execution_count": 108,
   "metadata": {},
   "outputs": [
    {
     "data": {
      "text/plain": [
       "81109.0"
      ]
     },
     "execution_count": 108,
     "metadata": {},
     "output_type": "execute_result"
    }
   ],
   "source": [
    "len(Numerical_df)/116\n",
    "Num_bak = Numerical_df"
   ]
  },
  {
   "cell_type": "markdown",
   "metadata": {},
   "source": [
    "### Read in and Merge Numerical Dataframe with Attrition Labels and Double Check Distributions"
   ]
  },
  {
   "cell_type": "code",
   "execution_count": 109,
   "metadata": {},
   "outputs": [
    {
     "data": {
      "text/plain": [
       "(42700, 2)"
      ]
     },
     "execution_count": 109,
     "metadata": {},
     "output_type": "execute_result"
    },
    {
     "data": {
      "text/plain": [
       "(21498, 2)"
      ]
     },
     "execution_count": 109,
     "metadata": {},
     "output_type": "execute_result"
    },
    {
     "data": {
      "text/html": [
       "<div>\n",
       "<style scoped>\n",
       "    .dataframe tbody tr th:only-of-type {\n",
       "        vertical-align: middle;\n",
       "    }\n",
       "\n",
       "    .dataframe tbody tr th {\n",
       "        vertical-align: top;\n",
       "    }\n",
       "\n",
       "    .dataframe thead th {\n",
       "        text-align: right;\n",
       "    }\n",
       "</style>\n",
       "<table border=\"1\" class=\"dataframe\">\n",
       "  <thead>\n",
       "    <tr style=\"text-align: right;\">\n",
       "      <th></th>\n",
       "      <th>Account_Number</th>\n",
       "      <th>ATTRITION_FLAG</th>\n",
       "    </tr>\n",
       "  </thead>\n",
       "  <tbody>\n",
       "    <tr>\n",
       "      <th>0</th>\n",
       "      <td>MAFF_ACCT_0000054355</td>\n",
       "      <td>0</td>\n",
       "    </tr>\n",
       "  </tbody>\n",
       "</table>\n",
       "</div>"
      ],
      "text/plain": [
       "         Account_Number  ATTRITION_FLAG\n",
       "0  MAFF_ACCT_0000054355               0"
      ]
     },
     "execution_count": 109,
     "metadata": {},
     "output_type": "execute_result"
    },
    {
     "data": {
      "text/html": [
       "<div>\n",
       "<style scoped>\n",
       "    .dataframe tbody tr th:only-of-type {\n",
       "        vertical-align: middle;\n",
       "    }\n",
       "\n",
       "    .dataframe tbody tr th {\n",
       "        vertical-align: top;\n",
       "    }\n",
       "\n",
       "    .dataframe thead th {\n",
       "        text-align: right;\n",
       "    }\n",
       "</style>\n",
       "<table border=\"1\" class=\"dataframe\">\n",
       "  <thead>\n",
       "    <tr style=\"text-align: right;\">\n",
       "      <th></th>\n",
       "      <th>Account_Number</th>\n",
       "      <th>ATTRITION_FLAG</th>\n",
       "    </tr>\n",
       "  </thead>\n",
       "  <tbody>\n",
       "    <tr>\n",
       "      <th>0</th>\n",
       "      <td>MAFF_ACCT_0000002125</td>\n",
       "      <td>OPEN</td>\n",
       "    </tr>\n",
       "  </tbody>\n",
       "</table>\n",
       "</div>"
      ],
      "text/plain": [
       "         Account_Number ATTRITION_FLAG\n",
       "0  MAFF_ACCT_0000002125           OPEN"
      ]
     },
     "execution_count": 109,
     "metadata": {},
     "output_type": "execute_result"
    },
    {
     "data": {
      "text/plain": [
       "(81109, 2)"
      ]
     },
     "execution_count": 109,
     "metadata": {},
     "output_type": "execute_result"
    }
   ],
   "source": [
    "Labels_train_df.shape\n",
    "Labels_val_df.shape\n",
    "Labels_train_df.head(1)\n",
    "Labels2 = Labels_train_df.append(Labels_val_df)\n",
    "\n",
    "Labels.head(1)\n",
    "Labels.shape\n"
   ]
  },
  {
   "cell_type": "code",
   "execution_count": 110,
   "metadata": {
    "collapsed": true
   },
   "outputs": [],
   "source": [
    "Numerical_df1 = pd.merge(Numerical_df, Labels,  \n",
    "                        how='left', left_on='Account_Number', right_on='Account_Number')"
   ]
  },
  {
   "cell_type": "code",
   "execution_count": 111,
   "metadata": {},
   "outputs": [
    {
     "data": {
      "text/plain": [
       "(9408644, 48)"
      ]
     },
     "execution_count": 111,
     "metadata": {},
     "output_type": "execute_result"
    },
    {
     "data": {
      "text/plain": [
       "OPEN         8614972\n",
       "VOLUNTARY     793672\n",
       "Name: ATTRITION_FLAG, dtype: int64"
      ]
     },
     "execution_count": 111,
     "metadata": {},
     "output_type": "execute_result"
    },
    {
     "data": {
      "text/html": [
       "<div>\n",
       "<style scoped>\n",
       "    .dataframe tbody tr th:only-of-type {\n",
       "        vertical-align: middle;\n",
       "    }\n",
       "\n",
       "    .dataframe tbody tr th {\n",
       "        vertical-align: top;\n",
       "    }\n",
       "\n",
       "    .dataframe thead th {\n",
       "        text-align: right;\n",
       "    }\n",
       "</style>\n",
       "<table border=\"1\" class=\"dataframe\">\n",
       "  <thead>\n",
       "    <tr style=\"text-align: right;\">\n",
       "      <th></th>\n",
       "      <th>Account_Number</th>\n",
       "      <th>ACTUAL_CURRENT_BALANCE</th>\n",
       "      <th>Credit_Limit</th>\n",
       "      <th>Last_Statement_Closing_Balance</th>\n",
       "      <th>Last_Statement_Minimum_Due</th>\n",
       "      <th>Monthly_Salary</th>\n",
       "      <th>Monthly_Salary</th>\n",
       "      <th>Months_On_Book</th>\n",
       "      <th>No_Of_Due_Stmt</th>\n",
       "      <th>Days_On_Book</th>\n",
       "      <th>...</th>\n",
       "      <th>Tranasaction_Count_LOP</th>\n",
       "      <th>Tranasaction_Count_EPP</th>\n",
       "      <th>Tranasaction_Count_Violation_Fee</th>\n",
       "      <th>Balance_Gradient_window_14</th>\n",
       "      <th>Balance_Gradient_window_28</th>\n",
       "      <th>Balance_Gradient_window_74</th>\n",
       "      <th>Perc_Used_Gradient_window_14</th>\n",
       "      <th>Perc_Used_Gradient_window_28</th>\n",
       "      <th>Perc_Used_Gradient_window_74</th>\n",
       "      <th>ATTRITION_FLAG</th>\n",
       "    </tr>\n",
       "  </thead>\n",
       "  <tbody>\n",
       "    <tr>\n",
       "      <th>0</th>\n",
       "      <td>MAFF_ACCT_0000002125</td>\n",
       "      <td>6474</td>\n",
       "      <td>18000</td>\n",
       "      <td>4490</td>\n",
       "      <td>224</td>\n",
       "      <td>9000</td>\n",
       "      <td>9000</td>\n",
       "      <td>59</td>\n",
       "      <td>0</td>\n",
       "      <td>1774</td>\n",
       "      <td>...</td>\n",
       "      <td>0</td>\n",
       "      <td>0</td>\n",
       "      <td>0</td>\n",
       "      <td>0.0</td>\n",
       "      <td>0.0</td>\n",
       "      <td>0.0</td>\n",
       "      <td>0.0</td>\n",
       "      <td>0.0</td>\n",
       "      <td>0.0</td>\n",
       "      <td>OPEN</td>\n",
       "    </tr>\n",
       "    <tr>\n",
       "      <th>1</th>\n",
       "      <td>MAFF_ACCT_0000002125</td>\n",
       "      <td>6474</td>\n",
       "      <td>18000</td>\n",
       "      <td>4490</td>\n",
       "      <td>224</td>\n",
       "      <td>9000</td>\n",
       "      <td>9000</td>\n",
       "      <td>59</td>\n",
       "      <td>0</td>\n",
       "      <td>1773</td>\n",
       "      <td>...</td>\n",
       "      <td>0</td>\n",
       "      <td>2</td>\n",
       "      <td>0</td>\n",
       "      <td>0.0</td>\n",
       "      <td>0.0</td>\n",
       "      <td>0.0</td>\n",
       "      <td>0.0</td>\n",
       "      <td>0.0</td>\n",
       "      <td>0.0</td>\n",
       "      <td>OPEN</td>\n",
       "    </tr>\n",
       "    <tr>\n",
       "      <th>2</th>\n",
       "      <td>MAFF_ACCT_0000002125</td>\n",
       "      <td>6474</td>\n",
       "      <td>18000</td>\n",
       "      <td>4490</td>\n",
       "      <td>224</td>\n",
       "      <td>9000</td>\n",
       "      <td>9000</td>\n",
       "      <td>58</td>\n",
       "      <td>0</td>\n",
       "      <td>1772</td>\n",
       "      <td>...</td>\n",
       "      <td>0</td>\n",
       "      <td>0</td>\n",
       "      <td>0</td>\n",
       "      <td>0.0</td>\n",
       "      <td>0.0</td>\n",
       "      <td>0.0</td>\n",
       "      <td>0.0</td>\n",
       "      <td>0.0</td>\n",
       "      <td>0.0</td>\n",
       "      <td>OPEN</td>\n",
       "    </tr>\n",
       "    <tr>\n",
       "      <th>3</th>\n",
       "      <td>MAFF_ACCT_0000002125</td>\n",
       "      <td>6314</td>\n",
       "      <td>18000</td>\n",
       "      <td>4490</td>\n",
       "      <td>224</td>\n",
       "      <td>9000</td>\n",
       "      <td>9000</td>\n",
       "      <td>58</td>\n",
       "      <td>0</td>\n",
       "      <td>1771</td>\n",
       "      <td>...</td>\n",
       "      <td>0</td>\n",
       "      <td>0</td>\n",
       "      <td>0</td>\n",
       "      <td>0.0</td>\n",
       "      <td>0.0</td>\n",
       "      <td>0.0</td>\n",
       "      <td>0.0</td>\n",
       "      <td>0.0</td>\n",
       "      <td>0.0</td>\n",
       "      <td>OPEN</td>\n",
       "    </tr>\n",
       "    <tr>\n",
       "      <th>4</th>\n",
       "      <td>MAFF_ACCT_0000002125</td>\n",
       "      <td>6182</td>\n",
       "      <td>18000</td>\n",
       "      <td>4490</td>\n",
       "      <td>224</td>\n",
       "      <td>9000</td>\n",
       "      <td>9000</td>\n",
       "      <td>58</td>\n",
       "      <td>0</td>\n",
       "      <td>1770</td>\n",
       "      <td>...</td>\n",
       "      <td>0</td>\n",
       "      <td>0</td>\n",
       "      <td>0</td>\n",
       "      <td>0.0</td>\n",
       "      <td>0.0</td>\n",
       "      <td>0.0</td>\n",
       "      <td>0.0</td>\n",
       "      <td>0.0</td>\n",
       "      <td>0.0</td>\n",
       "      <td>OPEN</td>\n",
       "    </tr>\n",
       "  </tbody>\n",
       "</table>\n",
       "<p>5 rows × 48 columns</p>\n",
       "</div>"
      ],
      "text/plain": [
       "         Account_Number  ACTUAL_CURRENT_BALANCE  Credit_Limit  \\\n",
       "0  MAFF_ACCT_0000002125                    6474         18000   \n",
       "1  MAFF_ACCT_0000002125                    6474         18000   \n",
       "2  MAFF_ACCT_0000002125                    6474         18000   \n",
       "3  MAFF_ACCT_0000002125                    6314         18000   \n",
       "4  MAFF_ACCT_0000002125                    6182         18000   \n",
       "\n",
       "   Last_Statement_Closing_Balance  Last_Statement_Minimum_Due  Monthly_Salary  \\\n",
       "0                            4490                         224            9000   \n",
       "1                            4490                         224            9000   \n",
       "2                            4490                         224            9000   \n",
       "3                            4490                         224            9000   \n",
       "4                            4490                         224            9000   \n",
       "\n",
       "   Monthly_Salary  Months_On_Book No_Of_Due_Stmt  Days_On_Book  \\\n",
       "0            9000              59              0          1774   \n",
       "1            9000              59              0          1773   \n",
       "2            9000              58              0          1772   \n",
       "3            9000              58              0          1771   \n",
       "4            9000              58              0          1770   \n",
       "\n",
       "        ...        Tranasaction_Count_LOP  Tranasaction_Count_EPP  \\\n",
       "0       ...                             0                       0   \n",
       "1       ...                             0                       2   \n",
       "2       ...                             0                       0   \n",
       "3       ...                             0                       0   \n",
       "4       ...                             0                       0   \n",
       "\n",
       "   Tranasaction_Count_Violation_Fee  Balance_Gradient_window_14  \\\n",
       "0                                 0                         0.0   \n",
       "1                                 0                         0.0   \n",
       "2                                 0                         0.0   \n",
       "3                                 0                         0.0   \n",
       "4                                 0                         0.0   \n",
       "\n",
       "   Balance_Gradient_window_28  Balance_Gradient_window_74  \\\n",
       "0                         0.0                         0.0   \n",
       "1                         0.0                         0.0   \n",
       "2                         0.0                         0.0   \n",
       "3                         0.0                         0.0   \n",
       "4                         0.0                         0.0   \n",
       "\n",
       "   Perc_Used_Gradient_window_14  Perc_Used_Gradient_window_28  \\\n",
       "0                           0.0                           0.0   \n",
       "1                           0.0                           0.0   \n",
       "2                           0.0                           0.0   \n",
       "3                           0.0                           0.0   \n",
       "4                           0.0                           0.0   \n",
       "\n",
       "   Perc_Used_Gradient_window_74  ATTRITION_FLAG  \n",
       "0                           0.0            OPEN  \n",
       "1                           0.0            OPEN  \n",
       "2                           0.0            OPEN  \n",
       "3                           0.0            OPEN  \n",
       "4                           0.0            OPEN  \n",
       "\n",
       "[5 rows x 48 columns]"
      ]
     },
     "execution_count": 111,
     "metadata": {},
     "output_type": "execute_result"
    }
   ],
   "source": [
    "del Numerical_df\n",
    "Numerical_df1.shape\n",
    "Numerical_df1['ATTRITION_FLAG'].value_counts()\n",
    "Numerical_df1.head()"
   ]
  },
  {
   "cell_type": "markdown",
   "metadata": {},
   "source": [
    "### Create Sample Groups from Numerical Dataframe"
   ]
  },
  {
   "cell_type": "code",
   "execution_count": 112,
   "metadata": {
    "collapsed": true
   },
   "outputs": [],
   "source": [
    "Numerical_df1['Account_Number'] = Numerical_df1['Account_Number'].astype('str')\n",
    "del Numerical_df1['ATTRITION_FLAG']"
   ]
  },
  {
   "cell_type": "code",
   "execution_count": 113,
   "metadata": {},
   "outputs": [
    {
     "data": {
      "text/plain": [
       "(4953200, 48)"
      ]
     },
     "execution_count": 113,
     "metadata": {},
     "output_type": "execute_result"
    },
    {
     "data": {
      "text/plain": [
       "(2493768, 48)"
      ]
     },
     "execution_count": 113,
     "metadata": {},
     "output_type": "execute_result"
    }
   ],
   "source": [
    "#Split data into validation and train sets based on master sample index\n",
    "Numerical_train = pd.merge(Labels_train_df, Numerical_df1, how='inner',  \n",
    "                           left_on=['Account_Number'], \n",
    "                           right_on = ['Account_Number'])\n",
    "Numerical_train = Numerical_train.reset_index(drop=True)\n",
    "Numerical_train.shape\n",
    "#Numerical_train.head(1)\n",
    "\n",
    "Numerical_val = pd.merge(Labels_val_df, Numerical_df1, how='inner',  \n",
    "                            left_on=['Account_Number'], \n",
    "                           right_on = ['Account_Number'])\n",
    "Numerical_val = Numerical_val.reset_index(drop=True)\n",
    "Numerical_val.shape\n",
    "#Numerical_val.head(1)\n"
   ]
  },
  {
   "cell_type": "code",
   "execution_count": 114,
   "metadata": {},
   "outputs": [
    {
     "data": {
      "text/html": [
       "<div>\n",
       "<style scoped>\n",
       "    .dataframe tbody tr th:only-of-type {\n",
       "        vertical-align: middle;\n",
       "    }\n",
       "\n",
       "    .dataframe tbody tr th {\n",
       "        vertical-align: top;\n",
       "    }\n",
       "\n",
       "    .dataframe thead th {\n",
       "        text-align: right;\n",
       "    }\n",
       "</style>\n",
       "<table border=\"1\" class=\"dataframe\">\n",
       "  <thead>\n",
       "    <tr style=\"text-align: right;\">\n",
       "      <th></th>\n",
       "      <th>Account_Number</th>\n",
       "      <th>ATTRITION_FLAG</th>\n",
       "      <th>ACTUAL_CURRENT_BALANCE</th>\n",
       "      <th>Credit_Limit</th>\n",
       "      <th>Last_Statement_Closing_Balance</th>\n",
       "      <th>Last_Statement_Minimum_Due</th>\n",
       "      <th>Monthly_Salary</th>\n",
       "      <th>Monthly_Salary</th>\n",
       "      <th>Months_On_Book</th>\n",
       "      <th>No_Of_Due_Stmt</th>\n",
       "      <th>...</th>\n",
       "      <th>Tranasaction_Count_BT</th>\n",
       "      <th>Tranasaction_Count_LOP</th>\n",
       "      <th>Tranasaction_Count_EPP</th>\n",
       "      <th>Tranasaction_Count_Violation_Fee</th>\n",
       "      <th>Balance_Gradient_window_14</th>\n",
       "      <th>Balance_Gradient_window_28</th>\n",
       "      <th>Balance_Gradient_window_74</th>\n",
       "      <th>Perc_Used_Gradient_window_14</th>\n",
       "      <th>Perc_Used_Gradient_window_28</th>\n",
       "      <th>Perc_Used_Gradient_window_74</th>\n",
       "    </tr>\n",
       "  </thead>\n",
       "  <tbody>\n",
       "    <tr>\n",
       "      <th>0</th>\n",
       "      <td>MAFF_ACCT_0000054355</td>\n",
       "      <td>0</td>\n",
       "      <td>5900</td>\n",
       "      <td>5000</td>\n",
       "      <td>5899</td>\n",
       "      <td>1247</td>\n",
       "      <td>5000</td>\n",
       "      <td>5000</td>\n",
       "      <td>14</td>\n",
       "      <td>0</td>\n",
       "      <td>...</td>\n",
       "      <td>0</td>\n",
       "      <td>0</td>\n",
       "      <td>0</td>\n",
       "      <td>0</td>\n",
       "      <td>421.57143</td>\n",
       "      <td>171.85714</td>\n",
       "      <td>79.82432</td>\n",
       "      <td>0.08429</td>\n",
       "      <td>0.03429</td>\n",
       "      <td>0.01595</td>\n",
       "    </tr>\n",
       "    <tr>\n",
       "      <th>1</th>\n",
       "      <td>MAFF_ACCT_0000054355</td>\n",
       "      <td>0</td>\n",
       "      <td>5900</td>\n",
       "      <td>5000</td>\n",
       "      <td>5899</td>\n",
       "      <td>1247</td>\n",
       "      <td>5000</td>\n",
       "      <td>5000</td>\n",
       "      <td>14</td>\n",
       "      <td>0</td>\n",
       "      <td>...</td>\n",
       "      <td>0</td>\n",
       "      <td>0</td>\n",
       "      <td>0</td>\n",
       "      <td>0</td>\n",
       "      <td>411.57143</td>\n",
       "      <td>167.03571</td>\n",
       "      <td>77.93243</td>\n",
       "      <td>0.08214</td>\n",
       "      <td>0.03321</td>\n",
       "      <td>0.01554</td>\n",
       "    </tr>\n",
       "  </tbody>\n",
       "</table>\n",
       "<p>2 rows × 48 columns</p>\n",
       "</div>"
      ],
      "text/plain": [
       "         Account_Number  ATTRITION_FLAG  ACTUAL_CURRENT_BALANCE  Credit_Limit  \\\n",
       "0  MAFF_ACCT_0000054355               0                    5900          5000   \n",
       "1  MAFF_ACCT_0000054355               0                    5900          5000   \n",
       "\n",
       "   Last_Statement_Closing_Balance  Last_Statement_Minimum_Due  Monthly_Salary  \\\n",
       "0                            5899                        1247            5000   \n",
       "1                            5899                        1247            5000   \n",
       "\n",
       "   Monthly_Salary  Months_On_Book No_Of_Due_Stmt  \\\n",
       "0            5000              14              0   \n",
       "1            5000              14              0   \n",
       "\n",
       "               ...               Tranasaction_Count_BT  \\\n",
       "0              ...                                   0   \n",
       "1              ...                                   0   \n",
       "\n",
       "   Tranasaction_Count_LOP  Tranasaction_Count_EPP  \\\n",
       "0                       0                       0   \n",
       "1                       0                       0   \n",
       "\n",
       "   Tranasaction_Count_Violation_Fee  Balance_Gradient_window_14  \\\n",
       "0                                 0                   421.57143   \n",
       "1                                 0                   411.57143   \n",
       "\n",
       "   Balance_Gradient_window_28  Balance_Gradient_window_74  \\\n",
       "0                   171.85714                    79.82432   \n",
       "1                   167.03571                    77.93243   \n",
       "\n",
       "   Perc_Used_Gradient_window_14  Perc_Used_Gradient_window_28  \\\n",
       "0                       0.08429                       0.03429   \n",
       "1                       0.08214                       0.03321   \n",
       "\n",
       "   Perc_Used_Gradient_window_74  \n",
       "0                       0.01595  \n",
       "1                       0.01554  \n",
       "\n",
       "[2 rows x 48 columns]"
      ]
     },
     "execution_count": 114,
     "metadata": {},
     "output_type": "execute_result"
    },
    {
     "data": {
      "text/html": [
       "<div>\n",
       "<style scoped>\n",
       "    .dataframe tbody tr th:only-of-type {\n",
       "        vertical-align: middle;\n",
       "    }\n",
       "\n",
       "    .dataframe tbody tr th {\n",
       "        vertical-align: top;\n",
       "    }\n",
       "\n",
       "    .dataframe thead th {\n",
       "        text-align: right;\n",
       "    }\n",
       "</style>\n",
       "<table border=\"1\" class=\"dataframe\">\n",
       "  <thead>\n",
       "    <tr style=\"text-align: right;\">\n",
       "      <th></th>\n",
       "      <th>Account_Number</th>\n",
       "      <th>ATTRITION_FLAG</th>\n",
       "      <th>ACTUAL_CURRENT_BALANCE</th>\n",
       "      <th>Credit_Limit</th>\n",
       "      <th>Last_Statement_Closing_Balance</th>\n",
       "      <th>Last_Statement_Minimum_Due</th>\n",
       "      <th>Monthly_Salary</th>\n",
       "      <th>Monthly_Salary</th>\n",
       "      <th>Months_On_Book</th>\n",
       "      <th>No_Of_Due_Stmt</th>\n",
       "      <th>...</th>\n",
       "      <th>Tranasaction_Count_BT</th>\n",
       "      <th>Tranasaction_Count_LOP</th>\n",
       "      <th>Tranasaction_Count_EPP</th>\n",
       "      <th>Tranasaction_Count_Violation_Fee</th>\n",
       "      <th>Balance_Gradient_window_14</th>\n",
       "      <th>Balance_Gradient_window_28</th>\n",
       "      <th>Balance_Gradient_window_74</th>\n",
       "      <th>Perc_Used_Gradient_window_14</th>\n",
       "      <th>Perc_Used_Gradient_window_28</th>\n",
       "      <th>Perc_Used_Gradient_window_74</th>\n",
       "    </tr>\n",
       "  </thead>\n",
       "  <tbody>\n",
       "    <tr>\n",
       "      <th>0</th>\n",
       "      <td>MAFF_ACCT_0000171653</td>\n",
       "      <td>0</td>\n",
       "      <td>4571</td>\n",
       "      <td>5000</td>\n",
       "      <td>4921</td>\n",
       "      <td>290</td>\n",
       "      <td>5000</td>\n",
       "      <td>5000</td>\n",
       "      <td>11</td>\n",
       "      <td>0</td>\n",
       "      <td>...</td>\n",
       "      <td>0</td>\n",
       "      <td>0</td>\n",
       "      <td>0</td>\n",
       "      <td>0</td>\n",
       "      <td>-686.92857</td>\n",
       "      <td>-343.46429</td>\n",
       "      <td>-142.60811</td>\n",
       "      <td>-0.01286</td>\n",
       "      <td>-0.00643</td>\n",
       "      <td>-0.00338</td>\n",
       "    </tr>\n",
       "    <tr>\n",
       "      <th>1</th>\n",
       "      <td>MAFF_ACCT_0000171653</td>\n",
       "      <td>0</td>\n",
       "      <td>4571</td>\n",
       "      <td>5000</td>\n",
       "      <td>4921</td>\n",
       "      <td>290</td>\n",
       "      <td>5000</td>\n",
       "      <td>5000</td>\n",
       "      <td>11</td>\n",
       "      <td>0</td>\n",
       "      <td>...</td>\n",
       "      <td>0</td>\n",
       "      <td>0</td>\n",
       "      <td>0</td>\n",
       "      <td>0</td>\n",
       "      <td>-686.92857</td>\n",
       "      <td>-343.46429</td>\n",
       "      <td>-142.60811</td>\n",
       "      <td>-0.01286</td>\n",
       "      <td>-0.00643</td>\n",
       "      <td>-0.00338</td>\n",
       "    </tr>\n",
       "  </tbody>\n",
       "</table>\n",
       "<p>2 rows × 48 columns</p>\n",
       "</div>"
      ],
      "text/plain": [
       "         Account_Number  ATTRITION_FLAG  ACTUAL_CURRENT_BALANCE  Credit_Limit  \\\n",
       "0  MAFF_ACCT_0000171653               0                    4571          5000   \n",
       "1  MAFF_ACCT_0000171653               0                    4571          5000   \n",
       "\n",
       "   Last_Statement_Closing_Balance  Last_Statement_Minimum_Due  Monthly_Salary  \\\n",
       "0                            4921                         290            5000   \n",
       "1                            4921                         290            5000   \n",
       "\n",
       "   Monthly_Salary  Months_On_Book No_Of_Due_Stmt  \\\n",
       "0            5000              11              0   \n",
       "1            5000              11              0   \n",
       "\n",
       "               ...               Tranasaction_Count_BT  \\\n",
       "0              ...                                   0   \n",
       "1              ...                                   0   \n",
       "\n",
       "   Tranasaction_Count_LOP  Tranasaction_Count_EPP  \\\n",
       "0                       0                       0   \n",
       "1                       0                       0   \n",
       "\n",
       "   Tranasaction_Count_Violation_Fee  Balance_Gradient_window_14  \\\n",
       "0                                 0                  -686.92857   \n",
       "1                                 0                  -686.92857   \n",
       "\n",
       "   Balance_Gradient_window_28  Balance_Gradient_window_74  \\\n",
       "0                  -343.46429                  -142.60811   \n",
       "1                  -343.46429                  -142.60811   \n",
       "\n",
       "   Perc_Used_Gradient_window_14  Perc_Used_Gradient_window_28  \\\n",
       "0                      -0.01286                      -0.00643   \n",
       "1                      -0.01286                      -0.00643   \n",
       "\n",
       "   Perc_Used_Gradient_window_74  \n",
       "0                      -0.00338  \n",
       "1                      -0.00338  \n",
       "\n",
       "[2 rows x 48 columns]"
      ]
     },
     "execution_count": 114,
     "metadata": {},
     "output_type": "execute_result"
    },
    {
     "data": {
      "text/plain": [
       "21498.0"
      ]
     },
     "execution_count": 114,
     "metadata": {},
     "output_type": "execute_result"
    },
    {
     "data": {
      "text/plain": [
       "42700.0"
      ]
     },
     "execution_count": 114,
     "metadata": {},
     "output_type": "execute_result"
    },
    {
     "data": {
      "text/plain": [
       "0    4475512\n",
       "1     477688\n",
       "Name: ATTRITION_FLAG, dtype: int64"
      ]
     },
     "execution_count": 114,
     "metadata": {},
     "output_type": "execute_result"
    },
    {
     "data": {
      "text/html": [
       "<div>\n",
       "<style scoped>\n",
       "    .dataframe tbody tr th:only-of-type {\n",
       "        vertical-align: middle;\n",
       "    }\n",
       "\n",
       "    .dataframe tbody tr th {\n",
       "        vertical-align: top;\n",
       "    }\n",
       "\n",
       "    .dataframe thead th {\n",
       "        text-align: right;\n",
       "    }\n",
       "</style>\n",
       "<table border=\"1\" class=\"dataframe\">\n",
       "  <thead>\n",
       "    <tr style=\"text-align: right;\">\n",
       "      <th></th>\n",
       "      <th>Account_Number</th>\n",
       "      <th>ATTRITION_FLAG</th>\n",
       "      <th>ACTUAL_CURRENT_BALANCE</th>\n",
       "      <th>Credit_Limit</th>\n",
       "      <th>Last_Statement_Closing_Balance</th>\n",
       "      <th>Last_Statement_Minimum_Due</th>\n",
       "      <th>Monthly_Salary</th>\n",
       "      <th>Monthly_Salary</th>\n",
       "      <th>Months_On_Book</th>\n",
       "      <th>No_Of_Due_Stmt</th>\n",
       "      <th>...</th>\n",
       "      <th>Tranasaction_Count_BT</th>\n",
       "      <th>Tranasaction_Count_LOP</th>\n",
       "      <th>Tranasaction_Count_EPP</th>\n",
       "      <th>Tranasaction_Count_Violation_Fee</th>\n",
       "      <th>Balance_Gradient_window_14</th>\n",
       "      <th>Balance_Gradient_window_28</th>\n",
       "      <th>Balance_Gradient_window_74</th>\n",
       "      <th>Perc_Used_Gradient_window_14</th>\n",
       "      <th>Perc_Used_Gradient_window_28</th>\n",
       "      <th>Perc_Used_Gradient_window_74</th>\n",
       "    </tr>\n",
       "  </thead>\n",
       "  <tbody>\n",
       "    <tr>\n",
       "      <th>0</th>\n",
       "      <td>MAFF_ACCT_0000171653</td>\n",
       "      <td>0</td>\n",
       "      <td>4571</td>\n",
       "      <td>5000</td>\n",
       "      <td>4921</td>\n",
       "      <td>290</td>\n",
       "      <td>5000</td>\n",
       "      <td>5000</td>\n",
       "      <td>11</td>\n",
       "      <td>0</td>\n",
       "      <td>...</td>\n",
       "      <td>0</td>\n",
       "      <td>0</td>\n",
       "      <td>0</td>\n",
       "      <td>0</td>\n",
       "      <td>-686.92857</td>\n",
       "      <td>-343.46429</td>\n",
       "      <td>-142.60811</td>\n",
       "      <td>-0.01286</td>\n",
       "      <td>-0.00643</td>\n",
       "      <td>-0.00338</td>\n",
       "    </tr>\n",
       "    <tr>\n",
       "      <th>1</th>\n",
       "      <td>MAFF_ACCT_0000171653</td>\n",
       "      <td>0</td>\n",
       "      <td>4571</td>\n",
       "      <td>5000</td>\n",
       "      <td>4921</td>\n",
       "      <td>290</td>\n",
       "      <td>5000</td>\n",
       "      <td>5000</td>\n",
       "      <td>11</td>\n",
       "      <td>0</td>\n",
       "      <td>...</td>\n",
       "      <td>0</td>\n",
       "      <td>0</td>\n",
       "      <td>0</td>\n",
       "      <td>0</td>\n",
       "      <td>-686.92857</td>\n",
       "      <td>-343.46429</td>\n",
       "      <td>-142.60811</td>\n",
       "      <td>-0.01286</td>\n",
       "      <td>-0.00643</td>\n",
       "      <td>-0.00338</td>\n",
       "    </tr>\n",
       "    <tr>\n",
       "      <th>2</th>\n",
       "      <td>MAFF_ACCT_0000171653</td>\n",
       "      <td>0</td>\n",
       "      <td>4571</td>\n",
       "      <td>5000</td>\n",
       "      <td>4921</td>\n",
       "      <td>290</td>\n",
       "      <td>5000</td>\n",
       "      <td>5000</td>\n",
       "      <td>11</td>\n",
       "      <td>0</td>\n",
       "      <td>...</td>\n",
       "      <td>0</td>\n",
       "      <td>0</td>\n",
       "      <td>0</td>\n",
       "      <td>0</td>\n",
       "      <td>-686.92857</td>\n",
       "      <td>-343.46429</td>\n",
       "      <td>-142.60811</td>\n",
       "      <td>-0.01286</td>\n",
       "      <td>-0.00643</td>\n",
       "      <td>-0.00338</td>\n",
       "    </tr>\n",
       "    <tr>\n",
       "      <th>3</th>\n",
       "      <td>MAFF_ACCT_0000171653</td>\n",
       "      <td>0</td>\n",
       "      <td>4571</td>\n",
       "      <td>5000</td>\n",
       "      <td>4921</td>\n",
       "      <td>290</td>\n",
       "      <td>5000</td>\n",
       "      <td>5000</td>\n",
       "      <td>11</td>\n",
       "      <td>0</td>\n",
       "      <td>...</td>\n",
       "      <td>0</td>\n",
       "      <td>0</td>\n",
       "      <td>0</td>\n",
       "      <td>0</td>\n",
       "      <td>-686.92857</td>\n",
       "      <td>-343.46429</td>\n",
       "      <td>-142.60811</td>\n",
       "      <td>-0.01286</td>\n",
       "      <td>-0.00643</td>\n",
       "      <td>-0.00338</td>\n",
       "    </tr>\n",
       "    <tr>\n",
       "      <th>4</th>\n",
       "      <td>MAFF_ACCT_0000171653</td>\n",
       "      <td>0</td>\n",
       "      <td>4571</td>\n",
       "      <td>5000</td>\n",
       "      <td>4921</td>\n",
       "      <td>290</td>\n",
       "      <td>5000</td>\n",
       "      <td>5000</td>\n",
       "      <td>11</td>\n",
       "      <td>0</td>\n",
       "      <td>...</td>\n",
       "      <td>0</td>\n",
       "      <td>0</td>\n",
       "      <td>0</td>\n",
       "      <td>0</td>\n",
       "      <td>-686.92857</td>\n",
       "      <td>-343.46429</td>\n",
       "      <td>-142.60811</td>\n",
       "      <td>-0.01286</td>\n",
       "      <td>-0.00643</td>\n",
       "      <td>-0.00338</td>\n",
       "    </tr>\n",
       "  </tbody>\n",
       "</table>\n",
       "<p>5 rows × 48 columns</p>\n",
       "</div>"
      ],
      "text/plain": [
       "         Account_Number  ATTRITION_FLAG  ACTUAL_CURRENT_BALANCE  Credit_Limit  \\\n",
       "0  MAFF_ACCT_0000171653               0                    4571          5000   \n",
       "1  MAFF_ACCT_0000171653               0                    4571          5000   \n",
       "2  MAFF_ACCT_0000171653               0                    4571          5000   \n",
       "3  MAFF_ACCT_0000171653               0                    4571          5000   \n",
       "4  MAFF_ACCT_0000171653               0                    4571          5000   \n",
       "\n",
       "   Last_Statement_Closing_Balance  Last_Statement_Minimum_Due  Monthly_Salary  \\\n",
       "0                            4921                         290            5000   \n",
       "1                            4921                         290            5000   \n",
       "2                            4921                         290            5000   \n",
       "3                            4921                         290            5000   \n",
       "4                            4921                         290            5000   \n",
       "\n",
       "   Monthly_Salary  Months_On_Book No_Of_Due_Stmt  \\\n",
       "0            5000              11              0   \n",
       "1            5000              11              0   \n",
       "2            5000              11              0   \n",
       "3            5000              11              0   \n",
       "4            5000              11              0   \n",
       "\n",
       "               ...               Tranasaction_Count_BT  \\\n",
       "0              ...                                   0   \n",
       "1              ...                                   0   \n",
       "2              ...                                   0   \n",
       "3              ...                                   0   \n",
       "4              ...                                   0   \n",
       "\n",
       "   Tranasaction_Count_LOP  Tranasaction_Count_EPP  \\\n",
       "0                       0                       0   \n",
       "1                       0                       0   \n",
       "2                       0                       0   \n",
       "3                       0                       0   \n",
       "4                       0                       0   \n",
       "\n",
       "   Tranasaction_Count_Violation_Fee  Balance_Gradient_window_14  \\\n",
       "0                                 0                  -686.92857   \n",
       "1                                 0                  -686.92857   \n",
       "2                                 0                  -686.92857   \n",
       "3                                 0                  -686.92857   \n",
       "4                                 0                  -686.92857   \n",
       "\n",
       "   Balance_Gradient_window_28  Balance_Gradient_window_74  \\\n",
       "0                  -343.46429                  -142.60811   \n",
       "1                  -343.46429                  -142.60811   \n",
       "2                  -343.46429                  -142.60811   \n",
       "3                  -343.46429                  -142.60811   \n",
       "4                  -343.46429                  -142.60811   \n",
       "\n",
       "   Perc_Used_Gradient_window_14  Perc_Used_Gradient_window_28  \\\n",
       "0                      -0.01286                      -0.00643   \n",
       "1                      -0.01286                      -0.00643   \n",
       "2                      -0.01286                      -0.00643   \n",
       "3                      -0.01286                      -0.00643   \n",
       "4                      -0.01286                      -0.00643   \n",
       "\n",
       "   Perc_Used_Gradient_window_74  \n",
       "0                      -0.00338  \n",
       "1                      -0.00338  \n",
       "2                      -0.00338  \n",
       "3                      -0.00338  \n",
       "4                      -0.00338  \n",
       "\n",
       "[5 rows x 48 columns]"
      ]
     },
     "execution_count": 114,
     "metadata": {},
     "output_type": "execute_result"
    }
   ],
   "source": [
    "Numerical_train.head(2)\n",
    "Numerical_val.head(2)\n",
    "len(Numerical_val)/116\n",
    "len(Numerical_train)/116\n",
    "\n",
    "Numerical_train['ATTRITION_FLAG'].value_counts()\n",
    "Numerical_val.head()"
   ]
  },
  {
   "cell_type": "markdown",
   "metadata": {},
   "source": [
    "### Prepare Numerical 'X' dataframe for modeling"
   ]
  },
  {
   "cell_type": "code",
   "execution_count": 115,
   "metadata": {},
   "outputs": [
    {
     "data": {
      "text/plain": [
       "(4953200, 47)"
      ]
     },
     "execution_count": 115,
     "metadata": {},
     "output_type": "execute_result"
    },
    {
     "data": {
      "text/plain": [
       "(2493768, 47)"
      ]
     },
     "execution_count": 115,
     "metadata": {},
     "output_type": "execute_result"
    }
   ],
   "source": [
    "del Numerical_train['ATTRITION_FLAG']\n",
    "del Numerical_val['ATTRITION_FLAG']\n",
    "\n",
    "Numerical_train.shape\n",
    "Numerical_val.shape"
   ]
  },
  {
   "cell_type": "code",
   "execution_count": 116,
   "metadata": {},
   "outputs": [
    {
     "data": {
      "text/plain": [
       "Index(['Account_Number', 'ACTUAL_CURRENT_BALANCE', 'Credit_Limit',\n",
       "       'Last_Statement_Closing_Balance', 'Last_Statement_Minimum_Due',\n",
       "       'Monthly_Salary', 'Monthly_Salary', 'Months_On_Book', 'No_Of_Due_Stmt',\n",
       "       'Days_On_Book', 'Days_From_Statement', 'Days_from_Last_Activity',\n",
       "       'Incident_Num', 'APR_Rate_Low', 'APR_Rate_Med', 'APR_Rate_High',\n",
       "       'Prod_Cat_Voyager', 'Prod_Cat_Cashback', 'Country_ARAB',\n",
       "       'Country_INDIA', 'Country_OTHERS', 'Country_PAKISTAN',\n",
       "       'Country_PHILLIPPINES', 'Country_U.A.E.', 'Perc_Credit_Limit_Used',\n",
       "       'POINTS_REDEEMED', 'POINTS_BALANCE_CLOSING', 'POINTS_EARNED',\n",
       "       'Billing_Amount_Sum_Spend_ESS', 'Billing_Amount_Sum_Spend_NON_ESS',\n",
       "       'Billing_Amount_Spend_CASH', 'Billing_Amount_Violation_Fee',\n",
       "       'Transaction_Count_Payment', 'Tranasaction_Count_Spend_ESS',\n",
       "       'Tranasaction_Count_Spend_NON_ESS', 'Tranasaction_Count_Spend_CASH',\n",
       "       'Transaction_Count_Foreclosure', 'Tranasaction_Count_BT',\n",
       "       'Tranasaction_Count_LOP', 'Tranasaction_Count_EPP',\n",
       "       'Tranasaction_Count_Violation_Fee', 'Balance_Gradient_window_14',\n",
       "       'Balance_Gradient_window_28', 'Balance_Gradient_window_74',\n",
       "       'Perc_Used_Gradient_window_14', 'Perc_Used_Gradient_window_28',\n",
       "       'Perc_Used_Gradient_window_74'],\n",
       "      dtype='object')"
      ]
     },
     "execution_count": 116,
     "metadata": {},
     "output_type": "execute_result"
    }
   ],
   "source": [
    "Numerical_val.columns"
   ]
  },
  {
   "cell_type": "code",
   "execution_count": 117,
   "metadata": {
    "collapsed": true
   },
   "outputs": [],
   "source": [
    "uniqueids_train = Numerical_train['Account_Number'].nunique()\n",
    "uniqueids_val = Numerical_val['Account_Number'].nunique()"
   ]
  },
  {
   "cell_type": "markdown",
   "metadata": {},
   "source": [
    "### Scale Data"
   ]
  },
  {
   "cell_type": "code",
   "execution_count": 118,
   "metadata": {
    "collapsed": true
   },
   "outputs": [],
   "source": [
    "#Delete account number\n",
    "del Numerical_train['Account_Number']\n",
    "del Numerical_val['Account_Number']    \n",
    "\n",
    "#Delete potentially problematic source data\n",
    "#del Numerical_train['Billing_Amount_Spend_CASH']     \n",
    "#del Numerical_val['Billing_Amount_Spend_CASH'] \n",
    "#del Numerical_train['Transaction_Count_Foreclosure']     \n",
    "#del Numerical_val['Transaction_Count_Foreclosure'] \n",
    "#del Numerical_train['Transaction_Count_Payment']     \n",
    "#del Numerical_val['Transaction_Count_Payment'] \n",
    "\n"
   ]
  },
  {
   "cell_type": "code",
   "execution_count": 119,
   "metadata": {
    "collapsed": true
   },
   "outputs": [],
   "source": [
    "Numerical_train['No_Of_Due_Stmt'] =  Numerical_train['No_Of_Due_Stmt'].astype(int)                    \n",
    "Numerical_train['Billing_Amount_Sum_Spend_ESS'] =  Numerical_train['Billing_Amount_Sum_Spend_ESS'].astype(float)                    \n",
    "Numerical_train['Billing_Amount_Sum_Spend_NON_ESS'] =  Numerical_train['Billing_Amount_Sum_Spend_NON_ESS'].astype(float)                    \n",
    "Numerical_train['Billing_Amount_Spend_CASH'] =  Numerical_train['Billing_Amount_Spend_CASH'].astype(float)                    \n",
    "Numerical_train['Billing_Amount_Violation_Fee'] =  Numerical_train['Billing_Amount_Violation_Fee'].astype(float)                    \n",
    "Numerical_train['Transaction_Count_Payment'] =  Numerical_train['Transaction_Count_Payment'].astype(int)                    \n",
    "\n",
    "Numerical_val['No_Of_Due_Stmt'] =  Numerical_val['No_Of_Due_Stmt'].astype(int)                    \n",
    "Numerical_val['Billing_Amount_Sum_Spend_ESS'] =  Numerical_val['Billing_Amount_Sum_Spend_ESS'].astype(float)                    \n",
    "Numerical_val['Billing_Amount_Sum_Spend_NON_ESS'] =  Numerical_val['Billing_Amount_Sum_Spend_NON_ESS'].astype(float)                    \n",
    "Numerical_val['Billing_Amount_Spend_CASH'] =  Numerical_val['Billing_Amount_Spend_CASH'].astype(float)                    \n",
    "Numerical_val['Billing_Amount_Violation_Fee'] =  Numerical_val['Billing_Amount_Violation_Fee'].astype(float)                    \n",
    "Numerical_val['Transaction_Count_Payment'] =  Numerical_val['Transaction_Count_Payment'].astype(int)    \n",
    "\n",
    "#Replace NA's with 0 to allow scaling.\n",
    "Numerical_train['Perc_Credit_Limit_Used']=Numerical_train['Perc_Credit_Limit_Used'].replace(-np.Inf, 1).replace(np.Inf, 1)\n",
    "Numerical_val['Perc_Credit_Limit_Used']=Numerical_val['Perc_Credit_Limit_Used'].replace(-np.Inf, 1).replace(np.Inf, 1)\n",
    "Numerical_train['Perc_Credit_Limit_Used']=Numerical_train['Perc_Credit_Limit_Used'].replace(-np.nan, 0).replace(np.nan, 0)\n",
    "Numerical_val['Perc_Credit_Limit_Used']=Numerical_val['Perc_Credit_Limit_Used'].replace(-np.nan, 0).replace(np.nan, 0)"
   ]
  },
  {
   "cell_type": "code",
   "execution_count": 120,
   "metadata": {},
   "outputs": [
    {
     "data": {
      "text/plain": [
       "ACTUAL_CURRENT_BALANCE                int32\n",
       "Credit_Limit                          int32\n",
       "Last_Statement_Closing_Balance        int32\n",
       "Last_Statement_Minimum_Due            int32\n",
       "Monthly_Salary                        int32\n",
       "Monthly_Salary                        int32\n",
       "Months_On_Book                        int32\n",
       "No_Of_Due_Stmt                        int32\n",
       "Days_On_Book                          int32\n",
       "Days_From_Statement                   int32\n",
       "Days_from_Last_Activity               int32\n",
       "Incident_Num                          int32\n",
       "APR_Rate_Low                          int32\n",
       "APR_Rate_Med                          int32\n",
       "APR_Rate_High                         int32\n",
       "Prod_Cat_Voyager                      int32\n",
       "Prod_Cat_Cashback                     int32\n",
       "Country_ARAB                          int32\n",
       "Country_INDIA                         int32\n",
       "Country_OTHERS                        int32\n",
       "Country_PAKISTAN                      int32\n",
       "Country_PHILLIPPINES                  int32\n",
       "Country_U.A.E.                        int32\n",
       "Perc_Credit_Limit_Used              float64\n",
       "POINTS_REDEEMED                       int32\n",
       "POINTS_BALANCE_CLOSING                int32\n",
       "POINTS_EARNED                         int32\n",
       "Billing_Amount_Sum_Spend_ESS        float64\n",
       "Billing_Amount_Sum_Spend_NON_ESS    float64\n",
       "Billing_Amount_Spend_CASH           float64\n",
       "Billing_Amount_Violation_Fee        float64\n",
       "Transaction_Count_Payment             int32\n",
       "Tranasaction_Count_Spend_ESS          int32\n",
       "Tranasaction_Count_Spend_NON_ESS      int32\n",
       "Tranasaction_Count_Spend_CASH         int32\n",
       "Transaction_Count_Foreclosure         int32\n",
       "Tranasaction_Count_BT                 int32\n",
       "Tranasaction_Count_LOP                int32\n",
       "Tranasaction_Count_EPP                int32\n",
       "Tranasaction_Count_Violation_Fee      int32\n",
       "Balance_Gradient_window_14          float64\n",
       "Balance_Gradient_window_28          float64\n",
       "Balance_Gradient_window_74          float64\n",
       "Perc_Used_Gradient_window_14        float64\n",
       "Perc_Used_Gradient_window_28        float64\n",
       "Perc_Used_Gradient_window_74        float64\n",
       "dtype: object"
      ]
     },
     "execution_count": 120,
     "metadata": {},
     "output_type": "execute_result"
    }
   ],
   "source": [
    "Numerical_train.dtypes"
   ]
  },
  {
   "cell_type": "code",
   "execution_count": 121,
   "metadata": {},
   "outputs": [
    {
     "data": {
      "text/plain": [
       "(4953200, 46)"
      ]
     },
     "execution_count": 121,
     "metadata": {},
     "output_type": "execute_result"
    },
    {
     "data": {
      "text/plain": [
       "(2493768, 46)"
      ]
     },
     "execution_count": 121,
     "metadata": {},
     "output_type": "execute_result"
    }
   ],
   "source": [
    "Numerical_train.shape\n",
    "Numerical_val.shape"
   ]
  },
  {
   "cell_type": "code",
   "execution_count": 122,
   "metadata": {
    "collapsed": true
   },
   "outputs": [],
   "source": [
    "#Scaling input data\n",
    "from sklearn import preprocessing\n",
    "from sklearn.preprocessing import StandardScaler"
   ]
  },
  {
   "cell_type": "code",
   "execution_count": 123,
   "metadata": {
    "collapsed": true
   },
   "outputs": [],
   "source": [
    "x = Numerical_train.values #returns a numpy array\n",
    "#standardscaler= preprocessing.StandardScaler()\n",
    "x_scaled = StandardScaler().fit_transform(x)\n",
    "Numerical_train = pd.DataFrame(x_scaled)"
   ]
  },
  {
   "cell_type": "code",
   "execution_count": 124,
   "metadata": {},
   "outputs": [
    {
     "data": {
      "text/html": [
       "<div>\n",
       "<style scoped>\n",
       "    .dataframe tbody tr th:only-of-type {\n",
       "        vertical-align: middle;\n",
       "    }\n",
       "\n",
       "    .dataframe tbody tr th {\n",
       "        vertical-align: top;\n",
       "    }\n",
       "\n",
       "    .dataframe thead th {\n",
       "        text-align: right;\n",
       "    }\n",
       "</style>\n",
       "<table border=\"1\" class=\"dataframe\">\n",
       "  <thead>\n",
       "    <tr style=\"text-align: right;\">\n",
       "      <th></th>\n",
       "      <th>0</th>\n",
       "      <th>1</th>\n",
       "      <th>2</th>\n",
       "      <th>3</th>\n",
       "      <th>4</th>\n",
       "      <th>5</th>\n",
       "      <th>6</th>\n",
       "      <th>7</th>\n",
       "      <th>8</th>\n",
       "      <th>9</th>\n",
       "      <th>...</th>\n",
       "      <th>36</th>\n",
       "      <th>37</th>\n",
       "      <th>38</th>\n",
       "      <th>39</th>\n",
       "      <th>40</th>\n",
       "      <th>41</th>\n",
       "      <th>42</th>\n",
       "      <th>43</th>\n",
       "      <th>44</th>\n",
       "      <th>45</th>\n",
       "    </tr>\n",
       "  </thead>\n",
       "  <tbody>\n",
       "    <tr>\n",
       "      <th>0</th>\n",
       "      <td>-0.397263</td>\n",
       "      <td>-0.752555</td>\n",
       "      <td>-0.33594</td>\n",
       "      <td>-0.463742</td>\n",
       "      <td>-0.144029</td>\n",
       "      <td>-0.144029</td>\n",
       "      <td>-0.846078</td>\n",
       "      <td>-0.305847</td>\n",
       "      <td>-0.843735</td>\n",
       "      <td>0.043291</td>\n",
       "      <td>...</td>\n",
       "      <td>-0.010274</td>\n",
       "      <td>-0.015833</td>\n",
       "      <td>-0.03535</td>\n",
       "      <td>-0.09304</td>\n",
       "      <td>-2.240969</td>\n",
       "      <td>-1.681888</td>\n",
       "      <td>-1.23636</td>\n",
       "      <td>-0.116364</td>\n",
       "      <td>-0.098232</td>\n",
       "      <td>-0.129226</td>\n",
       "    </tr>\n",
       "    <tr>\n",
       "      <th>1</th>\n",
       "      <td>-0.397263</td>\n",
       "      <td>-0.752555</td>\n",
       "      <td>-0.33594</td>\n",
       "      <td>-0.463742</td>\n",
       "      <td>-0.144029</td>\n",
       "      <td>-0.144029</td>\n",
       "      <td>-0.846078</td>\n",
       "      <td>-0.305847</td>\n",
       "      <td>-0.845494</td>\n",
       "      <td>0.035252</td>\n",
       "      <td>...</td>\n",
       "      <td>-0.010274</td>\n",
       "      <td>-0.015833</td>\n",
       "      <td>-0.03535</td>\n",
       "      <td>-0.09304</td>\n",
       "      <td>-2.240969</td>\n",
       "      <td>-1.681888</td>\n",
       "      <td>-1.23636</td>\n",
       "      <td>-0.116364</td>\n",
       "      <td>-0.098232</td>\n",
       "      <td>-0.129226</td>\n",
       "    </tr>\n",
       "  </tbody>\n",
       "</table>\n",
       "<p>2 rows × 46 columns</p>\n",
       "</div>"
      ],
      "text/plain": [
       "         0         1        2         3         4         5         6   \\\n",
       "0 -0.397263 -0.752555 -0.33594 -0.463742 -0.144029 -0.144029 -0.846078   \n",
       "1 -0.397263 -0.752555 -0.33594 -0.463742 -0.144029 -0.144029 -0.846078   \n",
       "\n",
       "         7         8         9     ...           36        37       38  \\\n",
       "0 -0.305847 -0.843735  0.043291    ...    -0.010274 -0.015833 -0.03535   \n",
       "1 -0.305847 -0.845494  0.035252    ...    -0.010274 -0.015833 -0.03535   \n",
       "\n",
       "        39        40        41       42        43        44        45  \n",
       "0 -0.09304 -2.240969 -1.681888 -1.23636 -0.116364 -0.098232 -0.129226  \n",
       "1 -0.09304 -2.240969 -1.681888 -1.23636 -0.116364 -0.098232 -0.129226  \n",
       "\n",
       "[2 rows x 46 columns]"
      ]
     },
     "execution_count": 124,
     "metadata": {},
     "output_type": "execute_result"
    },
    {
     "data": {
      "text/html": [
       "<div>\n",
       "<style scoped>\n",
       "    .dataframe tbody tr th:only-of-type {\n",
       "        vertical-align: middle;\n",
       "    }\n",
       "\n",
       "    .dataframe tbody tr th {\n",
       "        vertical-align: top;\n",
       "    }\n",
       "\n",
       "    .dataframe thead th {\n",
       "        text-align: right;\n",
       "    }\n",
       "</style>\n",
       "<table border=\"1\" class=\"dataframe\">\n",
       "  <thead>\n",
       "    <tr style=\"text-align: right;\">\n",
       "      <th></th>\n",
       "      <th>0</th>\n",
       "      <th>1</th>\n",
       "      <th>2</th>\n",
       "      <th>3</th>\n",
       "      <th>4</th>\n",
       "      <th>5</th>\n",
       "      <th>6</th>\n",
       "      <th>7</th>\n",
       "      <th>8</th>\n",
       "      <th>9</th>\n",
       "      <th>...</th>\n",
       "      <th>36</th>\n",
       "      <th>37</th>\n",
       "      <th>38</th>\n",
       "      <th>39</th>\n",
       "      <th>40</th>\n",
       "      <th>41</th>\n",
       "      <th>42</th>\n",
       "      <th>43</th>\n",
       "      <th>44</th>\n",
       "      <th>45</th>\n",
       "    </tr>\n",
       "  </thead>\n",
       "  <tbody>\n",
       "    <tr>\n",
       "      <th>0</th>\n",
       "      <td>0.00941</td>\n",
       "      <td>-0.812453</td>\n",
       "      <td>0.026059</td>\n",
       "      <td>0.636056</td>\n",
       "      <td>-0.152132</td>\n",
       "      <td>-0.152132</td>\n",
       "      <td>-0.997459</td>\n",
       "      <td>-0.268129</td>\n",
       "      <td>-1.012808</td>\n",
       "      <td>-0.299623</td>\n",
       "      <td>...</td>\n",
       "      <td>-0.01351</td>\n",
       "      <td>-0.017503</td>\n",
       "      <td>-0.034642</td>\n",
       "      <td>-0.066686</td>\n",
       "      <td>1.155702</td>\n",
       "      <td>0.695493</td>\n",
       "      <td>0.562840</td>\n",
       "      <td>0.667541</td>\n",
       "      <td>0.456026</td>\n",
       "      <td>0.526670</td>\n",
       "    </tr>\n",
       "    <tr>\n",
       "      <th>1</th>\n",
       "      <td>0.00941</td>\n",
       "      <td>-0.812453</td>\n",
       "      <td>0.026059</td>\n",
       "      <td>0.636056</td>\n",
       "      <td>-0.152132</td>\n",
       "      <td>-0.152132</td>\n",
       "      <td>-0.997459</td>\n",
       "      <td>-0.268129</td>\n",
       "      <td>-1.013897</td>\n",
       "      <td>-0.305238</td>\n",
       "      <td>...</td>\n",
       "      <td>-0.01351</td>\n",
       "      <td>-0.017503</td>\n",
       "      <td>-0.034642</td>\n",
       "      <td>-0.066686</td>\n",
       "      <td>1.128284</td>\n",
       "      <td>0.675975</td>\n",
       "      <td>0.549504</td>\n",
       "      <td>0.650519</td>\n",
       "      <td>0.441672</td>\n",
       "      <td>0.513151</td>\n",
       "    </tr>\n",
       "  </tbody>\n",
       "</table>\n",
       "<p>2 rows × 46 columns</p>\n",
       "</div>"
      ],
      "text/plain": [
       "        0         1         2         3         4         5         6   \\\n",
       "0  0.00941 -0.812453  0.026059  0.636056 -0.152132 -0.152132 -0.997459   \n",
       "1  0.00941 -0.812453  0.026059  0.636056 -0.152132 -0.152132 -0.997459   \n",
       "\n",
       "         7         8         9     ...          36        37        38  \\\n",
       "0 -0.268129 -1.012808 -0.299623    ...    -0.01351 -0.017503 -0.034642   \n",
       "1 -0.268129 -1.013897 -0.305238    ...    -0.01351 -0.017503 -0.034642   \n",
       "\n",
       "         39        40        41        42        43        44        45  \n",
       "0 -0.066686  1.155702  0.695493  0.562840  0.667541  0.456026  0.526670  \n",
       "1 -0.066686  1.128284  0.675975  0.549504  0.650519  0.441672  0.513151  \n",
       "\n",
       "[2 rows x 46 columns]"
      ]
     },
     "execution_count": 124,
     "metadata": {},
     "output_type": "execute_result"
    }
   ],
   "source": [
    "x = Numerical_val.values #returns a numpy array\n",
    "#standardscaler = preprocessing.StandardScaler()\n",
    "x_scaled = StandardScaler().fit_transform(x)\n",
    "Numerical_val = pd.DataFrame(x_scaled)\n",
    "Numerical_val.head(2)\n",
    "Numerical_train.head(2)"
   ]
  },
  {
   "cell_type": "code",
   "execution_count": 125,
   "metadata": {},
   "outputs": [
    {
     "data": {
      "text/html": [
       "<div>\n",
       "<style scoped>\n",
       "    .dataframe tbody tr th:only-of-type {\n",
       "        vertical-align: middle;\n",
       "    }\n",
       "\n",
       "    .dataframe tbody tr th {\n",
       "        vertical-align: top;\n",
       "    }\n",
       "\n",
       "    .dataframe thead th {\n",
       "        text-align: right;\n",
       "    }\n",
       "</style>\n",
       "<table border=\"1\" class=\"dataframe\">\n",
       "  <thead>\n",
       "    <tr style=\"text-align: right;\">\n",
       "      <th></th>\n",
       "      <th>0</th>\n",
       "      <th>1</th>\n",
       "      <th>2</th>\n",
       "      <th>3</th>\n",
       "      <th>4</th>\n",
       "      <th>5</th>\n",
       "      <th>6</th>\n",
       "      <th>7</th>\n",
       "      <th>8</th>\n",
       "      <th>9</th>\n",
       "      <th>...</th>\n",
       "      <th>36</th>\n",
       "      <th>37</th>\n",
       "      <th>38</th>\n",
       "      <th>39</th>\n",
       "      <th>40</th>\n",
       "      <th>41</th>\n",
       "      <th>42</th>\n",
       "      <th>43</th>\n",
       "      <th>44</th>\n",
       "      <th>45</th>\n",
       "    </tr>\n",
       "  </thead>\n",
       "  <tbody>\n",
       "    <tr>\n",
       "      <th>0</th>\n",
       "      <td>-0.397263</td>\n",
       "      <td>-0.752555</td>\n",
       "      <td>-0.33594</td>\n",
       "      <td>-0.463742</td>\n",
       "      <td>-0.144029</td>\n",
       "      <td>-0.144029</td>\n",
       "      <td>-0.846078</td>\n",
       "      <td>-0.305847</td>\n",
       "      <td>-0.843735</td>\n",
       "      <td>0.043291</td>\n",
       "      <td>...</td>\n",
       "      <td>-0.010274</td>\n",
       "      <td>-0.015833</td>\n",
       "      <td>-0.03535</td>\n",
       "      <td>-0.09304</td>\n",
       "      <td>-2.240969</td>\n",
       "      <td>-1.681888</td>\n",
       "      <td>-1.23636</td>\n",
       "      <td>-0.116364</td>\n",
       "      <td>-0.098232</td>\n",
       "      <td>-0.129226</td>\n",
       "    </tr>\n",
       "    <tr>\n",
       "      <th>1</th>\n",
       "      <td>-0.397263</td>\n",
       "      <td>-0.752555</td>\n",
       "      <td>-0.33594</td>\n",
       "      <td>-0.463742</td>\n",
       "      <td>-0.144029</td>\n",
       "      <td>-0.144029</td>\n",
       "      <td>-0.846078</td>\n",
       "      <td>-0.305847</td>\n",
       "      <td>-0.845494</td>\n",
       "      <td>0.035252</td>\n",
       "      <td>...</td>\n",
       "      <td>-0.010274</td>\n",
       "      <td>-0.015833</td>\n",
       "      <td>-0.03535</td>\n",
       "      <td>-0.09304</td>\n",
       "      <td>-2.240969</td>\n",
       "      <td>-1.681888</td>\n",
       "      <td>-1.23636</td>\n",
       "      <td>-0.116364</td>\n",
       "      <td>-0.098232</td>\n",
       "      <td>-0.129226</td>\n",
       "    </tr>\n",
       "  </tbody>\n",
       "</table>\n",
       "<p>2 rows × 46 columns</p>\n",
       "</div>"
      ],
      "text/plain": [
       "         0         1        2         3         4         5         6   \\\n",
       "0 -0.397263 -0.752555 -0.33594 -0.463742 -0.144029 -0.144029 -0.846078   \n",
       "1 -0.397263 -0.752555 -0.33594 -0.463742 -0.144029 -0.144029 -0.846078   \n",
       "\n",
       "         7         8         9     ...           36        37       38  \\\n",
       "0 -0.305847 -0.843735  0.043291    ...    -0.010274 -0.015833 -0.03535   \n",
       "1 -0.305847 -0.845494  0.035252    ...    -0.010274 -0.015833 -0.03535   \n",
       "\n",
       "        39        40        41       42        43        44        45  \n",
       "0 -0.09304 -2.240969 -1.681888 -1.23636 -0.116364 -0.098232 -0.129226  \n",
       "1 -0.09304 -2.240969 -1.681888 -1.23636 -0.116364 -0.098232 -0.129226  \n",
       "\n",
       "[2 rows x 46 columns]"
      ]
     },
     "execution_count": 125,
     "metadata": {},
     "output_type": "execute_result"
    }
   ],
   "source": [
    "Numerical_val.head(2)\n",
    "numcols = len(Numerical_val.columns)"
   ]
  },
  {
   "cell_type": "markdown",
   "metadata": {},
   "source": [
    "### Saving data to files\n",
    "- input df: `Numerical_val`, `Numerical_train`\n",
    "- output file: `Source_MultiInput_Val_forLSTM.tsv`, `Source_MultiInput_Train_forLSTM.tsv`"
   ]
  },
  {
   "cell_type": "code",
   "execution_count": 126,
   "metadata": {
    "collapsed": true
   },
   "outputs": [],
   "source": [
    "# Numerical_val.to_csv(PATH_OUT + 'X_val_LSTM.tsv', sep='\\t', encoding='utf-8')\n",
    "# Numerical_train.to_csv(PATH_OUT + 'X_train_LSTM.tsv', sep='\\t', encoding='utf-8')\n",
    "\n",
    "Numerical_val.to_csv('Source_X_val_rnn.tsv', sep='\\t', encoding='utf-8') \n",
    "Numerical_train.to_csv('Source_X_train_rnn.tsv', sep='\\t', encoding='utf-8')\n",
    "#np.savetxt('Source__X_val_1DCNN.tsv', X_val_cnn, delimiter='\\t',  encoding='utf-8')"
   ]
  },
  {
   "cell_type": "markdown",
   "metadata": {},
   "source": [
    "### Reshape numerical input to be shaped [samples, time steps, features]"
   ]
  },
  {
   "cell_type": "code",
   "execution_count": 127,
   "metadata": {},
   "outputs": [
    {
     "data": {
      "text/plain": [
       "numpy.ndarray"
      ]
     },
     "execution_count": 127,
     "metadata": {},
     "output_type": "execute_result"
    },
    {
     "data": {
      "text/plain": [
       "(42700, 116, 46)"
      ]
     },
     "execution_count": 127,
     "metadata": {},
     "output_type": "execute_result"
    }
   ],
   "source": [
    "#reshape input to be [samples, time steps, features]\n",
    "Numerical_train_np = Numerical_train.values.reshape(uniqueids_train,116,numcols)\n",
    "type(Numerical_train_np)\n",
    "Numerical_train_np.shape\n",
    "X_train = Numerical_train_np"
   ]
  },
  {
   "cell_type": "code",
   "execution_count": 128,
   "metadata": {},
   "outputs": [
    {
     "data": {
      "text/plain": [
       "numpy.ndarray"
      ]
     },
     "execution_count": 128,
     "metadata": {},
     "output_type": "execute_result"
    },
    {
     "data": {
      "text/plain": [
       "(21498, 116, 46)"
      ]
     },
     "execution_count": 128,
     "metadata": {},
     "output_type": "execute_result"
    }
   ],
   "source": [
    "#reshape input to be [samples, time steps, features]\n",
    "Numerical_val_np = Numerical_val.values.reshape(uniqueids_val,116,numcols)\n",
    "type(Numerical_val_np)\n",
    "Numerical_val_np.shape\n",
    "X_val =Numerical_val_np"
   ]
  },
  {
   "cell_type": "code",
   "execution_count": 129,
   "metadata": {},
   "outputs": [
    {
     "data": {
      "text/plain": [
       "(21498, 116, 46)"
      ]
     },
     "execution_count": 129,
     "metadata": {},
     "output_type": "execute_result"
    },
    {
     "data": {
      "text/plain": [
       "(21498, 2)"
      ]
     },
     "execution_count": 129,
     "metadata": {},
     "output_type": "execute_result"
    },
    {
     "data": {
      "text/plain": [
       "(21498, 116, 46)"
      ]
     },
     "execution_count": 129,
     "metadata": {},
     "output_type": "execute_result"
    },
    {
     "data": {
      "text/plain": [
       "(21498, 2)"
      ]
     },
     "execution_count": 129,
     "metadata": {},
     "output_type": "execute_result"
    }
   ],
   "source": [
    "#Copy to standard variable names for use in multi-input model\n",
    "X_val_rnn = X_val\n",
    "y_val_rnn = y_val # from above\n",
    "X_train_rnn = X_train\n",
    "y_train_rnn = y_train #from above\n",
    "\n",
    "X_val_rnn.shape\n",
    "y_val_rnn.shape\n",
    "X_val_rnn.shape\n",
    "y_val_rnn.shape"
   ]
  },
  {
   "cell_type": "markdown",
   "metadata": {},
   "source": [
    "### Build LSTM Model on Numerical Sequential Data"
   ]
  },
  {
   "cell_type": "code",
   "execution_count": 130,
   "metadata": {
    "collapsed": true
   },
   "outputs": [],
   "source": [
    "from keras.layers import Bidirectional\n",
    "from keras.layers import SimpleRNN\n",
    "from keras.layers import LeakyReLU\n",
    "\n",
    "sequence_length = 116\n",
    "nb_features = numcols\n",
    "nb_out = y_train.shape[1]\n",
    "learning_rate = .0000001\n",
    "rmsprop = optimizers.RMSprop(lr=learning_rate, rho=0.9, epsilon=None, clipnorm=.5, decay=0.0)\n",
    "adam = keras.optimizers.Adam(lr=learning_rate, clipnorm=.5,  beta_1=0.9, beta_2=0.999, \n",
    "                             epsilon=None, decay=0.01, amsgrad=True)"
   ]
  },
  {
   "cell_type": "code",
   "execution_count": null,
   "metadata": {
    "collapsed": true
   },
   "outputs": [],
   "source": []
  },
  {
   "cell_type": "markdown",
   "metadata": {},
   "source": [
    "### Build the Model"
   ]
  },
  {
   "cell_type": "code",
   "execution_count": 131,
   "metadata": {
    "collapsed": true
   },
   "outputs": [],
   "source": [
    "from keras.layers import SimpleRNN\n",
    "from keras.layers import LeakyReLU\n",
    "from keras.layers import LeakyReLU\n",
    "model = Sequential()\n",
    "\n",
    "model.add(Dense(32, \n",
    "                input_shape = (sequence_length, nb_features),\n",
    "                use_bias = False))\n",
    "model.add(LeakyReLU(alpha=0.1))\n",
    "model.add(Bidirectional(LSTM(64,\n",
    "                    use_bias = True, \n",
    "                    return_sequences=False, \n",
    "                    kernel_initializer='VarianceScaling', \n",
    "                    recurrent_initializer='VarianceScaling', \n",
    "                    bias_initializer='VarianceScaling',\n",
    "                    dropout=0.4, \n",
    "                    recurrent_dropout=0.02)))\n",
    "model.add(LeakyReLU(alpha=0.1))\n",
    "model.add(Dense(nb_out, activation = 'sigmoid',\n",
    "                use_bias = False))"
   ]
  },
  {
   "cell_type": "code",
   "execution_count": 132,
   "metadata": {},
   "outputs": [
    {
     "name": "stdout",
     "output_type": "stream",
     "text": [
      "_________________________________________________________________\n",
      "Layer (type)                 Output Shape              Param #   \n",
      "=================================================================\n",
      "dense_3 (Dense)              (None, 116, 32)           1472      \n",
      "_________________________________________________________________\n",
      "leaky_re_lu_1 (LeakyReLU)    (None, 116, 32)           0         \n",
      "_________________________________________________________________\n",
      "bidirectional_1 (Bidirection (None, 128)               49664     \n",
      "_________________________________________________________________\n",
      "leaky_re_lu_2 (LeakyReLU)    (None, 128)               0         \n",
      "_________________________________________________________________\n",
      "dense_4 (Dense)              (None, 2)                 256       \n",
      "=================================================================\n",
      "Total params: 51,392\n",
      "Trainable params: 51,392\n",
      "Non-trainable params: 0\n",
      "_________________________________________________________________\n",
      "None\n"
     ]
    }
   ],
   "source": [
    "\n",
    "#compile model\n",
    "model.compile(loss='binary_crossentropy', optimizer='adam', metrics=['accuracy'])\n",
    "print(model.summary())"
   ]
  },
  {
   "cell_type": "code",
   "execution_count": 133,
   "metadata": {},
   "outputs": [
    {
     "data": {
      "text/plain": [
       "(42700, 116, 46)"
      ]
     },
     "execution_count": 133,
     "metadata": {},
     "output_type": "execute_result"
    },
    {
     "data": {
      "text/plain": [
       "(42700, 2)"
      ]
     },
     "execution_count": 133,
     "metadata": {},
     "output_type": "execute_result"
    },
    {
     "data": {
      "text/plain": [
       "(21498, 116, 46)"
      ]
     },
     "execution_count": 133,
     "metadata": {},
     "output_type": "execute_result"
    },
    {
     "data": {
      "text/plain": [
       "(21498, 2)"
      ]
     },
     "execution_count": 133,
     "metadata": {},
     "output_type": "execute_result"
    }
   ],
   "source": [
    "#Check data shapes\n",
    "X_train_rnn.shape\n",
    "y_train_rnn.shape\n",
    "X_val_rnn.shape\n",
    "y_val_rnn.shape"
   ]
  },
  {
   "cell_type": "markdown",
   "metadata": {},
   "source": [
    "### Fit the Model"
   ]
  },
  {
   "cell_type": "code",
   "execution_count": 134,
   "metadata": {},
   "outputs": [
    {
     "name": "stdout",
     "output_type": "stream",
     "text": [
      "Train on 42700 samples, validate on 21498 samples\n",
      "Epoch 1/6\n",
      " - 91s - loss: 1.1996 - acc: 0.5913 - val_loss: 0.7150 - val_acc: 0.5124\n",
      "Epoch 2/6\n",
      " - 89s - loss: 1.1289 - acc: 0.6096 - val_loss: 0.6769 - val_acc: 0.6056\n",
      "Epoch 3/6\n",
      " - 89s - loss: 1.0937 - acc: 0.6324 - val_loss: 0.6728 - val_acc: 0.6538\n",
      "Epoch 4/6\n",
      " - 90s - loss: 1.0800 - acc: 0.6501 - val_loss: 0.6879 - val_acc: 0.6694\n",
      "Epoch 5/6\n",
      " - 89s - loss: 1.0724 - acc: 0.6552 - val_loss: 0.7634 - val_acc: 0.6235\n",
      "Epoch 6/6\n",
      " - 90s - loss: 1.0565 - acc: 0.6650 - val_loss: 0.7132 - val_acc: 0.6938\n",
      "Epoch 00006: early stopping\n",
      "dict_keys(['val_loss', 'val_acc', 'loss', 'acc'])\n"
     ]
    }
   ],
   "source": [
    "#set params\n",
    "class_weight = {0 :1., 1: 10}\n",
    "BATCH_SIZE = 200\n",
    "rnn_model_path = 'RNN_Model_Best_Run_Nov1.h5'\n",
    "\n",
    "history = model.fit(X_train_rnn, y_train_rnn, epochs=6, batch_size=BATCH_SIZE, verbose=2, \n",
    "                    validation_split=0, \n",
    "                    validation_data=(X_val_rnn,y_val_rnn),  \n",
    "                    class_weight = class_weight,                    \n",
    "          callbacks = [keras.callbacks.EarlyStopping(monitor='val_loss', min_delta=0, \n",
    "                                                     patience=3, verbose=1, mode='min'),\n",
    "                       keras.callbacks.ModelCheckpoint(rnn_model_path,monitor='val_loss', \n",
    "                                                       save_best_only=True, mode='min', verbose=0)]\n",
    "          )\n",
    "print(history.history.keys())"
   ]
  },
  {
   "cell_type": "markdown",
   "metadata": {},
   "source": [
    "### Plot the Model Accuracy and Error"
   ]
  },
  {
   "cell_type": "code",
   "execution_count": 135,
   "metadata": {},
   "outputs": [
    {
     "data": {
      "text/plain": [
       "<matplotlib.axes._subplots.AxesSubplot at 0x1f1129ab7b8>"
      ]
     },
     "execution_count": 135,
     "metadata": {},
     "output_type": "execute_result"
    },
    {
     "data": {
      "text/plain": [
       "[<matplotlib.lines.Line2D at 0x1f11201b978>]"
      ]
     },
     "execution_count": 135,
     "metadata": {},
     "output_type": "execute_result"
    },
    {
     "data": {
      "text/plain": [
       "[<matplotlib.lines.Line2D at 0x1f11201b940>]"
      ]
     },
     "execution_count": 135,
     "metadata": {},
     "output_type": "execute_result"
    },
    {
     "data": {
      "text/plain": [
       "Text(0.5, 1.0, 'model accuracy')"
      ]
     },
     "execution_count": 135,
     "metadata": {},
     "output_type": "execute_result"
    },
    {
     "data": {
      "text/plain": [
       "Text(0, 0.5, 'accuracy')"
      ]
     },
     "execution_count": 135,
     "metadata": {},
     "output_type": "execute_result"
    },
    {
     "data": {
      "text/plain": [
       "Text(0.5, 0, 'epoch')"
      ]
     },
     "execution_count": 135,
     "metadata": {},
     "output_type": "execute_result"
    },
    {
     "data": {
      "text/plain": [
       "<matplotlib.legend.Legend at 0x1f11201be48>"
      ]
     },
     "execution_count": 135,
     "metadata": {},
     "output_type": "execute_result"
    },
    {
     "data": {
      "text/plain": [
       "<matplotlib.axes._subplots.AxesSubplot at 0x1f1120104e0>"
      ]
     },
     "execution_count": 135,
     "metadata": {},
     "output_type": "execute_result"
    },
    {
     "data": {
      "text/plain": [
       "[<matplotlib.lines.Line2D at 0x1f112044cc0>]"
      ]
     },
     "execution_count": 135,
     "metadata": {},
     "output_type": "execute_result"
    },
    {
     "data": {
      "text/plain": [
       "[<matplotlib.lines.Line2D at 0x1f112044e48>]"
      ]
     },
     "execution_count": 135,
     "metadata": {},
     "output_type": "execute_result"
    },
    {
     "data": {
      "text/plain": [
       "Text(0.5, 1.0, 'model loss')"
      ]
     },
     "execution_count": 135,
     "metadata": {},
     "output_type": "execute_result"
    },
    {
     "data": {
      "text/plain": [
       "Text(0, 0.5, 'loss')"
      ]
     },
     "execution_count": 135,
     "metadata": {},
     "output_type": "execute_result"
    },
    {
     "data": {
      "text/plain": [
       "Text(0.5, 0, 'epoch')"
      ]
     },
     "execution_count": 135,
     "metadata": {},
     "output_type": "execute_result"
    },
    {
     "data": {
      "text/plain": [
       "<matplotlib.legend.Legend at 0x1f112038908>"
      ]
     },
     "execution_count": 135,
     "metadata": {},
     "output_type": "execute_result"
    },
    {
     "data": {
      "image/png": "[encoded data removed]",
      "text/plain": [
       "<Figure size 1008x576 with 2 Axes>"
      ]
     },
     "metadata": {},
     "output_type": "display_data"
    }
   ],
   "source": [
    "InteractiveShell.ast_node_interactivity = \"none\"\n",
    "\n",
    "import matplotlib.pyplot as plt  \n",
    "plt.rcParams[\"figure.figsize\"]=14,8\n",
    "#accuracy history\n",
    "plt.subplot(211)  \n",
    "plt.plot(history.history['acc'])  \n",
    "plt.plot(history.history['val_acc'])  \n",
    "plt.title('model accuracy')  \n",
    "plt.ylabel('accuracy')  \n",
    "plt.xlabel('epoch')  \n",
    "plt.legend(['train', 'test'], loc='upper left')  \n",
    "#loss history\n",
    "plt.subplot(212)  \n",
    "plt.plot(history.history['loss'])  \n",
    "plt.plot(history.history['val_loss'])  \n",
    "plt.title('model loss')  \n",
    "plt.ylabel('loss')  \n",
    "plt.xlabel('epoch')  \n",
    "plt.legend(['train', 'test'], loc='upper left')  \n",
    "plt.show()  "
   ]
  },
  {
   "cell_type": "markdown",
   "metadata": {},
   "source": [
    "#### End Standalone LSTM Model"
   ]
  },
  {
   "cell_type": "code",
   "execution_count": null,
   "metadata": {
    "collapsed": true
   },
   "outputs": [],
   "source": []
  },
  {
   "cell_type": "code",
   "execution_count": null,
   "metadata": {
    "collapsed": true
   },
   "outputs": [],
   "source": []
  },
  {
   "cell_type": "markdown",
   "metadata": {},
   "source": [
    "...Now putting it all together as a multi-input model..."
   ]
  },
  {
   "cell_type": "markdown",
   "metadata": {},
   "source": [
    "### 4.3 Rearchitect with Multi-Input Model\n",
    "Using Keras Functional API¶"
   ]
  },
  {
   "cell_type": "markdown",
   "metadata": {},
   "source": [
    "### Review input shapes"
   ]
  },
  {
   "cell_type": "code",
   "execution_count": 136,
   "metadata": {
    "collapsed": true
   },
   "outputs": [],
   "source": [
    "InteractiveShell.ast_node_interactivity = \"all\"\n",
    "\n",
    "from keras import layers\n",
    "y_train_cnn.shape\n",
    "y_val_cnn.shape\n",
    "y_train_rnn.shape\n",
    "y_val_rnn.shape"
   ]
  },
  {
   "cell_type": "markdown",
   "metadata": {},
   "source": [
    "#### Set Global Params"
   ]
  },
  {
   "cell_type": "code",
   "execution_count": 137,
   "metadata": {
    "collapsed": true
   },
   "outputs": [],
   "source": [
    "from keras.layers import Bidirectional\n",
    "from keras.layers import SimpleRNN\n",
    "from keras.layers import LeakyReLU\n",
    "\n",
    "\n",
    "cnn_num_features = MAX_SEQUENCE_LENGTH\n",
    "maxlen = cnn_num_features\n",
    "timestep = 116\n",
    "seq_num_features = numcols\n"
   ]
  },
  {
   "cell_type": "markdown",
   "metadata": {},
   "source": [
    "##### Model Inputs"
   ]
  },
  {
   "cell_type": "code",
   "execution_count": 138,
   "metadata": {},
   "outputs": [
    {
     "data": {
      "text/plain": [
       "TensorShape([Dimension(None), Dimension(1500)])"
      ]
     },
     "execution_count": 138,
     "metadata": {},
     "output_type": "execute_result"
    },
    {
     "data": {
      "text/plain": [
       "TensorShape([Dimension(None), Dimension(116), Dimension(46)])"
      ]
     },
     "execution_count": 138,
     "metadata": {},
     "output_type": "execute_result"
    }
   ],
   "source": [
    "#CNN_input = Input(shape=(cnn_num_features, input_dim))\n",
    "CNN_input = Input(shape=(MAX_SEQUENCE_LENGTH,), dtype='int32')\n",
    "RNN_input = Input(shape=(timestep,seq_num_features))\n",
    "CNN_input.shape\n",
    "RNN_input.shape\n",
    "\n",
    "dropoutrate = 0.5\n",
    "inner_dropoutrate= 0.5"
   ]
  },
  {
   "cell_type": "code",
   "execution_count": 139,
   "metadata": {
    "collapsed": true
   },
   "outputs": [],
   "source": [
    "from keras.layers import Conv1D, MaxPooling1D, MaxPooling2D,MaxPooling3D,Embedding \n",
    "\n",
    "#Rebuild CNN Model Architecture with Contextual Data\n",
    "embedded_sequences = embedding_layer(CNN_input)\n",
    "\n",
    "conv = Conv1D(filters=128, kernel_size=8,activation='relu', \n",
    "              kernel_initializer='lecun_uniform')(embedded_sequences)\n",
    "CNN_x = MaxPooling1D(5)(conv)\n",
    "CNN_x = Dropout(inner_dropoutrate)(CNN_x)\n",
    "\n",
    "CNN_x = Conv1D(filters=128, kernel_size=16,activation='relu', \n",
    "              kernel_initializer='lecun_uniform')(CNN_x)\n",
    "CNN_x = MaxPooling1D(5)(CNN_x)  # global max pooling\n",
    "CNN_x = Dropout(inner_dropoutrate)(CNN_x)\n",
    "\n",
    "CNN_x = Conv1D(filters=128, kernel_size=16,activation='relu', \n",
    "              kernel_initializer='lecun_uniform')(CNN_x)  #lecun_uniform\n",
    "CNN_x = MaxPooling1D(35)(CNN_x)  # global max pooling\n",
    "CNN_x = Dropout(dropoutrate)(CNN_x)\n",
    " \n",
    "CNN_x = Flatten()(CNN_x)\n",
    "CNN_x = Dense(60)(CNN_x)"
   ]
  },
  {
   "cell_type": "code",
   "execution_count": 187,
   "metadata": {
    "collapsed": true
   },
   "outputs": [],
   "source": [
    "# using noisy initial state https://r2rt.com/non-zero-initial-states-for-recurrent-neural-networks.html\n",
    "RNN_x = Bidirectional(layers.LSTM(132, \n",
    "                    use_bias = True, return_sequences=False ,stateful=False, kernel_initializer='VarianceScaling', \n",
    "                    recurrent_initializer='VarianceScaling', bias_initializer='VarianceScaling',\n",
    "                    dropout=dropoutrate, recurrent_dropout=.5))(RNN_input)                      \n",
    "             \n",
    "RNN_x  = layers.LeakyReLU(alpha=0.1)(RNN_x)\n",
    "RNN_x = Dense(100)(RNN_x)"
   ]
  },
  {
   "cell_type": "markdown",
   "metadata": {},
   "source": [
    "##### Combine the two model inputs and add rest of architecture"
   ]
  },
  {
   "cell_type": "code",
   "execution_count": 188,
   "metadata": {
    "collapsed": true
   },
   "outputs": [],
   "source": [
    "#Concatanate Layers from each Model\n",
    "concatenated_vars = layers.concatenate([CNN_x,RNN_x], axis=-1)\n",
    "\n",
    "#Add rest of Architecture\n",
    "hidden1 = layers.Dense(48, activation = 'relu')(concatenated_vars)\n",
    "hidden1 = Dropout(dropoutrate)(hidden1)\n",
    "output1 = layers.Dense(2, activation='sigmoid')(hidden1)"
   ]
  },
  {
   "cell_type": "code",
   "execution_count": 189,
   "metadata": {
    "collapsed": true
   },
   "outputs": [],
   "source": [
    "#Define model\n",
    "model = Model([CNN_input,RNN_input], output1)  #SimpleRNN_input"
   ]
  },
  {
   "cell_type": "code",
   "execution_count": 190,
   "metadata": {},
   "outputs": [],
   "source": [
    "from keras.callbacks import LambdaCallback\n",
    "print_weights = LambdaCallback(on_epoch_end=lambda epoch, logs: print(model.layers[0].get_weights()))\n",
    "print_weights"
   ]
  },
  {
   "cell_type": "code",
   "execution_count": 191,
   "metadata": {},
   "outputs": [
    {
     "name": "stdout",
     "output_type": "stream",
     "text": [
      "__________________________________________________________________________________________________\n",
      "Layer (type)                    Output Shape         Param #     Connected to                     \n",
      "==================================================================================================\n",
      "input_2 (InputLayer)            (None, 1500)         0                                            \n",
      "__________________________________________________________________________________________________\n",
      "embedding_1 (Embedding)         (None, 1500, 300)    88200       input_2[0][0]                    \n",
      "__________________________________________________________________________________________________\n",
      "conv1d_4 (Conv1D)               (None, 1493, 128)    307328      embedding_1[1][0]                \n",
      "__________________________________________________________________________________________________\n",
      "max_pooling1d_4 (MaxPooling1D)  (None, 298, 128)     0           conv1d_4[0][0]                   \n",
      "__________________________________________________________________________________________________\n",
      "dropout_4 (Dropout)             (None, 298, 128)     0           max_pooling1d_4[0][0]            \n",
      "__________________________________________________________________________________________________\n",
      "conv1d_5 (Conv1D)               (None, 283, 128)     262272      dropout_4[0][0]                  \n",
      "__________________________________________________________________________________________________\n",
      "max_pooling1d_5 (MaxPooling1D)  (None, 56, 128)      0           conv1d_5[0][0]                   \n",
      "__________________________________________________________________________________________________\n",
      "dropout_5 (Dropout)             (None, 56, 128)      0           max_pooling1d_5[0][0]            \n",
      "__________________________________________________________________________________________________\n",
      "conv1d_6 (Conv1D)               (None, 41, 128)      262272      dropout_5[0][0]                  \n",
      "__________________________________________________________________________________________________\n",
      "max_pooling1d_6 (MaxPooling1D)  (None, 1, 128)       0           conv1d_6[0][0]                   \n",
      "__________________________________________________________________________________________________\n",
      "input_3 (InputLayer)            (None, 116, 46)      0                                            \n",
      "__________________________________________________________________________________________________\n",
      "dropout_6 (Dropout)             (None, 1, 128)       0           max_pooling1d_6[0][0]            \n",
      "__________________________________________________________________________________________________\n",
      "bidirectional_3 (Bidirectional) (None, 264)          189024      input_3[0][0]                    \n",
      "__________________________________________________________________________________________________\n",
      "flatten_2 (Flatten)             (None, 128)          0           dropout_6[0][0]                  \n",
      "__________________________________________________________________________________________________\n",
      "leaky_re_lu_4 (LeakyReLU)       (None, 264)          0           bidirectional_3[0][0]            \n",
      "__________________________________________________________________________________________________\n",
      "dense_5 (Dense)                 (None, 60)           7740        flatten_2[0][0]                  \n",
      "__________________________________________________________________________________________________\n",
      "dense_9 (Dense)                 (None, 100)          26500       leaky_re_lu_4[0][0]              \n",
      "__________________________________________________________________________________________________\n",
      "concatenate_2 (Concatenate)     (None, 160)          0           dense_5[0][0]                    \n",
      "                                                                 dense_9[0][0]                    \n",
      "__________________________________________________________________________________________________\n",
      "dense_10 (Dense)                (None, 48)           7728        concatenate_2[0][0]              \n",
      "__________________________________________________________________________________________________\n",
      "dropout_8 (Dropout)             (None, 48)           0           dense_10[0][0]                   \n",
      "__________________________________________________________________________________________________\n",
      "dense_11 (Dense)                (None, 2)            98          dropout_8[0][0]                  \n",
      "==================================================================================================\n",
      "Total params: 1,151,162\n",
      "Trainable params: 1,062,962\n",
      "Non-trainable params: 88,200\n",
      "__________________________________________________________________________________________________\n"
     ]
    }
   ],
   "source": [
    "#Display model summary\n",
    "model.summary()\n",
    "\n",
    "#save a plot of the model to file\n",
    "from keras.utils import plot_model\n",
    "plot_model(model, to_file='model.png')"
   ]
  },
  {
   "cell_type": "code",
   "execution_count": 199,
   "metadata": {},
   "outputs": [],
   "source": [
    "#Set vaiables\n",
    "class_weight = {0 :1., 1: 10}\n",
    "multi_model_path = 'Multi_input_CNNandRNN_Model_Best_Run_Dec16.h5'\n",
    "learning_rate = .000000000001  \n",
    "BATCH_SIZE = 1000\n",
    "BATCH_SHAPE = (BATCH_SIZE, sequence_length,numcols)"
   ]
  },
  {
   "cell_type": "code",
   "execution_count": 200,
   "metadata": {
    "collapsed": true
   },
   "outputs": [],
   "source": [
    "#define optimizers and parameters\n",
    "rmsprop = optimizers.RMSprop(lr=learning_rate, rho=0.9, epsilon=None, decay=0.0, clipnorm=.5)\n",
    "adam = keras.optimizers.Adam(lr=learning_rate, clipnorm=.5, beta_1=0.9, beta_2=0.999, \n",
    "                             epsilon=None, decay=0.0, amsgrad=True)\n",
    "\n",
    "#compile model\n",
    "model.compile(optimizer='adam', loss='binary_crossentropy', metrics=['acc'])"
   ]
  },
  {
   "cell_type": "markdown",
   "metadata": {},
   "source": [
    "##### Fit mulit-input model"
   ]
  },
  {
   "cell_type": "markdown",
   "metadata": {},
   "source": [
    "#### Fit the model"
   ]
  },
  {
   "cell_type": "code",
   "execution_count": 201,
   "metadata": {
    "scrolled": true
   },
   "outputs": [
    {
     "name": "stdout",
     "output_type": "stream",
     "text": [
      "Train on 42700 samples, validate on 21498 samples\n",
      "Epoch 1/200\n",
      " - 129s - loss: 0.9602 - acc: 0.7222 - val_loss: 0.6917 - val_acc: 0.7875\n",
      "\n",
      "Epoch 00001: val_loss improved from inf to 0.69173, saving model to Multi_input_CNNandRNN_Model_Best_Run_Dec16.h5\n",
      "[]\n",
      "Epoch 2/200\n",
      " - 124s - loss: 0.9759 - acc: 0.7254 - val_loss: 0.7621 - val_acc: 0.7354\n",
      "\n",
      "Epoch 00002: val_loss did not improve from 0.69173\n",
      "[]\n",
      "Epoch 3/200\n",
      " - 124s - loss: 0.9609 - acc: 0.7106 - val_loss: 0.7295 - val_acc: 0.7494\n",
      "\n",
      "Epoch 00003: val_loss did not improve from 0.69173\n",
      "[]\n",
      "Epoch 4/200\n",
      " - 124s - loss: 0.9550 - acc: 0.7200 - val_loss: 0.7011 - val_acc: 0.7771\n",
      "\n",
      "Epoch 00004: val_loss did not improve from 0.69173\n",
      "[]\n",
      "Epoch 5/200\n",
      " - 124s - loss: 0.9462 - acc: 0.7281 - val_loss: 0.6958 - val_acc: 0.7749\n",
      "\n",
      "Epoch 00005: val_loss did not improve from 0.69173\n",
      "[]\n",
      "Epoch 6/200\n",
      " - 124s - loss: 0.9507 - acc: 0.7215 - val_loss: 0.7061 - val_acc: 0.7546\n",
      "\n",
      "Epoch 00006: val_loss did not improve from 0.69173\n",
      "[]\n",
      "Epoch 7/200\n",
      " - 124s - loss: 0.9333 - acc: 0.7224 - val_loss: 0.7234 - val_acc: 0.7645\n",
      "\n",
      "Epoch 00007: val_loss did not improve from 0.69173\n",
      "[]\n",
      "Epoch 8/200\n",
      " - 124s - loss: 0.9426 - acc: 0.7280 - val_loss: 0.7213 - val_acc: 0.7656\n",
      "\n",
      "Epoch 00008: val_loss did not improve from 0.69173\n",
      "[]\n",
      "Epoch 9/200\n",
      " - 124s - loss: 0.9414 - acc: 0.7234 - val_loss: 0.6945 - val_acc: 0.7815\n",
      "\n",
      "Epoch 00009: val_loss did not improve from 0.69173\n",
      "[]\n",
      "Epoch 10/200\n",
      " - 124s - loss: 0.9407 - acc: 0.7328 - val_loss: 0.7467 - val_acc: 0.7592\n",
      "\n",
      "Epoch 00010: val_loss did not improve from 0.69173\n",
      "[]\n",
      "Epoch 11/200\n",
      " - 124s - loss: 0.9299 - acc: 0.7337 - val_loss: 0.6564 - val_acc: 0.8177\n",
      "\n",
      "Epoch 00011: val_loss improved from 0.69173 to 0.65645, saving model to Multi_input_CNNandRNN_Model_Best_Run_Dec16.h5\n",
      "[]\n",
      "Epoch 12/200\n",
      " - 124s - loss: 0.9308 - acc: 0.7349 - val_loss: 0.7197 - val_acc: 0.7634\n",
      "\n",
      "Epoch 00012: val_loss did not improve from 0.65645\n",
      "[]\n",
      "Epoch 13/200\n",
      " - 124s - loss: 0.9202 - acc: 0.7379 - val_loss: 0.7816 - val_acc: 0.7560\n",
      "\n",
      "Epoch 00013: val_loss did not improve from 0.65645\n",
      "[]\n",
      "Epoch 14/200\n",
      " - 124s - loss: 0.9267 - acc: 0.7336 - val_loss: 0.7441 - val_acc: 0.7820\n",
      "\n",
      "Epoch 00014: val_loss did not improve from 0.65645\n",
      "[]\n",
      "Epoch 15/200\n",
      " - 124s - loss: 0.9242 - acc: 0.7316 - val_loss: 0.7355 - val_acc: 0.7846\n",
      "\n",
      "Epoch 00015: val_loss did not improve from 0.65645\n",
      "[]\n",
      "Epoch 16/200\n",
      " - 124s - loss: 0.9264 - acc: 0.7436 - val_loss: 0.7382 - val_acc: 0.7771\n",
      "\n",
      "Epoch 00016: val_loss did not improve from 0.65645\n",
      "[]\n",
      "Epoch 17/200\n",
      " - 124s - loss: 0.9265 - acc: 0.7298 - val_loss: 0.7846 - val_acc: 0.7531\n",
      "\n",
      "Epoch 00017: val_loss did not improve from 0.65645\n",
      "[]\n",
      "Epoch 18/200\n",
      " - 125s - loss: 0.9165 - acc: 0.7389 - val_loss: 0.6963 - val_acc: 0.8005\n",
      "\n",
      "Epoch 00018: val_loss did not improve from 0.65645\n",
      "[]\n",
      "Epoch 19/200\n",
      " - 124s - loss: 0.9279 - acc: 0.7386 - val_loss: 0.7536 - val_acc: 0.7578\n",
      "\n",
      "Epoch 00019: val_loss did not improve from 0.65645\n",
      "[]\n",
      "Epoch 20/200\n",
      " - 124s - loss: 0.9223 - acc: 0.7320 - val_loss: 0.7311 - val_acc: 0.7960\n",
      "\n",
      "Epoch 00020: val_loss did not improve from 0.65645\n",
      "[]\n",
      "Epoch 21/200\n",
      " - 124s - loss: 0.9223 - acc: 0.7452 - val_loss: 0.7353 - val_acc: 0.7870\n",
      "\n",
      "Epoch 00021: val_loss did not improve from 0.65645\n",
      "[]\n",
      "Epoch 22/200\n",
      " - 124s - loss: 0.9086 - acc: 0.7438 - val_loss: 0.7047 - val_acc: 0.7927\n",
      "\n",
      "Epoch 00022: val_loss did not improve from 0.65645\n",
      "[]\n",
      "Epoch 23/200\n",
      " - 124s - loss: 0.9078 - acc: 0.7418 - val_loss: 0.7508 - val_acc: 0.7507\n",
      "\n",
      "Epoch 00023: val_loss did not improve from 0.65645\n",
      "[]\n",
      "Epoch 24/200\n",
      " - 124s - loss: 0.9103 - acc: 0.7322 - val_loss: 0.7480 - val_acc: 0.7741\n",
      "\n",
      "Epoch 00024: val_loss did not improve from 0.65645\n",
      "[]\n",
      "Epoch 25/200\n",
      " - 124s - loss: 0.9069 - acc: 0.7498 - val_loss: 0.7478 - val_acc: 0.7672\n",
      "\n",
      "Epoch 00025: val_loss did not improve from 0.65645\n",
      "[]\n",
      "Epoch 26/200\n",
      " - 124s - loss: 0.9059 - acc: 0.7413 - val_loss: 0.7346 - val_acc: 0.7767\n",
      "\n",
      "Epoch 00026: val_loss did not improve from 0.65645\n",
      "[]\n",
      "Epoch 27/200\n",
      " - 124s - loss: 0.9073 - acc: 0.7438 - val_loss: 0.7242 - val_acc: 0.7793\n",
      "\n",
      "Epoch 00027: val_loss did not improve from 0.65645\n",
      "[]\n",
      "Epoch 28/200\n",
      " - 124s - loss: 0.8957 - acc: 0.7473 - val_loss: 0.7591 - val_acc: 0.7544\n",
      "\n",
      "Epoch 00028: val_loss did not improve from 0.65645\n",
      "[]\n",
      "Epoch 29/200\n",
      " - 124s - loss: 0.9048 - acc: 0.7392 - val_loss: 0.7474 - val_acc: 0.7451\n",
      "\n",
      "Epoch 00029: val_loss did not improve from 0.65645\n",
      "[]\n",
      "Epoch 30/200\n",
      " - 124s - loss: 0.9056 - acc: 0.7488 - val_loss: 0.7199 - val_acc: 0.7759\n",
      "\n",
      "Epoch 00030: val_loss did not improve from 0.65645\n",
      "[]\n",
      "Epoch 31/200\n",
      " - 124s - loss: 0.8983 - acc: 0.7529 - val_loss: 0.7633 - val_acc: 0.7566\n",
      "\n",
      "Epoch 00031: val_loss did not improve from 0.65645\n",
      "[]\n",
      "Epoch 32/200\n",
      " - 124s - loss: 0.8978 - acc: 0.7459 - val_loss: 0.7463 - val_acc: 0.7662\n",
      "\n",
      "Epoch 00032: val_loss did not improve from 0.65645\n",
      "[]\n",
      "Epoch 33/200\n",
      " - 124s - loss: 0.8945 - acc: 0.7519 - val_loss: 0.7252 - val_acc: 0.7951\n",
      "\n",
      "Epoch 00033: val_loss did not improve from 0.65645\n",
      "[]\n",
      "Epoch 34/200\n",
      " - 124s - loss: 0.8926 - acc: 0.7579 - val_loss: 0.7268 - val_acc: 0.7903\n",
      "\n",
      "Epoch 00034: val_loss did not improve from 0.65645\n",
      "[]\n",
      "Epoch 35/200\n",
      " - 124s - loss: 0.8928 - acc: 0.7447 - val_loss: 0.7550 - val_acc: 0.7677\n",
      "\n",
      "Epoch 00035: val_loss did not improve from 0.65645\n",
      "[]\n",
      "Epoch 36/200\n",
      " - 124s - loss: 0.8942 - acc: 0.7547 - val_loss: 0.7495 - val_acc: 0.7782\n",
      "\n",
      "Epoch 00036: val_loss did not improve from 0.65645\n",
      "[]\n",
      "Epoch 37/200\n",
      " - 124s - loss: 0.8938 - acc: 0.7585 - val_loss: 0.7036 - val_acc: 0.7966\n",
      "\n",
      "Epoch 00037: val_loss did not improve from 0.65645\n",
      "[]\n",
      "Epoch 38/200\n",
      " - 124s - loss: 0.8825 - acc: 0.7604 - val_loss: 0.7295 - val_acc: 0.7909\n",
      "\n",
      "Epoch 00038: val_loss did not improve from 0.65645\n",
      "[]\n",
      "Epoch 39/200\n",
      " - 124s - loss: 0.8882 - acc: 0.7593 - val_loss: 0.6594 - val_acc: 0.8019\n",
      "\n",
      "Epoch 00039: val_loss did not improve from 0.65645\n",
      "[]\n",
      "Epoch 40/200\n",
      " - 124s - loss: 0.8815 - acc: 0.7526 - val_loss: 0.7687 - val_acc: 0.7577\n",
      "\n",
      "Epoch 00040: val_loss did not improve from 0.65645\n",
      "[]\n",
      "Epoch 41/200\n",
      " - 124s - loss: 0.8913 - acc: 0.7583 - val_loss: 0.7558 - val_acc: 0.7704\n",
      "\n",
      "Epoch 00041: val_loss did not improve from 0.65645\n",
      "[]\n",
      "Epoch 00041: early stopping\n"
     ]
    }
   ],
   "source": [
    "history = model.fit([X_train_cnn,X_train_rnn],[y_train_cnn], \n",
    "                    epochs= 200, #20, \n",
    "                    batch_size=BATCH_SIZE,  \n",
    "                    verbose=2, \n",
    "                    shuffle=True,\n",
    "                    validation_data=([X_val_cnn,X_val_rnn],y_val_cnn),\n",
    "                    class_weight = class_weight,\n",
    "                    \n",
    "callbacks = [keras.callbacks.EarlyStopping(monitor='val_loss', min_delta=0, patience=30, verbose=1, mode='min'),\n",
    "             keras.callbacks.ModelCheckpoint(multi_model_path,monitor='val_loss', save_best_only=True, mode='min', verbose=1), print_weights] )"
   ]
  },
  {
   "cell_type": "code",
   "execution_count": 202,
   "metadata": {},
   "outputs": [
    {
     "data": {
      "image/png": "[encoded data removed]",
      "text/plain": [
       "<Figure size 720x576 with 2 Axes>"
      ]
     },
     "metadata": {},
     "output_type": "display_data"
    }
   ],
   "source": [
    "InteractiveShell.ast_node_interactivity = \"none\"\n",
    "import matplotlib.pyplot as plt  \n",
    "plt.rcParams[\"figure.figsize\"]=10,8\n",
    "#accuracy history\n",
    "plt.subplot(211)  \n",
    "plt.plot(history.history['acc'])  \n",
    "plt.plot(history.history['val_acc'])  \n",
    "plt.title('model accuracy')  \n",
    "plt.ylabel('accuracy')  \n",
    "plt.xlabel('epoch')  \n",
    "plt.legend(['train', 'test'], loc='upper left')  \n",
    "#loss history\n",
    "plt.subplot(212)  \n",
    "plt.plot(history.history['loss'])  \n",
    "plt.plot(history.history['val_loss'])  \n",
    "plt.title('model loss')  \n",
    "plt.ylabel('loss')  \n",
    "plt.xlabel('epoch')  \n",
    "plt.legend(['train', 'test'], loc='upper left')  \n",
    "plt.show() "
   ]
  },
  {
   "cell_type": "code",
   "execution_count": null,
   "metadata": {
    "collapsed": true
   },
   "outputs": [],
   "source": []
  },
  {
   "cell_type": "markdown",
   "metadata": {
    "collapsed": true
   },
   "source": [
    "## 5: Evaluation"
   ]
  },
  {
   "cell_type": "code",
   "execution_count": 203,
   "metadata": {
    "collapsed": true
   },
   "outputs": [],
   "source": [
    "# Load the model\n",
    "model = load_model( 'Multi_input_CNNandRNN_Model_Best_Run_Dec16.h5')\n",
    " \n",
    "\n"
   ]
  },
  {
   "cell_type": "markdown",
   "metadata": {
    "collapsed": true
   },
   "source": [
    "Convert y_val_rnn format toy_val_rnn_classes\n",
    "\n",
    "    From\n",
    "      array([[1., 0.],\n",
    "             [0., 1.],\n",
    "             [1., 0.]], dtype=float32)\n",
    "    to\n",
    "      array([0, 1, 0, 0, 0, 0, 0, 0, 0, 0])"
   ]
  },
  {
   "cell_type": "code",
   "execution_count": 204,
   "metadata": {
    "collapsed": true
   },
   "outputs": [],
   "source": [
    "flag = [1]\n",
    "ix = np.isin(y_val_rnn, flag)\n",
    "r, c = np.where(ix)\n",
    "y_val_rnn_classes = c"
   ]
  },
  {
   "cell_type": "markdown",
   "metadata": {},
   "source": [
    "### Prediction by model is [prob(class=0), prob(class=1)]"
   ]
  },
  {
   "cell_type": "code",
   "execution_count": 205,
   "metadata": {
    "collapsed": true
   },
   "outputs": [],
   "source": [
    "y_pred_prob = model.predict([X_val_cnn,X_val_rnn])"
   ]
  },
  {
   "cell_type": "markdown",
   "metadata": {},
   "source": [
    "### Convert probablities to class label"
   ]
  },
  {
   "cell_type": "code",
   "execution_count": 206,
   "metadata": {
    "collapsed": true
   },
   "outputs": [],
   "source": [
    "#y_pred_class = keras.np_utils.probas_to_classes(y_pred_proba)\n",
    "y_pred_class = y_pred_prob.argmax(axis=-1)"
   ]
  },
  {
   "cell_type": "markdown",
   "metadata": {},
   "source": [
    "### Confusiton Matrix, precision and recall"
   ]
  },
  {
   "cell_type": "code",
   "execution_count": 207,
   "metadata": {
    "scrolled": true
   },
   "outputs": [
    {
     "name": "stdout",
     "output_type": "stream",
     "text": [
      "tn:  16901 \n",
      "fp:  3226 \n",
      "fn:  691 \n",
      "tp:  680\n",
      "precision:\t  0.1740911418330773\n",
      "recall:\t\t  0.4959883296863603\n",
      "acc:\t\t  0.8177970043724998\n"
     ]
    },
    {
     "data": {
      "image/png": "[encoded data removed]",
      "text/plain": [
       "<Figure size 288x216 with 2 Axes>"
      ]
     },
     "metadata": {},
     "output_type": "display_data"
    }
   ],
   "source": [
    "from sklearn.metrics import confusion_matrix\n",
    "import seaborn as sb\n",
    "\n",
    "confusion_mat = confusion_matrix(y_val_rnn_classes, y_pred_class); confusion_mat\n",
    "\n",
    "_ = plt.figure(figsize = (4,3))\n",
    "_ = sb.heatmap(confusion_mat/confusion_mat.sum(), vmin=0, vmax=1)\n",
    "\n",
    "tn, fp, fn, tp = confusion_mat.ravel()\n",
    "print('tn: ', tn, '\\nfp: ', fp, '\\nfn: ', fn, '\\ntp: ', tp)\n",
    "\n",
    "precision = tp/(tp+fp); print('precision:\\t ', precision)\n",
    "recall = tp/(tp+fn); print('recall:\\t\\t ', recall)\n",
    "acc = (tp+tn)/(tp+tn+fp+fn); print('acc:\\t\\t ', acc)"
   ]
  },
  {
   "cell_type": "markdown",
   "metadata": {},
   "source": [
    "### End -  Prepped Data Frames Script"
   ]
  },
  {
   "cell_type": "code",
   "execution_count": null,
   "metadata": {
    "collapsed": true
   },
   "outputs": [],
   "source": []
  },
  {
   "cell_type": "code",
   "execution_count": null,
   "metadata": {
    "collapsed": true
   },
   "outputs": [],
   "source": []
  },
  {
   "cell_type": "code",
   "execution_count": null,
   "metadata": {
    "collapsed": true
   },
   "outputs": [],
   "source": []
  }
 ],
 "metadata": {
  "kernelspec": {
   "display_name": "Python [default]",
   "language": "python",
   "name": "python3"
  },
  "language_info": {
   "codemirror_mode": {
    "name": "ipython",
    "version": 3
   },
   "file_extension": ".py",
   "mimetype": "text/x-python",
   "name": "python",
   "nbconvert_exporter": "python",
   "pygments_lexer": "ipython3",
   "version": "3.6.3"
  }
 },
 "nbformat": 4,
 "nbformat_minor": 2
}
