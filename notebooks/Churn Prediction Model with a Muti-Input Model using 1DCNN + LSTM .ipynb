{
 "cells": [
  {
   "cell_type": "markdown",
   "metadata": {},
   "source": [
    "# Churn Prediction Multiple Input Model - 1D CNN with LSTM  "
   ]
  },
  {
   "cell_type": "markdown",
   "metadata": {},
   "source": [
    "Last Updated: December 11, 2018"
   ]
  },
  {
   "cell_type": "code",
   "execution_count": 148,
   "metadata": {},
   "outputs": [],
   "source": [
    "%matplotlib inline\n",
    "\n",
    "from IPython.core.interactiveshell import InteractiveShell\n",
    "InteractiveShell.ast_node_interactivity = \"all\"\n",
    "%matplotlib inline\n",
    "import pyodbc\n",
    "import datetime\n",
    "from sklearn import preprocessing\n",
    "from __future__ import print_function\n",
    "import numpy as np\n",
    "import pandas as pd\n",
    "import matplotlib.pyplot as plt\n",
    "from IPython.display import SVG\n",
    "from sklearn import preprocessing\n",
    "import os\n",
    "from os.path import join, dirname\n",
    "from os.path import dirname, join\n",
    "from tqdm import tqdm_notebook\n",
    "import pandas as pd\n",
    "from pandas import pivot\n",
    "from pandas import tools\n",
    "import numpy as np\n",
    "import cv2\n",
    "import re\n",
    "import io\n",
    "import sys \n",
    "import pip\n",
    "import csv\n",
    "from sklearn.model_selection import train_test_split\n",
    "import glob\n",
    "import random\n",
    "import warnings\n",
    "from pandas import DataFrame   \n",
    "import pickle\n",
    "import cloudpickle\n",
    "import azureml\n",
    "import string\n",
    "from scipy import stats\n",
    "import pyparsing\n",
    "import tempfile  \n",
    "import logging\n",
    "import graphviz\n",
    "#Keras and NLP Packages\n",
    "import keras\n",
    "from keras.preprocessing.sequence import pad_sequences\n",
    "from keras.utils.np_utils import to_categorical\n",
    "from keras.preprocessing.text import Tokenizer     \n",
    "from keras.preprocessing import sequence\n",
    "from keras.models import Sequential\n",
    "from keras.layers import Dense, Embedding\n",
    "from keras.layers.core import Dropout\n",
    "from keras.layers import LSTM\n",
    "from keras.layers import Dense, Input, Flatten \n",
    "from keras.layers import Conv1D, MaxPooling1D, Embedding \n",
    "from keras.models import Model \n",
    "from keras.utils import plot_model\n",
    "from keras.utils.vis_utils import model_to_dot\n",
    "from keras.models import load_model\n",
    "from keras.applications import imagenet_utils\n",
    "from keras.layers import Embedding\n",
    "from keras.utils.np_utils import to_categorical\n",
    "from keras import initializers\n",
    "from keras import optimizers\n",
    "from keras.callbacks import EarlyStopping\n",
    "from keras.layers.normalization import BatchNormalization\n",
    "from keras.layers import initializers \n",
    "from keras.layers import regularizers \n",
    "from keras.layers import constraints \n",
    "from keras.layers import Activation\n",
    "from keras.layers.advanced_activations import PReLU\n",
    "from keras.layers.advanced_activations import LeakyReLU\n",
    "from keras.layers.advanced_activations import ELU\n",
    "from keras.constraints import max_norm\n",
    "import keras.backend as K\n",
    "import gensim\n",
    "from gensim.models import Phrases, phrases\n",
    "from gensim.models.phrases import Phraser\n",
    "from gensim.models import Word2Vec as wv\n",
    "import nltk\n",
    "from gensim import corpora, models, similarities\n",
    "from __future__ import division\n",
    "import numpy as np\n",
    "import nltk\n",
    "from nltk.corpus import stopwords\n",
    "from azure.storage.blob import BlockBlobService\n",
    "from textgenrnn import textgenrnn"
   ]
  },
  {
   "cell_type": "markdown",
   "metadata": {
    "collapsed": true
   },
   "source": [
    "## 0: Setting Up"
   ]
  },
  {
   "cell_type": "code",
   "execution_count": 149,
   "metadata": {
    "collapsed": true
   },
   "outputs": [],
   "source": [
    "PATH = 'D://MAFData//'\n",
    "PATH_OUT =  'D://MAFData//'\n",
    "PATH_GLOVE = 'C://MAFVentures//glove//'\n",
    "PATH_MODEL_DELETE = 'D://MAFData//'\n",
    "PATH_MODEL = 'D://MAFData//'"
   ]
  },
  {
   "cell_type": "code",
   "execution_count": 150,
   "metadata": {
    "collapsed": true
   },
   "outputs": [],
   "source": [
    "#os.chdir('D://MAFData')\n",
    "#base_dir = 'D://MAFData'\n",
    "#print(base_dir)\n",
    "#os.getcwd()\n",
    "np.random.seed(2032)"
   ]
  },
  {
   "cell_type": "markdown",
   "metadata": {},
   "source": [
    "## 1: Getting Data Ready"
   ]
  },
  {
   "cell_type": "markdown",
   "metadata": {},
   "source": [
    "### Read in Categorical Data\n",
    "- input file: `Categorical_dataframe.csv`\n",
    "- output var: `df1`\n",
    "\n",
    "\n",
    "** NOTE: `df1` duplicated with `Text_Cats_TimeSteps_df`** !!!!!"
   ]
  },
  {
   "cell_type": "code",
   "execution_count": 151,
   "metadata": {
    "collapsed": true
   },
   "outputs": [],
   "source": [
    "dtypes = {'Sequence': str, 'ATTRITION_FLAG': str}\n",
    "\n",
    "Text_Cats_TimeSteps_df = pd.read_csv(PATH + 'Categorical_dataframe.csv',sep=',',encoding='utf-8', header = 0) \n",
    "\n",
    "Text_Cats_TimeSteps_df = Text_Cats_TimeSteps_df[[\n",
    " 'Account_Number',\n",
    " 'MISDATE',\n",
    " 'Incident_Category',\n",
    " 'Incident_Type',\n",
    " 'Incident_Cat_Sequence_Daily',\n",
    " 'Incident_Type_Sequence_Daily',\n",
    " ]]"
   ]
  },
  {
   "cell_type": "code",
   "execution_count": 152,
   "metadata": {},
   "outputs": [
    {
     "data": {
      "text/plain": [
       "(9408644, 6)"
      ]
     },
     "execution_count": 152,
     "metadata": {},
     "output_type": "execute_result"
    },
    {
     "data": {
      "text/plain": [
       "['Account_Number',\n",
       " 'MISDATE',\n",
       " 'Incident_Category',\n",
       " 'Incident_Type',\n",
       " 'Incident_Cat_Sequence_Daily',\n",
       " 'Incident_Type_Sequence_Daily']"
      ]
     },
     "execution_count": 152,
     "metadata": {},
     "output_type": "execute_result"
    },
    {
     "data": {
      "text/html": [
       "<div>\n",
       "<style scoped>\n",
       "    .dataframe tbody tr th:only-of-type {\n",
       "        vertical-align: middle;\n",
       "    }\n",
       "\n",
       "    .dataframe tbody tr th {\n",
       "        vertical-align: top;\n",
       "    }\n",
       "\n",
       "    .dataframe thead th {\n",
       "        text-align: right;\n",
       "    }\n",
       "</style>\n",
       "<table border=\"1\" class=\"dataframe\">\n",
       "  <thead>\n",
       "    <tr style=\"text-align: right;\">\n",
       "      <th></th>\n",
       "      <th>Account_Number</th>\n",
       "      <th>MISDATE</th>\n",
       "      <th>Incident_Category</th>\n",
       "      <th>Incident_Type</th>\n",
       "      <th>Incident_Cat_Sequence_Daily</th>\n",
       "      <th>Incident_Type_Sequence_Daily</th>\n",
       "    </tr>\n",
       "  </thead>\n",
       "  <tbody>\n",
       "    <tr>\n",
       "      <th>0</th>\n",
       "      <td>MAFF_ACCT_0000002125</td>\n",
       "      <td>2017-09-07</td>\n",
       "      <td>Transaction Enquiry</td>\n",
       "      <td>Account Enquiry</td>\n",
       "      <td>Transaction Enquiry</td>\n",
       "      <td>Account Enquiry</td>\n",
       "    </tr>\n",
       "  </tbody>\n",
       "</table>\n",
       "</div>"
      ],
      "text/plain": [
       "         Account_Number     MISDATE    Incident_Category    Incident_Type  \\\n",
       "0  MAFF_ACCT_0000002125  2017-09-07  Transaction Enquiry  Account Enquiry   \n",
       "\n",
       "  Incident_Cat_Sequence_Daily Incident_Type_Sequence_Daily  \n",
       "0         Transaction Enquiry              Account Enquiry  "
      ]
     },
     "execution_count": 152,
     "metadata": {},
     "output_type": "execute_result"
    }
   ],
   "source": [
    "Text_Cats_TimeSteps_df.shape\n",
    "list(Text_Cats_TimeSteps_df.columns)\n",
    "Text_Cats_TimeSteps_df.head(1)"
   ]
  },
  {
   "cell_type": "markdown",
   "metadata": {},
   "source": [
    "### Labels\n",
    "- input file: `Account_Churn_Labels.csv`\n",
    "- output var: `Labels`"
   ]
  },
  {
   "cell_type": "code",
   "execution_count": 153,
   "metadata": {},
   "outputs": [
    {
     "data": {
      "text/plain": [
       "(81109, 2)"
      ]
     },
     "execution_count": 153,
     "metadata": {},
     "output_type": "execute_result"
    },
    {
     "data": {
      "text/html": [
       "<div>\n",
       "<style scoped>\n",
       "    .dataframe tbody tr th:only-of-type {\n",
       "        vertical-align: middle;\n",
       "    }\n",
       "\n",
       "    .dataframe tbody tr th {\n",
       "        vertical-align: top;\n",
       "    }\n",
       "\n",
       "    .dataframe thead th {\n",
       "        text-align: right;\n",
       "    }\n",
       "</style>\n",
       "<table border=\"1\" class=\"dataframe\">\n",
       "  <thead>\n",
       "    <tr style=\"text-align: right;\">\n",
       "      <th></th>\n",
       "      <th>Account_Number</th>\n",
       "      <th>ATTRITION_FLAG</th>\n",
       "    </tr>\n",
       "  </thead>\n",
       "  <tbody>\n",
       "    <tr>\n",
       "      <th>0</th>\n",
       "      <td>MAFF_ACCT_0000002125</td>\n",
       "      <td>OPEN</td>\n",
       "    </tr>\n",
       "  </tbody>\n",
       "</table>\n",
       "</div>"
      ],
      "text/plain": [
       "         Account_Number ATTRITION_FLAG\n",
       "0  MAFF_ACCT_0000002125           OPEN"
      ]
     },
     "execution_count": 153,
     "metadata": {},
     "output_type": "execute_result"
    }
   ],
   "source": [
    "Labels = pd.read_csv(PATH + 'Account_Churn_Labels.csv',sep=',',encoding='utf-8')\n",
    "Labels.drop(columns=['Unnamed: 0'], inplace=True)\n",
    "Labels.shape\n",
    "Labels.head(1)"
   ]
  },
  {
   "cell_type": "markdown",
   "metadata": {},
   "source": [
    "### Merge Categorical Data with Labels\n",
    "- input df: `Text_Cats_TimeSteps_df`, `Labels`\n",
    "- ouput df: `Text_Cats_TimeSteps_df`"
   ]
  },
  {
   "cell_type": "code",
   "execution_count": 154,
   "metadata": {
    "collapsed": true
   },
   "outputs": [],
   "source": [
    "Text_Cats_TimeSteps_df = pd.merge(Text_Cats_TimeSteps_df, Labels,\n",
    "                                  how='left', left_on='Account_Number', right_on='Account_Number')"
   ]
  },
  {
   "cell_type": "code",
   "execution_count": 155,
   "metadata": {},
   "outputs": [
    {
     "data": {
      "text/plain": [
       "['Account_Number',\n",
       " 'MISDATE',\n",
       " 'Incident_Category',\n",
       " 'Incident_Type',\n",
       " 'Incident_Cat_Sequence_Daily',\n",
       " 'Incident_Type_Sequence_Daily',\n",
       " 'ATTRITION_FLAG']"
      ]
     },
     "execution_count": 155,
     "metadata": {},
     "output_type": "execute_result"
    }
   ],
   "source": [
    "\n",
    "list(Text_Cats_TimeSteps_df.columns)"
   ]
  },
  {
   "cell_type": "markdown",
   "metadata": {},
   "source": [
    "## 2:  Prepare Sequence by Account Data for for 1D CNN\n",
    "### Prepare Categorical Data\n",
    "- input df: `Text_Cats_TimeSteps_df`\n",
    "- output df: `df_text`\n",
    "\n",
    "** NOTE: `df1` or `df_text` may be redundant ** "
   ]
  },
  {
   "cell_type": "code",
   "execution_count": 156,
   "metadata": {},
   "outputs": [
    {
     "data": {
      "text/plain": [
       "(9408644, 7)"
      ]
     },
     "execution_count": 156,
     "metadata": {},
     "output_type": "execute_result"
    },
    {
     "data": {
      "text/html": [
       "<div>\n",
       "<style scoped>\n",
       "    .dataframe tbody tr th:only-of-type {\n",
       "        vertical-align: middle;\n",
       "    }\n",
       "\n",
       "    .dataframe tbody tr th {\n",
       "        vertical-align: top;\n",
       "    }\n",
       "\n",
       "    .dataframe thead th {\n",
       "        text-align: right;\n",
       "    }\n",
       "</style>\n",
       "<table border=\"1\" class=\"dataframe\">\n",
       "  <thead>\n",
       "    <tr style=\"text-align: right;\">\n",
       "      <th></th>\n",
       "      <th>Account_Number</th>\n",
       "      <th>MISDATE</th>\n",
       "      <th>Incident_Category</th>\n",
       "      <th>Incident_Type</th>\n",
       "      <th>Incident_Cat_Sequence_Daily</th>\n",
       "      <th>Incident_Type_Sequence_Daily</th>\n",
       "      <th>ATTRITION_FLAG</th>\n",
       "    </tr>\n",
       "  </thead>\n",
       "  <tbody>\n",
       "    <tr>\n",
       "      <th>0</th>\n",
       "      <td>MAFF_ACCT_0000002125</td>\n",
       "      <td>2017-09-07</td>\n",
       "      <td>Transaction Enquiry</td>\n",
       "      <td>Account Enquiry</td>\n",
       "      <td>Transaction Enquiry</td>\n",
       "      <td>Account Enquiry</td>\n",
       "      <td>OPEN</td>\n",
       "    </tr>\n",
       "  </tbody>\n",
       "</table>\n",
       "</div>"
      ],
      "text/plain": [
       "         Account_Number    MISDATE    Incident_Category    Incident_Type  \\\n",
       "0  MAFF_ACCT_0000002125 2017-09-07  Transaction Enquiry  Account Enquiry   \n",
       "\n",
       "  Incident_Cat_Sequence_Daily Incident_Type_Sequence_Daily ATTRITION_FLAG  \n",
       "0         Transaction Enquiry              Account Enquiry           OPEN  "
      ]
     },
     "execution_count": 156,
     "metadata": {},
     "output_type": "execute_result"
    },
    {
     "data": {
      "text/plain": [
       "Account_Number                          object\n",
       "MISDATE                         datetime64[ns]\n",
       "Incident_Category                       object\n",
       "Incident_Type                           object\n",
       "Incident_Cat_Sequence_Daily             object\n",
       "Incident_Type_Sequence_Daily            object\n",
       "ATTRITION_FLAG                          object\n",
       "dtype: object"
      ]
     },
     "execution_count": 156,
     "metadata": {},
     "output_type": "execute_result"
    }
   ],
   "source": [
    "df_text = Text_Cats_TimeSteps_df\n",
    "df_text['MISDATE'] = pd.to_datetime(df_text['MISDATE'], format='%Y-%m-%d')\n",
    "\n",
    "df_text.shape\n",
    "df_text.head(1)\n",
    "df_text.dtypes"
   ]
  },
  {
   "cell_type": "code",
   "execution_count": 157,
   "metadata": {},
   "outputs": [
    {
     "data": {
      "text/plain": [
       "81109.0"
      ]
     },
     "execution_count": 157,
     "metadata": {},
     "output_type": "execute_result"
    }
   ],
   "source": [
    "len(df_text)/116"
   ]
  },
  {
   "cell_type": "markdown",
   "metadata": {},
   "source": [
    "### Concatanate `Incident_Category` into one row per account `Incident_Cat_Sequence_Daily`\n",
    "- input df: `df_text`\n",
    "- output df: `df_text_cleaned`"
   ]
  },
  {
   "cell_type": "code",
   "execution_count": 158,
   "metadata": {
    "collapsed": true
   },
   "outputs": [],
   "source": [
    "df_text = df_text.sort_values(['Account_Number','MISDATE'], ascending=[True, False])\n",
    "df_text = df_text.reset_index(drop=True)"
   ]
  },
  {
   "cell_type": "code",
   "execution_count": 159,
   "metadata": {},
   "outputs": [
    {
     "data": {
      "text/plain": [
       "(81109, 7)"
      ]
     },
     "execution_count": 159,
     "metadata": {},
     "output_type": "execute_result"
    },
    {
     "data": {
      "text/html": [
       "<div>\n",
       "<style scoped>\n",
       "    .dataframe tbody tr th:only-of-type {\n",
       "        vertical-align: middle;\n",
       "    }\n",
       "\n",
       "    .dataframe tbody tr th {\n",
       "        vertical-align: top;\n",
       "    }\n",
       "\n",
       "    .dataframe thead th {\n",
       "        text-align: right;\n",
       "    }\n",
       "</style>\n",
       "<table border=\"1\" class=\"dataframe\">\n",
       "  <thead>\n",
       "    <tr style=\"text-align: right;\">\n",
       "      <th></th>\n",
       "      <th>Account_Number</th>\n",
       "    </tr>\n",
       "  </thead>\n",
       "  <tbody>\n",
       "    <tr>\n",
       "      <th>0</th>\n",
       "      <td>MAFF_ACCT_0000002125</td>\n",
       "    </tr>\n",
       "  </tbody>\n",
       "</table>\n",
       "</div>"
      ],
      "text/plain": [
       "         Account_Number\n",
       "0  MAFF_ACCT_0000002125"
      ]
     },
     "execution_count": 159,
     "metadata": {},
     "output_type": "execute_result"
    }
   ],
   "source": [
    "# Aggregate longer sequences of multiple incident categories per account into its own variable.\n",
    "accounts = df_text.groupby(['Account_Number']).head(1)\n",
    "accounts = pd.DataFrame(accounts)\n",
    "accounts = accounts.reset_index(drop=True)\n",
    "accounts.shape\n",
    "\n",
    "accounts = pd.DataFrame(accounts['Account_Number'])\n",
    "accounts.head(1)"
   ]
  },
  {
   "cell_type": "code",
   "execution_count": 160,
   "metadata": {},
   "outputs": [
    {
     "data": {
      "text/plain": [
       "(81109, 1)"
      ]
     },
     "execution_count": 160,
     "metadata": {},
     "output_type": "execute_result"
    }
   ],
   "source": [
    "df_text_cleaned = df_text.groupby(['Account_Number'])['Incident_Category'].agg(lambda col: ' _ '.join(col))\n",
    "\n",
    "# convert from Series to DataFrame\n",
    "df_text_cleaned = pd.DataFrame(df_text_cleaned)\n",
    "df_text_cleaned = df_text_cleaned.reset_index(drop=True)\n",
    "df_text_cleaned.columns = ['Incident_Cat_Sequence']\n",
    "df_text_cleaned.shape"
   ]
  },
  {
   "cell_type": "code",
   "execution_count": 161,
   "metadata": {},
   "outputs": [
    {
     "data": {
      "text/plain": [
       "(81109, 1)"
      ]
     },
     "execution_count": 161,
     "metadata": {},
     "output_type": "execute_result"
    }
   ],
   "source": [
    "# Aggregate longer sequences of multiple incident types per account into its own variable.\n",
    "df_text_cleaned2 = df_text.groupby(['Account_Number'])['Incident_Type'].agg(lambda col: ' _ '.join(col))\n",
    "\n",
    "# convert from Series to DataFrame\n",
    "df_text_cleaned2 = pd.DataFrame(df_text_cleaned2)\n",
    "df_text_cleaned2 = df_text_cleaned2.reset_index(drop=True)\n",
    "df_text_cleaned2.columns = ['Incident_Type_Sequence']\n",
    "df_text_cleaned2.shape"
   ]
  },
  {
   "cell_type": "code",
   "execution_count": 162,
   "metadata": {},
   "outputs": [
    {
     "data": {
      "text/plain": [
       "(81109, 5)"
      ]
     },
     "execution_count": 162,
     "metadata": {},
     "output_type": "execute_result"
    },
    {
     "data": {
      "text/html": [
       "<div>\n",
       "<style scoped>\n",
       "    .dataframe tbody tr th:only-of-type {\n",
       "        vertical-align: middle;\n",
       "    }\n",
       "\n",
       "    .dataframe tbody tr th {\n",
       "        vertical-align: top;\n",
       "    }\n",
       "\n",
       "    .dataframe thead th {\n",
       "        text-align: right;\n",
       "    }\n",
       "</style>\n",
       "<table border=\"1\" class=\"dataframe\">\n",
       "  <thead>\n",
       "    <tr style=\"text-align: right;\">\n",
       "      <th></th>\n",
       "      <th>level_0</th>\n",
       "      <th>index</th>\n",
       "      <th>Account_Number</th>\n",
       "      <th>Incident_Cat_Sequence</th>\n",
       "      <th>Incident_Type_Sequence</th>\n",
       "    </tr>\n",
       "  </thead>\n",
       "  <tbody>\n",
       "    <tr>\n",
       "      <th>0</th>\n",
       "      <td>0</td>\n",
       "      <td>0</td>\n",
       "      <td>MAFF_ACCT_0000002125</td>\n",
       "      <td>Transaction Enquiry _ None _ None _ None _ Non...</td>\n",
       "      <td>Account Enquiry _ None _ None _ None _ None _ ...</td>\n",
       "    </tr>\n",
       "  </tbody>\n",
       "</table>\n",
       "</div>"
      ],
      "text/plain": [
       "   level_0  index        Account_Number  \\\n",
       "0        0      0  MAFF_ACCT_0000002125   \n",
       "\n",
       "                               Incident_Cat_Sequence  \\\n",
       "0  Transaction Enquiry _ None _ None _ None _ Non...   \n",
       "\n",
       "                              Incident_Type_Sequence  \n",
       "0  Account Enquiry _ None _ None _ None _ None _ ...  "
      ]
     },
     "execution_count": 162,
     "metadata": {},
     "output_type": "execute_result"
    },
    {
     "data": {
      "text/plain": [
       "Index(['level_0', 'index', 'Account_Number', 'Incident_Cat_Sequence',\n",
       "       'Incident_Type_Sequence'],\n",
       "      dtype='object')"
      ]
     },
     "execution_count": 162,
     "metadata": {},
     "output_type": "execute_result"
    }
   ],
   "source": [
    "df_sequences = pd.concat([accounts.reset_index(), df_text_cleaned], axis=1)\n",
    "df_sequences = pd.concat([df_sequences.reset_index(), df_text_cleaned2], axis=1)\n",
    "df_sequences = df_sequences.reset_index(drop=True)\n",
    "\n",
    "df_sequences.shape\n",
    "df_sequences.head(1)\n",
    "df_sequences.columns"
   ]
  },
  {
   "cell_type": "code",
   "execution_count": 163,
   "metadata": {},
   "outputs": [
    {
     "data": {
      "text/html": [
       "<div>\n",
       "<style scoped>\n",
       "    .dataframe tbody tr th:only-of-type {\n",
       "        vertical-align: middle;\n",
       "    }\n",
       "\n",
       "    .dataframe tbody tr th {\n",
       "        vertical-align: top;\n",
       "    }\n",
       "\n",
       "    .dataframe thead th {\n",
       "        text-align: right;\n",
       "    }\n",
       "</style>\n",
       "<table border=\"1\" class=\"dataframe\">\n",
       "  <thead>\n",
       "    <tr style=\"text-align: right;\">\n",
       "      <th></th>\n",
       "      <th>Account_Number</th>\n",
       "      <th>Incident_Cat_Sequence</th>\n",
       "      <th>Incident_Type_Sequence</th>\n",
       "    </tr>\n",
       "  </thead>\n",
       "  <tbody>\n",
       "    <tr>\n",
       "      <th>0</th>\n",
       "      <td>MAFF_ACCT_0000002125</td>\n",
       "      <td>Transaction Enquiry _ None _ None _ None _ Non...</td>\n",
       "      <td>Account Enquiry _ None _ None _ None _ None _ ...</td>\n",
       "    </tr>\n",
       "    <tr>\n",
       "      <th>1</th>\n",
       "      <td>MAFF_ACCT_0000002171</td>\n",
       "      <td>None _ None _ None _ None _ None _ None _ None...</td>\n",
       "      <td>None _ None _ None _ None _ None _ None _ None...</td>\n",
       "    </tr>\n",
       "    <tr>\n",
       "      <th>2</th>\n",
       "      <td>MAFF_ACCT_0000002222</td>\n",
       "      <td>None _ None _ None _ None _ None _ None _ None...</td>\n",
       "      <td>None _ None _ None _ None _ None _ None _ None...</td>\n",
       "    </tr>\n",
       "  </tbody>\n",
       "</table>\n",
       "</div>"
      ],
      "text/plain": [
       "         Account_Number                              Incident_Cat_Sequence  \\\n",
       "0  MAFF_ACCT_0000002125  Transaction Enquiry _ None _ None _ None _ Non...   \n",
       "1  MAFF_ACCT_0000002171  None _ None _ None _ None _ None _ None _ None...   \n",
       "2  MAFF_ACCT_0000002222  None _ None _ None _ None _ None _ None _ None...   \n",
       "\n",
       "                              Incident_Type_Sequence  \n",
       "0  Account Enquiry _ None _ None _ None _ None _ ...  \n",
       "1  None _ None _ None _ None _ None _ None _ None...  \n",
       "2  None _ None _ None _ None _ None _ None _ None...  "
      ]
     },
     "execution_count": 163,
     "metadata": {},
     "output_type": "execute_result"
    }
   ],
   "source": [
    "del df_sequences['index']\n",
    "del df_sequences['level_0']\n",
    "df_sequences.head(3)"
   ]
  },
  {
   "cell_type": "code",
   "execution_count": 164,
   "metadata": {},
   "outputs": [
    {
     "data": {
      "text/plain": [
       "(81109, 3)"
      ]
     },
     "execution_count": 164,
     "metadata": {},
     "output_type": "execute_result"
    },
    {
     "data": {
      "text/html": [
       "<div>\n",
       "<style scoped>\n",
       "    .dataframe tbody tr th:only-of-type {\n",
       "        vertical-align: middle;\n",
       "    }\n",
       "\n",
       "    .dataframe tbody tr th {\n",
       "        vertical-align: top;\n",
       "    }\n",
       "\n",
       "    .dataframe thead th {\n",
       "        text-align: right;\n",
       "    }\n",
       "</style>\n",
       "<table border=\"1\" class=\"dataframe\">\n",
       "  <thead>\n",
       "    <tr style=\"text-align: right;\">\n",
       "      <th></th>\n",
       "      <th>Account_Number</th>\n",
       "      <th>Incident_Cat_Sequence</th>\n",
       "      <th>Incident_Type_Sequence</th>\n",
       "    </tr>\n",
       "  </thead>\n",
       "  <tbody>\n",
       "    <tr>\n",
       "      <th>0</th>\n",
       "      <td>MAFF_ACCT_0000002125</td>\n",
       "      <td>Transaction Enquiry None None None None None N...</td>\n",
       "      <td>Account Enquiry None None None None None None ...</td>\n",
       "    </tr>\n",
       "    <tr>\n",
       "      <th>1</th>\n",
       "      <td>MAFF_ACCT_0000002171</td>\n",
       "      <td>None None None None None None None None None N...</td>\n",
       "      <td>None None None None None None None None None N...</td>\n",
       "    </tr>\n",
       "  </tbody>\n",
       "</table>\n",
       "</div>"
      ],
      "text/plain": [
       "         Account_Number                              Incident_Cat_Sequence  \\\n",
       "0  MAFF_ACCT_0000002125  Transaction Enquiry None None None None None N...   \n",
       "1  MAFF_ACCT_0000002171  None None None None None None None None None N...   \n",
       "\n",
       "                              Incident_Type_Sequence  \n",
       "0  Account Enquiry None None None None None None ...  \n",
       "1  None None None None None None None None None N...  "
      ]
     },
     "execution_count": 164,
     "metadata": {},
     "output_type": "execute_result"
    }
   ],
   "source": [
    "df_sequences['Incident_Cat_Sequence'] = df_sequences['Incident_Cat_Sequence'].str.replace(' _ ',' ')\n",
    "df_sequences['Incident_Type_Sequence'] = df_sequences['Incident_Type_Sequence'].str.replace(' _ ',' ')\n",
    "df_sequences.shape\n",
    "df_sequences.head(2)"
   ]
  },
  {
   "cell_type": "code",
   "execution_count": 165,
   "metadata": {},
   "outputs": [
    {
     "data": {
      "text/plain": [
       "1808"
      ]
     },
     "execution_count": 165,
     "metadata": {},
     "output_type": "execute_result"
    }
   ],
   "source": [
    "#Most clean up already done in pre-processing script in a jupyter notebook.\n",
    "df_sequences['Incident_Cat_Sequence'] = df_sequences['Incident_Cat_Sequence'].astype('str')\n",
    "df_sequences['Incident_Type_Sequence'] = df_sequences['Incident_Type_Sequence'].astype('str')\n",
    "df_sequences['Incident_Cat_Sequence'] = df_sequences['Incident_Cat_Sequence'].str.lower()\n",
    "df_sequences['Incident_Type_Sequence'] = df_sequences['Incident_Type_Sequence'].str.lower()\n",
    "\n",
    "df_sequences[\"Sequence\"] = df_sequences[\"Incident_Cat_Sequence\"] + \" \" + df_sequences[\"Incident_Type_Sequence\"]\n",
    "df_sequences[\"Sequence\"] = df_sequences[\"Account_Number\"] + \" \" + df_sequences[\"Sequence\"]\n",
    "\n",
    "df_sequences= df_sequences[['Account_Number','Sequence']]\n",
    "df_sequences['Sequence'].apply(len).max()"
   ]
  },
  {
   "cell_type": "code",
   "execution_count": 166,
   "metadata": {},
   "outputs": [
    {
     "data": {
      "text/plain": [
       "(81109, 2)"
      ]
     },
     "execution_count": 166,
     "metadata": {},
     "output_type": "execute_result"
    },
    {
     "data": {
      "text/plain": [
       "['Account_Number', 'Sequence']"
      ]
     },
     "execution_count": 166,
     "metadata": {},
     "output_type": "execute_result"
    },
    {
     "data": {
      "text/plain": [
       "Account_Number    object\n",
       "Sequence          object\n",
       "dtype: object"
      ]
     },
     "execution_count": 166,
     "metadata": {},
     "output_type": "execute_result"
    }
   ],
   "source": [
    "df_sequences.shape\n",
    "list(df_sequences.columns)\n",
    "\n",
    "df_sequences.dtypes\n"
   ]
  },
  {
   "cell_type": "markdown",
   "metadata": {},
   "source": [
    "### Merge `Labels` with `df_sequences`\n",
    "- input df: `Labels`, `df_sequences`\n",
    "- output df: `df_Joined`"
   ]
  },
  {
   "cell_type": "code",
   "execution_count": 167,
   "metadata": {
    "collapsed": true
   },
   "outputs": [],
   "source": [
    "df_Joined = pd.merge(df_sequences, Labels,  \n",
    "                     how = 'left', \n",
    "                     left_on = 'Account_Number', \n",
    "                     right_on = 'Account_Number')"
   ]
  },
  {
   "cell_type": "code",
   "execution_count": 168,
   "metadata": {},
   "outputs": [
    {
     "data": {
      "text/plain": [
       "(81109, 3)"
      ]
     },
     "execution_count": 168,
     "metadata": {},
     "output_type": "execute_result"
    },
    {
     "data": {
      "text/plain": [
       "['Account_Number', 'Sequence', 'ATTRITION_FLAG']"
      ]
     },
     "execution_count": 168,
     "metadata": {},
     "output_type": "execute_result"
    }
   ],
   "source": [
    "df_Joined.shape\n",
    "list(df_Joined.columns)\n",
    "df_Joined = df_Joined.reset_index(drop=True)\n"
   ]
  },
  {
   "cell_type": "markdown",
   "metadata": {},
   "source": [
    "#### Counts for `OPEN` and `VOLUNTARY`"
   ]
  },
  {
   "cell_type": "code",
   "execution_count": 169,
   "metadata": {},
   "outputs": [
    {
     "data": {
      "text/plain": [
       "OPEN         74267\n",
       "VOLUNTARY     6842\n",
       "Name: ATTRITION_FLAG, dtype: int64"
      ]
     },
     "execution_count": 169,
     "metadata": {},
     "output_type": "execute_result"
    },
    {
     "data": {
      "text/plain": [
       "(81109, 3)"
      ]
     },
     "execution_count": 169,
     "metadata": {},
     "output_type": "execute_result"
    }
   ],
   "source": [
    "df_Joined['ATTRITION_FLAG'].value_counts()\n",
    "df_Joined.shape"
   ]
  },
  {
   "cell_type": "markdown",
   "metadata": {},
   "source": [
    "### Cleantext function to make sequences ready for word embeddings \n",
    "- input : column operation only\n",
    "- output : column operation only"
   ]
  },
  {
   "cell_type": "code",
   "execution_count": 170,
   "metadata": {
    "collapsed": true
   },
   "outputs": [],
   "source": [
    "def clean_text(row):\n",
    "    text = str(row['Sequence'])\n",
    "\n",
    "    # Remove newline characters\n",
    "    cleantext = text.replace('-', '')\n",
    "    cleantext = cleantext.replace('carrefour', 'carrefour ')\n",
    "    cleantext = cleantext.replace('tactical', 'tactical ')\n",
    "    cleantext = cleantext.replace('received', 'received ')\n",
    "    cleantext = cleantext.replace('merchant', 'merchant ')\n",
    "    cleantext = cleantext.replace('lifestyle', ' lifestyle ')\n",
    "    cleantext = cleantext.replace('promo', ' promotion ')\n",
    "    cleantext = cleantext.replace('easy', ' easy ')\n",
    "    cleantext = cleantext.replace('payment', ' payment ') \n",
    "    #cleantext = cleantext.replace('transact', ' transact ') \n",
    "    cleantext = cleantext.replace('acct', ' account ') \n",
    "    cleantext = cleantext.replace('enquiries', ' enquiries ') \n",
    "    cleantext = cleantext.replace('tactical', ' tactical ') \n",
    "\n",
    "    # Convert HTML punctuation chaaracters\n",
    "    cleantext = cleantext.replace('.', '')\n",
    "\n",
    "    #remove punctuation\n",
    "    punctpattern = re.compile('[%s]' % re.escape(string.punctuation))\n",
    "    cleanttext = re.sub(punctpattern,'', cleantext)\n",
    "    cleantext = cleantext.replace(\"\\\\\", \"\") \n",
    "    cleantext = cleantext.replace(\"/\", \"\")\n",
    "    cleantext = re.sub(\"[^a-zA-Z' ]+\", '', cleantext)\n",
    "\n",
    "    #remove single letter word\n",
    "    cleantext = re.sub('(\\\\b[A-Za-z] \\\\b|\\\\b [A-Za-z]\\\\b)', '', cleantext) \n",
    "\n",
    "    #remove non alpha characters and specific noise\n",
    "    cleantext = re.sub(r'\\d+', '',cleantext)\n",
    "    cleantext = re.sub(r'^b','',cleantext)\n",
    "    #cleantext = re.sub(r'[^\\w]',' ',cleantext)\n",
    "\n",
    "    #remove specific noise\n",
    "    cleantext = cleantext.translate(str.maketrans({'‘':' ','’':' '}))\n",
    "    cleantext = cleantext.translate(str.maketrans({',':' ',',':' '}))\n",
    "    cleantext = cleantext.translate(str.maketrans({'\"':' ','%':' '}))\n",
    "    \n",
    "    # Remove extra spaces\n",
    "    cleantext = re.sub('\\s+', ' ', cleantext).strip()\n",
    "\n",
    "    return cleantext"
   ]
  },
  {
   "cell_type": "code",
   "execution_count": 171,
   "metadata": {},
   "outputs": [
    {
     "data": {
      "text/html": [
       "<div>\n",
       "<style scoped>\n",
       "    .dataframe tbody tr th:only-of-type {\n",
       "        vertical-align: middle;\n",
       "    }\n",
       "\n",
       "    .dataframe tbody tr th {\n",
       "        vertical-align: top;\n",
       "    }\n",
       "\n",
       "    .dataframe thead th {\n",
       "        text-align: right;\n",
       "    }\n",
       "</style>\n",
       "<table border=\"1\" class=\"dataframe\">\n",
       "  <thead>\n",
       "    <tr style=\"text-align: right;\">\n",
       "      <th></th>\n",
       "      <th>Account_Number</th>\n",
       "      <th>ATTRITION_FLAG</th>\n",
       "      <th>CleanText</th>\n",
       "    </tr>\n",
       "  </thead>\n",
       "  <tbody>\n",
       "    <tr>\n",
       "      <th>0</th>\n",
       "      <td>MAFF_ACCT_0000002125</td>\n",
       "      <td>OPEN</td>\n",
       "      <td>MAFFACCT transaction enquiry none none none no...</td>\n",
       "    </tr>\n",
       "    <tr>\n",
       "      <th>1</th>\n",
       "      <td>MAFF_ACCT_0000002171</td>\n",
       "      <td>OPEN</td>\n",
       "      <td>MAFFACCT none none none none none none none no...</td>\n",
       "    </tr>\n",
       "  </tbody>\n",
       "</table>\n",
       "</div>"
      ],
      "text/plain": [
       "         Account_Number ATTRITION_FLAG  \\\n",
       "0  MAFF_ACCT_0000002125           OPEN   \n",
       "1  MAFF_ACCT_0000002171           OPEN   \n",
       "\n",
       "                                           CleanText  \n",
       "0  MAFFACCT transaction enquiry none none none no...  \n",
       "1  MAFFACCT none none none none none none none no...  "
      ]
     },
     "execution_count": 171,
     "metadata": {},
     "output_type": "execute_result"
    },
    {
     "data": {
      "text/plain": [
       "(81109, 3)"
      ]
     },
     "execution_count": 171,
     "metadata": {},
     "output_type": "execute_result"
    }
   ],
   "source": [
    "#apply regex fixes to the input text column\n",
    "df_Joined1 = df_Joined\n",
    "df_Joined1['CleanText'] = df_Joined1.apply(clean_text, axis=1)\n",
    "del df_Joined1['Sequence']\n",
    "df_Joined1.head(2)\n",
    "df_Joined1.shape"
   ]
  },
  {
   "cell_type": "code",
   "execution_count": 172,
   "metadata": {
    "collapsed": true
   },
   "outputs": [],
   "source": [
    "df_Joined = df_Joined1\n",
    "justcleandocs = pd.DataFrame(df_Joined)"
   ]
  },
  {
   "cell_type": "markdown",
   "metadata": {},
   "source": [
    "### Saving intermediate file\n"
   ]
  },
  {
   "cell_type": "code",
   "execution_count": 173,
   "metadata": {},
   "outputs": [
    {
     "name": "stdout",
     "output_type": "stream",
     "text": [
      "(81109, 3)\n"
     ]
    },
    {
     "data": {
      "text/html": [
       "<div>\n",
       "<style scoped>\n",
       "    .dataframe tbody tr th:only-of-type {\n",
       "        vertical-align: middle;\n",
       "    }\n",
       "\n",
       "    .dataframe tbody tr th {\n",
       "        vertical-align: top;\n",
       "    }\n",
       "\n",
       "    .dataframe thead th {\n",
       "        text-align: right;\n",
       "    }\n",
       "</style>\n",
       "<table border=\"1\" class=\"dataframe\">\n",
       "  <thead>\n",
       "    <tr style=\"text-align: right;\">\n",
       "      <th></th>\n",
       "      <th>Account_Number</th>\n",
       "      <th>ATTRITION_FLAG</th>\n",
       "      <th>CleanText</th>\n",
       "    </tr>\n",
       "  </thead>\n",
       "  <tbody>\n",
       "    <tr>\n",
       "      <th>0</th>\n",
       "      <td>MAFF_ACCT_0000002125</td>\n",
       "      <td>OPEN</td>\n",
       "      <td>MAFFACCT transaction enquiry none none none no...</td>\n",
       "    </tr>\n",
       "    <tr>\n",
       "      <th>1</th>\n",
       "      <td>MAFF_ACCT_0000002171</td>\n",
       "      <td>OPEN</td>\n",
       "      <td>MAFFACCT none none none none none none none no...</td>\n",
       "    </tr>\n",
       "  </tbody>\n",
       "</table>\n",
       "</div>"
      ],
      "text/plain": [
       "         Account_Number ATTRITION_FLAG  \\\n",
       "0  MAFF_ACCT_0000002125           OPEN   \n",
       "1  MAFF_ACCT_0000002171           OPEN   \n",
       "\n",
       "                                           CleanText  \n",
       "0  MAFFACCT transaction enquiry none none none no...  \n",
       "1  MAFFACCT none none none none none none none no...  "
      ]
     },
     "execution_count": 173,
     "metadata": {},
     "output_type": "execute_result"
    }
   ],
   "source": [
    "#save a cleaned copy to inspect\n",
    "justcleandocs.to_csv('cleaned_text.tsv', sep='\\t', encoding='utf-8')\n",
    "print(justcleandocs.shape)\n",
    "justcleandocs.head(2)"
   ]
  },
  {
   "cell_type": "markdown",
   "metadata": {},
   "source": [
    "### Seperate Labels from Sequences\n",
    "- input df: `df_Joined`\n",
    "- output df: `Text_Sequence_df`, `Labels`\n"
   ]
  },
  {
   "cell_type": "code",
   "execution_count": 174,
   "metadata": {},
   "outputs": [
    {
     "data": {
      "text/plain": [
       "OPEN         74267\n",
       "VOLUNTARY     6842\n",
       "Name: ATTRITION_FLAG, dtype: int64"
      ]
     },
     "execution_count": 174,
     "metadata": {},
     "output_type": "execute_result"
    }
   ],
   "source": [
    "df_Joined['ATTRITION_FLAG'].value_counts()"
   ]
  },
  {
   "cell_type": "code",
   "execution_count": 175,
   "metadata": {
    "collapsed": true
   },
   "outputs": [],
   "source": [
    "Labels = df_Joined[['Account_Number','ATTRITION_FLAG']]\n",
    "Text_Sequence_df = df_Joined[['Account_Number','CleanText']]\n",
    "\n",
    "Labels_backup = Labels"
   ]
  },
  {
   "cell_type": "code",
   "execution_count": 176,
   "metadata": {},
   "outputs": [
    {
     "data": {
      "text/plain": [
       "Index(['Account_Number', 'ATTRITION_FLAG'], dtype='object')"
      ]
     },
     "execution_count": 176,
     "metadata": {},
     "output_type": "execute_result"
    },
    {
     "data": {
      "text/plain": [
       "(81109, 2)"
      ]
     },
     "execution_count": 176,
     "metadata": {},
     "output_type": "execute_result"
    },
    {
     "data": {
      "text/html": [
       "<div>\n",
       "<style scoped>\n",
       "    .dataframe tbody tr th:only-of-type {\n",
       "        vertical-align: middle;\n",
       "    }\n",
       "\n",
       "    .dataframe tbody tr th {\n",
       "        vertical-align: top;\n",
       "    }\n",
       "\n",
       "    .dataframe thead th {\n",
       "        text-align: right;\n",
       "    }\n",
       "</style>\n",
       "<table border=\"1\" class=\"dataframe\">\n",
       "  <thead>\n",
       "    <tr style=\"text-align: right;\">\n",
       "      <th></th>\n",
       "      <th>Account_Number</th>\n",
       "      <th>ATTRITION_FLAG</th>\n",
       "    </tr>\n",
       "  </thead>\n",
       "  <tbody>\n",
       "    <tr>\n",
       "      <th>0</th>\n",
       "      <td>MAFF_ACCT_0000002125</td>\n",
       "      <td>OPEN</td>\n",
       "    </tr>\n",
       "  </tbody>\n",
       "</table>\n",
       "</div>"
      ],
      "text/plain": [
       "         Account_Number ATTRITION_FLAG\n",
       "0  MAFF_ACCT_0000002125           OPEN"
      ]
     },
     "execution_count": 176,
     "metadata": {},
     "output_type": "execute_result"
    },
    {
     "data": {
      "text/plain": [
       "Index(['Account_Number', 'CleanText'], dtype='object')"
      ]
     },
     "execution_count": 176,
     "metadata": {},
     "output_type": "execute_result"
    },
    {
     "data": {
      "text/plain": [
       "(81109, 2)"
      ]
     },
     "execution_count": 176,
     "metadata": {},
     "output_type": "execute_result"
    },
    {
     "data": {
      "text/html": [
       "<div>\n",
       "<style scoped>\n",
       "    .dataframe tbody tr th:only-of-type {\n",
       "        vertical-align: middle;\n",
       "    }\n",
       "\n",
       "    .dataframe tbody tr th {\n",
       "        vertical-align: top;\n",
       "    }\n",
       "\n",
       "    .dataframe thead th {\n",
       "        text-align: right;\n",
       "    }\n",
       "</style>\n",
       "<table border=\"1\" class=\"dataframe\">\n",
       "  <thead>\n",
       "    <tr style=\"text-align: right;\">\n",
       "      <th></th>\n",
       "      <th>Account_Number</th>\n",
       "      <th>CleanText</th>\n",
       "    </tr>\n",
       "  </thead>\n",
       "  <tbody>\n",
       "    <tr>\n",
       "      <th>0</th>\n",
       "      <td>MAFF_ACCT_0000002125</td>\n",
       "      <td>MAFFACCT transaction enquiry none none none no...</td>\n",
       "    </tr>\n",
       "  </tbody>\n",
       "</table>\n",
       "</div>"
      ],
      "text/plain": [
       "         Account_Number                                          CleanText\n",
       "0  MAFF_ACCT_0000002125  MAFFACCT transaction enquiry none none none no..."
      ]
     },
     "execution_count": 176,
     "metadata": {},
     "output_type": "execute_result"
    }
   ],
   "source": [
    "Labels.columns\n",
    "Labels.shape\n",
    "Labels.head(1)\n",
    "\n",
    "Text_Sequence_df.columns\n",
    "Text_Sequence_df.shape\n",
    "Text_Sequence_df.head(1)"
   ]
  },
  {
   "cell_type": "code",
   "execution_count": 177,
   "metadata": {},
   "outputs": [
    {
     "data": {
      "text/plain": [
       "(81109, 2)"
      ]
     },
     "execution_count": 177,
     "metadata": {},
     "output_type": "execute_result"
    },
    {
     "data": {
      "text/plain": [
       "['Account_Number', 'CleanText']"
      ]
     },
     "execution_count": 177,
     "metadata": {},
     "output_type": "execute_result"
    }
   ],
   "source": [
    "Text_Sequence_df.shape\n",
    "list(Text_Sequence_df.columns)"
   ]
  },
  {
   "cell_type": "code",
   "execution_count": null,
   "metadata": {
    "collapsed": true
   },
   "outputs": [],
   "source": []
  },
  {
   "cell_type": "markdown",
   "metadata": {},
   "source": [
    "### Create Tokenized Word Index for Later Use\n",
    "\n",
    "file in: Text_Sequence_df['CleanText']\n",
    "file out: word_index"
   ]
  },
  {
   "cell_type": "code",
   "execution_count": 178,
   "metadata": {
    "collapsed": true
   },
   "outputs": [],
   "source": [
    "np.set_printoptions(threshold=np.nan)"
   ]
  },
  {
   "cell_type": "code",
   "execution_count": 179,
   "metadata": {
    "collapsed": true
   },
   "outputs": [],
   "source": [
    "#Tokenize all samples\n",
    "# Here we tokenize our source data\n",
    "MAX_SEQUENCE_LENGTH = 1500\n",
    "MAX_NB_WORDS = 400000\n",
    "EMBEDDING_DIM = 300"
   ]
  },
  {
   "cell_type": "code",
   "execution_count": 180,
   "metadata": {},
   "outputs": [
    {
     "data": {
      "text/html": [
       "<div>\n",
       "<style scoped>\n",
       "    .dataframe tbody tr th:only-of-type {\n",
       "        vertical-align: middle;\n",
       "    }\n",
       "\n",
       "    .dataframe tbody tr th {\n",
       "        vertical-align: top;\n",
       "    }\n",
       "\n",
       "    .dataframe thead th {\n",
       "        text-align: right;\n",
       "    }\n",
       "</style>\n",
       "<table border=\"1\" class=\"dataframe\">\n",
       "  <thead>\n",
       "    <tr style=\"text-align: right;\">\n",
       "      <th></th>\n",
       "      <th>CleanText</th>\n",
       "    </tr>\n",
       "  </thead>\n",
       "  <tbody>\n",
       "    <tr>\n",
       "      <th>0</th>\n",
       "      <td>MAFFACCT transaction enquiry none none none no...</td>\n",
       "    </tr>\n",
       "    <tr>\n",
       "      <th>1</th>\n",
       "      <td>MAFFACCT none none none none none none none no...</td>\n",
       "    </tr>\n",
       "    <tr>\n",
       "      <th>2</th>\n",
       "      <td>MAFFACCT none none none none none none none no...</td>\n",
       "    </tr>\n",
       "    <tr>\n",
       "      <th>3</th>\n",
       "      <td>MAFFACCT none none none none none none none no...</td>\n",
       "    </tr>\n",
       "    <tr>\n",
       "      <th>4</th>\n",
       "      <td>MAFFACCT none none billed finance charge none ...</td>\n",
       "    </tr>\n",
       "  </tbody>\n",
       "</table>\n",
       "</div>"
      ],
      "text/plain": [
       "                                           CleanText\n",
       "0  MAFFACCT transaction enquiry none none none no...\n",
       "1  MAFFACCT none none none none none none none no...\n",
       "2  MAFFACCT none none none none none none none no...\n",
       "3  MAFFACCT none none none none none none none no...\n",
       "4  MAFFACCT none none billed finance charge none ..."
      ]
     },
     "execution_count": 180,
     "metadata": {},
     "output_type": "execute_result"
    },
    {
     "data": {
      "text/plain": [
       "(81109, 1)"
      ]
     },
     "execution_count": 180,
     "metadata": {},
     "output_type": "execute_result"
    }
   ],
   "source": [
    "# Taking on the CleatnText Column\n",
    "justcleandocs = Text_Sequence_df[['CleanText']]\n",
    "justcleandocs.head()\n",
    "justcleandocs.shape"
   ]
  },
  {
   "cell_type": "code",
   "execution_count": 181,
   "metadata": {},
   "outputs": [
    {
     "data": {
      "text/plain": [
       "(81109,)"
      ]
     },
     "execution_count": 181,
     "metadata": {},
     "output_type": "execute_result"
    }
   ],
   "source": [
    "#convert text format\n",
    "justcleandocslist  = justcleandocs.values.ravel()\n",
    "justcleandocslist.shape"
   ]
  },
  {
   "cell_type": "code",
   "execution_count": 182,
   "metadata": {},
   "outputs": [
    {
     "data": {
      "text/plain": [
       "'MAFFACCT transaction enquiry none none none none none none none none none none none none none marketing campaign none none none none none none none none none none none none none none none none none none none none none none none none none none none none none none none none none none none none none none none none none none none none none none none najm lifestyle none none none none none none none none none none none none none none none none none none none none none none none none transaction enquiry none none none none none none transaction enquiry none none none none none none none none none none none none none none none none none none none none none account enquiry none none none none none none none none none none none none none additional features on card none none none none none none none none none none none none none none none none none none none none none none none none none none none none none none none none none none none none none none none none none none none none none none none customer enquiry none none none none none none none none none none none none none none none none none none none none none none none none account enquiry none none none none none none account enquiry none none none none none none none none none none none none none none none none none none none none none'"
      ]
     },
     "execution_count": 182,
     "metadata": {},
     "output_type": "execute_result"
    },
    {
     "data": {
      "text/plain": [
       "numpy.ndarray"
      ]
     },
     "execution_count": 182,
     "metadata": {},
     "output_type": "execute_result"
    }
   ],
   "source": [
    "#check justcleandocslist\n",
    "justcleandocslist[0]\n",
    "type(justcleandocslist)"
   ]
  },
  {
   "cell_type": "code",
   "execution_count": 183,
   "metadata": {
    "collapsed": true
   },
   "outputs": [],
   "source": [
    "#tokenize the text\n",
    "tokenizer = Tokenizer(num_words=MAX_NB_WORDS)\n",
    "tokenizer.fit_on_texts(justcleandocslist) #tokenizer.fit_on_texts(texts)\n",
    "sequences = tokenizer.texts_to_sequences(justcleandocslist) #sequences = tokenizer.texts_to_sequences(texts)"
   ]
  },
  {
   "cell_type": "code",
   "execution_count": 184,
   "metadata": {
    "scrolled": false
   },
   "outputs": [
    {
     "name": "stdout",
     "output_type": "stream",
     "text": [
      "Found 294 unique tokens\n"
     ]
    }
   ],
   "source": [
    "word_index = tokenizer.word_index #word_index = tokenizer.word_index\n",
    "print('Found {} unique tokens'.format(len(word_index)))\n"
   ]
  },
  {
   "cell_type": "code",
   "execution_count": 185,
   "metadata": {
    "collapsed": true,
    "scrolled": false
   },
   "outputs": [],
   "source": [
    "#Pad sequences so that they all have the same length in a batch of input data \n",
    "data = pad_sequences(sequences, maxlen=MAX_SEQUENCE_LENGTH, padding='pre', truncating='pre')\n",
    "sequences = None\n",
    "texts = None"
   ]
  },
  {
   "cell_type": "code",
   "execution_count": 186,
   "metadata": {},
   "outputs": [
    {
     "data": {
      "text/plain": [
       "array([  0,   0,   0,   0,   0,   0,   0,   0,   0,   0,   0,   0,   0,\n",
       "         0,   0,   0,   0,   0,   0,   0,   0,   0,   0,   0,   0,   0,\n",
       "         0,   0,   0,   0,   0,   0,   0,   0,   0,   0,   0,   0,   0,\n",
       "         0,   0,   0,   0,   0,   0,   0,   0,   0,   0,   0,   0,   0,\n",
       "         0,   0,   0,   0,   0,   0,   0,   0,   0,   0,   0,   0,   0,\n",
       "         0,   0,   0,   0,   0,   0,   0,   0,   0,   0,   0,   0,   0,\n",
       "         0,   0,   0,   0,   0,   0,   0,   0,   0,   0,   0,   0,   0,\n",
       "         0,   0,   0,   0,   0,   0,   0,   0,   0,   0,   0,   0,   0,\n",
       "         0,   0,   0,   0,   0,   0,   0,   0,   0,   0,   0,   0,   0,\n",
       "         0,   0,   0,   0,   0,   0,   0,   0,   0,   0,   0,   0,   0,\n",
       "         0,   0,   0,   0,   0,   0,   0,   0,   0,   0,   0,   0,   0,\n",
       "         0,   0,   0,   0,   0,   0,   0,   0,   0,   0,   0,   0,   0,\n",
       "         0,   0,   0,   0,   0,   0,   0,   0,   0,   0,   0,   0,   0,\n",
       "         0,   0,   0,   0,   0,   0,   0,   0,   0,   0,   0,   0,   0,\n",
       "         0,   0,   0,   0,   0,   0,   0,   0,   0,   0,   0,   0,   0,\n",
       "         0,   0,   0,   0,   0,   0,   0,   0,   0,   0,   0,   0,   0,\n",
       "         0,   0,   0,   0,   0,   0,   0,   0,   0,   0,   0,   0,   0,\n",
       "         0,   0,   0,   0,   0,   0,   0,   0,   0,   0,   0,   0,   0,\n",
       "         0,   0,   0,   0,   0,   0,   0,   0,   0,   0,   0,   0,   0,\n",
       "         0,   0,   0,   0,   0,   0,   0,   0,   0,   0,   0,   0,   0,\n",
       "         0,   0,   0,   0,   0,   0,   0,   0,   0,   0,   0,   0,   0,\n",
       "         0,   0,   0,   0,   0,   0,   0,   0,   0,   0,   0,   0,   0,\n",
       "         0,   0,   0,   0,   0,   0,   0,   0,   0,   0,   0,   0,   0,\n",
       "         0,   0,   0,   0,   0,   0,   0,   0,   0,   0,   0,   0,   0,\n",
       "         0,   0,   0,   0,   0,   0,   0,   0,   0,   0,   0,   0,   0,\n",
       "         0,   0,   0,   0,   0,   0,   0,   0,   0,   0,   0,   0,   0,\n",
       "         0,   0,   0,   0,   0,   0,   0,   0,   0,   0,   0,   0,   0,\n",
       "         0,   0,   0,   0,   0,   0,   0,   0,   0,   0,   0,   0,   0,\n",
       "         0,   0,   0,   0,   0,   0,   0,   0,   0,   0,   0,   0,   0,\n",
       "         0,   0,   0,   0,   0,   0,   0,   0,   0,   0,   0,   0,   0,\n",
       "         0,   0,   0,   0,   0,   0,   0,   0,   0,   0,   0,   0,   0,\n",
       "         0,   0,   0,   0,   0,   0,   0,   0,   0,   0,   0,   0,   0,\n",
       "         0,   0,   0,   0,   0,   0,   0,   0,   0,   0,   0,   0,   0,\n",
       "         0,   0,   0,   0,   0,   0,   0,   0,   0,   0,   0,   0,   0,\n",
       "         0,   0,   0,   0,   0,   0,   0,   0,   0,   0,   0,   0,   0,\n",
       "         0,   0,   0,   0,   0,   0,   0,   0,   0,   0,   0,   0,   0,\n",
       "         0,   0,   0,   0,   0,   0,   0,   0,   0,   0,   0,   0,   0,\n",
       "         0,   0,   0,   0,   0,   0,   0,   0,   0,   0,   0,   0,   0,\n",
       "         0,   0,   0,   0,   0,   0,   0,   0,   0,   0,   0,   0,   0,\n",
       "         0,   0,   0,   0,   0,   0,   0,   0,   0,   0,   0,   0,   0,\n",
       "         0,   0,   0,   0,   0,   0,   0,   0,   0,   0,   0,   0,   0,\n",
       "         0,   0,   0,   0,   0,   0,   0,   0,   0,   0,   0,   0,   0,\n",
       "         0,   0,   0,   0,   0,   0,   0,   0,   0,   0,   0,   0,   0,\n",
       "         0,   0,   0,   0,   0,   0,   0,   0,   0,   0,   0,   0,   0,\n",
       "         0,   0,   0,   0,   0,   0,   0,   0,   0,   0,   0,   0,   0,\n",
       "         0,   0,   0,   0,   0,   0,   0,   0,   0,   0,   0,   0,   0,\n",
       "         0,   0,   0,   0,   0,   0,   0,   0,   0,   0,   0,   0,   0,\n",
       "         0,   0,   0,   0,   0,   0,   0,   0,   0,   0,   0,   0,   0,\n",
       "         0,   0,   0,   0,   0,   0,   0,   0,   0,   0,   0,   0,   0,\n",
       "         0,   0,   0,   0,   0,   0,   0,   0,   0,   0,   0,   0,   0,\n",
       "         0,   0,   0,   0,   0,   0,   0,   0,   0,   0,   0,   0,   0,\n",
       "         0,   0,   0,   0,   0,   0,   0,   0,   0,   0,   0,   0,   0,\n",
       "         0,   0,   0,   0,   0,   0,   0,   0,   0,   0,   0,   0,   0,\n",
       "         0,   0,   0,   0,   0,   0,   0,   0,   0,   0,   0,   0,   0,\n",
       "         0,   0,   0,   0,   0,   0,   0,   0,   0,   0,   0,   0,   0,\n",
       "         0,   0,   0,   0,   0,   0,   0,   0,   0,   0,   0,   0,   0,\n",
       "         0,   0,   0,   0,   0,   0,   0,   0,   0,   0,   0,   0,   0,\n",
       "         0,   0,   0,   0,   0,   0,   0,   0,   0,   0,   0,   0,   0,\n",
       "         0,   0,   0,   0,   0,   0,   0,   0,   0,   0,   0,   0,   0,\n",
       "         0,   0,   0,   0,   0,   0,   0,   0,   0,   0,   0,   0,   0,\n",
       "         0,   0,   0,   0,   0,   0,   0,   0,   0,   0,   0,   0,   0,\n",
       "         0,   0,   0,   0,   0,   0,   0,   0,   0,   0,   0,   0,   0,\n",
       "         0,   0,   0,   0,   0,   0,   0,   0,   0,   0,   0,   0,   0,\n",
       "         0,   0,   0,   0,   0,   0,   0,   0,   0,   0,   0,   0,   0,\n",
       "         0,   0,   0,   0,   0,   0,   0,   0,   0,   0,   0,   0,   0,\n",
       "         0,   0,   0,   0,   0,   0,   0,   0,   0,   0,   0,   0,   0,\n",
       "         0,   0,   0,   0,   0,   0,   0,   0,   0,   0,   0,   0,   0,\n",
       "         0,   0,   0,   0,   0,   0,   0,   0,   0,   0,   0,   0,   0,\n",
       "         0,   0,   0,   0,   0,   0,   0,   0,   0,   0,   0,   0,   0,\n",
       "         0,   0,   0,   0,   0,   0,   0,   0,   0,   0,   0,   0,   0,\n",
       "         0,   0,   0,   0,   0,   0,   0,   0,   0,   0,   0,   0,   0,\n",
       "         0,   0,   0,   0,   0,   0,   0,   0,   0,   0,   0,   0,   0,\n",
       "         0,   0,   0,   0,   0,   0,   0,   0,   0,   0,   0,   0,   0,\n",
       "         0,   0,   0,   0,   0,   0,   0,   0,   0,   0,   0,   0,   0,\n",
       "         0,   0,   0,   0,   0,   0,   0,   0,   0,   0,   0,   0,   0,\n",
       "         0,   0,   0,   0,   0,   0,   0,   0,   0,   0,   0,   0,   0,\n",
       "         0,   0,   0,   0,   0,   0,   0,   0,   0,   0,   0,   0,   0,\n",
       "         0,   0,   0,   0,   0,   0,   0,   0,   0,   0,   0,   0,   0,\n",
       "         0,   0,   0,   0,   0,   0,   0,   0,   0,   0,   0,   0,   0,\n",
       "         0,   0,   0,   0,   0,   0,   0,   0,   0,   0,   0,   0,   0,\n",
       "         0,   0,   0,   0,   0,   0,   0,   0,   0,   0,   0,   0,   0,\n",
       "         0,   0,   0,   0,   0,   0,   0,   0,   0,   0,   0,   0,   0,\n",
       "         0,   0,   0,   0,   0,   0,   0,   0,   0,   0,   0,   0,   0,\n",
       "         0,   0,   0,   0,   0,   0,   0,   0,   0,   0,   0,   0,   0,\n",
       "         0,   0,   0,   0,   0,   0,   0,   0,   0,   0,   0,   0,   0,\n",
       "         0,   0,   0,   0,   0,   0,   0,   0,   0,   0,   0,   0,   0,\n",
       "         0,   0,   0,   0,   0,   0,   0,   0,   0,   0,   0,   0,   0,\n",
       "         0,   0,   0,   0,   0,   0,   0,   0,   0,   0,   0,   0,   0,\n",
       "         0,   0,   0,   0,   0,   0,   0,   0,   0,   0,   0,   0,   0,\n",
       "         0,   0,   0,   0,   0,   0,   0,   0,   0,   0,   0,   0,   0,\n",
       "         0,   0,   0,   0,   0,   0,   0,   0,   0,   0,   0,   0,   0,\n",
       "         0,   0,   0,   0,   0,   0,   0,   0,   0,   0,   0,   0,   0,\n",
       "         0,   0,   0,   0,   0,   0,   0,   0,   0,   0,   0,   0,   0,\n",
       "         0,   0,   0,   0,   0,   0,   0,   0,   0,   0,   0,   0,   0,\n",
       "         0,   0,   0,   0,   0,   0,   0,   0,   0,   0,   0,   0,   0,\n",
       "         0,   0,   0,   0,   0,   0,   0,   0,   0,   0,   0,   0,   0,\n",
       "         0,   0,   0,   0,   0,   0,   0,   2,  25,   3,   1,   1,   1,\n",
       "         1,   1,   1,   1,   1,   1,   1,   1,   1,   1,   9,  10,   1,\n",
       "         1,   1,   1,   1,   1,   1,   1,   1,   1,   1,   1,   1,   1,\n",
       "         1,   1,   1,   1,   1,   1,   1,   1,   1,   1,   1,   1,   1,\n",
       "         1,   1,   1,   1,   1,   1,   1,   1,   1,   1,   1,   1,   1,\n",
       "         1,   1,   1,   1,   1,   1,   1, 190, 125,   1,   1,   1,   1,\n",
       "         1,   1,   1,   1,   1,   1,   1,   1,   1,   1,   1,   1,   1,\n",
       "         1,   1,   1,   1,   1,   1,   1,  25,   3,   1,   1,   1,   1,\n",
       "         1,   1,  25,   3,   1,   1,   1,   1,   1,   1,   1,   1,   1,\n",
       "         1,   1,   1,   1,   1,   1,   1,   1,   1,   1,   1,   1,   8,\n",
       "         3,   1,   1,   1,   1,   1,   1,   1,   1,   1,   1,   1,   1,\n",
       "         1,   6,   7,   5,   4,   1,   1,   1,   1,   1,   1,   1,   1,\n",
       "         1,   1,   1,   1,   1,   1,   1,   1,   1,   1,   1,   1,   1,\n",
       "         1,   1,   1,   1,   1,   1,   1,   1,   1,   1,   1,   1,   1,\n",
       "         1,   1,   1,   1,   1,   1,   1,   1,   1,   1,   1,   1,   1,\n",
       "        26,   3,   1,   1,   1,   1,   1,   1,   1,   1,   1,   1,   1,\n",
       "         1,   1,   1,   1,   1,   1,   1,   1,   1,   1,   1,   1,   1,\n",
       "         8,   3,   1,   1,   1,   1,   1,   1,   8,   3,   1,   1,   1,\n",
       "         1,   1,   1,   1,   1,   1,   1,   1,   1,   1,   1,   1,   1,\n",
       "         1,   1,   1,   1,   1])"
      ]
     },
     "execution_count": 186,
     "metadata": {},
     "output_type": "execute_result"
    }
   ],
   "source": [
    "data[0]"
   ]
  },
  {
   "cell_type": "code",
   "execution_count": 187,
   "metadata": {},
   "outputs": [
    {
     "data": {
      "text/plain": [
       "{'ac': 287,\n",
       " 'accepted': 176,\n",
       " 'accident': 47,\n",
       " 'account': 8,\n",
       " 'acli': 33,\n",
       " 'activation': 92,\n",
       " 'additional': 6,\n",
       " 'address': 57,\n",
       " 'adjustment': 209,\n",
       " 'advance': 243,\n",
       " 'agent': 186,\n",
       " 'already': 266,\n",
       " 'amf': 194,\n",
       " 'amount': 19,\n",
       " 'and': 185,\n",
       " 'annual': 136,\n",
       " 'application': 149,\n",
       " 'applied': 277,\n",
       " 'at': 49,\n",
       " 'atm': 250,\n",
       " 'back': 253,\n",
       " 'balance': 155,\n",
       " 'banking': 200,\n",
       " 'benefits': 288,\n",
       " 'billed': 22,\n",
       " 'billing': 104,\n",
       " 'block': 135,\n",
       " 'booking': 162,\n",
       " 'booz': 188,\n",
       " 'box': 290,\n",
       " 'bt': 58,\n",
       " 'btlopepp': 132,\n",
       " 'buy': 61,\n",
       " 'by': 11,\n",
       " 'calculation': 111,\n",
       " 'call': 60,\n",
       " 'campaign': 10,\n",
       " 'campaigns': 254,\n",
       " 'cancellation': 110,\n",
       " 'cancellations': 75,\n",
       " 'cancelled': 294,\n",
       " 'cannot': 213,\n",
       " 'captured': 251,\n",
       " 'card': 4,\n",
       " 'cards': 221,\n",
       " 'carrefour': 41,\n",
       " 'cases': 12,\n",
       " 'cash': 152,\n",
       " 'cashback': 145,\n",
       " 'cdm': 124,\n",
       " 'cec': 126,\n",
       " 'center': 201,\n",
       " 'change': 131,\n",
       " 'charge': 138,\n",
       " 'charges': 88,\n",
       " 'cheque': 27,\n",
       " 'chip': 156,\n",
       " 'claim': 203,\n",
       " 'clarification': 103,\n",
       " 'clearance': 291,\n",
       " 'cli': 282,\n",
       " 'closed': 249,\n",
       " 'cm': 48,\n",
       " 'code': 280,\n",
       " 'codes': 187,\n",
       " 'collection': 286,\n",
       " 'collections': 107,\n",
       " 'competition': 293,\n",
       " 'complaint': 70,\n",
       " 'complaints': 133,\n",
       " 'consolidation': 160,\n",
       " 'contact': 42,\n",
       " 'contactable': 127,\n",
       " 'correction': 284,\n",
       " 'counterfeit': 278,\n",
       " 'country': 259,\n",
       " 'courier': 246,\n",
       " 'credit': 100,\n",
       " 'customer': 26,\n",
       " 'cycle': 114,\n",
       " 'damaged': 197,\n",
       " 'date': 164,\n",
       " 'dds': 193,\n",
       " 'decrease': 74,\n",
       " 'department': 15,\n",
       " 'dept': 73,\n",
       " 'detailed': 170,\n",
       " 'details': 40,\n",
       " 'dispute': 143,\n",
       " 'down': 181,\n",
       " 'downgrade': 212,\n",
       " 'drp': 39,\n",
       " 'dsa': 275,\n",
       " 'due': 175,\n",
       " 'duplicate': 130,\n",
       " 'easy': 35,\n",
       " 'emirates': 146,\n",
       " 'enajm': 51,\n",
       " 'enquiries': 178,\n",
       " 'enquiry': 3,\n",
       " 'enrollment': 56,\n",
       " 'entry': 238,\n",
       " 'epp': 36,\n",
       " 'eppbtlop': 171,\n",
       " 'escalation': 210,\n",
       " 'estatement': 69,\n",
       " 'evoucher': 118,\n",
       " 'exchange': 224,\n",
       " 'existing': 54,\n",
       " 'expired': 276,\n",
       " 'facebook': 234,\n",
       " 'fcr': 151,\n",
       " 'features': 7,\n",
       " 'fee': 82,\n",
       " 'fees': 101,\n",
       " 'file': 90,\n",
       " 'finance': 165,\n",
       " 'follow': 64,\n",
       " 'for': 218,\n",
       " 'foreclosure': 150,\n",
       " 'fraud': 115,\n",
       " 'fraudulent': 233,\n",
       " 'fund': 207,\n",
       " 'fyf': 183,\n",
       " 'general': 86,\n",
       " 'gold': 272,\n",
       " 'good': 260,\n",
       " 'goods': 230,\n",
       " 'house': 225,\n",
       " 'id': 147,\n",
       " 'in': 269,\n",
       " 'inactive': 264,\n",
       " 'incident': 66,\n",
       " 'included': 268,\n",
       " 'incorrect': 184,\n",
       " 'increase': 23,\n",
       " 'initiated': 13,\n",
       " 'inquiry': 216,\n",
       " 'integrated': 50,\n",
       " 'interactive': 153,\n",
       " 'internet': 191,\n",
       " 'issue': 122,\n",
       " 'issues': 214,\n",
       " 'it': 242,\n",
       " 'ivr': 68,\n",
       " 'job': 192,\n",
       " 'last': 78,\n",
       " 'late': 102,\n",
       " 'leaving': 258,\n",
       " 'letter': 95,\n",
       " 'level': 53,\n",
       " 'liabilities': 227,\n",
       " 'liability': 96,\n",
       " 'life': 97,\n",
       " 'lifestyle': 125,\n",
       " 'limit': 20,\n",
       " 'loan': 244,\n",
       " 'lop': 38,\n",
       " 'lost': 113,\n",
       " 'lsp': 99,\n",
       " 'maf': 273,\n",
       " 'maffacct': 2,\n",
       " 'mail': 240,\n",
       " 'marketing': 9,\n",
       " 'media': 236,\n",
       " 'membership': 215,\n",
       " 'merchant': 119,\n",
       " 'misc': 94,\n",
       " 'miscellaneous': 228,\n",
       " 'misselling': 265,\n",
       " 'myguard': 83,\n",
       " 'mynajm': 85,\n",
       " 'najm': 190,\n",
       " 'nep': 256,\n",
       " 'new': 17,\n",
       " 'no': 229,\n",
       " 'none': 1,\n",
       " 'normal': 52,\n",
       " 'not': 76,\n",
       " 'npp': 255,\n",
       " 'nwpp': 257,\n",
       " 'nwppnepnpp': 161,\n",
       " 'observation': 128,\n",
       " 'of': 158,\n",
       " 'on': 5,\n",
       " 'open': 59,\n",
       " 'operations': 157,\n",
       " 'opt': 271,\n",
       " 'option': 167,\n",
       " 'options': 137,\n",
       " 'other': 14,\n",
       " 'others': 93,\n",
       " 'out': 239,\n",
       " 'outstanding': 31,\n",
       " 'over': 198,\n",
       " 'paper': 285,\n",
       " 'passport': 211,\n",
       " 'password': 173,\n",
       " 'payment': 18,\n",
       " 'personal': 44,\n",
       " 'phone': 261,\n",
       " 'pin': 45,\n",
       " 'plan': 24,\n",
       " 'points': 108,\n",
       " 'portal': 262,\n",
       " 'premium': 159,\n",
       " 'print': 270,\n",
       " 'privileges': 289,\n",
       " 'prm': 134,\n",
       " 'process': 189,\n",
       " 'promotion': 77,\n",
       " 'protection': 34,\n",
       " 'quasy': 248,\n",
       " 'queries': 79,\n",
       " 'query': 81,\n",
       " 'real': 105,\n",
       " 'reason': 199,\n",
       " 'reced': 252,\n",
       " 'received': 112,\n",
       " 'recession': 206,\n",
       " 'redeemed': 267,\n",
       " 'redemption': 177,\n",
       " 'reducing': 226,\n",
       " 'refund': 208,\n",
       " 'related': 67,\n",
       " 'renewal': 195,\n",
       " 'replaced': 220,\n",
       " 'replacement': 89,\n",
       " 'request': 16,\n",
       " 'requests': 37,\n",
       " 'resigned': 292,\n",
       " 'restructure': 205,\n",
       " 'retained': 231,\n",
       " 'retrieval': 55,\n",
       " 'retrival': 179,\n",
       " 'return': 43,\n",
       " 'reversal': 29,\n",
       " 'rewards': 87,\n",
       " 'risk': 281,\n",
       " 'room': 241,\n",
       " 'sales': 237,\n",
       " 'school': 217,\n",
       " 'sec': 141,\n",
       " 'security': 28,\n",
       " 'sent': 109,\n",
       " 'service': 196,\n",
       " 'settlement': 223,\n",
       " 'setup': 91,\n",
       " 'setupchange': 84,\n",
       " 'signature': 279,\n",
       " 'sms': 144,\n",
       " 'social': 235,\n",
       " 'spelling': 283,\n",
       " 'spend': 263,\n",
       " 'sr': 202,\n",
       " 'staff': 274,\n",
       " 'standalone': 154,\n",
       " 'statement': 63,\n",
       " 'status': 72,\n",
       " 'stolen': 117,\n",
       " 'style': 98,\n",
       " 'supp': 219,\n",
       " 'supplementary': 121,\n",
       " 'survey': 142,\n",
       " 'suspicious': 163,\n",
       " 'system': 180,\n",
       " 'tactical': 222,\n",
       " 'takaful': 46,\n",
       " 'termination': 204,\n",
       " 'the': 232,\n",
       " 'time': 106,\n",
       " 'tion': 80,\n",
       " 'to': 30,\n",
       " 'total': 32,\n",
       " 'tpin': 172,\n",
       " 'transaction': 25,\n",
       " 'transactor': 62,\n",
       " 'transactorepp': 129,\n",
       " 'transfer': 140,\n",
       " 'travel': 116,\n",
       " 'unbilled': 245,\n",
       " 'up': 65,\n",
       " 'update': 21,\n",
       " 'upgrade': 120,\n",
       " 'verified': 148,\n",
       " 'visa': 139,\n",
       " 'voucher': 123,\n",
       " 'vouchers': 169,\n",
       " 'voyager': 71,\n",
       " 'warm': 168,\n",
       " 'with': 247,\n",
       " 'withdrawal': 174,\n",
       " 'working': 182,\n",
       " 'wrong': 166}"
      ]
     },
     "execution_count": 187,
     "metadata": {},
     "output_type": "execute_result"
    }
   ],
   "source": [
    "word_index"
   ]
  },
  {
   "cell_type": "markdown",
   "metadata": {},
   "source": [
    "## 3: Create  `Train`, `Val`, `Test` index and dataset  "
   ]
  },
  {
   "cell_type": "markdown",
   "metadata": {},
   "source": [
    "### Import Master Sampling Index to Create Train, Val and Test Sets\n",
    "- input file: `index_train_attrits.csv`, `index_val_attrits`, `index_val_opens.csv`, `index_train_opens.csv`\n",
    "- output df: `index_train_attrits`, `index_val_attrits`, `index_val_opens`, `index_train_opens` "
   ]
  },
  {
   "cell_type": "code",
   "execution_count": 188,
   "metadata": {
    "collapsed": true
   },
   "outputs": [],
   "source": [
    "#Sampling Index\n",
    "\n",
    "dtypes = {'Account_Number': str}\n",
    "index_train_attrits = pd.read_csv(PATH + 'index_train_attrits.csv',sep=',',encoding='utf-8', header = 0) #, dtype = dtypes)\n",
    "index_train_attrits = pd.DataFrame(index_train_attrits[['Account_Number']])\n",
    "\n",
    "index_train_opens = pd.read_csv(PATH + 'index_train_opens.csv',sep=',',encoding='utf-8', header = 0) #, dtype = dtypes)\n",
    "index_train_opens = pd.DataFrame(index_train_opens[['Account_Number']])\n",
    "\n",
    "index_val_attrits = pd.read_csv(PATH + 'index_val_attrits.csv',sep=',',encoding='utf-8', header = 0) #, dtype = dtypes)\n",
    "index_val_attrits = pd.DataFrame(index_val_attrits[['Account_Number']])\n",
    "\n",
    "index_val_opens = pd.read_csv(PATH + 'index_val_opens.csv',sep=',',encoding='utf-8', header = 0) #, dtype = dtypes)\n",
    "index_val_opens = pd.DataFrame(index_val_opens[['Account_Number']])"
   ]
  },
  {
   "cell_type": "code",
   "execution_count": 189,
   "metadata": {},
   "outputs": [
    {
     "data": {
      "text/plain": [
       "(54996, 1)"
      ]
     },
     "execution_count": 189,
     "metadata": {},
     "output_type": "execute_result"
    },
    {
     "data": {
      "text/plain": [
       "(25977, 1)"
      ]
     },
     "execution_count": 189,
     "metadata": {},
     "output_type": "execute_result"
    }
   ],
   "source": [
    "#Assemble and shuffle rows\n",
    "index_train= index_train_opens.append(index_train_attrits, ignore_index=True)\n",
    "index_train = index_train.reset_index(drop=True)\n",
    "index_train = index_train.sample(frac=1).reset_index(drop=True)\n",
    "index_train.shape\n",
    "\n",
    "index_val= index_val_opens.append(index_val_attrits, ignore_index=True)\n",
    "index_val = index_val.reset_index(drop=True)\n",
    "index_val = index_val.sample(frac=1).reset_index(drop=True)\n",
    "index_val.shape"
   ]
  },
  {
   "cell_type": "markdown",
   "metadata": {},
   "source": [
    "### Create Data Samples for Train and Validation"
   ]
  },
  {
   "cell_type": "code",
   "execution_count": 190,
   "metadata": {},
   "outputs": [
    {
     "data": {
      "text/html": [
       "<div>\n",
       "<style scoped>\n",
       "    .dataframe tbody tr th:only-of-type {\n",
       "        vertical-align: middle;\n",
       "    }\n",
       "\n",
       "    .dataframe tbody tr th {\n",
       "        vertical-align: top;\n",
       "    }\n",
       "\n",
       "    .dataframe thead th {\n",
       "        text-align: right;\n",
       "    }\n",
       "</style>\n",
       "<table border=\"1\" class=\"dataframe\">\n",
       "  <thead>\n",
       "    <tr style=\"text-align: right;\">\n",
       "      <th></th>\n",
       "      <th>Account_Number</th>\n",
       "      <th>CleanText</th>\n",
       "      <th>num</th>\n",
       "    </tr>\n",
       "  </thead>\n",
       "  <tbody>\n",
       "    <tr>\n",
       "      <th>0</th>\n",
       "      <td>MAFF_ACCT_0000002125</td>\n",
       "      <td>MAFFACCT transaction enquiry none none none no...</td>\n",
       "      <td>0</td>\n",
       "    </tr>\n",
       "    <tr>\n",
       "      <th>1</th>\n",
       "      <td>MAFF_ACCT_0000002171</td>\n",
       "      <td>MAFFACCT none none none none none none none no...</td>\n",
       "      <td>1</td>\n",
       "    </tr>\n",
       "  </tbody>\n",
       "</table>\n",
       "</div>"
      ],
      "text/plain": [
       "         Account_Number                                          CleanText  \\\n",
       "0  MAFF_ACCT_0000002125  MAFFACCT transaction enquiry none none none no...   \n",
       "1  MAFF_ACCT_0000002171  MAFFACCT none none none none none none none no...   \n",
       "\n",
       "   num  \n",
       "0    0  \n",
       "1    1  "
      ]
     },
     "execution_count": 190,
     "metadata": {},
     "output_type": "execute_result"
    },
    {
     "data": {
      "text/plain": [
       "0    0\n",
       "1    1\n",
       "2    2\n",
       "3    3\n",
       "4    4\n",
       "Name: num, dtype: int64"
      ]
     },
     "execution_count": 190,
     "metadata": {},
     "output_type": "execute_result"
    },
    {
     "data": {
      "text/plain": [
       "(81109,)"
      ]
     },
     "execution_count": 190,
     "metadata": {},
     "output_type": "execute_result"
    }
   ],
   "source": [
    "#create index length of the sequence data column\n",
    "Text_Sequence_df['num']=Text_Sequence_df.reset_index().index\n",
    "Text_Sequence_df.reset_index(drop=True, inplace=True)\n",
    "\n",
    "Text_Sequence_df.head(2)\n",
    "indices = Text_Sequence_df['num']\n",
    "indices.head()\n",
    "indices.shape"
   ]
  },
  {
   "cell_type": "code",
   "execution_count": 191,
   "metadata": {},
   "outputs": [
    {
     "data": {
      "text/html": [
       "<div>\n",
       "<style scoped>\n",
       "    .dataframe tbody tr th:only-of-type {\n",
       "        vertical-align: middle;\n",
       "    }\n",
       "\n",
       "    .dataframe tbody tr th {\n",
       "        vertical-align: top;\n",
       "    }\n",
       "\n",
       "    .dataframe thead th {\n",
       "        text-align: right;\n",
       "    }\n",
       "</style>\n",
       "<table border=\"1\" class=\"dataframe\">\n",
       "  <thead>\n",
       "    <tr style=\"text-align: right;\">\n",
       "      <th></th>\n",
       "      <th>Account_Number</th>\n",
       "      <th>ATTRITION_FLAG</th>\n",
       "    </tr>\n",
       "  </thead>\n",
       "  <tbody>\n",
       "    <tr>\n",
       "      <th>0</th>\n",
       "      <td>MAFF_ACCT_0000002125</td>\n",
       "      <td>OPEN</td>\n",
       "    </tr>\n",
       "  </tbody>\n",
       "</table>\n",
       "</div>"
      ],
      "text/plain": [
       "         Account_Number ATTRITION_FLAG\n",
       "0  MAFF_ACCT_0000002125           OPEN"
      ]
     },
     "execution_count": 191,
     "metadata": {},
     "output_type": "execute_result"
    },
    {
     "data": {
      "text/html": [
       "<div>\n",
       "<style scoped>\n",
       "    .dataframe tbody tr th:only-of-type {\n",
       "        vertical-align: middle;\n",
       "    }\n",
       "\n",
       "    .dataframe tbody tr th {\n",
       "        vertical-align: top;\n",
       "    }\n",
       "\n",
       "    .dataframe thead th {\n",
       "        text-align: right;\n",
       "    }\n",
       "</style>\n",
       "<table border=\"1\" class=\"dataframe\">\n",
       "  <thead>\n",
       "    <tr style=\"text-align: right;\">\n",
       "      <th></th>\n",
       "      <th>Account_Number</th>\n",
       "      <th>CleanText</th>\n",
       "      <th>num</th>\n",
       "    </tr>\n",
       "  </thead>\n",
       "  <tbody>\n",
       "    <tr>\n",
       "      <th>0</th>\n",
       "      <td>MAFF_ACCT_0000002125</td>\n",
       "      <td>MAFFACCT transaction enquiry none none none no...</td>\n",
       "      <td>0</td>\n",
       "    </tr>\n",
       "  </tbody>\n",
       "</table>\n",
       "</div>"
      ],
      "text/plain": [
       "         Account_Number                                          CleanText  \\\n",
       "0  MAFF_ACCT_0000002125  MAFFACCT transaction enquiry none none none no...   \n",
       "\n",
       "   num  \n",
       "0    0  "
      ]
     },
     "execution_count": 191,
     "metadata": {},
     "output_type": "execute_result"
    }
   ],
   "source": [
    "Labels.head(1)\n",
    "Text_Sequence_df.head(1)"
   ]
  },
  {
   "cell_type": "code",
   "execution_count": 192,
   "metadata": {},
   "outputs": [
    {
     "data": {
      "text/plain": [
       "(42700, 3)"
      ]
     },
     "execution_count": 192,
     "metadata": {},
     "output_type": "execute_result"
    },
    {
     "data": {
      "text/html": [
       "<div>\n",
       "<style scoped>\n",
       "    .dataframe tbody tr th:only-of-type {\n",
       "        vertical-align: middle;\n",
       "    }\n",
       "\n",
       "    .dataframe tbody tr th {\n",
       "        vertical-align: top;\n",
       "    }\n",
       "\n",
       "    .dataframe thead th {\n",
       "        text-align: right;\n",
       "    }\n",
       "</style>\n",
       "<table border=\"1\" class=\"dataframe\">\n",
       "  <thead>\n",
       "    <tr style=\"text-align: right;\">\n",
       "      <th></th>\n",
       "      <th>Account_Number</th>\n",
       "      <th>CleanText</th>\n",
       "      <th>num</th>\n",
       "    </tr>\n",
       "  </thead>\n",
       "  <tbody>\n",
       "    <tr>\n",
       "      <th>0</th>\n",
       "      <td>MAFF_ACCT_0000054355</td>\n",
       "      <td>MAFFACCT none none none none none none none no...</td>\n",
       "      <td>33589</td>\n",
       "    </tr>\n",
       "    <tr>\n",
       "      <th>1</th>\n",
       "      <td>MAFF_ACCT_0000061220</td>\n",
       "      <td>MAFFACCT none none none none none none none no...</td>\n",
       "      <td>39390</td>\n",
       "    </tr>\n",
       "  </tbody>\n",
       "</table>\n",
       "</div>"
      ],
      "text/plain": [
       "         Account_Number                                          CleanText  \\\n",
       "0  MAFF_ACCT_0000054355  MAFFACCT none none none none none none none no...   \n",
       "1  MAFF_ACCT_0000061220  MAFFACCT none none none none none none none no...   \n",
       "\n",
       "     num  \n",
       "0  33589  \n",
       "1  39390  "
      ]
     },
     "execution_count": 192,
     "metadata": {},
     "output_type": "execute_result"
    },
    {
     "data": {
      "text/plain": [
       "(42700, 2)"
      ]
     },
     "execution_count": 192,
     "metadata": {},
     "output_type": "execute_result"
    },
    {
     "data": {
      "text/html": [
       "<div>\n",
       "<style scoped>\n",
       "    .dataframe tbody tr th:only-of-type {\n",
       "        vertical-align: middle;\n",
       "    }\n",
       "\n",
       "    .dataframe tbody tr th {\n",
       "        vertical-align: top;\n",
       "    }\n",
       "\n",
       "    .dataframe thead th {\n",
       "        text-align: right;\n",
       "    }\n",
       "</style>\n",
       "<table border=\"1\" class=\"dataframe\">\n",
       "  <thead>\n",
       "    <tr style=\"text-align: right;\">\n",
       "      <th></th>\n",
       "      <th>Account_Number</th>\n",
       "      <th>ATTRITION_FLAG</th>\n",
       "    </tr>\n",
       "  </thead>\n",
       "  <tbody>\n",
       "    <tr>\n",
       "      <th>0</th>\n",
       "      <td>MAFF_ACCT_0000054355</td>\n",
       "      <td>OPEN</td>\n",
       "    </tr>\n",
       "    <tr>\n",
       "      <th>1</th>\n",
       "      <td>MAFF_ACCT_0000061220</td>\n",
       "      <td>OPEN</td>\n",
       "    </tr>\n",
       "  </tbody>\n",
       "</table>\n",
       "</div>"
      ],
      "text/plain": [
       "         Account_Number ATTRITION_FLAG\n",
       "0  MAFF_ACCT_0000054355           OPEN\n",
       "1  MAFF_ACCT_0000061220           OPEN"
      ]
     },
     "execution_count": 192,
     "metadata": {},
     "output_type": "execute_result"
    },
    {
     "data": {
      "text/plain": [
       "(21498, 3)"
      ]
     },
     "execution_count": 192,
     "metadata": {},
     "output_type": "execute_result"
    },
    {
     "data": {
      "text/html": [
       "<div>\n",
       "<style scoped>\n",
       "    .dataframe tbody tr th:only-of-type {\n",
       "        vertical-align: middle;\n",
       "    }\n",
       "\n",
       "    .dataframe tbody tr th {\n",
       "        vertical-align: top;\n",
       "    }\n",
       "\n",
       "    .dataframe thead th {\n",
       "        text-align: right;\n",
       "    }\n",
       "</style>\n",
       "<table border=\"1\" class=\"dataframe\">\n",
       "  <thead>\n",
       "    <tr style=\"text-align: right;\">\n",
       "      <th></th>\n",
       "      <th>Account_Number</th>\n",
       "      <th>CleanText</th>\n",
       "      <th>num</th>\n",
       "    </tr>\n",
       "  </thead>\n",
       "  <tbody>\n",
       "    <tr>\n",
       "      <th>0</th>\n",
       "      <td>MAFF_ACCT_0000171653</td>\n",
       "      <td>MAFFACCT none none none none none none none no...</td>\n",
       "      <td>61527</td>\n",
       "    </tr>\n",
       "    <tr>\n",
       "      <th>1</th>\n",
       "      <td>MAFF_ACCT_0000052384</td>\n",
       "      <td>MAFFACCT none none none none none none none no...</td>\n",
       "      <td>31980</td>\n",
       "    </tr>\n",
       "  </tbody>\n",
       "</table>\n",
       "</div>"
      ],
      "text/plain": [
       "         Account_Number                                          CleanText  \\\n",
       "0  MAFF_ACCT_0000171653  MAFFACCT none none none none none none none no...   \n",
       "1  MAFF_ACCT_0000052384  MAFFACCT none none none none none none none no...   \n",
       "\n",
       "     num  \n",
       "0  61527  \n",
       "1  31980  "
      ]
     },
     "execution_count": 192,
     "metadata": {},
     "output_type": "execute_result"
    },
    {
     "data": {
      "text/plain": [
       "(21498, 2)"
      ]
     },
     "execution_count": 192,
     "metadata": {},
     "output_type": "execute_result"
    },
    {
     "data": {
      "text/html": [
       "<div>\n",
       "<style scoped>\n",
       "    .dataframe tbody tr th:only-of-type {\n",
       "        vertical-align: middle;\n",
       "    }\n",
       "\n",
       "    .dataframe tbody tr th {\n",
       "        vertical-align: top;\n",
       "    }\n",
       "\n",
       "    .dataframe thead th {\n",
       "        text-align: right;\n",
       "    }\n",
       "</style>\n",
       "<table border=\"1\" class=\"dataframe\">\n",
       "  <thead>\n",
       "    <tr style=\"text-align: right;\">\n",
       "      <th></th>\n",
       "      <th>Account_Number</th>\n",
       "      <th>ATTRITION_FLAG</th>\n",
       "    </tr>\n",
       "  </thead>\n",
       "  <tbody>\n",
       "    <tr>\n",
       "      <th>0</th>\n",
       "      <td>MAFF_ACCT_0000171653</td>\n",
       "      <td>OPEN</td>\n",
       "    </tr>\n",
       "    <tr>\n",
       "      <th>1</th>\n",
       "      <td>MAFF_ACCT_0000052384</td>\n",
       "      <td>VOLUNTARY</td>\n",
       "    </tr>\n",
       "  </tbody>\n",
       "</table>\n",
       "</div>"
      ],
      "text/plain": [
       "         Account_Number ATTRITION_FLAG\n",
       "0  MAFF_ACCT_0000171653           OPEN\n",
       "1  MAFF_ACCT_0000052384      VOLUNTARY"
      ]
     },
     "execution_count": 192,
     "metadata": {},
     "output_type": "execute_result"
    },
    {
     "data": {
      "text/plain": [
       "OPEN         38582\n",
       "VOLUNTARY     4118\n",
       "Name: ATTRITION_FLAG, dtype: int64"
      ]
     },
     "execution_count": 192,
     "metadata": {},
     "output_type": "execute_result"
    }
   ],
   "source": [
    "#Split data into validation and train sets based on master sample index, merge to text sequence data.\n",
    "data_train = pd.merge(index_train, Text_Sequence_df, how='inner', left_on=['Account_Number'],  right_on = ['Account_Number'])\n",
    "data_train.shape\n",
    "data_train.head(2)\n",
    "\n",
    "Labels_train = pd.merge(index_train, Labels, how='inner', left_on=['Account_Number'],  right_on = ['Account_Number'])\n",
    "Labels_train.shape\n",
    "Labels_train.head(2)\n",
    "\n",
    "data_val = pd.merge(index_val, Text_Sequence_df, how='inner', left_on=['Account_Number'], right_on = ['Account_Number'])\n",
    "data_val.shape\n",
    "data_val.head(2)\n",
    "\n",
    "Labels_val = pd.merge(index_val, Labels, how='inner', left_on=['Account_Number'],  right_on = ['Account_Number'])\n",
    "Labels_val.shape\n",
    "Labels_val.head(2)\n",
    "\n",
    "Labels_train_df = Labels_train\n",
    "Labels_val_df = Labels_val\n",
    "Labels_train_df['ATTRITION_FLAG'].value_counts()"
   ]
  },
  {
   "cell_type": "markdown",
   "metadata": {},
   "source": [
    "### Create numpy array of index values\n",
    "- input df: `data_train['num']`, `data_val['num']`\n",
    "- output np.ndarray : `train_sampling_index1`, `val_sampling_index1`"
   ]
  },
  {
   "cell_type": "markdown",
   "metadata": {},
   "source": [
    "### Create `X_Train`, `X_Val` numpy arrays for 1DCNN"
   ]
  },
  {
   "cell_type": "code",
   "execution_count": 193,
   "metadata": {},
   "outputs": [
    {
     "data": {
      "text/plain": [
       "numpy.ndarray"
      ]
     },
     "execution_count": 193,
     "metadata": {},
     "output_type": "execute_result"
    },
    {
     "data": {
      "text/plain": [
       "numpy.ndarray"
      ]
     },
     "execution_count": 193,
     "metadata": {},
     "output_type": "execute_result"
    }
   ],
   "source": [
    "Train_index = data_train['num']\n",
    "Val_index = data_val['num']\n",
    "Train_index = Train_index.values\n",
    "Val_index = Val_index.values\n",
    "\n",
    "type(Train_index)\n",
    "type(Val_index)\n"
   ]
  },
  {
   "cell_type": "code",
   "execution_count": 194,
   "metadata": {},
   "outputs": [
    {
     "data": {
      "text/plain": [
       "numpy.ndarray"
      ]
     },
     "execution_count": 194,
     "metadata": {},
     "output_type": "execute_result"
    },
    {
     "data": {
      "text/plain": [
       "numpy.ndarray"
      ]
     },
     "execution_count": 194,
     "metadata": {},
     "output_type": "execute_result"
    },
    {
     "data": {
      "text/plain": [
       "(42700, 1500)"
      ]
     },
     "execution_count": 194,
     "metadata": {},
     "output_type": "execute_result"
    },
    {
     "data": {
      "text/plain": [
       "(21498, 1500)"
      ]
     },
     "execution_count": 194,
     "metadata": {},
     "output_type": "execute_result"
    }
   ],
   "source": [
    "data_train = data[Train_index]\n",
    "data_val = data[Val_index]\n",
    "X_train = data_train\n",
    "X_val = data_val\n",
    "type(X_train)\n",
    "type(X_val)\n",
    "X_train.shape\n",
    "X_val.shape"
   ]
  },
  {
   "cell_type": "markdown",
   "metadata": {},
   "source": [
    "### Create `y_Train`, `y_Val` categorical numpy arrays for labels"
   ]
  },
  {
   "cell_type": "code",
   "execution_count": 195,
   "metadata": {},
   "outputs": [
    {
     "data": {
      "text/plain": [
       "(21498, 2)"
      ]
     },
     "execution_count": 195,
     "metadata": {},
     "output_type": "execute_result"
    },
    {
     "data": {
      "text/plain": [
       "pandas.core.frame.DataFrame"
      ]
     },
     "execution_count": 195,
     "metadata": {},
     "output_type": "execute_result"
    },
    {
     "data": {
      "text/plain": [
       "(42700, 2)"
      ]
     },
     "execution_count": 195,
     "metadata": {},
     "output_type": "execute_result"
    },
    {
     "data": {
      "text/plain": [
       "pandas.core.frame.DataFrame"
      ]
     },
     "execution_count": 195,
     "metadata": {},
     "output_type": "execute_result"
    },
    {
     "data": {
      "text/plain": [
       "OPEN         38582\n",
       "VOLUNTARY     4118\n",
       "Name: ATTRITION_FLAG, dtype: int64"
      ]
     },
     "execution_count": 195,
     "metadata": {},
     "output_type": "execute_result"
    }
   ],
   "source": [
    "Labels_val.shape\n",
    "type(Labels_val)\n",
    "\n",
    "Labels_train.shape\n",
    "type(Labels_train)\n",
    "\n",
    "Labels_train['ATTRITION_FLAG'].value_counts()"
   ]
  },
  {
   "cell_type": "markdown",
   "metadata": {},
   "source": [
    "### Convert Attrition Flag to Integer"
   ]
  },
  {
   "cell_type": "code",
   "execution_count": 196,
   "metadata": {},
   "outputs": [
    {
     "data": {
      "text/html": [
       "<div>\n",
       "<style scoped>\n",
       "    .dataframe tbody tr th:only-of-type {\n",
       "        vertical-align: middle;\n",
       "    }\n",
       "\n",
       "    .dataframe tbody tr th {\n",
       "        vertical-align: top;\n",
       "    }\n",
       "\n",
       "    .dataframe thead th {\n",
       "        text-align: right;\n",
       "    }\n",
       "</style>\n",
       "<table border=\"1\" class=\"dataframe\">\n",
       "  <thead>\n",
       "    <tr style=\"text-align: right;\">\n",
       "      <th></th>\n",
       "      <th>Account_Number</th>\n",
       "      <th>ATTRITION_FLAG</th>\n",
       "    </tr>\n",
       "  </thead>\n",
       "  <tbody>\n",
       "    <tr>\n",
       "      <th>0</th>\n",
       "      <td>MAFF_ACCT_0000054355</td>\n",
       "      <td>OPEN</td>\n",
       "    </tr>\n",
       "    <tr>\n",
       "      <th>1</th>\n",
       "      <td>MAFF_ACCT_0000061220</td>\n",
       "      <td>OPEN</td>\n",
       "    </tr>\n",
       "  </tbody>\n",
       "</table>\n",
       "</div>"
      ],
      "text/plain": [
       "         Account_Number ATTRITION_FLAG\n",
       "0  MAFF_ACCT_0000054355           OPEN\n",
       "1  MAFF_ACCT_0000061220           OPEN"
      ]
     },
     "execution_count": 196,
     "metadata": {},
     "output_type": "execute_result"
    },
    {
     "data": {
      "text/plain": [
       "0    38582\n",
       "1     4118\n",
       "Name: ATTRITION_FLAG, dtype: int64"
      ]
     },
     "execution_count": 196,
     "metadata": {},
     "output_type": "execute_result"
    },
    {
     "data": {
      "text/plain": [
       "(42700, 2)"
      ]
     },
     "execution_count": 196,
     "metadata": {},
     "output_type": "execute_result"
    },
    {
     "data": {
      "text/plain": [
       "(21498, 2)"
      ]
     },
     "execution_count": 196,
     "metadata": {},
     "output_type": "execute_result"
    },
    {
     "name": "stdout",
     "output_type": "stream",
     "text": [
      "labels_index {0: 0, 1: 1}\n"
     ]
    }
   ],
   "source": [
    "Labels_train.head(2)\n",
    "Labels_train['ATTRITION_FLAG'] = np.where(Labels_train['ATTRITION_FLAG']=='OPEN', 0, 1)\n",
    "Labels_val['ATTRITION_FLAG'] = np.where(Labels_val['ATTRITION_FLAG']=='OPEN', 0, 1)\n",
    "\n",
    "Labels_train['ATTRITION_FLAG'].value_counts()\n",
    "\n",
    "Labels_train=Labels_train[['ATTRITION_FLAG']]\n",
    "Labels_val=Labels_val[['ATTRITION_FLAG']]\n",
    "\n",
    "#Convert Labels to Categorical\n",
    "y_train  = Labels_train.values\n",
    "y_val  = Labels_val.values\n",
    "\n",
    "y_train = to_categorical(np.asarray(y_train))\n",
    "y_val = to_categorical(np.asarray(y_val))\n",
    "\n",
    "y_train.shape\n",
    "y_val.shape\n",
    "\n",
    "labels_index = {}\n",
    "labels_index =  {0:0,1:1}\n",
    "print('labels_index', labels_index)"
   ]
  },
  {
   "cell_type": "code",
   "execution_count": null,
   "metadata": {
    "collapsed": true
   },
   "outputs": [],
   "source": []
  },
  {
   "cell_type": "markdown",
   "metadata": {},
   "source": [
    "### Load Word Embeddings"
   ]
  },
  {
   "cell_type": "code",
   "execution_count": 197,
   "metadata": {
    "collapsed": true
   },
   "outputs": [],
   "source": [
    "#load in word vectors from glove reference global English data set\n",
    "# https://nlp.stanford.edu/projects/glove/\n",
    "\n",
    "embeddings_index = {}\n",
    "words = pd.read_table(PATH_GLOVE + 'glove.6B.300d.txt', sep=\" \", header=None, quoting=csv.QUOTE_NONE)"
   ]
  },
  {
   "cell_type": "code",
   "execution_count": 198,
   "metadata": {},
   "outputs": [
    {
     "name": "stdout",
     "output_type": "stream",
     "text": [
      "shape of glove model (400000, 301)\n"
     ]
    }
   ],
   "source": [
    "#words.head(5)\n",
    "print('shape of glove model', words.shape)"
   ]
  },
  {
   "cell_type": "code",
   "execution_count": 199,
   "metadata": {},
   "outputs": [
    {
     "name": "stdout",
     "output_type": "stream",
     "text": [
      "wordkeys type of file <class 'pandas.core.series.Series'>\n"
     ]
    }
   ],
   "source": [
    "wordkeys=words.iloc[:,0]\n",
    "print('wordkeys type of file', type(wordkeys))\n",
    "words2 = words.rename(columns={ words.columns[0]: \"words\" })"
   ]
  },
  {
   "cell_type": "markdown",
   "metadata": {},
   "source": [
    "### Build Embedding Index for our Word Index from Glove Embeddings"
   ]
  },
  {
   "cell_type": "code",
   "execution_count": 200,
   "metadata": {},
   "outputs": [
    {
     "name": "stderr",
     "output_type": "stream",
     "text": [
      "C:\\Anaconda\\lib\\site-packages\\ipykernel\\__main__.py:1: UserWarning: DataFrame columns are not unique, some columns will be omitted.\n",
      "  if __name__ == '__main__':\n"
     ]
    },
    {
     "name": "stdout",
     "output_type": "stream",
     "text": [
      "Found 399998 word vectors.\n"
     ]
    }
   ],
   "source": [
    "embeddings_index = words2.set_index('words').T.to_dict('list')\n",
    "print('Found {} word vectors.'.format(len(embeddings_index)))"
   ]
  },
  {
   "cell_type": "code",
   "execution_count": 201,
   "metadata": {},
   "outputs": [
    {
     "name": "stdout",
     "output_type": "stream",
     "text": [
      "Building Embedding Matrix...\n",
      "Embedding Matrix Built\n"
     ]
    }
   ],
   "source": [
    "#################################\n",
    "#Build the embedding matrix\n",
    "#################################\n",
    "\n",
    "print('Building Embedding Matrix...')\n",
    "embedding_matrix = np.zeros((len(word_index) + 1, EMBEDDING_DIM))\n",
    "\n",
    "for word, i in word_index.items():\n",
    "    embedding_vector = embeddings_index.get(word)\n",
    "    if embedding_vector is not None:\n",
    "        # words not found in embedding index will be all-zeros.\n",
    "        embedding_matrix[i] = embedding_vector\n",
    "\n",
    "embedding_layer = Embedding(len(word_index) + 1,\n",
    "                            EMBEDDING_DIM,\n",
    "                            weights=[embedding_matrix],\n",
    "                            input_length=MAX_SEQUENCE_LENGTH,\n",
    "                            trainable=False)\n",
    "\n",
    "print('Embedding Matrix Built')"
   ]
  },
  {
   "cell_type": "markdown",
   "metadata": {},
   "source": [
    "### Write out a Copy of Data and Labels for Multi-Input Model\n",
    "\n",
    "### `X_val_cnn`, `y_val_cnn`, `X_train_cnn`, `y_train_cnn`"
   ]
  },
  {
   "cell_type": "code",
   "execution_count": 202,
   "metadata": {
    "collapsed": true,
    "scrolled": true
   },
   "outputs": [],
   "source": [
    "X_val_cnn = X_val\n",
    "y_val_cnn = y_val\n",
    "X_train_cnn = X_train\n",
    "y_train_cnn = y_train"
   ]
  },
  {
   "cell_type": "code",
   "execution_count": 203,
   "metadata": {},
   "outputs": [
    {
     "data": {
      "text/plain": [
       "(21498, 1500)"
      ]
     },
     "execution_count": 203,
     "metadata": {},
     "output_type": "execute_result"
    },
    {
     "data": {
      "text/plain": [
       "(21498, 2)"
      ]
     },
     "execution_count": 203,
     "metadata": {},
     "output_type": "execute_result"
    },
    {
     "data": {
      "text/plain": [
       "(42700, 1500)"
      ]
     },
     "execution_count": 203,
     "metadata": {},
     "output_type": "execute_result"
    },
    {
     "data": {
      "text/plain": [
       "(42700, 2)"
      ]
     },
     "execution_count": 203,
     "metadata": {},
     "output_type": "execute_result"
    }
   ],
   "source": [
    "X_val_cnn.shape\n",
    "y_val_cnn.shape\n",
    "X_train_cnn.shape\n",
    "y_train_cnn.shape"
   ]
  },
  {
   "cell_type": "markdown",
   "metadata": {},
   "source": [
    "### Create class weighting"
   ]
  },
  {
   "cell_type": "markdown",
   "metadata": {},
   "source": [
    "### Saving data to files\n"
   ]
  },
  {
   "cell_type": "code",
   "execution_count": 204,
   "metadata": {
    "collapsed": true
   },
   "outputs": [],
   "source": [
    "#save a copy of 1DCNN Sequence Data to the Local Drive\n",
    "os.chdir('D://MAFData')\n",
    "         \n",
    "np.savetxt('Source__X_val_1DCNN.tsv', X_val_cnn, delimiter='\\t',  encoding='utf-8')\n",
    "np.savetxt('Source__X_train_1DCNN.tsv', X_train_cnn, delimiter='\\t',  encoding='utf-8')\n",
    "np.savetxt('Source__y_val.tsv', X_val_cnn, delimiter='\\t',  encoding='utf-8')\n",
    "np.savetxt('Source__y_train.tsv', X_train_cnn, delimiter='\\t',  encoding='utf-8')\n",
    "\n"
   ]
  },
  {
   "cell_type": "markdown",
   "metadata": {},
   "source": [
    "## 4. Build Models"
   ]
  },
  {
   "cell_type": "markdown",
   "metadata": {},
   "source": [
    "### 4.1 1D CNN"
   ]
  },
  {
   "cell_type": "markdown",
   "metadata": {},
   "source": [
    "### Design a 1D Convolutional Neural Net"
   ]
  },
  {
   "cell_type": "code",
   "execution_count": 205,
   "metadata": {},
   "outputs": [
    {
     "name": "stdout",
     "output_type": "stream",
     "text": [
      "Train 1D Convnet with global maxpooling\n",
      "Shape of training data sample tensor:  (42700, 1500)\n",
      "Shape of training label tensor:  (42700, 2)\n"
     ]
    },
    {
     "data": {
      "text/plain": [
       "TensorShape([Dimension(None), Dimension(1500)])"
      ]
     },
     "execution_count": 205,
     "metadata": {},
     "output_type": "execute_result"
    },
    {
     "name": "stdout",
     "output_type": "stream",
     "text": [
      "_________________________________________________________________\n",
      "Layer (type)                 Output Shape              Param #   \n",
      "=================================================================\n",
      "input_4 (InputLayer)         (None, 1500)              0         \n",
      "_________________________________________________________________\n",
      "embedding_2 (Embedding)      (None, 1500, 300)         88500     \n",
      "_________________________________________________________________\n",
      "conv1d_7 (Conv1D)            (None, 1493, 128)         307328    \n",
      "_________________________________________________________________\n",
      "max_pooling1d_7 (MaxPooling1 (None, 298, 128)          0         \n",
      "_________________________________________________________________\n",
      "dropout_8 (Dropout)          (None, 298, 128)          0         \n",
      "_________________________________________________________________\n",
      "conv1d_8 (Conv1D)            (None, 283, 128)          262272    \n",
      "_________________________________________________________________\n",
      "max_pooling1d_8 (MaxPooling1 (None, 56, 128)           0         \n",
      "_________________________________________________________________\n",
      "dropout_9 (Dropout)          (None, 56, 128)           0         \n",
      "_________________________________________________________________\n",
      "conv1d_9 (Conv1D)            (None, 41, 128)           262272    \n",
      "_________________________________________________________________\n",
      "max_pooling1d_9 (MaxPooling1 (None, 1, 128)            0         \n",
      "_________________________________________________________________\n",
      "flatten_3 (Flatten)          (None, 128)               0         \n",
      "_________________________________________________________________\n",
      "dense_9 (Dense)              (None, 120)               15480     \n",
      "_________________________________________________________________\n",
      "dropout_10 (Dropout)         (None, 120)               0         \n",
      "_________________________________________________________________\n",
      "dense_10 (Dense)             (None, 2)                 242       \n",
      "=================================================================\n",
      "Total params: 936,094\n",
      "Trainable params: 847,594\n",
      "Non-trainable params: 88,500\n",
      "_________________________________________________________________\n"
     ]
    },
    {
     "data": {
      "image/svg+xml": [
       "<svg height=\"994pt\" viewBox=\"0.00 0.00 217.00 994.00\" width=\"217pt\" xmlns=\"http://www.w3.org/2000/svg\" xmlns:xlink=\"http://www.w3.org/1999/xlink\">\n",
       "<g class=\"graph\" id=\"graph0\" transform=\"scale(1 1) rotate(0) translate(4 990)\">\n",
       "<title>G</title>\n",
       "<polygon fill=\"white\" points=\"-4,4 -4,-990 213,-990 213,4 -4,4\" stroke=\"none\"/>\n",
       "<!-- 2313124526456 -->\n",
       "<g class=\"node\" id=\"node1\"><title>2313124526456</title>\n",
       "<polygon fill=\"none\" points=\"41.5,-949.5 41.5,-985.5 167.5,-985.5 167.5,-949.5 41.5,-949.5\" stroke=\"black\"/>\n",
       "<text font-family=\"Times New Roman,serif\" font-size=\"14.00\" text-anchor=\"middle\" x=\"104.5\" y=\"-963.8\">input_4: InputLayer</text>\n",
       "</g>\n",
       "<!-- 2295964448808 -->\n",
       "<g class=\"node\" id=\"node2\"><title>2295964448808</title>\n",
       "<polygon fill=\"none\" points=\"23,-876.5 23,-912.5 186,-912.5 186,-876.5 23,-876.5\" stroke=\"black\"/>\n",
       "<text font-family=\"Times New Roman,serif\" font-size=\"14.00\" text-anchor=\"middle\" x=\"104.5\" y=\"-890.8\">embedding_2: Embedding</text>\n",
       "</g>\n",
       "<!-- 2313124526456&#45;&gt;2295964448808 -->\n",
       "<g class=\"edge\" id=\"edge1\"><title>2313124526456-&gt;2295964448808</title>\n",
       "<path d=\"M104.5,-949.313C104.5,-941.289 104.5,-931.547 104.5,-922.569\" fill=\"none\" stroke=\"black\"/>\n",
       "<polygon fill=\"black\" points=\"108,-922.529 104.5,-912.529 101,-922.529 108,-922.529\" stroke=\"black\"/>\n",
       "</g>\n",
       "<!-- 2295964401000 -->\n",
       "<g class=\"node\" id=\"node3\"><title>2295964401000</title>\n",
       "<polygon fill=\"none\" points=\"41,-803.5 41,-839.5 168,-839.5 168,-803.5 41,-803.5\" stroke=\"black\"/>\n",
       "<text font-family=\"Times New Roman,serif\" font-size=\"14.00\" text-anchor=\"middle\" x=\"104.5\" y=\"-817.8\">conv1d_7: Conv1D</text>\n",
       "</g>\n",
       "<!-- 2295964448808&#45;&gt;2295964401000 -->\n",
       "<g class=\"edge\" id=\"edge2\"><title>2295964448808-&gt;2295964401000</title>\n",
       "<path d=\"M104.5,-876.313C104.5,-868.289 104.5,-858.547 104.5,-849.569\" fill=\"none\" stroke=\"black\"/>\n",
       "<polygon fill=\"black\" points=\"108,-849.529 104.5,-839.529 101,-849.529 108,-849.529\" stroke=\"black\"/>\n",
       "</g>\n",
       "<!-- 2295964400888 -->\n",
       "<g class=\"node\" id=\"node4\"><title>2295964400888</title>\n",
       "<polygon fill=\"none\" points=\"0,-730.5 0,-766.5 209,-766.5 209,-730.5 0,-730.5\" stroke=\"black\"/>\n",
       "<text font-family=\"Times New Roman,serif\" font-size=\"14.00\" text-anchor=\"middle\" x=\"104.5\" y=\"-744.8\">max_pooling1d_7: MaxPooling1D</text>\n",
       "</g>\n",
       "<!-- 2295964401000&#45;&gt;2295964400888 -->\n",
       "<g class=\"edge\" id=\"edge3\"><title>2295964401000-&gt;2295964400888</title>\n",
       "<path d=\"M104.5,-803.313C104.5,-795.289 104.5,-785.547 104.5,-776.569\" fill=\"none\" stroke=\"black\"/>\n",
       "<polygon fill=\"black\" points=\"108,-776.529 104.5,-766.529 101,-776.529 108,-776.529\" stroke=\"black\"/>\n",
       "</g>\n",
       "<!-- 2295964414752 -->\n",
       "<g class=\"node\" id=\"node5\"><title>2295964414752</title>\n",
       "<polygon fill=\"none\" points=\"39.5,-657.5 39.5,-693.5 169.5,-693.5 169.5,-657.5 39.5,-657.5\" stroke=\"black\"/>\n",
       "<text font-family=\"Times New Roman,serif\" font-size=\"14.00\" text-anchor=\"middle\" x=\"104.5\" y=\"-671.8\">dropout_8: Dropout</text>\n",
       "</g>\n",
       "<!-- 2295964400888&#45;&gt;2295964414752 -->\n",
       "<g class=\"edge\" id=\"edge4\"><title>2295964400888-&gt;2295964414752</title>\n",
       "<path d=\"M104.5,-730.313C104.5,-722.289 104.5,-712.547 104.5,-703.569\" fill=\"none\" stroke=\"black\"/>\n",
       "<polygon fill=\"black\" points=\"108,-703.529 104.5,-693.529 101,-703.529 108,-703.529\" stroke=\"black\"/>\n",
       "</g>\n",
       "<!-- 2296985222336 -->\n",
       "<g class=\"node\" id=\"node6\"><title>2296985222336</title>\n",
       "<polygon fill=\"none\" points=\"41,-584.5 41,-620.5 168,-620.5 168,-584.5 41,-584.5\" stroke=\"black\"/>\n",
       "<text font-family=\"Times New Roman,serif\" font-size=\"14.00\" text-anchor=\"middle\" x=\"104.5\" y=\"-598.8\">conv1d_8: Conv1D</text>\n",
       "</g>\n",
       "<!-- 2295964414752&#45;&gt;2296985222336 -->\n",
       "<g class=\"edge\" id=\"edge5\"><title>2295964414752-&gt;2296985222336</title>\n",
       "<path d=\"M104.5,-657.313C104.5,-649.289 104.5,-639.547 104.5,-630.569\" fill=\"none\" stroke=\"black\"/>\n",
       "<polygon fill=\"black\" points=\"108,-630.529 104.5,-620.529 101,-630.529 108,-630.529\" stroke=\"black\"/>\n",
       "</g>\n",
       "<!-- 2296975516952 -->\n",
       "<g class=\"node\" id=\"node7\"><title>2296975516952</title>\n",
       "<polygon fill=\"none\" points=\"0,-511.5 0,-547.5 209,-547.5 209,-511.5 0,-511.5\" stroke=\"black\"/>\n",
       "<text font-family=\"Times New Roman,serif\" font-size=\"14.00\" text-anchor=\"middle\" x=\"104.5\" y=\"-525.8\">max_pooling1d_8: MaxPooling1D</text>\n",
       "</g>\n",
       "<!-- 2296985222336&#45;&gt;2296975516952 -->\n",
       "<g class=\"edge\" id=\"edge6\"><title>2296985222336-&gt;2296975516952</title>\n",
       "<path d=\"M104.5,-584.313C104.5,-576.289 104.5,-566.547 104.5,-557.569\" fill=\"none\" stroke=\"black\"/>\n",
       "<polygon fill=\"black\" points=\"108,-557.529 104.5,-547.529 101,-557.529 108,-557.529\" stroke=\"black\"/>\n",
       "</g>\n",
       "<!-- 2296975674560 -->\n",
       "<g class=\"node\" id=\"node8\"><title>2296975674560</title>\n",
       "<polygon fill=\"none\" points=\"39.5,-438.5 39.5,-474.5 169.5,-474.5 169.5,-438.5 39.5,-438.5\" stroke=\"black\"/>\n",
       "<text font-family=\"Times New Roman,serif\" font-size=\"14.00\" text-anchor=\"middle\" x=\"104.5\" y=\"-452.8\">dropout_9: Dropout</text>\n",
       "</g>\n",
       "<!-- 2296975516952&#45;&gt;2296975674560 -->\n",
       "<g class=\"edge\" id=\"edge7\"><title>2296975516952-&gt;2296975674560</title>\n",
       "<path d=\"M104.5,-511.313C104.5,-503.289 104.5,-493.547 104.5,-484.569\" fill=\"none\" stroke=\"black\"/>\n",
       "<polygon fill=\"black\" points=\"108,-484.529 104.5,-474.529 101,-484.529 108,-484.529\" stroke=\"black\"/>\n",
       "</g>\n",
       "<!-- 2295964400104 -->\n",
       "<g class=\"node\" id=\"node9\"><title>2295964400104</title>\n",
       "<polygon fill=\"none\" points=\"41,-365.5 41,-401.5 168,-401.5 168,-365.5 41,-365.5\" stroke=\"black\"/>\n",
       "<text font-family=\"Times New Roman,serif\" font-size=\"14.00\" text-anchor=\"middle\" x=\"104.5\" y=\"-379.8\">conv1d_9: Conv1D</text>\n",
       "</g>\n",
       "<!-- 2296975674560&#45;&gt;2295964400104 -->\n",
       "<g class=\"edge\" id=\"edge8\"><title>2296975674560-&gt;2295964400104</title>\n",
       "<path d=\"M104.5,-438.313C104.5,-430.289 104.5,-420.547 104.5,-411.569\" fill=\"none\" stroke=\"black\"/>\n",
       "<polygon fill=\"black\" points=\"108,-411.529 104.5,-401.529 101,-411.529 108,-411.529\" stroke=\"black\"/>\n",
       "</g>\n",
       "<!-- 2296975518408 -->\n",
       "<g class=\"node\" id=\"node10\"><title>2296975518408</title>\n",
       "<polygon fill=\"none\" points=\"0,-292.5 0,-328.5 209,-328.5 209,-292.5 0,-292.5\" stroke=\"black\"/>\n",
       "<text font-family=\"Times New Roman,serif\" font-size=\"14.00\" text-anchor=\"middle\" x=\"104.5\" y=\"-306.8\">max_pooling1d_9: MaxPooling1D</text>\n",
       "</g>\n",
       "<!-- 2295964400104&#45;&gt;2296975518408 -->\n",
       "<g class=\"edge\" id=\"edge9\"><title>2295964400104-&gt;2296975518408</title>\n",
       "<path d=\"M104.5,-365.313C104.5,-357.289 104.5,-347.547 104.5,-338.569\" fill=\"none\" stroke=\"black\"/>\n",
       "<polygon fill=\"black\" points=\"108,-338.529 104.5,-328.529 101,-338.529 108,-338.529\" stroke=\"black\"/>\n",
       "</g>\n",
       "<!-- 2296975908424 -->\n",
       "<g class=\"node\" id=\"node11\"><title>2296975908424</title>\n",
       "<polygon fill=\"none\" points=\"50,-219.5 50,-255.5 159,-255.5 159,-219.5 50,-219.5\" stroke=\"black\"/>\n",
       "<text font-family=\"Times New Roman,serif\" font-size=\"14.00\" text-anchor=\"middle\" x=\"104.5\" y=\"-233.8\">flatten_3: Flatten</text>\n",
       "</g>\n",
       "<!-- 2296975518408&#45;&gt;2296975908424 -->\n",
       "<g class=\"edge\" id=\"edge10\"><title>2296975518408-&gt;2296975908424</title>\n",
       "<path d=\"M104.5,-292.313C104.5,-284.289 104.5,-274.547 104.5,-265.569\" fill=\"none\" stroke=\"black\"/>\n",
       "<polygon fill=\"black\" points=\"108,-265.529 104.5,-255.529 101,-265.529 108,-265.529\" stroke=\"black\"/>\n",
       "</g>\n",
       "<!-- 2296976207264 -->\n",
       "<g class=\"node\" id=\"node12\"><title>2296976207264</title>\n",
       "<polygon fill=\"none\" points=\"52.5,-146.5 52.5,-182.5 156.5,-182.5 156.5,-146.5 52.5,-146.5\" stroke=\"black\"/>\n",
       "<text font-family=\"Times New Roman,serif\" font-size=\"14.00\" text-anchor=\"middle\" x=\"104.5\" y=\"-160.8\">dense_9: Dense</text>\n",
       "</g>\n",
       "<!-- 2296975908424&#45;&gt;2296976207264 -->\n",
       "<g class=\"edge\" id=\"edge11\"><title>2296975908424-&gt;2296976207264</title>\n",
       "<path d=\"M104.5,-219.313C104.5,-211.289 104.5,-201.547 104.5,-192.569\" fill=\"none\" stroke=\"black\"/>\n",
       "<polygon fill=\"black\" points=\"108,-192.529 104.5,-182.529 101,-192.529 108,-192.529\" stroke=\"black\"/>\n",
       "</g>\n",
       "<!-- 2296976146504 -->\n",
       "<g class=\"node\" id=\"node13\"><title>2296976146504</title>\n",
       "<polygon fill=\"none\" points=\"36,-73.5 36,-109.5 173,-109.5 173,-73.5 36,-73.5\" stroke=\"black\"/>\n",
       "<text font-family=\"Times New Roman,serif\" font-size=\"14.00\" text-anchor=\"middle\" x=\"104.5\" y=\"-87.8\">dropout_10: Dropout</text>\n",
       "</g>\n",
       "<!-- 2296976207264&#45;&gt;2296976146504 -->\n",
       "<g class=\"edge\" id=\"edge12\"><title>2296976207264-&gt;2296976146504</title>\n",
       "<path d=\"M104.5,-146.313C104.5,-138.289 104.5,-128.547 104.5,-119.569\" fill=\"none\" stroke=\"black\"/>\n",
       "<polygon fill=\"black\" points=\"108,-119.529 104.5,-109.529 101,-119.529 108,-119.529\" stroke=\"black\"/>\n",
       "</g>\n",
       "<!-- 2296976306016 -->\n",
       "<g class=\"node\" id=\"node14\"><title>2296976306016</title>\n",
       "<polygon fill=\"none\" points=\"49,-0.5 49,-36.5 160,-36.5 160,-0.5 49,-0.5\" stroke=\"black\"/>\n",
       "<text font-family=\"Times New Roman,serif\" font-size=\"14.00\" text-anchor=\"middle\" x=\"104.5\" y=\"-14.8\">dense_10: Dense</text>\n",
       "</g>\n",
       "<!-- 2296976146504&#45;&gt;2296976306016 -->\n",
       "<g class=\"edge\" id=\"edge13\"><title>2296976146504-&gt;2296976306016</title>\n",
       "<path d=\"M104.5,-73.3129C104.5,-65.2895 104.5,-55.5475 104.5,-46.5691\" fill=\"none\" stroke=\"black\"/>\n",
       "<polygon fill=\"black\" points=\"108,-46.5288 104.5,-36.5288 101,-46.5289 108,-46.5288\" stroke=\"black\"/>\n",
       "</g>\n",
       "</g>\n",
       "</svg>"
      ],
      "text/plain": [
       "<IPython.core.display.SVG object>"
      ]
     },
     "execution_count": 205,
     "metadata": {},
     "output_type": "execute_result"
    }
   ],
   "source": [
    "#Set Dropout Rates\n",
    "DROPOUT_RATE = 0.5\n",
    "INNERLAYER_DROPOUT_RATE = 0.2\n",
    "\n",
    "print('Train 1D Convnet with global maxpooling')\n",
    "print('Shape of training data sample tensor: ', X_train_cnn.shape)\n",
    "print('Shape of training label tensor: ', y_train_cnn.shape)\n",
    "\n",
    "sequence_input = Input(shape=(MAX_SEQUENCE_LENGTH,), dtype='int32')\n",
    "sequence_input.shape\n",
    "\n",
    "embedded_sequences = embedding_layer(sequence_input)\n",
    "\n",
    "x = Conv1D(128, 8, activation='relu', kernel_initializer='glorot_uniform',use_bias=True)(embedded_sequences)\n",
    "x = MaxPooling1D(5)(x)\n",
    "x = Dropout(INNERLAYER_DROPOUT_RATE)(x)\n",
    "\n",
    "x = Conv1D(128, 16, activation='relu', kernel_initializer='glorot_uniform',use_bias=True)(x)\n",
    "x = MaxPooling1D(5)(x)\n",
    "x = Dropout(INNERLAYER_DROPOUT_RATE)(x)\n",
    "\n",
    "x = Conv1D(128, 16, activation='relu', kernel_initializer='glorot_uniform',use_bias=True)(x)\n",
    "x = MaxPooling1D(35)(x)  # global max pooling\n",
    "\n",
    "x = Flatten()(x) \n",
    "\n",
    "x = Dense(120,use_bias=True,kernel_initializer='glorot_uniform')(x) \n",
    "x = Dropout(DROPOUT_RATE)(x)\n",
    "\n",
    "preds = Dense(len(labels_index),activation='sigmoid')(x) #no initialization in output layer\n",
    "model = Model(sequence_input, preds)\n",
    "\n",
    "model.summary()\n",
    "\n",
    "from IPython.display import SVG\n",
    "from keras.utils.vis_utils import model_to_dot\n",
    "\n",
    "SVG(model_to_dot(model).create(prog='dot', format='svg'))"
   ]
  },
  {
   "cell_type": "markdown",
   "metadata": {},
   "source": [
    "### Compile the Model"
   ]
  },
  {
   "cell_type": "code",
   "execution_count": 206,
   "metadata": {
    "collapsed": true
   },
   "outputs": [],
   "source": [
    "from keras.callbacks import History \n",
    "\n",
    "LEARNING_RATE = .00001 \n",
    "\n",
    "adam = optimizers.Adam(lr=LEARNING_RATE, beta_1=0.9, beta_2=0.999, epsilon=1e-08, decay=0.0, clipnorm = .5)\n",
    "rmsprop = optimizers.RMSprop(lr=LEARNING_RATE, rho=0.9, epsilon=1e-08, decay=0.00, clipnorm = .5)\n",
    "\n",
    "model.compile(loss='binary_crossentropy', optimizer= adam, metrics=['accuracy'])\n",
    "\n",
    "#early_stopping = EarlyStopping(monitor='val_loss', patience=5)"
   ]
  },
  {
   "cell_type": "markdown",
   "metadata": {},
   "source": [
    "### Fit 1D CNN Model"
   ]
  },
  {
   "cell_type": "code",
   "execution_count": 207,
   "metadata": {
    "scrolled": false
   },
   "outputs": [
    {
     "name": "stdout",
     "output_type": "stream",
     "text": [
      "Train on 42700 samples, validate on 21498 samples\n",
      "Epoch 1/2\n",
      " - 93s - loss: 1.2966 - acc: 0.3312 - val_loss: 0.7066 - val_acc: 0.1285\n",
      "Epoch 2/2\n",
      " - 92s - loss: 1.2928 - acc: 0.3310 - val_loss: 0.7038 - val_acc: 0.2248\n",
      "dict_keys(['val_loss', 'val_acc', 'loss', 'acc'])\n"
     ]
    }
   ],
   "source": [
    "cnn_model_path = PATH_MODEL_DELETE + 'Multiple_Input_Model_Best_Run_1DCNN_Nov5.h5'\n",
    "# Define global variables \n",
    "\n",
    "BATCH_SIZE = 800\n",
    "class_weight = {0 : 1., \n",
    "                1: 10}\n",
    "\n",
    "history = History()\n",
    "\n",
    "history = model.fit(X_train_cnn, y_train_cnn, batch_size=BATCH_SIZE, epochs=2, verbose=2, \n",
    "                    validation_split=0, \n",
    "                    validation_data=(X_val_cnn, y_val_cnn),  \n",
    "                    class_weight = class_weight, \n",
    "                    \n",
    "\n",
    "callbacks = [keras.callbacks.EarlyStopping(monitor='val_loss', min_delta=0, patience=40, verbose=1, mode='min'),\n",
    "             keras.callbacks.ModelCheckpoint(cnn_model_path,monitor='val_loss', save_best_only=True, mode='min')])\n",
    "\n",
    "print(history.history.keys())"
   ]
  },
  {
   "cell_type": "code",
   "execution_count": 208,
   "metadata": {},
   "outputs": [
    {
     "data": {
      "text/plain": [
       "<Figure size 432x288 with 0 Axes>"
      ]
     },
     "execution_count": 208,
     "metadata": {},
     "output_type": "execute_result"
    },
    {
     "data": {
      "text/plain": [
       "<matplotlib.axes._subplots.AxesSubplot at 0x21692ffc1d0>"
      ]
     },
     "execution_count": 208,
     "metadata": {},
     "output_type": "execute_result"
    },
    {
     "data": {
      "text/plain": [
       "[<matplotlib.lines.Line2D at 0x217f8fbe7b8>]"
      ]
     },
     "execution_count": 208,
     "metadata": {},
     "output_type": "execute_result"
    },
    {
     "data": {
      "text/plain": [
       "[<matplotlib.lines.Line2D at 0x217f8fbe780>]"
      ]
     },
     "execution_count": 208,
     "metadata": {},
     "output_type": "execute_result"
    },
    {
     "data": {
      "text/plain": [
       "Text(0.5, 1.0, 'model accuracy')"
      ]
     },
     "execution_count": 208,
     "metadata": {},
     "output_type": "execute_result"
    },
    {
     "data": {
      "text/plain": [
       "Text(0, 0.5, 'accuracy')"
      ]
     },
     "execution_count": 208,
     "metadata": {},
     "output_type": "execute_result"
    },
    {
     "data": {
      "text/plain": [
       "Text(0.5, 0, 'epoch')"
      ]
     },
     "execution_count": 208,
     "metadata": {},
     "output_type": "execute_result"
    },
    {
     "data": {
      "text/plain": [
       "<matplotlib.legend.Legend at 0x217f8f78208>"
      ]
     },
     "execution_count": 208,
     "metadata": {},
     "output_type": "execute_result"
    },
    {
     "data": {
      "text/plain": [
       "<matplotlib.axes._subplots.AxesSubplot at 0x217f8f78128>"
      ]
     },
     "execution_count": 208,
     "metadata": {},
     "output_type": "execute_result"
    },
    {
     "data": {
      "text/plain": [
       "[<matplotlib.lines.Line2D at 0x217f8fc1cc0>]"
      ]
     },
     "execution_count": 208,
     "metadata": {},
     "output_type": "execute_result"
    },
    {
     "data": {
      "text/plain": [
       "[<matplotlib.lines.Line2D at 0x217f8fa1d68>]"
      ]
     },
     "execution_count": 208,
     "metadata": {},
     "output_type": "execute_result"
    },
    {
     "data": {
      "text/plain": [
       "Text(0.5, 1.0, 'model loss')"
      ]
     },
     "execution_count": 208,
     "metadata": {},
     "output_type": "execute_result"
    },
    {
     "data": {
      "text/plain": [
       "Text(0, 0.5, 'loss')"
      ]
     },
     "execution_count": 208,
     "metadata": {},
     "output_type": "execute_result"
    },
    {
     "data": {
      "text/plain": [
       "Text(0.5, 0, 'epoch')"
      ]
     },
     "execution_count": 208,
     "metadata": {},
     "output_type": "execute_result"
    },
    {
     "data": {
      "text/plain": [
       "<matplotlib.legend.Legend at 0x217f8f91898>"
      ]
     },
     "execution_count": 208,
     "metadata": {},
     "output_type": "execute_result"
    },
    {
     "data": {
      "image/png": "[encoded data removed]",
      "text/plain": [
       "<Figure size 432x288 with 2 Axes>"
      ]
     },
     "metadata": {},
     "output_type": "display_data"
    }
   ],
   "source": [
    "InteractiveShell.ast_node_interactivity = \"none\"\n",
    "\n",
    "import matplotlib.pyplot as plt  \n",
    "plt.figure(1)  \n",
    "\n",
    "# summarize history for accuracy  \n",
    "plt.subplot(211)  \n",
    "plt.plot(history.history['acc'])  \n",
    "plt.plot(history.history['val_acc'])  \n",
    "plt.title('model accuracy')  \n",
    "plt.ylabel('accuracy')  \n",
    "plt.xlabel('epoch')  \n",
    "plt.legend(['train', 'test'], loc='upper left')  \n",
    "   \n",
    "# summarize history for loss  \n",
    "plt.subplot(212)  \n",
    "plt.plot(history.history['loss'])  \n",
    "plt.plot(history.history['val_loss'])  \n",
    "plt.title('model loss')  \n",
    "plt.ylabel('loss')  \n",
    "plt.xlabel('epoch')  \n",
    "plt.legend(['train', 'test'], loc='upper left')  \n",
    "plt.show()  "
   ]
  },
  {
   "cell_type": "code",
   "execution_count": null,
   "metadata": {
    "collapsed": true
   },
   "outputs": [],
   "source": []
  },
  {
   "cell_type": "markdown",
   "metadata": {},
   "source": [
    "## 4.2 Build RNN Model on Numerical Sequential Dataframe"
   ]
  },
  {
   "cell_type": "markdown",
   "metadata": {},
   "source": [
    "### Read in Numerical Data Source"
   ]
  },
  {
   "cell_type": "code",
   "execution_count": 209,
   "metadata": {},
   "outputs": [],
   "source": [
    "with open(PATH + 'df_Numerical.pkl', 'rb') as f:\n",
    "    Numerical_df = pickle.load(f)\n",
    "    \n",
    "Numerical_df.shape\n",
    "Numerical_df.head(1)"
   ]
  },
  {
   "cell_type": "markdown",
   "metadata": {},
   "source": [
    "### Filter Numerical Data Source to Variables of Interest"
   ]
  },
  {
   "cell_type": "code",
   "execution_count": 210,
   "metadata": {
    "collapsed": true
   },
   "outputs": [],
   "source": [
    "InteractiveShell.ast_node_interactivity = \"all\""
   ]
  },
  {
   "cell_type": "code",
   "execution_count": 211,
   "metadata": {
    "scrolled": true
   },
   "outputs": [
    {
     "data": {
      "text/plain": [
       "(9408644, 49)"
      ]
     },
     "execution_count": 211,
     "metadata": {},
     "output_type": "execute_result"
    }
   ],
   "source": [
    "Numerical_df.shape\n"
   ]
  },
  {
   "cell_type": "markdown",
   "metadata": {},
   "source": [
    "### Filter to Columns of Interest"
   ]
  },
  {
   "cell_type": "code",
   "execution_count": 212,
   "metadata": {
    "collapsed": true
   },
   "outputs": [],
   "source": [
    "Numerical_df.drop(columns=['MISDATE','Timestep'], inplace=True)"
   ]
  },
  {
   "cell_type": "code",
   "execution_count": 213,
   "metadata": {},
   "outputs": [
    {
     "data": {
      "text/plain": [
       "(9408644, 47)"
      ]
     },
     "execution_count": 213,
     "metadata": {},
     "output_type": "execute_result"
    }
   ],
   "source": [
    "Numerical_df.shape"
   ]
  },
  {
   "cell_type": "code",
   "execution_count": 214,
   "metadata": {},
   "outputs": [
    {
     "data": {
      "text/plain": [
       "81109.0"
      ]
     },
     "execution_count": 214,
     "metadata": {},
     "output_type": "execute_result"
    }
   ],
   "source": [
    "len(Numerical_df)/116\n",
    "Num_bak = Numerical_df"
   ]
  },
  {
   "cell_type": "markdown",
   "metadata": {},
   "source": [
    "### Read in and Merge Numerical Dataframe with Attrition Labels and Double Check Distributions"
   ]
  },
  {
   "cell_type": "code",
   "execution_count": 215,
   "metadata": {},
   "outputs": [
    {
     "data": {
      "text/plain": [
       "(42700, 2)"
      ]
     },
     "execution_count": 215,
     "metadata": {},
     "output_type": "execute_result"
    },
    {
     "data": {
      "text/plain": [
       "(21498, 2)"
      ]
     },
     "execution_count": 215,
     "metadata": {},
     "output_type": "execute_result"
    },
    {
     "data": {
      "text/html": [
       "<div>\n",
       "<style scoped>\n",
       "    .dataframe tbody tr th:only-of-type {\n",
       "        vertical-align: middle;\n",
       "    }\n",
       "\n",
       "    .dataframe tbody tr th {\n",
       "        vertical-align: top;\n",
       "    }\n",
       "\n",
       "    .dataframe thead th {\n",
       "        text-align: right;\n",
       "    }\n",
       "</style>\n",
       "<table border=\"1\" class=\"dataframe\">\n",
       "  <thead>\n",
       "    <tr style=\"text-align: right;\">\n",
       "      <th></th>\n",
       "      <th>Account_Number</th>\n",
       "      <th>ATTRITION_FLAG</th>\n",
       "    </tr>\n",
       "  </thead>\n",
       "  <tbody>\n",
       "    <tr>\n",
       "      <th>0</th>\n",
       "      <td>MAFF_ACCT_0000054355</td>\n",
       "      <td>0</td>\n",
       "    </tr>\n",
       "  </tbody>\n",
       "</table>\n",
       "</div>"
      ],
      "text/plain": [
       "         Account_Number  ATTRITION_FLAG\n",
       "0  MAFF_ACCT_0000054355               0"
      ]
     },
     "execution_count": 215,
     "metadata": {},
     "output_type": "execute_result"
    },
    {
     "data": {
      "text/html": [
       "<div>\n",
       "<style scoped>\n",
       "    .dataframe tbody tr th:only-of-type {\n",
       "        vertical-align: middle;\n",
       "    }\n",
       "\n",
       "    .dataframe tbody tr th {\n",
       "        vertical-align: top;\n",
       "    }\n",
       "\n",
       "    .dataframe thead th {\n",
       "        text-align: right;\n",
       "    }\n",
       "</style>\n",
       "<table border=\"1\" class=\"dataframe\">\n",
       "  <thead>\n",
       "    <tr style=\"text-align: right;\">\n",
       "      <th></th>\n",
       "      <th>Account_Number</th>\n",
       "      <th>ATTRITION_FLAG</th>\n",
       "    </tr>\n",
       "  </thead>\n",
       "  <tbody>\n",
       "    <tr>\n",
       "      <th>0</th>\n",
       "      <td>MAFF_ACCT_0000002125</td>\n",
       "      <td>OPEN</td>\n",
       "    </tr>\n",
       "  </tbody>\n",
       "</table>\n",
       "</div>"
      ],
      "text/plain": [
       "         Account_Number ATTRITION_FLAG\n",
       "0  MAFF_ACCT_0000002125           OPEN"
      ]
     },
     "execution_count": 215,
     "metadata": {},
     "output_type": "execute_result"
    },
    {
     "data": {
      "text/plain": [
       "(81109, 2)"
      ]
     },
     "execution_count": 215,
     "metadata": {},
     "output_type": "execute_result"
    }
   ],
   "source": [
    "Labels_train_df.shape\n",
    "Labels_val_df.shape\n",
    "Labels_train_df.head(1)\n",
    "Labels2 = Labels_train_df.append(Labels_val_df)\n",
    "\n",
    "Labels.head(1)\n",
    "Labels.shape\n"
   ]
  },
  {
   "cell_type": "code",
   "execution_count": 216,
   "metadata": {
    "collapsed": true
   },
   "outputs": [],
   "source": [
    "Numerical_df1 = pd.merge(Numerical_df, Labels,  \n",
    "                        how='left', left_on='Account_Number', right_on='Account_Number')"
   ]
  },
  {
   "cell_type": "code",
   "execution_count": 217,
   "metadata": {},
   "outputs": [
    {
     "data": {
      "text/plain": [
       "(9408644, 48)"
      ]
     },
     "execution_count": 217,
     "metadata": {},
     "output_type": "execute_result"
    },
    {
     "data": {
      "text/plain": [
       "OPEN         8614972\n",
       "VOLUNTARY     793672\n",
       "Name: ATTRITION_FLAG, dtype: int64"
      ]
     },
     "execution_count": 217,
     "metadata": {},
     "output_type": "execute_result"
    },
    {
     "data": {
      "text/html": [
       "<div>\n",
       "<style scoped>\n",
       "    .dataframe tbody tr th:only-of-type {\n",
       "        vertical-align: middle;\n",
       "    }\n",
       "\n",
       "    .dataframe tbody tr th {\n",
       "        vertical-align: top;\n",
       "    }\n",
       "\n",
       "    .dataframe thead th {\n",
       "        text-align: right;\n",
       "    }\n",
       "</style>\n",
       "<table border=\"1\" class=\"dataframe\">\n",
       "  <thead>\n",
       "    <tr style=\"text-align: right;\">\n",
       "      <th></th>\n",
       "      <th>Account_Number</th>\n",
       "      <th>ACTUAL_CURRENT_BALANCE</th>\n",
       "      <th>Credit_Limit</th>\n",
       "      <th>Last_Statement_Closing_Balance</th>\n",
       "      <th>Last_Statement_Minimum_Due</th>\n",
       "      <th>Monthly_Salary</th>\n",
       "      <th>Monthly_Salary</th>\n",
       "      <th>Months_On_Book</th>\n",
       "      <th>No_Of_Due_Stmt</th>\n",
       "      <th>Days_On_Book</th>\n",
       "      <th>...</th>\n",
       "      <th>Tranasaction_Count_LOP</th>\n",
       "      <th>Tranasaction_Count_EPP</th>\n",
       "      <th>Tranasaction_Count_Violation_Fee</th>\n",
       "      <th>Balance_Gradient_window_14</th>\n",
       "      <th>Balance_Gradient_window_28</th>\n",
       "      <th>Balance_Gradient_window_74</th>\n",
       "      <th>Perc_Used_Gradient_window_14</th>\n",
       "      <th>Perc_Used_Gradient_window_28</th>\n",
       "      <th>Perc_Used_Gradient_window_74</th>\n",
       "      <th>ATTRITION_FLAG</th>\n",
       "    </tr>\n",
       "  </thead>\n",
       "  <tbody>\n",
       "    <tr>\n",
       "      <th>0</th>\n",
       "      <td>MAFF_ACCT_0000002125</td>\n",
       "      <td>6474</td>\n",
       "      <td>18000</td>\n",
       "      <td>4490</td>\n",
       "      <td>224</td>\n",
       "      <td>9000</td>\n",
       "      <td>9000</td>\n",
       "      <td>59</td>\n",
       "      <td>0</td>\n",
       "      <td>1774</td>\n",
       "      <td>...</td>\n",
       "      <td>0</td>\n",
       "      <td>0</td>\n",
       "      <td>0</td>\n",
       "      <td>0.0</td>\n",
       "      <td>0.0</td>\n",
       "      <td>0.0</td>\n",
       "      <td>0.0</td>\n",
       "      <td>0.0</td>\n",
       "      <td>0.0</td>\n",
       "      <td>OPEN</td>\n",
       "    </tr>\n",
       "    <tr>\n",
       "      <th>1</th>\n",
       "      <td>MAFF_ACCT_0000002125</td>\n",
       "      <td>6474</td>\n",
       "      <td>18000</td>\n",
       "      <td>4490</td>\n",
       "      <td>224</td>\n",
       "      <td>9000</td>\n",
       "      <td>9000</td>\n",
       "      <td>59</td>\n",
       "      <td>0</td>\n",
       "      <td>1773</td>\n",
       "      <td>...</td>\n",
       "      <td>0</td>\n",
       "      <td>2</td>\n",
       "      <td>0</td>\n",
       "      <td>0.0</td>\n",
       "      <td>0.0</td>\n",
       "      <td>0.0</td>\n",
       "      <td>0.0</td>\n",
       "      <td>0.0</td>\n",
       "      <td>0.0</td>\n",
       "      <td>OPEN</td>\n",
       "    </tr>\n",
       "    <tr>\n",
       "      <th>2</th>\n",
       "      <td>MAFF_ACCT_0000002125</td>\n",
       "      <td>6474</td>\n",
       "      <td>18000</td>\n",
       "      <td>4490</td>\n",
       "      <td>224</td>\n",
       "      <td>9000</td>\n",
       "      <td>9000</td>\n",
       "      <td>58</td>\n",
       "      <td>0</td>\n",
       "      <td>1772</td>\n",
       "      <td>...</td>\n",
       "      <td>0</td>\n",
       "      <td>0</td>\n",
       "      <td>0</td>\n",
       "      <td>0.0</td>\n",
       "      <td>0.0</td>\n",
       "      <td>0.0</td>\n",
       "      <td>0.0</td>\n",
       "      <td>0.0</td>\n",
       "      <td>0.0</td>\n",
       "      <td>OPEN</td>\n",
       "    </tr>\n",
       "    <tr>\n",
       "      <th>3</th>\n",
       "      <td>MAFF_ACCT_0000002125</td>\n",
       "      <td>6314</td>\n",
       "      <td>18000</td>\n",
       "      <td>4490</td>\n",
       "      <td>224</td>\n",
       "      <td>9000</td>\n",
       "      <td>9000</td>\n",
       "      <td>58</td>\n",
       "      <td>0</td>\n",
       "      <td>1771</td>\n",
       "      <td>...</td>\n",
       "      <td>0</td>\n",
       "      <td>0</td>\n",
       "      <td>0</td>\n",
       "      <td>0.0</td>\n",
       "      <td>0.0</td>\n",
       "      <td>0.0</td>\n",
       "      <td>0.0</td>\n",
       "      <td>0.0</td>\n",
       "      <td>0.0</td>\n",
       "      <td>OPEN</td>\n",
       "    </tr>\n",
       "    <tr>\n",
       "      <th>4</th>\n",
       "      <td>MAFF_ACCT_0000002125</td>\n",
       "      <td>6182</td>\n",
       "      <td>18000</td>\n",
       "      <td>4490</td>\n",
       "      <td>224</td>\n",
       "      <td>9000</td>\n",
       "      <td>9000</td>\n",
       "      <td>58</td>\n",
       "      <td>0</td>\n",
       "      <td>1770</td>\n",
       "      <td>...</td>\n",
       "      <td>0</td>\n",
       "      <td>0</td>\n",
       "      <td>0</td>\n",
       "      <td>0.0</td>\n",
       "      <td>0.0</td>\n",
       "      <td>0.0</td>\n",
       "      <td>0.0</td>\n",
       "      <td>0.0</td>\n",
       "      <td>0.0</td>\n",
       "      <td>OPEN</td>\n",
       "    </tr>\n",
       "  </tbody>\n",
       "</table>\n",
       "<p>5 rows × 48 columns</p>\n",
       "</div>"
      ],
      "text/plain": [
       "         Account_Number  ACTUAL_CURRENT_BALANCE  Credit_Limit  \\\n",
       "0  MAFF_ACCT_0000002125                    6474         18000   \n",
       "1  MAFF_ACCT_0000002125                    6474         18000   \n",
       "2  MAFF_ACCT_0000002125                    6474         18000   \n",
       "3  MAFF_ACCT_0000002125                    6314         18000   \n",
       "4  MAFF_ACCT_0000002125                    6182         18000   \n",
       "\n",
       "   Last_Statement_Closing_Balance  Last_Statement_Minimum_Due  Monthly_Salary  \\\n",
       "0                            4490                         224            9000   \n",
       "1                            4490                         224            9000   \n",
       "2                            4490                         224            9000   \n",
       "3                            4490                         224            9000   \n",
       "4                            4490                         224            9000   \n",
       "\n",
       "   Monthly_Salary  Months_On_Book No_Of_Due_Stmt  Days_On_Book  \\\n",
       "0            9000              59              0          1774   \n",
       "1            9000              59              0          1773   \n",
       "2            9000              58              0          1772   \n",
       "3            9000              58              0          1771   \n",
       "4            9000              58              0          1770   \n",
       "\n",
       "        ...        Tranasaction_Count_LOP  Tranasaction_Count_EPP  \\\n",
       "0       ...                             0                       0   \n",
       "1       ...                             0                       2   \n",
       "2       ...                             0                       0   \n",
       "3       ...                             0                       0   \n",
       "4       ...                             0                       0   \n",
       "\n",
       "   Tranasaction_Count_Violation_Fee  Balance_Gradient_window_14  \\\n",
       "0                                 0                         0.0   \n",
       "1                                 0                         0.0   \n",
       "2                                 0                         0.0   \n",
       "3                                 0                         0.0   \n",
       "4                                 0                         0.0   \n",
       "\n",
       "   Balance_Gradient_window_28  Balance_Gradient_window_74  \\\n",
       "0                         0.0                         0.0   \n",
       "1                         0.0                         0.0   \n",
       "2                         0.0                         0.0   \n",
       "3                         0.0                         0.0   \n",
       "4                         0.0                         0.0   \n",
       "\n",
       "   Perc_Used_Gradient_window_14  Perc_Used_Gradient_window_28  \\\n",
       "0                           0.0                           0.0   \n",
       "1                           0.0                           0.0   \n",
       "2                           0.0                           0.0   \n",
       "3                           0.0                           0.0   \n",
       "4                           0.0                           0.0   \n",
       "\n",
       "   Perc_Used_Gradient_window_74  ATTRITION_FLAG  \n",
       "0                           0.0            OPEN  \n",
       "1                           0.0            OPEN  \n",
       "2                           0.0            OPEN  \n",
       "3                           0.0            OPEN  \n",
       "4                           0.0            OPEN  \n",
       "\n",
       "[5 rows x 48 columns]"
      ]
     },
     "execution_count": 217,
     "metadata": {},
     "output_type": "execute_result"
    }
   ],
   "source": [
    "del Numerical_df\n",
    "Numerical_df1.shape\n",
    "Numerical_df1['ATTRITION_FLAG'].value_counts()\n",
    "Numerical_df1.head()"
   ]
  },
  {
   "cell_type": "markdown",
   "metadata": {},
   "source": [
    "### Create Sample Groups from Numerical Dataframe"
   ]
  },
  {
   "cell_type": "code",
   "execution_count": 218,
   "metadata": {
    "collapsed": true
   },
   "outputs": [],
   "source": [
    "Numerical_df1['Account_Number'] = Numerical_df1['Account_Number'].astype('str')\n",
    "del Numerical_df1['ATTRITION_FLAG']"
   ]
  },
  {
   "cell_type": "code",
   "execution_count": 219,
   "metadata": {},
   "outputs": [
    {
     "data": {
      "text/plain": [
       "(4953200, 48)"
      ]
     },
     "execution_count": 219,
     "metadata": {},
     "output_type": "execute_result"
    },
    {
     "data": {
      "text/plain": [
       "(2493768, 48)"
      ]
     },
     "execution_count": 219,
     "metadata": {},
     "output_type": "execute_result"
    }
   ],
   "source": [
    "#Split data into validation and train sets based on master sample index\n",
    "Numerical_train = pd.merge(Labels_train_df, Numerical_df1, how='inner',  \n",
    "                           left_on=['Account_Number'], \n",
    "                           right_on = ['Account_Number'])\n",
    "Numerical_train = Numerical_train.reset_index(drop=True)\n",
    "Numerical_train.shape\n",
    "#Numerical_train.head(1)\n",
    "\n",
    "Numerical_val = pd.merge(Labels_val_df, Numerical_df1, how='inner',  \n",
    "                            left_on=['Account_Number'], \n",
    "                           right_on = ['Account_Number'])\n",
    "Numerical_val = Numerical_val.reset_index(drop=True)\n",
    "Numerical_val.shape\n",
    "#Numerical_val.head(1)\n"
   ]
  },
  {
   "cell_type": "code",
   "execution_count": 220,
   "metadata": {},
   "outputs": [
    {
     "data": {
      "text/html": [
       "<div>\n",
       "<style scoped>\n",
       "    .dataframe tbody tr th:only-of-type {\n",
       "        vertical-align: middle;\n",
       "    }\n",
       "\n",
       "    .dataframe tbody tr th {\n",
       "        vertical-align: top;\n",
       "    }\n",
       "\n",
       "    .dataframe thead th {\n",
       "        text-align: right;\n",
       "    }\n",
       "</style>\n",
       "<table border=\"1\" class=\"dataframe\">\n",
       "  <thead>\n",
       "    <tr style=\"text-align: right;\">\n",
       "      <th></th>\n",
       "      <th>Account_Number</th>\n",
       "      <th>ATTRITION_FLAG</th>\n",
       "      <th>ACTUAL_CURRENT_BALANCE</th>\n",
       "      <th>Credit_Limit</th>\n",
       "      <th>Last_Statement_Closing_Balance</th>\n",
       "      <th>Last_Statement_Minimum_Due</th>\n",
       "      <th>Monthly_Salary</th>\n",
       "      <th>Monthly_Salary</th>\n",
       "      <th>Months_On_Book</th>\n",
       "      <th>No_Of_Due_Stmt</th>\n",
       "      <th>...</th>\n",
       "      <th>Tranasaction_Count_BT</th>\n",
       "      <th>Tranasaction_Count_LOP</th>\n",
       "      <th>Tranasaction_Count_EPP</th>\n",
       "      <th>Tranasaction_Count_Violation_Fee</th>\n",
       "      <th>Balance_Gradient_window_14</th>\n",
       "      <th>Balance_Gradient_window_28</th>\n",
       "      <th>Balance_Gradient_window_74</th>\n",
       "      <th>Perc_Used_Gradient_window_14</th>\n",
       "      <th>Perc_Used_Gradient_window_28</th>\n",
       "      <th>Perc_Used_Gradient_window_74</th>\n",
       "    </tr>\n",
       "  </thead>\n",
       "  <tbody>\n",
       "    <tr>\n",
       "      <th>0</th>\n",
       "      <td>MAFF_ACCT_0000054355</td>\n",
       "      <td>0</td>\n",
       "      <td>5900</td>\n",
       "      <td>5000</td>\n",
       "      <td>5899</td>\n",
       "      <td>1247</td>\n",
       "      <td>5000</td>\n",
       "      <td>5000</td>\n",
       "      <td>14</td>\n",
       "      <td>0</td>\n",
       "      <td>...</td>\n",
       "      <td>0</td>\n",
       "      <td>0</td>\n",
       "      <td>0</td>\n",
       "      <td>0</td>\n",
       "      <td>421.57143</td>\n",
       "      <td>171.85714</td>\n",
       "      <td>79.82432</td>\n",
       "      <td>0.08429</td>\n",
       "      <td>0.03429</td>\n",
       "      <td>0.01595</td>\n",
       "    </tr>\n",
       "    <tr>\n",
       "      <th>1</th>\n",
       "      <td>MAFF_ACCT_0000054355</td>\n",
       "      <td>0</td>\n",
       "      <td>5900</td>\n",
       "      <td>5000</td>\n",
       "      <td>5899</td>\n",
       "      <td>1247</td>\n",
       "      <td>5000</td>\n",
       "      <td>5000</td>\n",
       "      <td>14</td>\n",
       "      <td>0</td>\n",
       "      <td>...</td>\n",
       "      <td>0</td>\n",
       "      <td>0</td>\n",
       "      <td>0</td>\n",
       "      <td>0</td>\n",
       "      <td>411.57143</td>\n",
       "      <td>167.03571</td>\n",
       "      <td>77.93243</td>\n",
       "      <td>0.08214</td>\n",
       "      <td>0.03321</td>\n",
       "      <td>0.01554</td>\n",
       "    </tr>\n",
       "  </tbody>\n",
       "</table>\n",
       "<p>2 rows × 48 columns</p>\n",
       "</div>"
      ],
      "text/plain": [
       "         Account_Number  ATTRITION_FLAG  ACTUAL_CURRENT_BALANCE  Credit_Limit  \\\n",
       "0  MAFF_ACCT_0000054355               0                    5900          5000   \n",
       "1  MAFF_ACCT_0000054355               0                    5900          5000   \n",
       "\n",
       "   Last_Statement_Closing_Balance  Last_Statement_Minimum_Due  Monthly_Salary  \\\n",
       "0                            5899                        1247            5000   \n",
       "1                            5899                        1247            5000   \n",
       "\n",
       "   Monthly_Salary  Months_On_Book No_Of_Due_Stmt  \\\n",
       "0            5000              14              0   \n",
       "1            5000              14              0   \n",
       "\n",
       "               ...               Tranasaction_Count_BT  \\\n",
       "0              ...                                   0   \n",
       "1              ...                                   0   \n",
       "\n",
       "   Tranasaction_Count_LOP  Tranasaction_Count_EPP  \\\n",
       "0                       0                       0   \n",
       "1                       0                       0   \n",
       "\n",
       "   Tranasaction_Count_Violation_Fee  Balance_Gradient_window_14  \\\n",
       "0                                 0                   421.57143   \n",
       "1                                 0                   411.57143   \n",
       "\n",
       "   Balance_Gradient_window_28  Balance_Gradient_window_74  \\\n",
       "0                   171.85714                    79.82432   \n",
       "1                   167.03571                    77.93243   \n",
       "\n",
       "   Perc_Used_Gradient_window_14  Perc_Used_Gradient_window_28  \\\n",
       "0                       0.08429                       0.03429   \n",
       "1                       0.08214                       0.03321   \n",
       "\n",
       "   Perc_Used_Gradient_window_74  \n",
       "0                       0.01595  \n",
       "1                       0.01554  \n",
       "\n",
       "[2 rows x 48 columns]"
      ]
     },
     "execution_count": 220,
     "metadata": {},
     "output_type": "execute_result"
    },
    {
     "data": {
      "text/html": [
       "<div>\n",
       "<style scoped>\n",
       "    .dataframe tbody tr th:only-of-type {\n",
       "        vertical-align: middle;\n",
       "    }\n",
       "\n",
       "    .dataframe tbody tr th {\n",
       "        vertical-align: top;\n",
       "    }\n",
       "\n",
       "    .dataframe thead th {\n",
       "        text-align: right;\n",
       "    }\n",
       "</style>\n",
       "<table border=\"1\" class=\"dataframe\">\n",
       "  <thead>\n",
       "    <tr style=\"text-align: right;\">\n",
       "      <th></th>\n",
       "      <th>Account_Number</th>\n",
       "      <th>ATTRITION_FLAG</th>\n",
       "      <th>ACTUAL_CURRENT_BALANCE</th>\n",
       "      <th>Credit_Limit</th>\n",
       "      <th>Last_Statement_Closing_Balance</th>\n",
       "      <th>Last_Statement_Minimum_Due</th>\n",
       "      <th>Monthly_Salary</th>\n",
       "      <th>Monthly_Salary</th>\n",
       "      <th>Months_On_Book</th>\n",
       "      <th>No_Of_Due_Stmt</th>\n",
       "      <th>...</th>\n",
       "      <th>Tranasaction_Count_BT</th>\n",
       "      <th>Tranasaction_Count_LOP</th>\n",
       "      <th>Tranasaction_Count_EPP</th>\n",
       "      <th>Tranasaction_Count_Violation_Fee</th>\n",
       "      <th>Balance_Gradient_window_14</th>\n",
       "      <th>Balance_Gradient_window_28</th>\n",
       "      <th>Balance_Gradient_window_74</th>\n",
       "      <th>Perc_Used_Gradient_window_14</th>\n",
       "      <th>Perc_Used_Gradient_window_28</th>\n",
       "      <th>Perc_Used_Gradient_window_74</th>\n",
       "    </tr>\n",
       "  </thead>\n",
       "  <tbody>\n",
       "    <tr>\n",
       "      <th>0</th>\n",
       "      <td>MAFF_ACCT_0000171653</td>\n",
       "      <td>0</td>\n",
       "      <td>4571</td>\n",
       "      <td>5000</td>\n",
       "      <td>4921</td>\n",
       "      <td>290</td>\n",
       "      <td>5000</td>\n",
       "      <td>5000</td>\n",
       "      <td>11</td>\n",
       "      <td>0</td>\n",
       "      <td>...</td>\n",
       "      <td>0</td>\n",
       "      <td>0</td>\n",
       "      <td>0</td>\n",
       "      <td>0</td>\n",
       "      <td>-686.92857</td>\n",
       "      <td>-343.46429</td>\n",
       "      <td>-142.60811</td>\n",
       "      <td>-0.01286</td>\n",
       "      <td>-0.00643</td>\n",
       "      <td>-0.00338</td>\n",
       "    </tr>\n",
       "    <tr>\n",
       "      <th>1</th>\n",
       "      <td>MAFF_ACCT_0000171653</td>\n",
       "      <td>0</td>\n",
       "      <td>4571</td>\n",
       "      <td>5000</td>\n",
       "      <td>4921</td>\n",
       "      <td>290</td>\n",
       "      <td>5000</td>\n",
       "      <td>5000</td>\n",
       "      <td>11</td>\n",
       "      <td>0</td>\n",
       "      <td>...</td>\n",
       "      <td>0</td>\n",
       "      <td>0</td>\n",
       "      <td>0</td>\n",
       "      <td>0</td>\n",
       "      <td>-686.92857</td>\n",
       "      <td>-343.46429</td>\n",
       "      <td>-142.60811</td>\n",
       "      <td>-0.01286</td>\n",
       "      <td>-0.00643</td>\n",
       "      <td>-0.00338</td>\n",
       "    </tr>\n",
       "  </tbody>\n",
       "</table>\n",
       "<p>2 rows × 48 columns</p>\n",
       "</div>"
      ],
      "text/plain": [
       "         Account_Number  ATTRITION_FLAG  ACTUAL_CURRENT_BALANCE  Credit_Limit  \\\n",
       "0  MAFF_ACCT_0000171653               0                    4571          5000   \n",
       "1  MAFF_ACCT_0000171653               0                    4571          5000   \n",
       "\n",
       "   Last_Statement_Closing_Balance  Last_Statement_Minimum_Due  Monthly_Salary  \\\n",
       "0                            4921                         290            5000   \n",
       "1                            4921                         290            5000   \n",
       "\n",
       "   Monthly_Salary  Months_On_Book No_Of_Due_Stmt  \\\n",
       "0            5000              11              0   \n",
       "1            5000              11              0   \n",
       "\n",
       "               ...               Tranasaction_Count_BT  \\\n",
       "0              ...                                   0   \n",
       "1              ...                                   0   \n",
       "\n",
       "   Tranasaction_Count_LOP  Tranasaction_Count_EPP  \\\n",
       "0                       0                       0   \n",
       "1                       0                       0   \n",
       "\n",
       "   Tranasaction_Count_Violation_Fee  Balance_Gradient_window_14  \\\n",
       "0                                 0                  -686.92857   \n",
       "1                                 0                  -686.92857   \n",
       "\n",
       "   Balance_Gradient_window_28  Balance_Gradient_window_74  \\\n",
       "0                  -343.46429                  -142.60811   \n",
       "1                  -343.46429                  -142.60811   \n",
       "\n",
       "   Perc_Used_Gradient_window_14  Perc_Used_Gradient_window_28  \\\n",
       "0                      -0.01286                      -0.00643   \n",
       "1                      -0.01286                      -0.00643   \n",
       "\n",
       "   Perc_Used_Gradient_window_74  \n",
       "0                      -0.00338  \n",
       "1                      -0.00338  \n",
       "\n",
       "[2 rows x 48 columns]"
      ]
     },
     "execution_count": 220,
     "metadata": {},
     "output_type": "execute_result"
    },
    {
     "data": {
      "text/plain": [
       "21498.0"
      ]
     },
     "execution_count": 220,
     "metadata": {},
     "output_type": "execute_result"
    },
    {
     "data": {
      "text/plain": [
       "42700.0"
      ]
     },
     "execution_count": 220,
     "metadata": {},
     "output_type": "execute_result"
    },
    {
     "data": {
      "text/plain": [
       "0    4475512\n",
       "1     477688\n",
       "Name: ATTRITION_FLAG, dtype: int64"
      ]
     },
     "execution_count": 220,
     "metadata": {},
     "output_type": "execute_result"
    },
    {
     "data": {
      "text/html": [
       "<div>\n",
       "<style scoped>\n",
       "    .dataframe tbody tr th:only-of-type {\n",
       "        vertical-align: middle;\n",
       "    }\n",
       "\n",
       "    .dataframe tbody tr th {\n",
       "        vertical-align: top;\n",
       "    }\n",
       "\n",
       "    .dataframe thead th {\n",
       "        text-align: right;\n",
       "    }\n",
       "</style>\n",
       "<table border=\"1\" class=\"dataframe\">\n",
       "  <thead>\n",
       "    <tr style=\"text-align: right;\">\n",
       "      <th></th>\n",
       "      <th>Account_Number</th>\n",
       "      <th>ATTRITION_FLAG</th>\n",
       "      <th>ACTUAL_CURRENT_BALANCE</th>\n",
       "      <th>Credit_Limit</th>\n",
       "      <th>Last_Statement_Closing_Balance</th>\n",
       "      <th>Last_Statement_Minimum_Due</th>\n",
       "      <th>Monthly_Salary</th>\n",
       "      <th>Monthly_Salary</th>\n",
       "      <th>Months_On_Book</th>\n",
       "      <th>No_Of_Due_Stmt</th>\n",
       "      <th>...</th>\n",
       "      <th>Tranasaction_Count_BT</th>\n",
       "      <th>Tranasaction_Count_LOP</th>\n",
       "      <th>Tranasaction_Count_EPP</th>\n",
       "      <th>Tranasaction_Count_Violation_Fee</th>\n",
       "      <th>Balance_Gradient_window_14</th>\n",
       "      <th>Balance_Gradient_window_28</th>\n",
       "      <th>Balance_Gradient_window_74</th>\n",
       "      <th>Perc_Used_Gradient_window_14</th>\n",
       "      <th>Perc_Used_Gradient_window_28</th>\n",
       "      <th>Perc_Used_Gradient_window_74</th>\n",
       "    </tr>\n",
       "  </thead>\n",
       "  <tbody>\n",
       "    <tr>\n",
       "      <th>0</th>\n",
       "      <td>MAFF_ACCT_0000171653</td>\n",
       "      <td>0</td>\n",
       "      <td>4571</td>\n",
       "      <td>5000</td>\n",
       "      <td>4921</td>\n",
       "      <td>290</td>\n",
       "      <td>5000</td>\n",
       "      <td>5000</td>\n",
       "      <td>11</td>\n",
       "      <td>0</td>\n",
       "      <td>...</td>\n",
       "      <td>0</td>\n",
       "      <td>0</td>\n",
       "      <td>0</td>\n",
       "      <td>0</td>\n",
       "      <td>-686.92857</td>\n",
       "      <td>-343.46429</td>\n",
       "      <td>-142.60811</td>\n",
       "      <td>-0.01286</td>\n",
       "      <td>-0.00643</td>\n",
       "      <td>-0.00338</td>\n",
       "    </tr>\n",
       "    <tr>\n",
       "      <th>1</th>\n",
       "      <td>MAFF_ACCT_0000171653</td>\n",
       "      <td>0</td>\n",
       "      <td>4571</td>\n",
       "      <td>5000</td>\n",
       "      <td>4921</td>\n",
       "      <td>290</td>\n",
       "      <td>5000</td>\n",
       "      <td>5000</td>\n",
       "      <td>11</td>\n",
       "      <td>0</td>\n",
       "      <td>...</td>\n",
       "      <td>0</td>\n",
       "      <td>0</td>\n",
       "      <td>0</td>\n",
       "      <td>0</td>\n",
       "      <td>-686.92857</td>\n",
       "      <td>-343.46429</td>\n",
       "      <td>-142.60811</td>\n",
       "      <td>-0.01286</td>\n",
       "      <td>-0.00643</td>\n",
       "      <td>-0.00338</td>\n",
       "    </tr>\n",
       "    <tr>\n",
       "      <th>2</th>\n",
       "      <td>MAFF_ACCT_0000171653</td>\n",
       "      <td>0</td>\n",
       "      <td>4571</td>\n",
       "      <td>5000</td>\n",
       "      <td>4921</td>\n",
       "      <td>290</td>\n",
       "      <td>5000</td>\n",
       "      <td>5000</td>\n",
       "      <td>11</td>\n",
       "      <td>0</td>\n",
       "      <td>...</td>\n",
       "      <td>0</td>\n",
       "      <td>0</td>\n",
       "      <td>0</td>\n",
       "      <td>0</td>\n",
       "      <td>-686.92857</td>\n",
       "      <td>-343.46429</td>\n",
       "      <td>-142.60811</td>\n",
       "      <td>-0.01286</td>\n",
       "      <td>-0.00643</td>\n",
       "      <td>-0.00338</td>\n",
       "    </tr>\n",
       "    <tr>\n",
       "      <th>3</th>\n",
       "      <td>MAFF_ACCT_0000171653</td>\n",
       "      <td>0</td>\n",
       "      <td>4571</td>\n",
       "      <td>5000</td>\n",
       "      <td>4921</td>\n",
       "      <td>290</td>\n",
       "      <td>5000</td>\n",
       "      <td>5000</td>\n",
       "      <td>11</td>\n",
       "      <td>0</td>\n",
       "      <td>...</td>\n",
       "      <td>0</td>\n",
       "      <td>0</td>\n",
       "      <td>0</td>\n",
       "      <td>0</td>\n",
       "      <td>-686.92857</td>\n",
       "      <td>-343.46429</td>\n",
       "      <td>-142.60811</td>\n",
       "      <td>-0.01286</td>\n",
       "      <td>-0.00643</td>\n",
       "      <td>-0.00338</td>\n",
       "    </tr>\n",
       "    <tr>\n",
       "      <th>4</th>\n",
       "      <td>MAFF_ACCT_0000171653</td>\n",
       "      <td>0</td>\n",
       "      <td>4571</td>\n",
       "      <td>5000</td>\n",
       "      <td>4921</td>\n",
       "      <td>290</td>\n",
       "      <td>5000</td>\n",
       "      <td>5000</td>\n",
       "      <td>11</td>\n",
       "      <td>0</td>\n",
       "      <td>...</td>\n",
       "      <td>0</td>\n",
       "      <td>0</td>\n",
       "      <td>0</td>\n",
       "      <td>0</td>\n",
       "      <td>-686.92857</td>\n",
       "      <td>-343.46429</td>\n",
       "      <td>-142.60811</td>\n",
       "      <td>-0.01286</td>\n",
       "      <td>-0.00643</td>\n",
       "      <td>-0.00338</td>\n",
       "    </tr>\n",
       "  </tbody>\n",
       "</table>\n",
       "<p>5 rows × 48 columns</p>\n",
       "</div>"
      ],
      "text/plain": [
       "         Account_Number  ATTRITION_FLAG  ACTUAL_CURRENT_BALANCE  Credit_Limit  \\\n",
       "0  MAFF_ACCT_0000171653               0                    4571          5000   \n",
       "1  MAFF_ACCT_0000171653               0                    4571          5000   \n",
       "2  MAFF_ACCT_0000171653               0                    4571          5000   \n",
       "3  MAFF_ACCT_0000171653               0                    4571          5000   \n",
       "4  MAFF_ACCT_0000171653               0                    4571          5000   \n",
       "\n",
       "   Last_Statement_Closing_Balance  Last_Statement_Minimum_Due  Monthly_Salary  \\\n",
       "0                            4921                         290            5000   \n",
       "1                            4921                         290            5000   \n",
       "2                            4921                         290            5000   \n",
       "3                            4921                         290            5000   \n",
       "4                            4921                         290            5000   \n",
       "\n",
       "   Monthly_Salary  Months_On_Book No_Of_Due_Stmt  \\\n",
       "0            5000              11              0   \n",
       "1            5000              11              0   \n",
       "2            5000              11              0   \n",
       "3            5000              11              0   \n",
       "4            5000              11              0   \n",
       "\n",
       "               ...               Tranasaction_Count_BT  \\\n",
       "0              ...                                   0   \n",
       "1              ...                                   0   \n",
       "2              ...                                   0   \n",
       "3              ...                                   0   \n",
       "4              ...                                   0   \n",
       "\n",
       "   Tranasaction_Count_LOP  Tranasaction_Count_EPP  \\\n",
       "0                       0                       0   \n",
       "1                       0                       0   \n",
       "2                       0                       0   \n",
       "3                       0                       0   \n",
       "4                       0                       0   \n",
       "\n",
       "   Tranasaction_Count_Violation_Fee  Balance_Gradient_window_14  \\\n",
       "0                                 0                  -686.92857   \n",
       "1                                 0                  -686.92857   \n",
       "2                                 0                  -686.92857   \n",
       "3                                 0                  -686.92857   \n",
       "4                                 0                  -686.92857   \n",
       "\n",
       "   Balance_Gradient_window_28  Balance_Gradient_window_74  \\\n",
       "0                  -343.46429                  -142.60811   \n",
       "1                  -343.46429                  -142.60811   \n",
       "2                  -343.46429                  -142.60811   \n",
       "3                  -343.46429                  -142.60811   \n",
       "4                  -343.46429                  -142.60811   \n",
       "\n",
       "   Perc_Used_Gradient_window_14  Perc_Used_Gradient_window_28  \\\n",
       "0                      -0.01286                      -0.00643   \n",
       "1                      -0.01286                      -0.00643   \n",
       "2                      -0.01286                      -0.00643   \n",
       "3                      -0.01286                      -0.00643   \n",
       "4                      -0.01286                      -0.00643   \n",
       "\n",
       "   Perc_Used_Gradient_window_74  \n",
       "0                      -0.00338  \n",
       "1                      -0.00338  \n",
       "2                      -0.00338  \n",
       "3                      -0.00338  \n",
       "4                      -0.00338  \n",
       "\n",
       "[5 rows x 48 columns]"
      ]
     },
     "execution_count": 220,
     "metadata": {},
     "output_type": "execute_result"
    }
   ],
   "source": [
    "Numerical_train.head(2)\n",
    "Numerical_val.head(2)\n",
    "len(Numerical_val)/116\n",
    "len(Numerical_train)/116\n",
    "\n",
    "Numerical_train['ATTRITION_FLAG'].value_counts()\n",
    "Numerical_val.head()"
   ]
  },
  {
   "cell_type": "markdown",
   "metadata": {},
   "source": [
    "### Prepare Numerical 'X' dataframe for modeling"
   ]
  },
  {
   "cell_type": "code",
   "execution_count": 221,
   "metadata": {},
   "outputs": [
    {
     "data": {
      "text/plain": [
       "(4953200, 47)"
      ]
     },
     "execution_count": 221,
     "metadata": {},
     "output_type": "execute_result"
    },
    {
     "data": {
      "text/plain": [
       "(2493768, 47)"
      ]
     },
     "execution_count": 221,
     "metadata": {},
     "output_type": "execute_result"
    }
   ],
   "source": [
    "del Numerical_train['ATTRITION_FLAG']\n",
    "del Numerical_val['ATTRITION_FLAG']\n",
    "\n",
    "Numerical_train.shape\n",
    "Numerical_val.shape"
   ]
  },
  {
   "cell_type": "code",
   "execution_count": 222,
   "metadata": {},
   "outputs": [
    {
     "data": {
      "text/plain": [
       "Index(['Account_Number', 'ACTUAL_CURRENT_BALANCE', 'Credit_Limit',\n",
       "       'Last_Statement_Closing_Balance', 'Last_Statement_Minimum_Due',\n",
       "       'Monthly_Salary', 'Monthly_Salary', 'Months_On_Book', 'No_Of_Due_Stmt',\n",
       "       'Days_On_Book', 'Days_From_Statement', 'Days_from_Last_Activity',\n",
       "       'Incident_Num', 'APR_Rate_Low', 'APR_Rate_Med', 'APR_Rate_High',\n",
       "       'Prod_Cat_Voyager', 'Prod_Cat_Cashback', 'Country_ARAB',\n",
       "       'Country_INDIA', 'Country_OTHERS', 'Country_PAKISTAN',\n",
       "       'Country_PHILLIPPINES', 'Country_U.A.E.', 'Perc_Credit_Limit_Used',\n",
       "       'POINTS_REDEEMED', 'POINTS_BALANCE_CLOSING', 'POINTS_EARNED',\n",
       "       'Billing_Amount_Sum_Spend_ESS', 'Billing_Amount_Sum_Spend_NON_ESS',\n",
       "       'Billing_Amount_Spend_CASH', 'Billing_Amount_Violation_Fee',\n",
       "       'Transaction_Count_Payment', 'Tranasaction_Count_Spend_ESS',\n",
       "       'Tranasaction_Count_Spend_NON_ESS', 'Tranasaction_Count_Spend_CASH',\n",
       "       'Transaction_Count_Foreclosure', 'Tranasaction_Count_BT',\n",
       "       'Tranasaction_Count_LOP', 'Tranasaction_Count_EPP',\n",
       "       'Tranasaction_Count_Violation_Fee', 'Balance_Gradient_window_14',\n",
       "       'Balance_Gradient_window_28', 'Balance_Gradient_window_74',\n",
       "       'Perc_Used_Gradient_window_14', 'Perc_Used_Gradient_window_28',\n",
       "       'Perc_Used_Gradient_window_74'],\n",
       "      dtype='object')"
      ]
     },
     "execution_count": 222,
     "metadata": {},
     "output_type": "execute_result"
    }
   ],
   "source": [
    "Numerical_val.columns"
   ]
  },
  {
   "cell_type": "code",
   "execution_count": 223,
   "metadata": {
    "collapsed": true
   },
   "outputs": [],
   "source": [
    "uniqueids_train = Numerical_train['Account_Number'].nunique()\n",
    "uniqueids_val = Numerical_val['Account_Number'].nunique()"
   ]
  },
  {
   "cell_type": "markdown",
   "metadata": {},
   "source": [
    "### Scale Data"
   ]
  },
  {
   "cell_type": "code",
   "execution_count": 224,
   "metadata": {
    "collapsed": true
   },
   "outputs": [],
   "source": [
    "#Delete account number\n",
    "del Numerical_train['Account_Number']\n",
    "del Numerical_val['Account_Number']    \n",
    "\n",
    "#Delete potentially problematic source data\n",
    "#del Numerical_train['Billing_Amount_Spend_CASH']     \n",
    "#del Numerical_val['Billing_Amount_Spend_CASH'] \n",
    "#del Numerical_train['Transaction_Count_Foreclosure']     \n",
    "#del Numerical_val['Transaction_Count_Foreclosure'] \n",
    "#del Numerical_train['Transaction_Count_Payment']     \n",
    "#del Numerical_val['Transaction_Count_Payment'] \n",
    "\n"
   ]
  },
  {
   "cell_type": "code",
   "execution_count": 225,
   "metadata": {
    "collapsed": true
   },
   "outputs": [],
   "source": [
    "Numerical_train['No_Of_Due_Stmt'] =  Numerical_train['No_Of_Due_Stmt'].astype(int)                    \n",
    "Numerical_train['Billing_Amount_Sum_Spend_ESS'] =  Numerical_train['Billing_Amount_Sum_Spend_ESS'].astype(float)                    \n",
    "Numerical_train['Billing_Amount_Sum_Spend_NON_ESS'] =  Numerical_train['Billing_Amount_Sum_Spend_NON_ESS'].astype(float)                    \n",
    "Numerical_train['Billing_Amount_Spend_CASH'] =  Numerical_train['Billing_Amount_Spend_CASH'].astype(float)                    \n",
    "Numerical_train['Billing_Amount_Violation_Fee'] =  Numerical_train['Billing_Amount_Violation_Fee'].astype(float)                    \n",
    "Numerical_train['Transaction_Count_Payment'] =  Numerical_train['Transaction_Count_Payment'].astype(int)                    \n",
    "\n",
    "Numerical_val['No_Of_Due_Stmt'] =  Numerical_val['No_Of_Due_Stmt'].astype(int)                    \n",
    "Numerical_val['Billing_Amount_Sum_Spend_ESS'] =  Numerical_val['Billing_Amount_Sum_Spend_ESS'].astype(float)                    \n",
    "Numerical_val['Billing_Amount_Sum_Spend_NON_ESS'] =  Numerical_val['Billing_Amount_Sum_Spend_NON_ESS'].astype(float)                    \n",
    "Numerical_val['Billing_Amount_Spend_CASH'] =  Numerical_val['Billing_Amount_Spend_CASH'].astype(float)                    \n",
    "Numerical_val['Billing_Amount_Violation_Fee'] =  Numerical_val['Billing_Amount_Violation_Fee'].astype(float)                    \n",
    "Numerical_val['Transaction_Count_Payment'] =  Numerical_val['Transaction_Count_Payment'].astype(int)    \n",
    "\n",
    "#Replace NA's with 0 to allow scaling.\n",
    "Numerical_train['Perc_Credit_Limit_Used']=Numerical_train['Perc_Credit_Limit_Used'].replace(-np.Inf, 1).replace(np.Inf, 1)\n",
    "Numerical_val['Perc_Credit_Limit_Used']=Numerical_val['Perc_Credit_Limit_Used'].replace(-np.Inf, 1).replace(np.Inf, 1)\n",
    "Numerical_train['Perc_Credit_Limit_Used']=Numerical_train['Perc_Credit_Limit_Used'].replace(-np.nan, 0).replace(np.nan, 0)\n",
    "Numerical_val['Perc_Credit_Limit_Used']=Numerical_val['Perc_Credit_Limit_Used'].replace(-np.nan, 0).replace(np.nan, 0)"
   ]
  },
  {
   "cell_type": "code",
   "execution_count": 226,
   "metadata": {},
   "outputs": [
    {
     "data": {
      "text/plain": [
       "ACTUAL_CURRENT_BALANCE                int32\n",
       "Credit_Limit                          int32\n",
       "Last_Statement_Closing_Balance        int32\n",
       "Last_Statement_Minimum_Due            int32\n",
       "Monthly_Salary                        int32\n",
       "Monthly_Salary                        int32\n",
       "Months_On_Book                        int32\n",
       "No_Of_Due_Stmt                        int32\n",
       "Days_On_Book                          int32\n",
       "Days_From_Statement                   int32\n",
       "Days_from_Last_Activity               int32\n",
       "Incident_Num                          int32\n",
       "APR_Rate_Low                          int32\n",
       "APR_Rate_Med                          int32\n",
       "APR_Rate_High                         int32\n",
       "Prod_Cat_Voyager                      int32\n",
       "Prod_Cat_Cashback                     int32\n",
       "Country_ARAB                          int32\n",
       "Country_INDIA                         int32\n",
       "Country_OTHERS                        int32\n",
       "Country_PAKISTAN                      int32\n",
       "Country_PHILLIPPINES                  int32\n",
       "Country_U.A.E.                        int32\n",
       "Perc_Credit_Limit_Used              float64\n",
       "POINTS_REDEEMED                       int32\n",
       "POINTS_BALANCE_CLOSING                int32\n",
       "POINTS_EARNED                         int32\n",
       "Billing_Amount_Sum_Spend_ESS        float64\n",
       "Billing_Amount_Sum_Spend_NON_ESS    float64\n",
       "Billing_Amount_Spend_CASH           float64\n",
       "Billing_Amount_Violation_Fee        float64\n",
       "Transaction_Count_Payment             int32\n",
       "Tranasaction_Count_Spend_ESS          int32\n",
       "Tranasaction_Count_Spend_NON_ESS      int32\n",
       "Tranasaction_Count_Spend_CASH         int32\n",
       "Transaction_Count_Foreclosure         int32\n",
       "Tranasaction_Count_BT                 int32\n",
       "Tranasaction_Count_LOP                int32\n",
       "Tranasaction_Count_EPP                int32\n",
       "Tranasaction_Count_Violation_Fee      int32\n",
       "Balance_Gradient_window_14          float64\n",
       "Balance_Gradient_window_28          float64\n",
       "Balance_Gradient_window_74          float64\n",
       "Perc_Used_Gradient_window_14        float64\n",
       "Perc_Used_Gradient_window_28        float64\n",
       "Perc_Used_Gradient_window_74        float64\n",
       "dtype: object"
      ]
     },
     "execution_count": 226,
     "metadata": {},
     "output_type": "execute_result"
    }
   ],
   "source": [
    "Numerical_train.dtypes"
   ]
  },
  {
   "cell_type": "code",
   "execution_count": 227,
   "metadata": {},
   "outputs": [
    {
     "data": {
      "text/plain": [
       "(4953200, 46)"
      ]
     },
     "execution_count": 227,
     "metadata": {},
     "output_type": "execute_result"
    },
    {
     "data": {
      "text/plain": [
       "(2493768, 46)"
      ]
     },
     "execution_count": 227,
     "metadata": {},
     "output_type": "execute_result"
    }
   ],
   "source": [
    "Numerical_train.shape\n",
    "Numerical_val.shape"
   ]
  },
  {
   "cell_type": "code",
   "execution_count": 228,
   "metadata": {
    "collapsed": true
   },
   "outputs": [],
   "source": [
    "#Scaling input data\n",
    "from sklearn import preprocessing\n",
    "from sklearn.preprocessing import StandardScaler"
   ]
  },
  {
   "cell_type": "code",
   "execution_count": 229,
   "metadata": {
    "collapsed": true
   },
   "outputs": [],
   "source": [
    "x = Numerical_train.values #returns a numpy array\n",
    "#standardscaler= preprocessing.StandardScaler()\n",
    "x_scaled = StandardScaler().fit_transform(x)\n",
    "Numerical_train = pd.DataFrame(x_scaled)"
   ]
  },
  {
   "cell_type": "code",
   "execution_count": 230,
   "metadata": {},
   "outputs": [
    {
     "data": {
      "text/html": [
       "<div>\n",
       "<style scoped>\n",
       "    .dataframe tbody tr th:only-of-type {\n",
       "        vertical-align: middle;\n",
       "    }\n",
       "\n",
       "    .dataframe tbody tr th {\n",
       "        vertical-align: top;\n",
       "    }\n",
       "\n",
       "    .dataframe thead th {\n",
       "        text-align: right;\n",
       "    }\n",
       "</style>\n",
       "<table border=\"1\" class=\"dataframe\">\n",
       "  <thead>\n",
       "    <tr style=\"text-align: right;\">\n",
       "      <th></th>\n",
       "      <th>0</th>\n",
       "      <th>1</th>\n",
       "      <th>2</th>\n",
       "      <th>3</th>\n",
       "      <th>4</th>\n",
       "      <th>5</th>\n",
       "      <th>6</th>\n",
       "      <th>7</th>\n",
       "      <th>8</th>\n",
       "      <th>9</th>\n",
       "      <th>...</th>\n",
       "      <th>36</th>\n",
       "      <th>37</th>\n",
       "      <th>38</th>\n",
       "      <th>39</th>\n",
       "      <th>40</th>\n",
       "      <th>41</th>\n",
       "      <th>42</th>\n",
       "      <th>43</th>\n",
       "      <th>44</th>\n",
       "      <th>45</th>\n",
       "    </tr>\n",
       "  </thead>\n",
       "  <tbody>\n",
       "    <tr>\n",
       "      <th>0</th>\n",
       "      <td>-0.397263</td>\n",
       "      <td>-0.752555</td>\n",
       "      <td>-0.33594</td>\n",
       "      <td>-0.463742</td>\n",
       "      <td>-0.144029</td>\n",
       "      <td>-0.144029</td>\n",
       "      <td>-0.846078</td>\n",
       "      <td>-0.305847</td>\n",
       "      <td>-0.843735</td>\n",
       "      <td>0.043291</td>\n",
       "      <td>...</td>\n",
       "      <td>-0.010274</td>\n",
       "      <td>-0.015833</td>\n",
       "      <td>-0.03535</td>\n",
       "      <td>-0.09304</td>\n",
       "      <td>-2.240969</td>\n",
       "      <td>-1.681888</td>\n",
       "      <td>-1.23636</td>\n",
       "      <td>-0.116364</td>\n",
       "      <td>-0.098232</td>\n",
       "      <td>-0.129226</td>\n",
       "    </tr>\n",
       "    <tr>\n",
       "      <th>1</th>\n",
       "      <td>-0.397263</td>\n",
       "      <td>-0.752555</td>\n",
       "      <td>-0.33594</td>\n",
       "      <td>-0.463742</td>\n",
       "      <td>-0.144029</td>\n",
       "      <td>-0.144029</td>\n",
       "      <td>-0.846078</td>\n",
       "      <td>-0.305847</td>\n",
       "      <td>-0.845494</td>\n",
       "      <td>0.035252</td>\n",
       "      <td>...</td>\n",
       "      <td>-0.010274</td>\n",
       "      <td>-0.015833</td>\n",
       "      <td>-0.03535</td>\n",
       "      <td>-0.09304</td>\n",
       "      <td>-2.240969</td>\n",
       "      <td>-1.681888</td>\n",
       "      <td>-1.23636</td>\n",
       "      <td>-0.116364</td>\n",
       "      <td>-0.098232</td>\n",
       "      <td>-0.129226</td>\n",
       "    </tr>\n",
       "  </tbody>\n",
       "</table>\n",
       "<p>2 rows × 46 columns</p>\n",
       "</div>"
      ],
      "text/plain": [
       "         0         1        2         3         4         5         6   \\\n",
       "0 -0.397263 -0.752555 -0.33594 -0.463742 -0.144029 -0.144029 -0.846078   \n",
       "1 -0.397263 -0.752555 -0.33594 -0.463742 -0.144029 -0.144029 -0.846078   \n",
       "\n",
       "         7         8         9     ...           36        37       38  \\\n",
       "0 -0.305847 -0.843735  0.043291    ...    -0.010274 -0.015833 -0.03535   \n",
       "1 -0.305847 -0.845494  0.035252    ...    -0.010274 -0.015833 -0.03535   \n",
       "\n",
       "        39        40        41       42        43        44        45  \n",
       "0 -0.09304 -2.240969 -1.681888 -1.23636 -0.116364 -0.098232 -0.129226  \n",
       "1 -0.09304 -2.240969 -1.681888 -1.23636 -0.116364 -0.098232 -0.129226  \n",
       "\n",
       "[2 rows x 46 columns]"
      ]
     },
     "execution_count": 230,
     "metadata": {},
     "output_type": "execute_result"
    },
    {
     "data": {
      "text/html": [
       "<div>\n",
       "<style scoped>\n",
       "    .dataframe tbody tr th:only-of-type {\n",
       "        vertical-align: middle;\n",
       "    }\n",
       "\n",
       "    .dataframe tbody tr th {\n",
       "        vertical-align: top;\n",
       "    }\n",
       "\n",
       "    .dataframe thead th {\n",
       "        text-align: right;\n",
       "    }\n",
       "</style>\n",
       "<table border=\"1\" class=\"dataframe\">\n",
       "  <thead>\n",
       "    <tr style=\"text-align: right;\">\n",
       "      <th></th>\n",
       "      <th>0</th>\n",
       "      <th>1</th>\n",
       "      <th>2</th>\n",
       "      <th>3</th>\n",
       "      <th>4</th>\n",
       "      <th>5</th>\n",
       "      <th>6</th>\n",
       "      <th>7</th>\n",
       "      <th>8</th>\n",
       "      <th>9</th>\n",
       "      <th>...</th>\n",
       "      <th>36</th>\n",
       "      <th>37</th>\n",
       "      <th>38</th>\n",
       "      <th>39</th>\n",
       "      <th>40</th>\n",
       "      <th>41</th>\n",
       "      <th>42</th>\n",
       "      <th>43</th>\n",
       "      <th>44</th>\n",
       "      <th>45</th>\n",
       "    </tr>\n",
       "  </thead>\n",
       "  <tbody>\n",
       "    <tr>\n",
       "      <th>0</th>\n",
       "      <td>0.00941</td>\n",
       "      <td>-0.812453</td>\n",
       "      <td>0.026059</td>\n",
       "      <td>0.636056</td>\n",
       "      <td>-0.152132</td>\n",
       "      <td>-0.152132</td>\n",
       "      <td>-0.997459</td>\n",
       "      <td>-0.268129</td>\n",
       "      <td>-1.012808</td>\n",
       "      <td>-0.299623</td>\n",
       "      <td>...</td>\n",
       "      <td>-0.01351</td>\n",
       "      <td>-0.017503</td>\n",
       "      <td>-0.034642</td>\n",
       "      <td>-0.066686</td>\n",
       "      <td>1.155702</td>\n",
       "      <td>0.695493</td>\n",
       "      <td>0.562840</td>\n",
       "      <td>0.667541</td>\n",
       "      <td>0.456026</td>\n",
       "      <td>0.526670</td>\n",
       "    </tr>\n",
       "    <tr>\n",
       "      <th>1</th>\n",
       "      <td>0.00941</td>\n",
       "      <td>-0.812453</td>\n",
       "      <td>0.026059</td>\n",
       "      <td>0.636056</td>\n",
       "      <td>-0.152132</td>\n",
       "      <td>-0.152132</td>\n",
       "      <td>-0.997459</td>\n",
       "      <td>-0.268129</td>\n",
       "      <td>-1.013897</td>\n",
       "      <td>-0.305238</td>\n",
       "      <td>...</td>\n",
       "      <td>-0.01351</td>\n",
       "      <td>-0.017503</td>\n",
       "      <td>-0.034642</td>\n",
       "      <td>-0.066686</td>\n",
       "      <td>1.128284</td>\n",
       "      <td>0.675975</td>\n",
       "      <td>0.549504</td>\n",
       "      <td>0.650519</td>\n",
       "      <td>0.441672</td>\n",
       "      <td>0.513151</td>\n",
       "    </tr>\n",
       "  </tbody>\n",
       "</table>\n",
       "<p>2 rows × 46 columns</p>\n",
       "</div>"
      ],
      "text/plain": [
       "        0         1         2         3         4         5         6   \\\n",
       "0  0.00941 -0.812453  0.026059  0.636056 -0.152132 -0.152132 -0.997459   \n",
       "1  0.00941 -0.812453  0.026059  0.636056 -0.152132 -0.152132 -0.997459   \n",
       "\n",
       "         7         8         9     ...          36        37        38  \\\n",
       "0 -0.268129 -1.012808 -0.299623    ...    -0.01351 -0.017503 -0.034642   \n",
       "1 -0.268129 -1.013897 -0.305238    ...    -0.01351 -0.017503 -0.034642   \n",
       "\n",
       "         39        40        41        42        43        44        45  \n",
       "0 -0.066686  1.155702  0.695493  0.562840  0.667541  0.456026  0.526670  \n",
       "1 -0.066686  1.128284  0.675975  0.549504  0.650519  0.441672  0.513151  \n",
       "\n",
       "[2 rows x 46 columns]"
      ]
     },
     "execution_count": 230,
     "metadata": {},
     "output_type": "execute_result"
    }
   ],
   "source": [
    "x = Numerical_val.values #returns a numpy array\n",
    "#standardscaler = preprocessing.StandardScaler()\n",
    "x_scaled = StandardScaler().fit_transform(x)\n",
    "Numerical_val = pd.DataFrame(x_scaled)\n",
    "Numerical_val.head(2)\n",
    "Numerical_train.head(2)"
   ]
  },
  {
   "cell_type": "code",
   "execution_count": 231,
   "metadata": {},
   "outputs": [
    {
     "data": {
      "text/html": [
       "<div>\n",
       "<style scoped>\n",
       "    .dataframe tbody tr th:only-of-type {\n",
       "        vertical-align: middle;\n",
       "    }\n",
       "\n",
       "    .dataframe tbody tr th {\n",
       "        vertical-align: top;\n",
       "    }\n",
       "\n",
       "    .dataframe thead th {\n",
       "        text-align: right;\n",
       "    }\n",
       "</style>\n",
       "<table border=\"1\" class=\"dataframe\">\n",
       "  <thead>\n",
       "    <tr style=\"text-align: right;\">\n",
       "      <th></th>\n",
       "      <th>0</th>\n",
       "      <th>1</th>\n",
       "      <th>2</th>\n",
       "      <th>3</th>\n",
       "      <th>4</th>\n",
       "      <th>5</th>\n",
       "      <th>6</th>\n",
       "      <th>7</th>\n",
       "      <th>8</th>\n",
       "      <th>9</th>\n",
       "      <th>...</th>\n",
       "      <th>36</th>\n",
       "      <th>37</th>\n",
       "      <th>38</th>\n",
       "      <th>39</th>\n",
       "      <th>40</th>\n",
       "      <th>41</th>\n",
       "      <th>42</th>\n",
       "      <th>43</th>\n",
       "      <th>44</th>\n",
       "      <th>45</th>\n",
       "    </tr>\n",
       "  </thead>\n",
       "  <tbody>\n",
       "    <tr>\n",
       "      <th>0</th>\n",
       "      <td>-0.397263</td>\n",
       "      <td>-0.752555</td>\n",
       "      <td>-0.33594</td>\n",
       "      <td>-0.463742</td>\n",
       "      <td>-0.144029</td>\n",
       "      <td>-0.144029</td>\n",
       "      <td>-0.846078</td>\n",
       "      <td>-0.305847</td>\n",
       "      <td>-0.843735</td>\n",
       "      <td>0.043291</td>\n",
       "      <td>...</td>\n",
       "      <td>-0.010274</td>\n",
       "      <td>-0.015833</td>\n",
       "      <td>-0.03535</td>\n",
       "      <td>-0.09304</td>\n",
       "      <td>-2.240969</td>\n",
       "      <td>-1.681888</td>\n",
       "      <td>-1.23636</td>\n",
       "      <td>-0.116364</td>\n",
       "      <td>-0.098232</td>\n",
       "      <td>-0.129226</td>\n",
       "    </tr>\n",
       "    <tr>\n",
       "      <th>1</th>\n",
       "      <td>-0.397263</td>\n",
       "      <td>-0.752555</td>\n",
       "      <td>-0.33594</td>\n",
       "      <td>-0.463742</td>\n",
       "      <td>-0.144029</td>\n",
       "      <td>-0.144029</td>\n",
       "      <td>-0.846078</td>\n",
       "      <td>-0.305847</td>\n",
       "      <td>-0.845494</td>\n",
       "      <td>0.035252</td>\n",
       "      <td>...</td>\n",
       "      <td>-0.010274</td>\n",
       "      <td>-0.015833</td>\n",
       "      <td>-0.03535</td>\n",
       "      <td>-0.09304</td>\n",
       "      <td>-2.240969</td>\n",
       "      <td>-1.681888</td>\n",
       "      <td>-1.23636</td>\n",
       "      <td>-0.116364</td>\n",
       "      <td>-0.098232</td>\n",
       "      <td>-0.129226</td>\n",
       "    </tr>\n",
       "  </tbody>\n",
       "</table>\n",
       "<p>2 rows × 46 columns</p>\n",
       "</div>"
      ],
      "text/plain": [
       "         0         1        2         3         4         5         6   \\\n",
       "0 -0.397263 -0.752555 -0.33594 -0.463742 -0.144029 -0.144029 -0.846078   \n",
       "1 -0.397263 -0.752555 -0.33594 -0.463742 -0.144029 -0.144029 -0.846078   \n",
       "\n",
       "         7         8         9     ...           36        37       38  \\\n",
       "0 -0.305847 -0.843735  0.043291    ...    -0.010274 -0.015833 -0.03535   \n",
       "1 -0.305847 -0.845494  0.035252    ...    -0.010274 -0.015833 -0.03535   \n",
       "\n",
       "        39        40        41       42        43        44        45  \n",
       "0 -0.09304 -2.240969 -1.681888 -1.23636 -0.116364 -0.098232 -0.129226  \n",
       "1 -0.09304 -2.240969 -1.681888 -1.23636 -0.116364 -0.098232 -0.129226  \n",
       "\n",
       "[2 rows x 46 columns]"
      ]
     },
     "execution_count": 231,
     "metadata": {},
     "output_type": "execute_result"
    }
   ],
   "source": [
    "Numerical_val.head(2)\n",
    "numcols = len(Numerical_val.columns)"
   ]
  },
  {
   "cell_type": "markdown",
   "metadata": {},
   "source": [
    "### Saving data to files\n",
    "- input df: `Numerical_val`, `Numerical_train`\n",
    "- output file: `Source_MultiInput_Val_forLSTM.tsv`, `Source_MultiInput_Train_forLSTM.tsv`"
   ]
  },
  {
   "cell_type": "code",
   "execution_count": 232,
   "metadata": {
    "collapsed": true
   },
   "outputs": [],
   "source": [
    "# Numerical_val.to_csv(PATH_OUT + 'X_val_LSTM.tsv', sep='\\t', encoding='utf-8')\n",
    "# Numerical_train.to_csv(PATH_OUT + 'X_train_LSTM.tsv', sep='\\t', encoding='utf-8')\n",
    "\n",
    "Numerical_val.to_csv('Source_X_val_rnn.tsv', sep='\\t', encoding='utf-8') \n",
    "Numerical_train.to_csv('Source_X_train_rnn.tsv', sep='\\t', encoding='utf-8')\n",
    "#np.savetxt('Source__X_val_1DCNN.tsv', X_val_cnn, delimiter='\\t',  encoding='utf-8')"
   ]
  },
  {
   "cell_type": "markdown",
   "metadata": {},
   "source": [
    "### Reshape numerical input to be shaped [samples, time steps, features]"
   ]
  },
  {
   "cell_type": "code",
   "execution_count": 233,
   "metadata": {},
   "outputs": [
    {
     "data": {
      "text/plain": [
       "numpy.ndarray"
      ]
     },
     "execution_count": 233,
     "metadata": {},
     "output_type": "execute_result"
    },
    {
     "data": {
      "text/plain": [
       "(42700, 116, 46)"
      ]
     },
     "execution_count": 233,
     "metadata": {},
     "output_type": "execute_result"
    }
   ],
   "source": [
    "#reshape input to be [samples, time steps, features]\n",
    "Numerical_train_np = Numerical_train.values.reshape(uniqueids_train,116,numcols)\n",
    "type(Numerical_train_np)\n",
    "Numerical_train_np.shape\n",
    "X_train = Numerical_train_np"
   ]
  },
  {
   "cell_type": "code",
   "execution_count": 234,
   "metadata": {},
   "outputs": [
    {
     "data": {
      "text/plain": [
       "numpy.ndarray"
      ]
     },
     "execution_count": 234,
     "metadata": {},
     "output_type": "execute_result"
    },
    {
     "data": {
      "text/plain": [
       "(21498, 116, 46)"
      ]
     },
     "execution_count": 234,
     "metadata": {},
     "output_type": "execute_result"
    }
   ],
   "source": [
    "#reshape input to be [samples, time steps, features]\n",
    "Numerical_val_np = Numerical_val.values.reshape(uniqueids_val,116,numcols)\n",
    "type(Numerical_val_np)\n",
    "Numerical_val_np.shape\n",
    "X_val =Numerical_val_np"
   ]
  },
  {
   "cell_type": "code",
   "execution_count": 235,
   "metadata": {},
   "outputs": [
    {
     "data": {
      "text/plain": [
       "(21498, 116, 46)"
      ]
     },
     "execution_count": 235,
     "metadata": {},
     "output_type": "execute_result"
    },
    {
     "data": {
      "text/plain": [
       "(21498, 2)"
      ]
     },
     "execution_count": 235,
     "metadata": {},
     "output_type": "execute_result"
    },
    {
     "data": {
      "text/plain": [
       "(21498, 116, 46)"
      ]
     },
     "execution_count": 235,
     "metadata": {},
     "output_type": "execute_result"
    },
    {
     "data": {
      "text/plain": [
       "(21498, 2)"
      ]
     },
     "execution_count": 235,
     "metadata": {},
     "output_type": "execute_result"
    }
   ],
   "source": [
    "#Copy to standard variable names for use in multi-input model\n",
    "X_val_rnn = X_val\n",
    "y_val_rnn = y_val # from above\n",
    "X_train_rnn = X_train\n",
    "y_train_rnn = y_train #from above\n",
    "\n",
    "X_val_rnn.shape\n",
    "y_val_rnn.shape\n",
    "X_val_rnn.shape\n",
    "y_val_rnn.shape"
   ]
  },
  {
   "cell_type": "markdown",
   "metadata": {},
   "source": [
    "### Build LSTM Model on Numerical Sequential Data"
   ]
  },
  {
   "cell_type": "code",
   "execution_count": 236,
   "metadata": {
    "collapsed": true
   },
   "outputs": [],
   "source": [
    "from keras.layers import Bidirectional\n",
    "from keras.layers import SimpleRNN\n",
    "from keras.layers import LeakyReLU\n",
    "\n",
    "sequence_length = 116\n",
    "nb_features = numcols\n",
    "nb_out = y_train.shape[1]\n",
    "learning_rate = .0000001\n",
    "rmsprop = optimizers.RMSprop(lr=learning_rate, rho=0.9, epsilon=None, clipnorm=.5, decay=0.0)\n",
    "adam = keras.optimizers.Adam(lr=learning_rate, clipnorm=.5,  beta_1=0.9, beta_2=0.999, \n",
    "                             epsilon=None, decay=0.01, amsgrad=True)"
   ]
  },
  {
   "cell_type": "code",
   "execution_count": null,
   "metadata": {
    "collapsed": true
   },
   "outputs": [],
   "source": []
  },
  {
   "cell_type": "markdown",
   "metadata": {},
   "source": [
    "### Build the Model"
   ]
  },
  {
   "cell_type": "code",
   "execution_count": 237,
   "metadata": {
    "collapsed": true
   },
   "outputs": [],
   "source": [
    "from keras.layers import SimpleRNN\n",
    "from keras.layers import LeakyReLU\n",
    "from keras.layers import LeakyReLU\n",
    "model = Sequential()\n",
    "\n",
    "model.add(Dense(32, \n",
    "                input_shape = (sequence_length, nb_features),\n",
    "                use_bias = False))\n",
    "model.add(LeakyReLU(alpha=0.1))\n",
    "model.add(Bidirectional(LSTM(64,\n",
    "                    use_bias = True, \n",
    "                    return_sequences=False, \n",
    "                    kernel_initializer='VarianceScaling', \n",
    "                    recurrent_initializer='VarianceScaling', \n",
    "                    bias_initializer='VarianceScaling',\n",
    "                    dropout=0.4, \n",
    "                    recurrent_dropout=0.02)))\n",
    "model.add(LeakyReLU(alpha=0.1))\n",
    "model.add(Dense(nb_out, activation = 'sigmoid',\n",
    "                use_bias = False))"
   ]
  },
  {
   "cell_type": "code",
   "execution_count": 238,
   "metadata": {},
   "outputs": [
    {
     "name": "stdout",
     "output_type": "stream",
     "text": [
      "_________________________________________________________________\n",
      "Layer (type)                 Output Shape              Param #   \n",
      "=================================================================\n",
      "dense_11 (Dense)             (None, 116, 32)           1472      \n",
      "_________________________________________________________________\n",
      "leaky_re_lu_4 (LeakyReLU)    (None, 116, 32)           0         \n",
      "_________________________________________________________________\n",
      "bidirectional_3 (Bidirection (None, 128)               49664     \n",
      "_________________________________________________________________\n",
      "leaky_re_lu_5 (LeakyReLU)    (None, 128)               0         \n",
      "_________________________________________________________________\n",
      "dense_12 (Dense)             (None, 2)                 256       \n",
      "=================================================================\n",
      "Total params: 51,392\n",
      "Trainable params: 51,392\n",
      "Non-trainable params: 0\n",
      "_________________________________________________________________\n",
      "None\n"
     ]
    }
   ],
   "source": [
    "\n",
    "#compile model\n",
    "model.compile(loss='binary_crossentropy', optimizer='adam', metrics=['accuracy'])\n",
    "print(model.summary())"
   ]
  },
  {
   "cell_type": "code",
   "execution_count": 239,
   "metadata": {},
   "outputs": [
    {
     "data": {
      "text/plain": [
       "(42700, 116, 46)"
      ]
     },
     "execution_count": 239,
     "metadata": {},
     "output_type": "execute_result"
    },
    {
     "data": {
      "text/plain": [
       "(42700, 2)"
      ]
     },
     "execution_count": 239,
     "metadata": {},
     "output_type": "execute_result"
    },
    {
     "data": {
      "text/plain": [
       "(21498, 116, 46)"
      ]
     },
     "execution_count": 239,
     "metadata": {},
     "output_type": "execute_result"
    },
    {
     "data": {
      "text/plain": [
       "(21498, 2)"
      ]
     },
     "execution_count": 239,
     "metadata": {},
     "output_type": "execute_result"
    }
   ],
   "source": [
    "#Check data shapes\n",
    "X_train_rnn.shape\n",
    "y_train_rnn.shape\n",
    "X_val_rnn.shape\n",
    "y_val_rnn.shape"
   ]
  },
  {
   "cell_type": "markdown",
   "metadata": {},
   "source": [
    "### Fit the Model"
   ]
  },
  {
   "cell_type": "code",
   "execution_count": 240,
   "metadata": {},
   "outputs": [
    {
     "name": "stdout",
     "output_type": "stream",
     "text": [
      "Train on 42700 samples, validate on 21498 samples\n",
      "Epoch 1/6\n",
      " - 102s - loss: 1.1994 - acc: 0.5908 - val_loss: 0.7134 - val_acc: 0.5174\n",
      "Epoch 2/6\n",
      " - 98s - loss: 1.1282 - acc: 0.6091 - val_loss: 0.6640 - val_acc: 0.6145\n",
      "Epoch 3/6\n",
      " - 98s - loss: 1.0946 - acc: 0.6301 - val_loss: 0.6776 - val_acc: 0.6449\n",
      "Epoch 4/6\n",
      " - 98s - loss: 1.0795 - acc: 0.6509 - val_loss: 0.6769 - val_acc: 0.6621\n",
      "Epoch 5/6\n",
      " - 98s - loss: 1.0698 - acc: 0.6598 - val_loss: 0.7111 - val_acc: 0.6470\n",
      "Epoch 00005: early stopping\n",
      "dict_keys(['val_loss', 'val_acc', 'loss', 'acc'])\n"
     ]
    }
   ],
   "source": [
    "#set params\n",
    "class_weight = {0 :1., 1: 10}\n",
    "BATCH_SIZE = 200\n",
    "rnn_model_path = 'RNN_Model_Best_Run_Nov1.h5'\n",
    "\n",
    "history = model.fit(X_train_rnn, y_train_rnn, epochs=6, batch_size=BATCH_SIZE, verbose=2, \n",
    "                    validation_split=0, \n",
    "                    validation_data=(X_val_rnn,y_val_rnn),  \n",
    "                    class_weight = class_weight,                    \n",
    "          callbacks = [keras.callbacks.EarlyStopping(monitor='val_loss', min_delta=0, \n",
    "                                                     patience=3, verbose=1, mode='min'),\n",
    "                       keras.callbacks.ModelCheckpoint(rnn_model_path,monitor='val_loss', \n",
    "                                                       save_best_only=True, mode='min', verbose=0)]\n",
    "          )\n",
    "print(history.history.keys())"
   ]
  },
  {
   "cell_type": "markdown",
   "metadata": {},
   "source": [
    "### Plot the Model Accuracy and Error"
   ]
  },
  {
   "cell_type": "code",
   "execution_count": 241,
   "metadata": {},
   "outputs": [
    {
     "data": {
      "text/plain": [
       "<matplotlib.axes._subplots.AxesSubplot at 0x2181ea5aac8>"
      ]
     },
     "execution_count": 241,
     "metadata": {},
     "output_type": "execute_result"
    },
    {
     "data": {
      "text/plain": [
       "[<matplotlib.lines.Line2D at 0x2181e0adcc0>]"
      ]
     },
     "execution_count": 241,
     "metadata": {},
     "output_type": "execute_result"
    },
    {
     "data": {
      "text/plain": [
       "[<matplotlib.lines.Line2D at 0x2181e0adc88>]"
      ]
     },
     "execution_count": 241,
     "metadata": {},
     "output_type": "execute_result"
    },
    {
     "data": {
      "text/plain": [
       "Text(0.5, 1.0, 'model accuracy')"
      ]
     },
     "execution_count": 241,
     "metadata": {},
     "output_type": "execute_result"
    },
    {
     "data": {
      "text/plain": [
       "Text(0, 0.5, 'accuracy')"
      ]
     },
     "execution_count": 241,
     "metadata": {},
     "output_type": "execute_result"
    },
    {
     "data": {
      "text/plain": [
       "Text(0.5, 0, 'epoch')"
      ]
     },
     "execution_count": 241,
     "metadata": {},
     "output_type": "execute_result"
    },
    {
     "data": {
      "text/plain": [
       "<matplotlib.legend.Legend at 0x2181e0a2748>"
      ]
     },
     "execution_count": 241,
     "metadata": {},
     "output_type": "execute_result"
    },
    {
     "data": {
      "text/plain": [
       "<matplotlib.axes._subplots.AxesSubplot at 0x2181e0a2828>"
      ]
     },
     "execution_count": 241,
     "metadata": {},
     "output_type": "execute_result"
    },
    {
     "data": {
      "text/plain": [
       "[<matplotlib.lines.Line2D at 0x2181e0db128>]"
      ]
     },
     "execution_count": 241,
     "metadata": {},
     "output_type": "execute_result"
    },
    {
     "data": {
      "text/plain": [
       "[<matplotlib.lines.Line2D at 0x2181e0db160>]"
      ]
     },
     "execution_count": 241,
     "metadata": {},
     "output_type": "execute_result"
    },
    {
     "data": {
      "text/plain": [
       "Text(0.5, 1.0, 'model loss')"
      ]
     },
     "execution_count": 241,
     "metadata": {},
     "output_type": "execute_result"
    },
    {
     "data": {
      "text/plain": [
       "Text(0, 0.5, 'loss')"
      ]
     },
     "execution_count": 241,
     "metadata": {},
     "output_type": "execute_result"
    },
    {
     "data": {
      "text/plain": [
       "Text(0.5, 0, 'epoch')"
      ]
     },
     "execution_count": 241,
     "metadata": {},
     "output_type": "execute_result"
    },
    {
     "data": {
      "text/plain": [
       "<matplotlib.legend.Legend at 0x2181e0c9c18>"
      ]
     },
     "execution_count": 241,
     "metadata": {},
     "output_type": "execute_result"
    },
    {
     "data": {
      "image/png": "[encoded data removed]",
      "text/plain": [
       "<Figure size 1008x576 with 2 Axes>"
      ]
     },
     "metadata": {},
     "output_type": "display_data"
    }
   ],
   "source": [
    "InteractiveShell.ast_node_interactivity = \"none\"\n",
    "\n",
    "import matplotlib.pyplot as plt  \n",
    "plt.rcParams[\"figure.figsize\"]=14,8\n",
    "#accuracy history\n",
    "plt.subplot(211)  \n",
    "plt.plot(history.history['acc'])  \n",
    "plt.plot(history.history['val_acc'])  \n",
    "plt.title('model accuracy')  \n",
    "plt.ylabel('accuracy')  \n",
    "plt.xlabel('epoch')  \n",
    "plt.legend(['train', 'test'], loc='upper left')  \n",
    "#loss history\n",
    "plt.subplot(212)  \n",
    "plt.plot(history.history['loss'])  \n",
    "plt.plot(history.history['val_loss'])  \n",
    "plt.title('model loss')  \n",
    "plt.ylabel('loss')  \n",
    "plt.xlabel('epoch')  \n",
    "plt.legend(['train', 'test'], loc='upper left')  \n",
    "plt.show()  "
   ]
  },
  {
   "cell_type": "markdown",
   "metadata": {},
   "source": [
    "#### End Standalone LSTM Model"
   ]
  },
  {
   "cell_type": "code",
   "execution_count": null,
   "metadata": {
    "collapsed": true
   },
   "outputs": [],
   "source": []
  },
  {
   "cell_type": "code",
   "execution_count": null,
   "metadata": {
    "collapsed": true
   },
   "outputs": [],
   "source": []
  },
  {
   "cell_type": "markdown",
   "metadata": {},
   "source": [
    "...Now putting it all together as a multi-input model..."
   ]
  },
  {
   "cell_type": "markdown",
   "metadata": {},
   "source": [
    "### 4.3 Rearchitect with Multi-Input Model\n",
    "Using Keras Functional API¶"
   ]
  },
  {
   "cell_type": "markdown",
   "metadata": {},
   "source": [
    "### Review input shapes"
   ]
  },
  {
   "cell_type": "code",
   "execution_count": 242,
   "metadata": {
    "collapsed": true
   },
   "outputs": [],
   "source": [
    "InteractiveShell.ast_node_interactivity = \"all\"\n",
    "\n",
    "from keras import layers\n",
    "y_train_cnn.shape\n",
    "y_val_cnn.shape\n",
    "y_train_rnn.shape\n",
    "y_val_rnn.shape"
   ]
  },
  {
   "cell_type": "markdown",
   "metadata": {},
   "source": [
    "#### Set Global Params"
   ]
  },
  {
   "cell_type": "code",
   "execution_count": 243,
   "metadata": {
    "collapsed": true
   },
   "outputs": [],
   "source": [
    "from keras.layers import Bidirectional\n",
    "from keras.layers import SimpleRNN\n",
    "from keras.layers import LeakyReLU\n",
    "\n",
    "\n",
    "cnn_num_features = MAX_SEQUENCE_LENGTH\n",
    "maxlen = cnn_num_features\n",
    "timestep = 116\n",
    "seq_num_features = numcols\n"
   ]
  },
  {
   "cell_type": "markdown",
   "metadata": {},
   "source": [
    "##### Model Inputs"
   ]
  },
  {
   "cell_type": "code",
   "execution_count": 244,
   "metadata": {},
   "outputs": [
    {
     "data": {
      "text/plain": [
       "TensorShape([Dimension(None), Dimension(1500)])"
      ]
     },
     "execution_count": 244,
     "metadata": {},
     "output_type": "execute_result"
    },
    {
     "data": {
      "text/plain": [
       "TensorShape([Dimension(None), Dimension(116), Dimension(46)])"
      ]
     },
     "execution_count": 244,
     "metadata": {},
     "output_type": "execute_result"
    }
   ],
   "source": [
    "#CNN_input = Input(shape=(cnn_num_features, input_dim))\n",
    "CNN_input = Input(shape=(MAX_SEQUENCE_LENGTH,), dtype='int32')\n",
    "RNN_input = Input(shape=(timestep,seq_num_features))\n",
    "CNN_input.shape\n",
    "RNN_input.shape\n",
    "\n",
    "dropoutrate = 0.5\n",
    "inner_dropoutrate= 0.5"
   ]
  },
  {
   "cell_type": "code",
   "execution_count": 245,
   "metadata": {
    "collapsed": true
   },
   "outputs": [],
   "source": [
    "from keras.layers import Conv1D, MaxPooling1D, MaxPooling2D,MaxPooling3D,Embedding \n",
    "\n",
    "#Rebuild CNN Model Architecture with Contextual Data\n",
    "embedded_sequences = embedding_layer(CNN_input)\n",
    "\n",
    "conv = Conv1D(filters=128, kernel_size=8,activation='relu', \n",
    "              kernel_initializer='lecun_uniform')(embedded_sequences)\n",
    "CNN_x = MaxPooling1D(5)(conv)\n",
    "CNN_x = Dropout(inner_dropoutrate)(CNN_x)\n",
    "\n",
    "CNN_x = Conv1D(filters=128, kernel_size=16,activation='relu', \n",
    "              kernel_initializer='lecun_uniform')(CNN_x)\n",
    "CNN_x = MaxPooling1D(5)(CNN_x)  # global max pooling\n",
    "CNN_x = Dropout(inner_dropoutrate)(CNN_x)\n",
    "\n",
    "CNN_x = Conv1D(filters=128, kernel_size=16,activation='relu', \n",
    "              kernel_initializer='lecun_uniform')(CNN_x)  #lecun_uniform\n",
    "CNN_x = MaxPooling1D(35)(CNN_x)  # global max pooling\n",
    "CNN_x = Dropout(dropoutrate)(CNN_x)\n",
    " \n",
    "CNN_x = Flatten()(CNN_x)\n",
    "CNN_x = Dense(60)(CNN_x)"
   ]
  },
  {
   "cell_type": "code",
   "execution_count": 246,
   "metadata": {
    "collapsed": true
   },
   "outputs": [],
   "source": [
    "# using noisy initial state https://r2rt.com/non-zero-initial-states-for-recurrent-neural-networks.html\n",
    "RNN_x = Bidirectional(layers.LSTM(132, \n",
    "                    use_bias = True, return_sequences=False ,stateful=False, kernel_initializer='VarianceScaling', \n",
    "                    recurrent_initializer='VarianceScaling', bias_initializer='VarianceScaling',\n",
    "                    dropout=dropoutrate, recurrent_dropout=.4))(RNN_input)                      \n",
    "             \n",
    "RNN_x  = layers.LeakyReLU(alpha=0.1)(RNN_x)\n",
    "RNN_x = Dense(100)(RNN_x)"
   ]
  },
  {
   "cell_type": "markdown",
   "metadata": {},
   "source": [
    "##### Combine the two model inputs and add rest of architecture"
   ]
  },
  {
   "cell_type": "code",
   "execution_count": 247,
   "metadata": {
    "collapsed": true
   },
   "outputs": [],
   "source": [
    "#Concatanate Layers from each Model\n",
    "concatenated_vars = layers.concatenate([CNN_x,RNN_x], axis=-1)\n",
    "\n",
    "#Add rest of Architecture\n",
    "hidden1 = layers.Dense(48, activation = 'relu')(concatenated_vars)\n",
    "hidden1 = Dropout(dropoutrate)(hidden1)\n",
    "output1 = layers.Dense(2, activation='sigmoid')(hidden1)"
   ]
  },
  {
   "cell_type": "code",
   "execution_count": 248,
   "metadata": {
    "collapsed": true
   },
   "outputs": [],
   "source": [
    "#Define model\n",
    "model = Model([CNN_input,RNN_input], output1)  #SimpleRNN_input"
   ]
  },
  {
   "cell_type": "code",
   "execution_count": 249,
   "metadata": {},
   "outputs": [
    {
     "data": {
      "text/plain": [
       "<keras.callbacks.LambdaCallback at 0x216cf9357b8>"
      ]
     },
     "execution_count": 249,
     "metadata": {},
     "output_type": "execute_result"
    }
   ],
   "source": [
    "from keras.callbacks import LambdaCallback\n",
    "print_weights = LambdaCallback(on_epoch_end=lambda epoch, logs: print(model.layers[0].get_weights()))\n",
    "print_weights"
   ]
  },
  {
   "cell_type": "code",
   "execution_count": 384,
   "metadata": {
    "collapsed": true
   },
   "outputs": [],
   "source": [
    "#Set vaiables\n",
    "class_weight = {0 :1., 1: 10}\n",
    "multi_model_path = 'Multi_input_CNNandRNN_Model_Best_Run_Dec12.h5'\n",
    "learning_rate = .00000000001  #9 zeroes\n",
    "BATCH_SIZE = 500\n",
    "BATCH_SHAPE = (BATCH_SIZE, sequence_length,numcols)"
   ]
  },
  {
   "cell_type": "code",
   "execution_count": 385,
   "metadata": {
    "collapsed": true
   },
   "outputs": [],
   "source": [
    "#define optimizers and parameters\n",
    "rmsprop = optimizers.RMSprop(lr=learning_rate, rho=0.9, epsilon=None, decay=0.0, clipnorm=.5)\n",
    "adam = keras.optimizers.Adam(lr=learning_rate, clipnorm=.5, beta_1=0.9, beta_2=0.999, \n",
    "                             epsilon=None, decay=0.0, amsgrad=True)\n",
    "\n",
    "#compile model\n",
    "model.compile(optimizer='adam', loss='binary_crossentropy', metrics=['acc'])"
   ]
  },
  {
   "cell_type": "code",
   "execution_count": 386,
   "metadata": {},
   "outputs": [
    {
     "name": "stdout",
     "output_type": "stream",
     "text": [
      "__________________________________________________________________________________________________\n",
      "Layer (type)                    Output Shape         Param #     Connected to                     \n",
      "==================================================================================================\n",
      "input_6 (InputLayer)            (None, 1500)         0                                            \n",
      "__________________________________________________________________________________________________\n",
      "embedding_2 (Embedding)         (None, 1500, 300)    88200       input_6[0][0]                    \n",
      "__________________________________________________________________________________________________\n",
      "conv1d_13 (Conv1D)              (None, 1493, 128)    307328      embedding_2[0][0]                \n",
      "__________________________________________________________________________________________________\n",
      "max_pooling1d_13 (MaxPooling1D) (None, 298, 128)     0           conv1d_13[0][0]                  \n",
      "__________________________________________________________________________________________________\n",
      "dropout_19 (Dropout)            (None, 298, 128)     0           max_pooling1d_13[0][0]           \n",
      "__________________________________________________________________________________________________\n",
      "conv1d_14 (Conv1D)              (None, 283, 128)     262272      dropout_19[0][0]                 \n",
      "__________________________________________________________________________________________________\n",
      "max_pooling1d_14 (MaxPooling1D) (None, 56, 128)      0           conv1d_14[0][0]                  \n",
      "__________________________________________________________________________________________________\n",
      "dropout_20 (Dropout)            (None, 56, 128)      0           max_pooling1d_14[0][0]           \n",
      "__________________________________________________________________________________________________\n",
      "conv1d_15 (Conv1D)              (None, 41, 128)      262272      dropout_20[0][0]                 \n",
      "__________________________________________________________________________________________________\n",
      "max_pooling1d_15 (MaxPooling1D) (None, 1, 128)       0           conv1d_15[0][0]                  \n",
      "__________________________________________________________________________________________________\n",
      "input_7 (InputLayer)            (None, 116, 46)      0                                            \n",
      "__________________________________________________________________________________________________\n",
      "dropout_21 (Dropout)            (None, 1, 128)       0           max_pooling1d_15[0][0]           \n",
      "__________________________________________________________________________________________________\n",
      "bidirectional_11 (Bidirectional (None, 264)          189024      input_7[0][0]                    \n",
      "__________________________________________________________________________________________________\n",
      "flatten_5 (Flatten)             (None, 128)          0           dropout_21[0][0]                 \n",
      "__________________________________________________________________________________________________\n",
      "leaky_re_lu_15 (LeakyReLU)      (None, 264)          0           bidirectional_11[0][0]           \n",
      "__________________________________________________________________________________________________\n",
      "dense_32 (Dense)                (None, 60)           7740        flatten_5[0][0]                  \n",
      "__________________________________________________________________________________________________\n",
      "dense_33 (Dense)                (None, 100)          26500       leaky_re_lu_15[0][0]             \n",
      "__________________________________________________________________________________________________\n",
      "concatenate_7 (Concatenate)     (None, 160)          0           dense_32[0][0]                   \n",
      "                                                                 dense_33[0][0]                   \n",
      "__________________________________________________________________________________________________\n",
      "dense_34 (Dense)                (None, 48)           7728        concatenate_7[0][0]              \n",
      "__________________________________________________________________________________________________\n",
      "dropout_22 (Dropout)            (None, 48)           0           dense_34[0][0]                   \n",
      "__________________________________________________________________________________________________\n",
      "dense_35 (Dense)                (None, 2)            98          dropout_22[0][0]                 \n",
      "==================================================================================================\n",
      "Total params: 1,151,162\n",
      "Trainable params: 1,062,962\n",
      "Non-trainable params: 88,200\n",
      "__________________________________________________________________________________________________\n"
     ]
    }
   ],
   "source": [
    "#Display model summary\n",
    "model.summary()\n",
    "\n",
    "#save a plot of the model to file\n",
    "from keras.utils import plot_model\n",
    "plot_model(model, to_file='model.png')"
   ]
  },
  {
   "cell_type": "markdown",
   "metadata": {},
   "source": [
    "##### Fit mulit-input model"
   ]
  },
  {
   "cell_type": "markdown",
   "metadata": {},
   "source": [
    "#### Fit the model"
   ]
  },
  {
   "cell_type": "code",
   "execution_count": 387,
   "metadata": {
    "scrolled": false
   },
   "outputs": [
    {
     "name": "stdout",
     "output_type": "stream",
     "text": [
      "Train on 42700 samples, validate on 21498 samples\n",
      "Epoch 1/200\n",
      " - 147s - loss: 0.8041 - acc: 0.8152 - val_loss: 0.6392 - val_acc: 0.7934\n",
      "\n",
      "Epoch 00001: val_loss improved from inf to 0.63923, saving model to Multi_input_CNNandRNN_Model_Best_Run_Dec12.h5\n",
      "[]\n",
      "Epoch 2/200\n",
      " - 137s - loss: 0.8028 - acc: 0.8204 - val_loss: 0.6697 - val_acc: 0.7785\n",
      "\n",
      "Epoch 00002: val_loss did not improve from 0.63923\n",
      "[]\n",
      "Epoch 3/200\n",
      " - 137s - loss: 0.7792 - acc: 0.8270 - val_loss: 0.6647 - val_acc: 0.7892\n",
      "\n",
      "Epoch 00003: val_loss did not improve from 0.63923\n",
      "[]\n",
      "Epoch 4/200\n",
      " - 137s - loss: 0.7856 - acc: 0.8161 - val_loss: 0.6131 - val_acc: 0.7972\n",
      "\n",
      "Epoch 00004: val_loss improved from 0.63923 to 0.61310, saving model to Multi_input_CNNandRNN_Model_Best_Run_Dec12.h5\n",
      "[]\n",
      "Epoch 5/200\n",
      " - 137s - loss: 0.7882 - acc: 0.8170 - val_loss: 0.6398 - val_acc: 0.8036\n",
      "\n",
      "Epoch 00005: val_loss did not improve from 0.61310\n",
      "[]\n",
      "Epoch 6/200\n",
      " - 138s - loss: 0.7922 - acc: 0.8123 - val_loss: 0.6247 - val_acc: 0.7842\n",
      "\n",
      "Epoch 00006: val_loss did not improve from 0.61310\n",
      "[]\n",
      "Epoch 7/200\n",
      " - 137s - loss: 0.7917 - acc: 0.8116 - val_loss: 0.5847 - val_acc: 0.8110\n",
      "\n",
      "Epoch 00007: val_loss improved from 0.61310 to 0.58466, saving model to Multi_input_CNNandRNN_Model_Best_Run_Dec12.h5\n",
      "[]\n",
      "Epoch 8/200\n",
      " - 137s - loss: 0.7785 - acc: 0.8180 - val_loss: 0.6277 - val_acc: 0.8003\n",
      "\n",
      "Epoch 00008: val_loss did not improve from 0.58466\n",
      "[]\n",
      "Epoch 9/200\n",
      " - 138s - loss: 0.7772 - acc: 0.8147 - val_loss: 0.6562 - val_acc: 0.7880\n",
      "\n",
      "Epoch 00009: val_loss did not improve from 0.58466\n",
      "[]\n",
      "Epoch 10/200\n",
      " - 137s - loss: 0.7806 - acc: 0.8175 - val_loss: 0.6080 - val_acc: 0.8106\n",
      "\n",
      "Epoch 00010: val_loss did not improve from 0.58466\n",
      "[]\n",
      "Epoch 11/200\n",
      " - 138s - loss: 0.7806 - acc: 0.8164 - val_loss: 0.6505 - val_acc: 0.8099\n",
      "\n",
      "Epoch 00011: val_loss did not improve from 0.58466\n",
      "[]\n",
      "Epoch 12/200\n",
      " - 138s - loss: 0.7816 - acc: 0.8194 - val_loss: 0.6807 - val_acc: 0.7848\n",
      "\n",
      "Epoch 00012: val_loss did not improve from 0.58466\n",
      "[]\n",
      "Epoch 13/200\n",
      " - 137s - loss: 0.7768 - acc: 0.8219 - val_loss: 0.6980 - val_acc: 0.7855\n",
      "\n",
      "Epoch 00013: val_loss did not improve from 0.58466\n",
      "[]\n",
      "Epoch 14/200\n",
      " - 137s - loss: 0.7727 - acc: 0.8215 - val_loss: 0.6495 - val_acc: 0.8000\n",
      "\n",
      "Epoch 00014: val_loss did not improve from 0.58466\n",
      "[]\n",
      "Epoch 15/200\n",
      " - 138s - loss: 0.7687 - acc: 0.8258 - val_loss: 0.6892 - val_acc: 0.7887\n",
      "\n",
      "Epoch 00015: val_loss did not improve from 0.58466\n",
      "[]\n",
      "Epoch 16/200\n",
      " - 137s - loss: 0.7715 - acc: 0.8174 - val_loss: 0.6730 - val_acc: 0.7826\n",
      "\n",
      "Epoch 00016: val_loss did not improve from 0.58466\n",
      "[]\n",
      "Epoch 17/200\n",
      " - 137s - loss: 0.7698 - acc: 0.8168 - val_loss: 0.6891 - val_acc: 0.7868\n",
      "\n",
      "Epoch 00017: val_loss did not improve from 0.58466\n",
      "[]\n",
      "Epoch 18/200\n",
      " - 138s - loss: 0.7732 - acc: 0.8169 - val_loss: 0.6516 - val_acc: 0.7840\n",
      "\n",
      "Epoch 00018: val_loss did not improve from 0.58466\n",
      "[]\n",
      "Epoch 19/200\n",
      " - 138s - loss: 0.7724 - acc: 0.8170 - val_loss: 0.6094 - val_acc: 0.8038\n",
      "\n",
      "Epoch 00019: val_loss did not improve from 0.58466\n",
      "[]\n",
      "Epoch 20/200\n",
      " - 138s - loss: 0.7621 - acc: 0.8214 - val_loss: 0.6772 - val_acc: 0.8006\n",
      "\n",
      "Epoch 00020: val_loss did not improve from 0.58466\n",
      "[]\n",
      "Epoch 21/200\n",
      " - 137s - loss: 0.7776 - acc: 0.8175 - val_loss: 0.6825 - val_acc: 0.7802\n",
      "\n",
      "Epoch 00021: val_loss did not improve from 0.58466\n",
      "[]\n",
      "Epoch 22/200\n",
      " - 138s - loss: 0.7573 - acc: 0.8197 - val_loss: 0.6306 - val_acc: 0.7953\n",
      "\n",
      "Epoch 00022: val_loss did not improve from 0.58466\n",
      "[]\n",
      "Epoch 23/200\n",
      " - 138s - loss: 0.7599 - acc: 0.8218 - val_loss: 0.6639 - val_acc: 0.7825\n",
      "\n",
      "Epoch 00023: val_loss did not improve from 0.58466\n",
      "[]\n",
      "Epoch 24/200\n",
      " - 138s - loss: 0.7735 - acc: 0.8143 - val_loss: 0.6790 - val_acc: 0.7957\n",
      "\n",
      "Epoch 00024: val_loss did not improve from 0.58466\n",
      "[]\n",
      "Epoch 25/200\n",
      " - 138s - loss: 0.7632 - acc: 0.8222 - val_loss: 0.6444 - val_acc: 0.7915\n",
      "\n",
      "Epoch 00025: val_loss did not improve from 0.58466\n",
      "[]\n",
      "Epoch 26/200\n",
      " - 138s - loss: 0.7639 - acc: 0.8219 - val_loss: 0.6951 - val_acc: 0.7806\n",
      "\n",
      "Epoch 00026: val_loss did not improve from 0.58466\n",
      "[]\n",
      "Epoch 27/200\n",
      " - 138s - loss: 0.7602 - acc: 0.8246 - val_loss: 0.6823 - val_acc: 0.7796\n",
      "\n",
      "Epoch 00027: val_loss did not improve from 0.58466\n",
      "[]\n",
      "Epoch 28/200\n",
      " - 138s - loss: 0.7646 - acc: 0.8194 - val_loss: 0.6811 - val_acc: 0.7726\n",
      "\n",
      "Epoch 00028: val_loss did not improve from 0.58466\n",
      "[]\n",
      "Epoch 29/200\n",
      " - 137s - loss: 0.7658 - acc: 0.8193 - val_loss: 0.6382 - val_acc: 0.7790\n",
      "\n",
      "Epoch 00029: val_loss did not improve from 0.58466\n",
      "[]\n",
      "Epoch 30/200\n",
      " - 138s - loss: 0.7565 - acc: 0.8145 - val_loss: 0.6123 - val_acc: 0.7961\n",
      "\n",
      "Epoch 00030: val_loss did not improve from 0.58466\n",
      "[]\n",
      "Epoch 31/200\n",
      " - 137s - loss: 0.7642 - acc: 0.8185 - val_loss: 0.6468 - val_acc: 0.7861\n",
      "\n",
      "Epoch 00031: val_loss did not improve from 0.58466\n",
      "[]\n",
      "Epoch 32/200\n",
      " - 138s - loss: 0.7581 - acc: 0.8230 - val_loss: 0.6669 - val_acc: 0.7933\n",
      "\n",
      "Epoch 00032: val_loss did not improve from 0.58466\n",
      "[]\n",
      "Epoch 33/200\n",
      " - 138s - loss: 0.7511 - acc: 0.8250 - val_loss: 0.6109 - val_acc: 0.8095\n",
      "\n",
      "Epoch 00033: val_loss did not improve from 0.58466\n",
      "[]\n",
      "Epoch 34/200\n",
      " - 138s - loss: 0.7452 - acc: 0.8205 - val_loss: 0.7074 - val_acc: 0.7886\n",
      "\n",
      "Epoch 00034: val_loss did not improve from 0.58466\n",
      "[]\n",
      "Epoch 35/200\n",
      " - 138s - loss: 0.7599 - acc: 0.8165 - val_loss: 0.5982 - val_acc: 0.7952\n",
      "\n",
      "Epoch 00035: val_loss did not improve from 0.58466\n",
      "[]\n",
      "Epoch 36/200\n",
      " - 138s - loss: 0.7620 - acc: 0.8227 - val_loss: 0.6486 - val_acc: 0.7800\n",
      "\n",
      "Epoch 00036: val_loss did not improve from 0.58466\n",
      "[]\n",
      "Epoch 37/200\n",
      " - 137s - loss: 0.7554 - acc: 0.8222 - val_loss: 0.6176 - val_acc: 0.7970\n",
      "\n",
      "Epoch 00037: val_loss did not improve from 0.58466\n",
      "[]\n",
      "Epoch 38/200\n",
      " - 138s - loss: 0.7497 - acc: 0.8274 - val_loss: 0.6872 - val_acc: 0.7814\n",
      "\n",
      "Epoch 00038: val_loss did not improve from 0.58466\n",
      "[]\n",
      "Epoch 39/200\n",
      " - 137s - loss: 0.7551 - acc: 0.8232 - val_loss: 0.6374 - val_acc: 0.7821\n",
      "\n",
      "Epoch 00039: val_loss did not improve from 0.58466\n",
      "[]\n",
      "Epoch 40/200\n",
      " - 138s - loss: 0.7493 - acc: 0.8217 - val_loss: 0.6788 - val_acc: 0.7674\n",
      "\n",
      "Epoch 00040: val_loss did not improve from 0.58466\n",
      "[]\n",
      "Epoch 41/200\n",
      " - 138s - loss: 0.7518 - acc: 0.8230 - val_loss: 0.6368 - val_acc: 0.7827\n",
      "\n",
      "Epoch 00041: val_loss did not improve from 0.58466\n",
      "[]\n",
      "Epoch 42/200\n",
      " - 138s - loss: 0.7530 - acc: 0.8241 - val_loss: 0.6400 - val_acc: 0.7796\n",
      "\n",
      "Epoch 00042: val_loss did not improve from 0.58466\n",
      "[]\n",
      "Epoch 43/200\n",
      " - 138s - loss: 0.7457 - acc: 0.8207 - val_loss: 0.6608 - val_acc: 0.7723\n",
      "\n",
      "Epoch 00043: val_loss did not improve from 0.58466\n",
      "[]\n",
      "Epoch 44/200\n",
      " - 138s - loss: 0.7524 - acc: 0.8182 - val_loss: 0.6819 - val_acc: 0.7632\n",
      "\n",
      "Epoch 00044: val_loss did not improve from 0.58466\n",
      "[]\n",
      "Epoch 45/200\n",
      " - 138s - loss: 0.7368 - acc: 0.8243 - val_loss: 0.6321 - val_acc: 0.7974\n",
      "\n",
      "Epoch 00045: val_loss did not improve from 0.58466\n",
      "[]\n",
      "Epoch 46/200\n",
      " - 138s - loss: 0.7463 - acc: 0.8270 - val_loss: 0.6863 - val_acc: 0.7832\n",
      "\n",
      "Epoch 00046: val_loss did not improve from 0.58466\n",
      "[]\n",
      "Epoch 47/200\n",
      " - 138s - loss: 0.7479 - acc: 0.8227 - val_loss: 0.6761 - val_acc: 0.7655\n",
      "\n",
      "Epoch 00047: val_loss did not improve from 0.58466\n",
      "[]\n",
      "Epoch 00047: early stopping\n"
     ]
    }
   ],
   "source": [
    "history = model.fit([X_train_cnn,X_train_rnn],[y_train_cnn], \n",
    "                    epochs= 200, #20, \n",
    "                    batch_size=BATCH_SIZE,  \n",
    "                    verbose=2, \n",
    "                    shuffle=True,\n",
    "                    validation_data=([X_val_cnn,X_val_rnn],y_val_cnn),\n",
    "                    class_weight = class_weight,\n",
    "                    \n",
    "callbacks = [keras.callbacks.EarlyStopping(monitor='val_loss', min_delta=0, patience=40, verbose=1, mode='min'),\n",
    "             keras.callbacks.ModelCheckpoint(multi_model_path,monitor='val_loss', save_best_only=True, mode='min', verbose=1), print_weights] )"
   ]
  },
  {
   "cell_type": "code",
   "execution_count": 389,
   "metadata": {},
   "outputs": [
    {
     "data": {
      "image/png": "[encoded data removed]",
      "text/plain": [
       "<Figure size 720x576 with 2 Axes>"
      ]
     },
     "metadata": {},
     "output_type": "display_data"
    }
   ],
   "source": [
    "InteractiveShell.ast_node_interactivity = \"none\"\n",
    "import matplotlib.pyplot as plt  \n",
    "plt.rcParams[\"figure.figsize\"]=10,8\n",
    "#accuracy history\n",
    "plt.subplot(211)  \n",
    "plt.plot(history.history['acc'])  \n",
    "plt.plot(history.history['val_acc'])  \n",
    "plt.title('model accuracy')  \n",
    "plt.ylabel('accuracy')  \n",
    "plt.xlabel('epoch')  \n",
    "plt.legend(['train', 'test'], loc='upper left')  \n",
    "#loss history\n",
    "plt.subplot(212)  \n",
    "plt.plot(history.history['loss'])  \n",
    "plt.plot(history.history['val_loss'])  \n",
    "plt.title('model loss')  \n",
    "plt.ylabel('loss')  \n",
    "plt.xlabel('epoch')  \n",
    "plt.legend(['train', 'test'], loc='upper left')  \n",
    "plt.show() "
   ]
  },
  {
   "cell_type": "code",
   "execution_count": null,
   "metadata": {
    "collapsed": true
   },
   "outputs": [],
   "source": []
  },
  {
   "cell_type": "markdown",
   "metadata": {
    "collapsed": true
   },
   "source": [
    "## 5: Evaluation"
   ]
  },
  {
   "cell_type": "code",
   "execution_count": 390,
   "metadata": {
    "collapsed": true
   },
   "outputs": [],
   "source": [
    "# Load the model\n",
    "model = load_model( 'Multi_input_CNNandRNN_Model_Best_Run_Dec12.h5')\n",
    " \n",
    "\n"
   ]
  },
  {
   "cell_type": "markdown",
   "metadata": {
    "collapsed": true
   },
   "source": [
    "Convert y_val_rnn format toy_val_rnn_classes\n",
    "\n",
    "    From\n",
    "      array([[1., 0.],\n",
    "             [0., 1.],\n",
    "             [1., 0.]], dtype=float32)\n",
    "    to\n",
    "      array([0, 1, 0, 0, 0, 0, 0, 0, 0, 0])"
   ]
  },
  {
   "cell_type": "code",
   "execution_count": 391,
   "metadata": {
    "collapsed": true
   },
   "outputs": [],
   "source": [
    "flag = [1]\n",
    "ix = np.isin(y_val_rnn, flag)\n",
    "r, c = np.where(ix)\n",
    "y_val_rnn_classes = c"
   ]
  },
  {
   "cell_type": "markdown",
   "metadata": {},
   "source": [
    "### Prediction by model is [prob(class=0), prob(class=1)]"
   ]
  },
  {
   "cell_type": "code",
   "execution_count": 392,
   "metadata": {
    "collapsed": true
   },
   "outputs": [],
   "source": [
    "y_pred_prob = model.predict([X_val_cnn,X_val_rnn])"
   ]
  },
  {
   "cell_type": "markdown",
   "metadata": {},
   "source": [
    "### Convert probablities to class label"
   ]
  },
  {
   "cell_type": "code",
   "execution_count": 393,
   "metadata": {
    "collapsed": true
   },
   "outputs": [],
   "source": [
    "#y_pred_class = keras.np_utils.probas_to_classes(y_pred_proba)\n",
    "y_pred_class = y_pred_prob.argmax(axis=-1)"
   ]
  },
  {
   "cell_type": "markdown",
   "metadata": {},
   "source": [
    "### Confusiton Matrix, precision and recall"
   ]
  },
  {
   "cell_type": "code",
   "execution_count": 394,
   "metadata": {
    "scrolled": true
   },
   "outputs": [
    {
     "name": "stdout",
     "output_type": "stream",
     "text": [
      "tn:  16831 \n",
      "fp:  3296 \n",
      "fn:  768 \n",
      "tp:  603\n",
      "precision:\t  0.15465503975378303\n",
      "recall:\t\t  0.43982494529540483\n",
      "acc:\t\t  0.8109591589915341\n"
     ]
    },
    {
     "data": {
      "image/png": "[encoded data removed]",
      "text/plain": [
       "<Figure size 288x216 with 2 Axes>"
      ]
     },
     "metadata": {},
     "output_type": "display_data"
    }
   ],
   "source": [
    "from sklearn.metrics import confusion_matrix\n",
    "import seaborn as sb\n",
    "\n",
    "confusion_mat = confusion_matrix(y_val_rnn_classes, y_pred_class); confusion_mat\n",
    "\n",
    "_ = plt.figure(figsize = (4,3))\n",
    "_ = sb.heatmap(confusion_mat/confusion_mat.sum(), vmin=0, vmax=1)\n",
    "\n",
    "tn, fp, fn, tp = confusion_mat.ravel()\n",
    "print('tn: ', tn, '\\nfp: ', fp, '\\nfn: ', fn, '\\ntp: ', tp)\n",
    "\n",
    "precision = tp/(tp+fp); print('precision:\\t ', precision)\n",
    "recall = tp/(tp+fn); print('recall:\\t\\t ', recall)\n",
    "acc = (tp+tn)/(tp+tn+fp+fn); print('acc:\\t\\t ', acc)"
   ]
  },
  {
   "cell_type": "markdown",
   "metadata": {},
   "source": [
    "### End -  Prepped Data Frames Script"
   ]
  },
  {
   "cell_type": "code",
   "execution_count": null,
   "metadata": {
    "collapsed": true
   },
   "outputs": [],
   "source": []
  },
  {
   "cell_type": "code",
   "execution_count": null,
   "metadata": {
    "collapsed": true
   },
   "outputs": [],
   "source": []
  },
  {
   "cell_type": "code",
   "execution_count": null,
   "metadata": {
    "collapsed": true
   },
   "outputs": [],
   "source": []
  }
 ],
 "metadata": {
  "kernelspec": {
   "display_name": "Python [default]",
   "language": "python",
   "name": "python3"
  },
  "language_info": {
   "codemirror_mode": {
    "name": "ipython",
    "version": 3
   },
   "file_extension": ".py",
   "mimetype": "text/x-python",
   "name": "python",
   "nbconvert_exporter": "python",
   "pygments_lexer": "ipython3",
   "version": "3.6.3"
  }
 },
 "nbformat": 4,
 "nbformat_minor": 2
}
